{
 "cells": [
  {
   "cell_type": "markdown",
   "metadata": {},
   "source": [
    "# Micro-compression Contact Point Finder\n",
    "\n",
    "## Last Updated: August 6, 2020\n",
    "\n",
    "This document was prepared by Leah Ginsberg, a member of the [Ravichandran Research Group](https://www.ravi.caltech.edu/) at [Caltech](http://www.caltech.edu) in collaboration with [Professor Eleftheria Roumeli](https://sites.google.com/uw.edu/roumeli-research-group/) from [University of Washington](https://www.washington.edu/). "
   ]
  },
  {
   "cell_type": "code",
   "execution_count": 1,
   "metadata": {},
   "outputs": [
    {
     "data": {
      "text/plain": [
       "DataTransformerRegistry.enable('json')"
      ]
     },
     "execution_count": 1,
     "metadata": {},
     "output_type": "execute_result"
    }
   ],
   "source": [
    "import numpy as np               # general math operations\n",
    "import pandas as pd              # pandas dataframes\n",
    "import altair as alt             # pretty plotting\n",
    "\n",
    "alt.data_transformers.enable('json')"
   ]
  },
  {
   "cell_type": "markdown",
   "metadata": {},
   "source": [
    "From Routier-Kierzkowska et al.: \"For each measurement cycle, the force signal is offset, so that the mean force signal before the contact point is equal to zero. The contact point is then determined to be the closest point to the maximal indentation that is below a user-defined contact force threshold (usually smaller than 1 $\\mu$N). Both force offsetting and contact point detection are performed iteratively, using finer and finer threshold values. Indentation depth is then given by the sensor position corrected for sensor deflection) minus the contact point position.\" "
   ]
  },
  {
   "cell_type": "code",
   "execution_count": 2,
   "metadata": {},
   "outputs": [
    {
     "data": {
      "text/html": [
       "<div>\n",
       "<style scoped>\n",
       "    .dataframe tbody tr th:only-of-type {\n",
       "        vertical-align: middle;\n",
       "    }\n",
       "\n",
       "    .dataframe tbody tr th {\n",
       "        vertical-align: top;\n",
       "    }\n",
       "\n",
       "    .dataframe thead th {\n",
       "        text-align: right;\n",
       "    }\n",
       "</style>\n",
       "<table border=\"1\" class=\"dataframe\">\n",
       "  <thead>\n",
       "    <tr style=\"text-align: right;\">\n",
       "      <th></th>\n",
       "      <th>Index</th>\n",
       "      <th>Time (s)</th>\n",
       "      <th>Displacement (um)</th>\n",
       "      <th>Pos X (um)</th>\n",
       "      <th>Pos Y (um)</th>\n",
       "      <th>Pos Z (um)</th>\n",
       "      <th>Force A (uN)</th>\n",
       "      <th>Force B (uN)</th>\n",
       "      <th>fileName</th>\n",
       "      <th>indenting</th>\n",
       "      <th>Dex</th>\n",
       "      <th>treatment</th>\n",
       "      <th>Corrected Displacement (um)</th>\n",
       "    </tr>\n",
       "  </thead>\n",
       "  <tbody>\n",
       "    <tr>\n",
       "      <th>1</th>\n",
       "      <td>1.001</td>\n",
       "      <td>0.218</td>\n",
       "      <td>0.07000</td>\n",
       "      <td>-204.13425</td>\n",
       "      <td>83.99000</td>\n",
       "      <td>-426.75100</td>\n",
       "      <td>-14.45649</td>\n",
       "      <td>-0.00292</td>\n",
       "      <td>cycling_tests/in_water/cell132D</td>\n",
       "      <td>True</td>\n",
       "      <td>False</td>\n",
       "      <td>NaN</td>\n",
       "      <td>0.126810</td>\n",
       "    </tr>\n",
       "    <tr>\n",
       "      <th>2</th>\n",
       "      <td>1.001</td>\n",
       "      <td>0.334</td>\n",
       "      <td>0.09000</td>\n",
       "      <td>-204.13375</td>\n",
       "      <td>83.99000</td>\n",
       "      <td>-426.77100</td>\n",
       "      <td>-14.46126</td>\n",
       "      <td>-0.01135</td>\n",
       "      <td>cycling_tests/in_water/cell132D</td>\n",
       "      <td>True</td>\n",
       "      <td>False</td>\n",
       "      <td>NaN</td>\n",
       "      <td>0.146829</td>\n",
       "    </tr>\n",
       "    <tr>\n",
       "      <th>3</th>\n",
       "      <td>1.001</td>\n",
       "      <td>0.437</td>\n",
       "      <td>0.11100</td>\n",
       "      <td>-204.13375</td>\n",
       "      <td>83.99050</td>\n",
       "      <td>-426.79200</td>\n",
       "      <td>-14.32922</td>\n",
       "      <td>-0.00530</td>\n",
       "      <td>cycling_tests/in_water/cell132D</td>\n",
       "      <td>True</td>\n",
       "      <td>False</td>\n",
       "      <td>NaN</td>\n",
       "      <td>0.167310</td>\n",
       "    </tr>\n",
       "    <tr>\n",
       "      <th>4</th>\n",
       "      <td>1.001</td>\n",
       "      <td>0.555</td>\n",
       "      <td>0.13675</td>\n",
       "      <td>-204.13425</td>\n",
       "      <td>83.99000</td>\n",
       "      <td>-426.81775</td>\n",
       "      <td>-14.01580</td>\n",
       "      <td>-0.00960</td>\n",
       "      <td>cycling_tests/in_water/cell132D</td>\n",
       "      <td>True</td>\n",
       "      <td>False</td>\n",
       "      <td>NaN</td>\n",
       "      <td>0.191829</td>\n",
       "    </tr>\n",
       "    <tr>\n",
       "      <th>5</th>\n",
       "      <td>1.001</td>\n",
       "      <td>0.671</td>\n",
       "      <td>0.16350</td>\n",
       "      <td>-204.13400</td>\n",
       "      <td>83.99075</td>\n",
       "      <td>-426.84450</td>\n",
       "      <td>-13.79626</td>\n",
       "      <td>-0.00467</td>\n",
       "      <td>cycling_tests/in_water/cell132D</td>\n",
       "      <td>True</td>\n",
       "      <td>False</td>\n",
       "      <td>NaN</td>\n",
       "      <td>0.217716</td>\n",
       "    </tr>\n",
       "  </tbody>\n",
       "</table>\n",
       "</div>"
      ],
      "text/plain": [
       "   Index  Time (s)  Displacement (um)  Pos X (um)  Pos Y (um)  Pos Z (um)  \\\n",
       "1  1.001     0.218            0.07000  -204.13425    83.99000  -426.75100   \n",
       "2  1.001     0.334            0.09000  -204.13375    83.99000  -426.77100   \n",
       "3  1.001     0.437            0.11100  -204.13375    83.99050  -426.79200   \n",
       "4  1.001     0.555            0.13675  -204.13425    83.99000  -426.81775   \n",
       "5  1.001     0.671            0.16350  -204.13400    83.99075  -426.84450   \n",
       "\n",
       "   Force A (uN)  Force B (uN)                         fileName  indenting  \\\n",
       "1     -14.45649      -0.00292  cycling_tests/in_water/cell132D       True   \n",
       "2     -14.46126      -0.01135  cycling_tests/in_water/cell132D       True   \n",
       "3     -14.32922      -0.00530  cycling_tests/in_water/cell132D       True   \n",
       "4     -14.01580      -0.00960  cycling_tests/in_water/cell132D       True   \n",
       "5     -13.79626      -0.00467  cycling_tests/in_water/cell132D       True   \n",
       "\n",
       "     Dex  treatment  Corrected Displacement (um)  \n",
       "1  False        NaN                     0.126810  \n",
       "2  False        NaN                     0.146829  \n",
       "3  False        NaN                     0.167310  \n",
       "4  False        NaN                     0.191829  \n",
       "5  False        NaN                     0.217716  "
      ]
     },
     "execution_count": 2,
     "metadata": {},
     "output_type": "execute_result"
    }
   ],
   "source": [
    "# Name of file with corrected micro-compression experimental data\n",
    "fileName = 'cycling_tests/in_water/cell132D_corr'\n",
    "# read data from file to dataframe\n",
    "df = pd.read_csv(fileName, header=1, sep='\\t', names=['Index', 'Time (s)', 'Displacement (um)', 'Pos X (um)', 'Pos Y (um)', 'Pos Z (um)', 'Force A (uN)', 'Force B (uN)', 'fileName', 'indenting', 'Dex', 'treatment', 'Corrected Displacement (um)'])\n",
    "# Take a look\n",
    "df.head()"
   ]
  },
  {
   "cell_type": "markdown",
   "metadata": {},
   "source": [
    "Now, that we have the data, let's start the thresholding process."
   ]
  },
  {
   "cell_type": "code",
   "execution_count": 3,
   "metadata": {},
   "outputs": [],
   "source": [
    "df.insert(13,'offset force A (uN)', df['Force A (uN)'],False) # initialize offset force column"
   ]
  },
  {
   "cell_type": "code",
   "execution_count": 4,
   "metadata": {},
   "outputs": [
    {
     "name": "stdout",
     "output_type": "stream",
     "text": [
      "Contact point found at Z_corr=8.075774939374684\n"
     ]
    },
    {
     "data": {
      "application/vnd.vegalite.v3+json": {
       "$schema": "https://vega.github.io/schema/vega-lite/v3.4.0.json",
       "config": {
        "axis": {
         "grid": true,
         "labelFontSize": 15,
         "titleFontSize": 15
        },
        "mark": {
         "tooltip": null
        },
        "view": {
         "height": 300,
         "width": 400
        }
       },
       "layer": [
        {
         "data": {
          "format": {
           "type": "json"
          },
          "url": "altair-data-b3b727f6177e8a00e98974cb22713042.json"
         },
         "encoding": {
          "color": {
           "value": "black"
          },
          "x": {
           "field": "Corrected Displacement (um)",
           "type": "quantitative"
          },
          "y": {
           "field": "Force A (uN)",
           "type": "quantitative"
          }
         },
         "mark": "circle"
        },
        {
         "data": {
          "format": {
           "type": "json"
          },
          "url": "altair-data-b3b727f6177e8a00e98974cb22713042.json"
         },
         "encoding": {
          "color": {
           "value": "blue"
          },
          "x": {
           "field": "Corrected Displacement (um)",
           "type": "quantitative"
          },
          "y": {
           "field": "offset force A (uN)",
           "type": "quantitative"
          }
         },
         "mark": "square"
        }
       ]
      },
      "image/png": "[encoded data removed]",
      "text/plain": [
       "<VegaLite 3 object>\n",
       "\n",
       "If you see this message, it means the renderer has not been properly enabled\n",
       "for the frontend that you are using. For more information, see\n",
       "https://altair-viz.github.io/user_guide/troubleshooting.html\n"
      ]
     },
     "execution_count": 4,
     "metadata": {},
     "output_type": "execute_result"
    }
   ],
   "source": [
    "threshold = 20                                   # start with a high force threshold (this value can be changed to any number >=20)\n",
    "df_indenting = df[df['indenting']]               # only concerned with indentation data\n",
    "df_precontact = df_indenting[df_indenting['offset force A (uN)']<threshold]    # define all data below threshold as 'precontact'\n",
    "force_offset = np.mean(df_precontact['offset force A (uN)'])                   # force offset is mean of precontact data (so that new mean of precontact data is zero)\n",
    "df.loc[:, 'offset force A (uN)'] = df['offset force A (uN)'] - force_offset    # write new offset force on dataframe\n",
    "\n",
    "# Find the contact point (which is currently defined as the point where the force data crosses the threshold of 20 uN)\n",
    "contact_point20 = max(df_indenting[df_indenting['offset force A (uN)']<threshold]['Corrected Displacement (um)'])\n",
    "print('Contact point found at Z_corr=' + str(contact_point20))\n",
    "\n",
    "# Let's see what we've done so far\n",
    "orig_chart = alt.Chart(df[df['indenting']]).mark_circle().encode(\n",
    "    x='Corrected Displacement (um)',\n",
    "    y='Force A (uN)',\n",
    "    color=alt.value('black')\n",
    ")\n",
    "offset20_chart = alt.Chart(df[df['indenting']]).mark_square().encode(\n",
    "    x='Corrected Displacement (um)',\n",
    "    y='offset force A (uN)',\n",
    "    color=alt.value('blue')\n",
    ")\n",
    "(orig_chart+offset20_chart).configure_axis(grid=True,\n",
    "    labelFontSize=15,\n",
    "    titleFontSize=15)"
   ]
  },
  {
   "cell_type": "code",
   "execution_count": 5,
   "metadata": {},
   "outputs": [
    {
     "data": {
      "text/html": [
       "<div>\n",
       "<style scoped>\n",
       "    .dataframe tbody tr th:only-of-type {\n",
       "        vertical-align: middle;\n",
       "    }\n",
       "\n",
       "    .dataframe tbody tr th {\n",
       "        vertical-align: top;\n",
       "    }\n",
       "\n",
       "    .dataframe thead th {\n",
       "        text-align: right;\n",
       "    }\n",
       "</style>\n",
       "<table border=\"1\" class=\"dataframe\">\n",
       "  <thead>\n",
       "    <tr style=\"text-align: right;\">\n",
       "      <th></th>\n",
       "      <th>Index</th>\n",
       "      <th>Time (s)</th>\n",
       "      <th>Displacement (um)</th>\n",
       "      <th>Pos X (um)</th>\n",
       "      <th>Pos Y (um)</th>\n",
       "      <th>Pos Z (um)</th>\n",
       "      <th>Force A (uN)</th>\n",
       "      <th>Force B (uN)</th>\n",
       "      <th>fileName</th>\n",
       "      <th>indenting</th>\n",
       "      <th>Dex</th>\n",
       "      <th>treatment</th>\n",
       "      <th>Corrected Displacement (um)</th>\n",
       "      <th>offset force A (uN)</th>\n",
       "    </tr>\n",
       "  </thead>\n",
       "  <tbody>\n",
       "    <tr>\n",
       "      <th>1</th>\n",
       "      <td>1.001</td>\n",
       "      <td>0.218</td>\n",
       "      <td>0.07000</td>\n",
       "      <td>-204.13425</td>\n",
       "      <td>83.99000</td>\n",
       "      <td>-426.75100</td>\n",
       "      <td>-14.45649</td>\n",
       "      <td>-0.00292</td>\n",
       "      <td>cycling_tests/in_water/cell132D</td>\n",
       "      <td>True</td>\n",
       "      <td>False</td>\n",
       "      <td>NaN</td>\n",
       "      <td>0.126810</td>\n",
       "      <td>-3.895194</td>\n",
       "    </tr>\n",
       "    <tr>\n",
       "      <th>2</th>\n",
       "      <td>1.001</td>\n",
       "      <td>0.334</td>\n",
       "      <td>0.09000</td>\n",
       "      <td>-204.13375</td>\n",
       "      <td>83.99000</td>\n",
       "      <td>-426.77100</td>\n",
       "      <td>-14.46126</td>\n",
       "      <td>-0.01135</td>\n",
       "      <td>cycling_tests/in_water/cell132D</td>\n",
       "      <td>True</td>\n",
       "      <td>False</td>\n",
       "      <td>NaN</td>\n",
       "      <td>0.146829</td>\n",
       "      <td>-3.899964</td>\n",
       "    </tr>\n",
       "    <tr>\n",
       "      <th>3</th>\n",
       "      <td>1.001</td>\n",
       "      <td>0.437</td>\n",
       "      <td>0.11100</td>\n",
       "      <td>-204.13375</td>\n",
       "      <td>83.99050</td>\n",
       "      <td>-426.79200</td>\n",
       "      <td>-14.32922</td>\n",
       "      <td>-0.00530</td>\n",
       "      <td>cycling_tests/in_water/cell132D</td>\n",
       "      <td>True</td>\n",
       "      <td>False</td>\n",
       "      <td>NaN</td>\n",
       "      <td>0.167310</td>\n",
       "      <td>-3.767924</td>\n",
       "    </tr>\n",
       "    <tr>\n",
       "      <th>4</th>\n",
       "      <td>1.001</td>\n",
       "      <td>0.555</td>\n",
       "      <td>0.13675</td>\n",
       "      <td>-204.13425</td>\n",
       "      <td>83.99000</td>\n",
       "      <td>-426.81775</td>\n",
       "      <td>-14.01580</td>\n",
       "      <td>-0.00960</td>\n",
       "      <td>cycling_tests/in_water/cell132D</td>\n",
       "      <td>True</td>\n",
       "      <td>False</td>\n",
       "      <td>NaN</td>\n",
       "      <td>0.191829</td>\n",
       "      <td>-3.454504</td>\n",
       "    </tr>\n",
       "    <tr>\n",
       "      <th>5</th>\n",
       "      <td>1.001</td>\n",
       "      <td>0.671</td>\n",
       "      <td>0.16350</td>\n",
       "      <td>-204.13400</td>\n",
       "      <td>83.99075</td>\n",
       "      <td>-426.84450</td>\n",
       "      <td>-13.79626</td>\n",
       "      <td>-0.00467</td>\n",
       "      <td>cycling_tests/in_water/cell132D</td>\n",
       "      <td>True</td>\n",
       "      <td>False</td>\n",
       "      <td>NaN</td>\n",
       "      <td>0.217716</td>\n",
       "      <td>-3.234964</td>\n",
       "    </tr>\n",
       "    <tr>\n",
       "      <th>...</th>\n",
       "      <td>...</td>\n",
       "      <td>...</td>\n",
       "      <td>...</td>\n",
       "      <td>...</td>\n",
       "      <td>...</td>\n",
       "      <td>...</td>\n",
       "      <td>...</td>\n",
       "      <td>...</td>\n",
       "      <td>...</td>\n",
       "      <td>...</td>\n",
       "      <td>...</td>\n",
       "      <td>...</td>\n",
       "      <td>...</td>\n",
       "      <td>...</td>\n",
       "    </tr>\n",
       "    <tr>\n",
       "      <th>148</th>\n",
       "      <td>1.001</td>\n",
       "      <td>16.017</td>\n",
       "      <td>7.30550</td>\n",
       "      <td>-204.13400</td>\n",
       "      <td>83.99000</td>\n",
       "      <td>-433.98650</td>\n",
       "      <td>3.64029</td>\n",
       "      <td>-0.00451</td>\n",
       "      <td>cycling_tests/in_water/cell132D</td>\n",
       "      <td>True</td>\n",
       "      <td>False</td>\n",
       "      <td>NaN</td>\n",
       "      <td>7.291195</td>\n",
       "      <td>14.201586</td>\n",
       "    </tr>\n",
       "    <tr>\n",
       "      <th>149</th>\n",
       "      <td>1.001</td>\n",
       "      <td>16.132</td>\n",
       "      <td>7.35525</td>\n",
       "      <td>-204.13450</td>\n",
       "      <td>83.99025</td>\n",
       "      <td>-434.03625</td>\n",
       "      <td>4.67121</td>\n",
       "      <td>-0.00928</td>\n",
       "      <td>cycling_tests/in_water/cell132D</td>\n",
       "      <td>True</td>\n",
       "      <td>False</td>\n",
       "      <td>NaN</td>\n",
       "      <td>7.336893</td>\n",
       "      <td>15.232506</td>\n",
       "    </tr>\n",
       "    <tr>\n",
       "      <th>150</th>\n",
       "      <td>1.001</td>\n",
       "      <td>16.245</td>\n",
       "      <td>7.40700</td>\n",
       "      <td>-204.13500</td>\n",
       "      <td>83.99000</td>\n",
       "      <td>-434.08800</td>\n",
       "      <td>6.01236</td>\n",
       "      <td>-0.00435</td>\n",
       "      <td>cycling_tests/in_water/cell132D</td>\n",
       "      <td>True</td>\n",
       "      <td>False</td>\n",
       "      <td>NaN</td>\n",
       "      <td>7.383373</td>\n",
       "      <td>16.573656</td>\n",
       "    </tr>\n",
       "    <tr>\n",
       "      <th>151</th>\n",
       "      <td>1.001</td>\n",
       "      <td>16.351</td>\n",
       "      <td>7.45125</td>\n",
       "      <td>-204.13375</td>\n",
       "      <td>83.99075</td>\n",
       "      <td>-434.13225</td>\n",
       "      <td>7.26601</td>\n",
       "      <td>-0.00451</td>\n",
       "      <td>cycling_tests/in_water/cell132D</td>\n",
       "      <td>True</td>\n",
       "      <td>False</td>\n",
       "      <td>NaN</td>\n",
       "      <td>7.422696</td>\n",
       "      <td>17.827306</td>\n",
       "    </tr>\n",
       "    <tr>\n",
       "      <th>152</th>\n",
       "      <td>1.001</td>\n",
       "      <td>16.454</td>\n",
       "      <td>7.50625</td>\n",
       "      <td>-204.13375</td>\n",
       "      <td>83.99100</td>\n",
       "      <td>-434.18725</td>\n",
       "      <td>8.29693</td>\n",
       "      <td>-0.00180</td>\n",
       "      <td>cycling_tests/in_water/cell132D</td>\n",
       "      <td>True</td>\n",
       "      <td>False</td>\n",
       "      <td>NaN</td>\n",
       "      <td>7.473645</td>\n",
       "      <td>18.858226</td>\n",
       "    </tr>\n",
       "  </tbody>\n",
       "</table>\n",
       "<p>152 rows × 14 columns</p>\n",
       "</div>"
      ],
      "text/plain": [
       "     Index  Time (s)  Displacement (um)  Pos X (um)  Pos Y (um)  Pos Z (um)  \\\n",
       "1    1.001     0.218            0.07000  -204.13425    83.99000  -426.75100   \n",
       "2    1.001     0.334            0.09000  -204.13375    83.99000  -426.77100   \n",
       "3    1.001     0.437            0.11100  -204.13375    83.99050  -426.79200   \n",
       "4    1.001     0.555            0.13675  -204.13425    83.99000  -426.81775   \n",
       "5    1.001     0.671            0.16350  -204.13400    83.99075  -426.84450   \n",
       "..     ...       ...                ...         ...         ...         ...   \n",
       "148  1.001    16.017            7.30550  -204.13400    83.99000  -433.98650   \n",
       "149  1.001    16.132            7.35525  -204.13450    83.99025  -434.03625   \n",
       "150  1.001    16.245            7.40700  -204.13500    83.99000  -434.08800   \n",
       "151  1.001    16.351            7.45125  -204.13375    83.99075  -434.13225   \n",
       "152  1.001    16.454            7.50625  -204.13375    83.99100  -434.18725   \n",
       "\n",
       "     Force A (uN)  Force B (uN)                         fileName  indenting  \\\n",
       "1       -14.45649      -0.00292  cycling_tests/in_water/cell132D       True   \n",
       "2       -14.46126      -0.01135  cycling_tests/in_water/cell132D       True   \n",
       "3       -14.32922      -0.00530  cycling_tests/in_water/cell132D       True   \n",
       "4       -14.01580      -0.00960  cycling_tests/in_water/cell132D       True   \n",
       "5       -13.79626      -0.00467  cycling_tests/in_water/cell132D       True   \n",
       "..            ...           ...                              ...        ...   \n",
       "148       3.64029      -0.00451  cycling_tests/in_water/cell132D       True   \n",
       "149       4.67121      -0.00928  cycling_tests/in_water/cell132D       True   \n",
       "150       6.01236      -0.00435  cycling_tests/in_water/cell132D       True   \n",
       "151       7.26601      -0.00451  cycling_tests/in_water/cell132D       True   \n",
       "152       8.29693      -0.00180  cycling_tests/in_water/cell132D       True   \n",
       "\n",
       "       Dex  treatment  Corrected Displacement (um)  offset force A (uN)  \n",
       "1    False        NaN                     0.126810            -3.895194  \n",
       "2    False        NaN                     0.146829            -3.899964  \n",
       "3    False        NaN                     0.167310            -3.767924  \n",
       "4    False        NaN                     0.191829            -3.454504  \n",
       "5    False        NaN                     0.217716            -3.234964  \n",
       "..     ...        ...                          ...                  ...  \n",
       "148  False        NaN                     7.291195            14.201586  \n",
       "149  False        NaN                     7.336893            15.232506  \n",
       "150  False        NaN                     7.383373            16.573656  \n",
       "151  False        NaN                     7.422696            17.827306  \n",
       "152  False        NaN                     7.473645            18.858226  \n",
       "\n",
       "[152 rows x 14 columns]"
      ]
     },
     "execution_count": 5,
     "metadata": {},
     "output_type": "execute_result"
    }
   ],
   "source": [
    "threshold = 20                                   # start with a high force threshold (this value can be changed to any number >=20)\n",
    "df_indenting = df[df['indenting']]               # only concerned with indentation data\n",
    "df_precontact = df_indenting[df_indenting['offset force A (uN)']<threshold] \n",
    "df_precontact"
   ]
  },
  {
   "cell_type": "markdown",
   "metadata": {},
   "source": [
    "Our data has been offset so that the average force until the contact point (which is currently defined as the point where the force data crosses the threshold of 20 uN) is zero. Currently, that contact point is obviously far into the indentation, but we will refine this point in later steps.\n",
    "\n",
    "Also, we need to get rid of some of the initial data. In this example we have at least 80 um of precontact data. The force in this precontact data is gradually increasing as the tip displaces the water or sorbitol above the cell in its approach. To force the average of this precontact data to be zero will require a large force offset that will skew the final result. Also, all of our data does not have this large of an approach, so we want to make sure our offset for each data set is consistent. To do this, let's just remove all the precontact data more than 20 um from the contact point. All of our data sets have at least this much precontact data."
   ]
  },
  {
   "cell_type": "code",
   "execution_count": 6,
   "metadata": {},
   "outputs": [
    {
     "data": {
      "application/vnd.vegalite.v3+json": {
       "$schema": "https://vega.github.io/schema/vega-lite/v3.4.0.json",
       "config": {
        "axis": {
         "grid": true,
         "labelFontSize": 15,
         "titleFontSize": 15
        },
        "mark": {
         "tooltip": null
        },
        "view": {
         "height": 300,
         "width": 400
        }
       },
       "layer": [
        {
         "data": {
          "format": {
           "type": "json"
          },
          "url": "altair-data-b3b727f6177e8a00e98974cb22713042.json"
         },
         "encoding": {
          "color": {
           "value": "blue"
          },
          "x": {
           "field": "Corrected Displacement (um)",
           "type": "quantitative"
          },
          "y": {
           "field": "offset force A (uN)",
           "type": "quantitative"
          }
         },
         "mark": "square"
        },
        {
         "data": {
          "format": {
           "type": "json"
          },
          "url": "altair-data-b3b727f6177e8a00e98974cb22713042.json"
         },
         "encoding": {
          "color": {
           "value": "red"
          },
          "x": {
           "field": "Corrected Displacement (um)",
           "type": "quantitative"
          },
          "y": {
           "field": "offset force A (uN)",
           "type": "quantitative"
          }
         },
         "mark": "circle"
        }
       ]
      },
      "image/png": "[encoded data removed]",
      "text/plain": [
       "<VegaLite 3 object>\n",
       "\n",
       "If you see this message, it means the renderer has not been properly enabled\n",
       "for the frontend that you are using. For more information, see\n",
       "https://altair-viz.github.io/user_guide/troubleshooting.html\n"
      ]
     },
     "execution_count": 6,
     "metadata": {},
     "output_type": "execute_result"
    }
   ],
   "source": [
    "if contact_point20>50:\n",
    "    df = df[df['Corrected Displacement (um)']>contact_point20-50]\n",
    "    df.loc[:,'Corrected Displacement (um)'] = df['Corrected Displacement (um)']-(contact_point20-50)\n",
    "    \n",
    "    # Update contact point\n",
    "    contact_point20 = 50\n",
    "    \n",
    "# Let's see what we did\n",
    "disp_chart = alt.Chart(df[df['indenting']]).mark_circle().encode(\n",
    "    x='Corrected Displacement (um)',\n",
    "    y='offset force A (uN)',\n",
    "    color=alt.value('red')\n",
    ")\n",
    "\n",
    "(offset20_chart + disp_chart).configure_axis(grid=True,\n",
    "    labelFontSize=15,\n",
    "    titleFontSize=15)"
   ]
  },
  {
   "cell_type": "markdown",
   "metadata": {},
   "source": [
    "Finally, let's save the corrected displacement with the contact point subtracted as the indentation depth."
   ]
  },
  {
   "cell_type": "code",
   "execution_count": 7,
   "metadata": {},
   "outputs": [],
   "source": [
    "df.loc[:,'indentation depth (um)'] = df['Corrected Displacement (um)'] - contact_point20\n",
    "# save chart from this iteration\n",
    "offset20_chart = alt.Chart(df[df['indenting']]).mark_circle().encode(\n",
    "    x='indentation depth (um)',\n",
    "    y='offset force A (uN)',\n",
    "    color=alt.value('blue')\n",
    ")"
   ]
  },
  {
   "cell_type": "markdown",
   "metadata": {},
   "source": [
    "This is the end of one loop. In the next loop, we'll use a smaller threshold to start refining the location of the contact point."
   ]
  },
  {
   "cell_type": "code",
   "execution_count": 8,
   "metadata": {},
   "outputs": [
    {
     "name": "stdout",
     "output_type": "stream",
     "text": [
      "Contact point found at Z_corr=7.108019088852854\n"
     ]
    },
    {
     "data": {
      "application/vnd.vegalite.v3+json": {
       "$schema": "https://vega.github.io/schema/vega-lite/v3.4.0.json",
       "config": {
        "mark": {
         "tooltip": null
        },
        "view": {
         "height": 300,
         "width": 400
        }
       },
       "layer": [
        {
         "data": {
          "format": {
           "type": "json"
          },
          "url": "altair-data-98311ee7c42f0ba67b8cb61fd0dbaf65.json"
         },
         "encoding": {
          "color": {
           "value": "black"
          },
          "x": {
           "field": "Corrected Displacement (um)",
           "type": "quantitative"
          },
          "y": {
           "field": "Force A (uN)",
           "type": "quantitative"
          }
         },
         "mark": "circle"
        },
        {
         "data": {
          "format": {
           "type": "json"
          },
          "url": "altair-data-98311ee7c42f0ba67b8cb61fd0dbaf65.json"
         },
         "encoding": {
          "color": {
           "value": "green"
          },
          "x": {
           "field": "Corrected Displacement (um)",
           "type": "quantitative"
          },
          "y": {
           "field": "offset force A (uN)",
           "type": "quantitative"
          }
         },
         "mark": "square"
        }
       ]
      },
      "image/png": "[encoded data removed]",
      "text/plain": [
       "<VegaLite 3 object>\n",
       "\n",
       "If you see this message, it means the renderer has not been properly enabled\n",
       "for the frontend that you are using. For more information, see\n",
       "https://altair-viz.github.io/user_guide/troubleshooting.html\n"
      ]
     },
     "execution_count": 8,
     "metadata": {},
     "output_type": "execute_result"
    }
   ],
   "source": [
    "threshold = 10                                   # force threshold (this value can be changed to any number <20 and >=10)\n",
    "df_indenting = df[df['indenting']]               # only concerned with indentation data\n",
    "df_precontact = df_indenting[df_indenting['offset force A (uN)']<threshold]    # define all data below threshold as 'precontact'\n",
    "force_offset = np.mean(df_precontact['offset force A (uN)'])                   # force offset is mean of precontact data (so that new mean of precontact data is zero)\n",
    "df.loc[:, 'offset force A (uN)'] = df['offset force A (uN)'] - force_offset    # write new offset force on dataframe\n",
    "\n",
    "# Find the contact point (which is currently defined as the point where the force data crosses the threshold of 10 uN)\n",
    "contact_point10 = max(df_indenting[df_indenting['offset force A (uN)']<threshold]['Corrected Displacement (um)'])\n",
    "print('Contact point found at Z_corr=' + str(contact_point10))\n",
    "\n",
    "# Let's see what we've done so far\n",
    "prev_chart = alt.Chart(df[df['indenting']]).mark_circle().encode(\n",
    "    x='Corrected Displacement (um)',\n",
    "    y='Force A (uN)',\n",
    "    color=alt.value('black')\n",
    ")\n",
    "offset10_chart = alt.Chart(df[df['indenting']]).mark_square().encode(\n",
    "    x='Corrected Displacement (um)',\n",
    "    y='offset force A (uN)',\n",
    "    color=alt.value('green')\n",
    ")\n",
    "prev_chart+offset10_chart"
   ]
  },
  {
   "cell_type": "markdown",
   "metadata": {},
   "source": [
    "Again, our data has been offset so that the average force until the contact point (which is currently defined as the point where the force data crosses the threshold of 10 uN) is zero. Now that contact point is much closer to a believable true contact point, and we will continue to refine this point in later steps.\n",
    "\n",
    "Our contact point is now less than 20um, so we will not remove any more data. In the final loop, we will leave the `if` statement as a check in every loop, but we do not need to include the line here since we can see that the check would fail anyway. So, all that is left to do for this iteration is save the corrected displacement with the contact point subtracted as the indentation depth, and save the results in the original dataframe we were working with, `df_sample`"
   ]
  },
  {
   "cell_type": "code",
   "execution_count": 9,
   "metadata": {},
   "outputs": [],
   "source": [
    "df.loc[:,'indentation depth (um)'] = df['Corrected Displacement (um)'] - contact_point10\n",
    "# save indentation data from this iteration\n",
    "offset10_chart = alt.Chart(df[df['indenting']]).mark_circle().encode(\n",
    "    x='indentation depth (um)',\n",
    "    y='offset force A (uN)',\n",
    "    color=alt.value('green')\n",
    ")"
   ]
  },
  {
   "cell_type": "markdown",
   "metadata": {},
   "source": [
    "Let's start the next loop. The threshold this time will be 5 uN."
   ]
  },
  {
   "cell_type": "code",
   "execution_count": 10,
   "metadata": {},
   "outputs": [
    {
     "name": "stdout",
     "output_type": "stream",
     "text": [
      "Contact point found at Z_corr=6.738453634097192\n"
     ]
    },
    {
     "data": {
      "application/vnd.vegalite.v3+json": {
       "$schema": "https://vega.github.io/schema/vega-lite/v3.4.0.json",
       "config": {
        "mark": {
         "tooltip": null
        },
        "view": {
         "height": 300,
         "width": 400
        }
       },
       "layer": [
        {
         "data": {
          "format": {
           "type": "json"
          },
          "url": "altair-data-79e5521cd35d0f26778a51d6d05c1604.json"
         },
         "encoding": {
          "color": {
           "value": "black"
          },
          "x": {
           "field": "Corrected Displacement (um)",
           "type": "quantitative"
          },
          "y": {
           "field": "Force A (uN)",
           "type": "quantitative"
          }
         },
         "mark": "circle"
        },
        {
         "data": {
          "format": {
           "type": "json"
          },
          "url": "altair-data-79e5521cd35d0f26778a51d6d05c1604.json"
         },
         "encoding": {
          "color": {
           "value": "yellow"
          },
          "x": {
           "field": "Corrected Displacement (um)",
           "type": "quantitative"
          },
          "y": {
           "field": "offset force A (uN)",
           "type": "quantitative"
          }
         },
         "mark": "square"
        }
       ]
      },
      "image/png": "[encoded data removed]",
      "text/plain": [
       "<VegaLite 3 object>\n",
       "\n",
       "If you see this message, it means the renderer has not been properly enabled\n",
       "for the frontend that you are using. For more information, see\n",
       "https://altair-viz.github.io/user_guide/troubleshooting.html\n"
      ]
     },
     "execution_count": 10,
     "metadata": {},
     "output_type": "execute_result"
    }
   ],
   "source": [
    "threshold = 5                                   # force threshold (this value can be changed to any number <10 and >=5)\n",
    "df_indenting = df[df['indenting']]               # only concerned with indentation data\n",
    "df_precontact = df_indenting[df_indenting['offset force A (uN)']<threshold]    # define all data below threshold as 'precontact'\n",
    "force_offset = np.mean(df_precontact['offset force A (uN)'])                   # force offset is mean of precontact data (so that new mean of precontact data is zero)\n",
    "df.loc[:, 'offset force A (uN)'] = df['offset force A (uN)'] - force_offset    # write new offset force on dataframe\n",
    "\n",
    "# Find the contact point (which is currently defined as the point where the force data crosses the threshold of 5 uN)\n",
    "contact_point5 = max(df_indenting[df_indenting['offset force A (uN)']<threshold]['Corrected Displacement (um)'])\n",
    "print('Contact point found at Z_corr=' + str(contact_point5))\n",
    "\n",
    "# Let's see what we've done so far\n",
    "prev_chart = alt.Chart(df[df['indenting']]).mark_circle().encode(\n",
    "    x='Corrected Displacement (um)',\n",
    "    y='Force A (uN)',\n",
    "    color=alt.value('black')\n",
    ")\n",
    "offset5_chart = alt.Chart(df[df['indenting']]).mark_square().encode(\n",
    "    x='Corrected Displacement (um)',\n",
    "    y='offset force A (uN)',\n",
    "    color=alt.value('yellow')\n",
    ")\n",
    "prev_chart+offset5_chart"
   ]
  },
  {
   "cell_type": "markdown",
   "metadata": {},
   "source": [
    "Again, our data has been offset so that the average force until the contact point (which is currently defined as the point where the force data crosses the threshold of 5 uN) is zero. The contact point changed much less this time ($Z_\\text{corrected}$ = 10 um), so we will refine this point just one more time.\n",
    "\n",
    "Let's save the corrected displacement with the contact point subtracted as the indentation depth, and save the results in the original dataframe we were working with, `df_sample`, and move on to the final iteration."
   ]
  },
  {
   "cell_type": "code",
   "execution_count": 11,
   "metadata": {},
   "outputs": [],
   "source": [
    "df.loc[:,'indentation depth (um)'] = df['Corrected Displacement (um)'] - contact_point5\n",
    "# save indentation data from this iteration\n",
    "offset5_chart = alt.Chart(df[df['indenting']]).mark_circle().encode(\n",
    "    x='indentation depth (um)',\n",
    "    y='offset force A (uN)',\n",
    "    color=alt.value('yellow')\n",
    ")"
   ]
  },
  {
   "cell_type": "markdown",
   "metadata": {},
   "source": [
    "The threshold this time will be 1 uN."
   ]
  },
  {
   "cell_type": "code",
   "execution_count": 12,
   "metadata": {},
   "outputs": [
    {
     "name": "stdout",
     "output_type": "stream",
     "text": [
      "Contact point found at Z_corr=6.5475197662769675\n"
     ]
    },
    {
     "data": {
      "application/vnd.vegalite.v3+json": {
       "$schema": "https://vega.github.io/schema/vega-lite/v3.4.0.json",
       "config": {
        "mark": {
         "tooltip": null
        },
        "view": {
         "height": 300,
         "width": 400
        }
       },
       "layer": [
        {
         "data": {
          "format": {
           "type": "json"
          },
          "url": "altair-data-9c08b63a6584de62f8c8680a117ecbf0.json"
         },
         "encoding": {
          "color": {
           "value": "black"
          },
          "x": {
           "field": "Corrected Displacement (um)",
           "type": "quantitative"
          },
          "y": {
           "field": "Force A (uN)",
           "type": "quantitative"
          }
         },
         "mark": "circle"
        },
        {
         "data": {
          "format": {
           "type": "json"
          },
          "url": "altair-data-9c08b63a6584de62f8c8680a117ecbf0.json"
         },
         "encoding": {
          "color": {
           "value": "orange"
          },
          "x": {
           "field": "Corrected Displacement (um)",
           "type": "quantitative"
          },
          "y": {
           "field": "offset force A (uN)",
           "type": "quantitative"
          }
         },
         "mark": "square"
        }
       ]
      },
      "image/png": "[encoded data removed]",
      "text/plain": [
       "<VegaLite 3 object>\n",
       "\n",
       "If you see this message, it means the renderer has not been properly enabled\n",
       "for the frontend that you are using. For more information, see\n",
       "https://altair-viz.github.io/user_guide/troubleshooting.html\n"
      ]
     },
     "execution_count": 12,
     "metadata": {},
     "output_type": "execute_result"
    }
   ],
   "source": [
    "threshold = 3.0                                  # force threshold (this value can be changed to any number >=1 and <5)\n",
    "df_indenting = df[df['indenting']]               # only concerned with indentation data\n",
    "df_precontact = df_indenting[df_indenting['offset force A (uN)']<threshold]    # define all data below threshold as 'precontact'\n",
    "df_postcontact = df_indenting[df_indenting['offset force A (uN)']>=threshold]  # define all data above threshold as 'postcontact'\n",
    "force_offset = np.mean(df_precontact['offset force A (uN)'])                   # force offset is mean of precontact data (so that new mean of precontact data is zero)\n",
    "df.loc[:, 'offset force A (uN)'] = df['offset force A (uN)'] - force_offset    # write new offset force on dataframe\n",
    "\n",
    "# Find the contact point (which is currently defined as the point where the force data crosses the threshold of 1 uN)\n",
    "contact_point1 = max(df_indenting[df_indenting['offset force A (uN)']<threshold]['Corrected Displacement (um)'])\n",
    "print('Contact point found at Z_corr=' + str(contact_point1))\n",
    "\n",
    "# Let's see what we've done so far\n",
    "prev_chart = alt.Chart(df[df['indenting']]).mark_circle().encode(\n",
    "    x='Corrected Displacement (um)',\n",
    "    y='Force A (uN)',\n",
    "    color=alt.value('black')\n",
    ")\n",
    "offset1_chart = alt.Chart(df[df['indenting']]).mark_square().encode(\n",
    "    x='Corrected Displacement (um)',\n",
    "    y='offset force A (uN)',\n",
    "    color=alt.value('orange')\n",
    ")\n",
    "prev_chart+offset1_chart"
   ]
  },
  {
   "cell_type": "markdown",
   "metadata": {},
   "source": [
    "Let's save the final results, and then look at the data with each threshold all together."
   ]
  },
  {
   "cell_type": "code",
   "execution_count": 13,
   "metadata": {},
   "outputs": [],
   "source": [
    "df.loc[:,'indentation depth (um)'] = df['Corrected Displacement (um)'] - contact_point1\n",
    "# save indentation data from this iteration\n",
    "offset1_chart = alt.Chart(df[df['indenting']]).mark_circle().encode(\n",
    "    x='indentation depth (um)',\n",
    "    y=alt.Y('offset force A (uN)', scale=alt.Scale(domain=(-5,25))),\n",
    "    color=alt.value('orange')\n",
    ")"
   ]
  },
  {
   "cell_type": "markdown",
   "metadata": {},
   "source": [
    "This will be the final iteration. This threshold can be any number <1 that gets closest to the contact point."
   ]
  },
  {
   "cell_type": "code",
   "execution_count": 14,
   "metadata": {},
   "outputs": [
    {
     "name": "stdout",
     "output_type": "stream",
     "text": [
      "Contact point found at Z_corr=6.408616322806353\n"
     ]
    },
    {
     "data": {
      "application/vnd.vegalite.v3+json": {
       "$schema": "https://vega.github.io/schema/vega-lite/v3.4.0.json",
       "config": {
        "mark": {
         "tooltip": null
        },
        "view": {
         "height": 300,
         "width": 400
        }
       },
       "layer": [
        {
         "data": {
          "format": {
           "type": "json"
          },
          "url": "altair-data-fc15560e734d89eca78eef63dc975318.json"
         },
         "encoding": {
          "color": {
           "value": "black"
          },
          "x": {
           "field": "Corrected Displacement (um)",
           "type": "quantitative"
          },
          "y": {
           "field": "Force A (uN)",
           "type": "quantitative"
          }
         },
         "mark": "circle"
        },
        {
         "data": {
          "format": {
           "type": "json"
          },
          "url": "altair-data-fc15560e734d89eca78eef63dc975318.json"
         },
         "encoding": {
          "color": {
           "value": "red"
          },
          "x": {
           "field": "Corrected Displacement (um)",
           "type": "quantitative"
          },
          "y": {
           "field": "offset force A (uN)",
           "type": "quantitative"
          }
         },
         "mark": "square"
        }
       ]
      },
      "image/png": "[encoded data removed]",
      "text/plain": [
       "<VegaLite 3 object>\n",
       "\n",
       "If you see this message, it means the renderer has not been properly enabled\n",
       "for the frontend that you are using. For more information, see\n",
       "https://altair-viz.github.io/user_guide/troubleshooting.html\n"
      ]
     },
     "execution_count": 14,
     "metadata": {},
     "output_type": "execute_result"
    }
   ],
   "source": [
    "threshold = 0.25                                  # force threshold (this value can be changed to any number <1)\n",
    "df_indenting = df[df['indenting']]               # only concerned with indentation data\n",
    "df_precontact = df_indenting[df_indenting['offset force A (uN)']<threshold]    # define all data below threshold as 'precontact'\n",
    "df_postcontact = df_indenting[df_indenting['offset force A (uN)']>=threshold]  # define all data above threshold as 'postcontact'\n",
    "force_offset = np.mean(df_precontact['offset force A (uN)'])                   # force offset is mean of precontact data (so that new mean of precontact data is zero)\n",
    "df.loc[:, 'offset force A (uN)'] = df['offset force A (uN)'] - force_offset    # write new offset force on dataframe\n",
    "\n",
    "# Find the contact point (which is currently defined as the point where the force data crosses the threshold of 1 uN)\n",
    "contact_point1 = max(df_indenting[df_indenting['offset force A (uN)']<threshold]['Corrected Displacement (um)'])\n",
    "print('Contact point found at Z_corr=' + str(contact_point1))\n",
    "\n",
    "# Let's see what we've done so far\n",
    "prev_chart = alt.Chart(df[df['indenting']]).mark_circle().encode(\n",
    "    x='Corrected Displacement (um)',\n",
    "    y='Force A (uN)',\n",
    "    color=alt.value('black')\n",
    ")\n",
    "offsetp5_chart = alt.Chart(df[df['indenting']]).mark_square().encode(\n",
    "    x='Corrected Displacement (um)',\n",
    "    y='offset force A (uN)',\n",
    "    color=alt.value('red')\n",
    ")\n",
    "prev_chart+offsetp5_chart"
   ]
  },
  {
   "cell_type": "markdown",
   "metadata": {},
   "source": [
    "Let's save the final results, and then look at the data with each threshold all together."
   ]
  },
  {
   "cell_type": "code",
   "execution_count": 15,
   "metadata": {},
   "outputs": [],
   "source": [
    "df.loc[:,'indentation depth (um)'] = df['Corrected Displacement (um)'] - contact_point1\n",
    "# save indentation data from this iteration\n",
    "offsetp5_chart = alt.Chart(df[df['indenting']]).mark_circle().encode(\n",
    "    x='indentation depth (um)',\n",
    "    y=alt.Y('offset force A (uN)', scale=alt.Scale(domain=(-5,25))),\n",
    "    color=alt.value('red')\n",
    ")"
   ]
  },
  {
   "cell_type": "markdown",
   "metadata": {},
   "source": [
    "Let's take a look at how our algorithm progressively transformed the data with every loop."
   ]
  },
  {
   "cell_type": "code",
   "execution_count": 16,
   "metadata": {},
   "outputs": [
    {
     "data": {
      "application/vnd.vegalite.v3+json": {
       "$schema": "https://vega.github.io/schema/vega-lite/v3.4.0.json",
       "config": {
        "axis": {
         "grid": true,
         "labelFontSize": 15,
         "titleFontSize": 15
        },
        "mark": {
         "tooltip": null
        },
        "view": {
         "height": 300,
         "width": 400
        }
       },
       "layer": [
        {
         "data": {
          "format": {
           "type": "json"
          },
          "url": "altair-data-3a3a7b9815a7f571c79251be4ff59924.json"
         },
         "encoding": {
          "color": {
           "value": "blue"
          },
          "x": {
           "field": "indentation depth (um)",
           "type": "quantitative"
          },
          "y": {
           "field": "offset force A (uN)",
           "type": "quantitative"
          }
         },
         "mark": "circle",
         "selection": {
          "selector001": {
           "bind": "scales",
           "encodings": [
            "x",
            "y"
           ],
           "type": "interval"
          }
         }
        },
        {
         "data": {
          "format": {
           "type": "json"
          },
          "url": "altair-data-c22f4e60dc054bede1970f23bdd8a342.json"
         },
         "encoding": {
          "color": {
           "value": "green"
          },
          "x": {
           "field": "indentation depth (um)",
           "type": "quantitative"
          },
          "y": {
           "field": "offset force A (uN)",
           "type": "quantitative"
          }
         },
         "mark": "circle"
        },
        {
         "data": {
          "format": {
           "type": "json"
          },
          "url": "altair-data-9521b93cf3be941d70110ae68fd72e20.json"
         },
         "encoding": {
          "color": {
           "value": "yellow"
          },
          "x": {
           "field": "indentation depth (um)",
           "type": "quantitative"
          },
          "y": {
           "field": "offset force A (uN)",
           "type": "quantitative"
          }
         },
         "mark": "circle"
        },
        {
         "data": {
          "format": {
           "type": "json"
          },
          "url": "altair-data-b92e1257f21a82890113f20b3d57aba7.json"
         },
         "encoding": {
          "color": {
           "value": "orange"
          },
          "x": {
           "field": "indentation depth (um)",
           "type": "quantitative"
          },
          "y": {
           "field": "offset force A (uN)",
           "scale": {
            "domain": [
             -5,
             25
            ]
           },
           "type": "quantitative"
          }
         },
         "mark": "circle"
        },
        {
         "data": {
          "format": {
           "type": "json"
          },
          "url": "altair-data-b42ac85513bfb37e9accf1e5783a75af.json"
         },
         "encoding": {
          "color": {
           "value": "red"
          },
          "x": {
           "field": "indentation depth (um)",
           "type": "quantitative"
          },
          "y": {
           "field": "offset force A (uN)",
           "scale": {
            "domain": [
             -5,
             25
            ]
           },
           "type": "quantitative"
          }
         },
         "mark": "circle"
        }
       ]
      },
      "image/png": "[encoded data removed]",
      "text/plain": [
       "<VegaLite 3 object>\n",
       "\n",
       "If you see this message, it means the renderer has not been properly enabled\n",
       "for the frontend that you are using. For more information, see\n",
       "https://altair-viz.github.io/user_guide/troubleshooting.html\n"
      ]
     },
     "execution_count": 16,
     "metadata": {},
     "output_type": "execute_result"
    }
   ],
   "source": [
    "#    (blue)          (green)        (yellow)         (orange)          (red)\n",
    "(offset20_chart + offset10_chart + offset5_chart + offset1_chart + offsetp5_chart).configure_axis(grid=True,\n",
    "    labelFontSize=15,\n",
    "    titleFontSize=15).interactive()"
   ]
  },
  {
   "cell_type": "markdown",
   "metadata": {},
   "source": [
    "So, in this example we can see that the 1um threshold overcorrects the data, and that the contact point should be found using a threshold between 1 and 5 um. "
   ]
  },
  {
   "cell_type": "code",
   "execution_count": 17,
   "metadata": {},
   "outputs": [
    {
     "data": {
      "text/html": [
       "<div>\n",
       "<style scoped>\n",
       "    .dataframe tbody tr th:only-of-type {\n",
       "        vertical-align: middle;\n",
       "    }\n",
       "\n",
       "    .dataframe tbody tr th {\n",
       "        vertical-align: top;\n",
       "    }\n",
       "\n",
       "    .dataframe thead th {\n",
       "        text-align: right;\n",
       "    }\n",
       "</style>\n",
       "<table border=\"1\" class=\"dataframe\">\n",
       "  <thead>\n",
       "    <tr style=\"text-align: right;\">\n",
       "      <th></th>\n",
       "      <th>Index</th>\n",
       "      <th>Time (s)</th>\n",
       "      <th>Displacement (um)</th>\n",
       "      <th>Pos X (um)</th>\n",
       "      <th>Pos Y (um)</th>\n",
       "      <th>Pos Z (um)</th>\n",
       "      <th>Force A (uN)</th>\n",
       "      <th>Force B (uN)</th>\n",
       "      <th>fileName</th>\n",
       "      <th>indenting</th>\n",
       "      <th>Dex</th>\n",
       "      <th>treatment</th>\n",
       "      <th>Corrected Displacement (um)</th>\n",
       "      <th>offset force A (uN)</th>\n",
       "      <th>indentation depth (um)</th>\n",
       "    </tr>\n",
       "  </thead>\n",
       "  <tbody>\n",
       "    <tr>\n",
       "      <th>1</th>\n",
       "      <td>1.001</td>\n",
       "      <td>0.218</td>\n",
       "      <td>0.07000</td>\n",
       "      <td>-204.13425</td>\n",
       "      <td>83.99000</td>\n",
       "      <td>-426.75100</td>\n",
       "      <td>-14.45649</td>\n",
       "      <td>-0.00292</td>\n",
       "      <td>cycling_tests/in_water/cell132D</td>\n",
       "      <td>True</td>\n",
       "      <td>False</td>\n",
       "      <td>NaN</td>\n",
       "      <td>0.126810</td>\n",
       "      <td>0.240137</td>\n",
       "      <td>-6.281806</td>\n",
       "    </tr>\n",
       "    <tr>\n",
       "      <th>2</th>\n",
       "      <td>1.001</td>\n",
       "      <td>0.334</td>\n",
       "      <td>0.09000</td>\n",
       "      <td>-204.13375</td>\n",
       "      <td>83.99000</td>\n",
       "      <td>-426.77100</td>\n",
       "      <td>-14.46126</td>\n",
       "      <td>-0.01135</td>\n",
       "      <td>cycling_tests/in_water/cell132D</td>\n",
       "      <td>True</td>\n",
       "      <td>False</td>\n",
       "      <td>NaN</td>\n",
       "      <td>0.146829</td>\n",
       "      <td>0.235367</td>\n",
       "      <td>-6.261787</td>\n",
       "    </tr>\n",
       "    <tr>\n",
       "      <th>3</th>\n",
       "      <td>1.001</td>\n",
       "      <td>0.437</td>\n",
       "      <td>0.11100</td>\n",
       "      <td>-204.13375</td>\n",
       "      <td>83.99050</td>\n",
       "      <td>-426.79200</td>\n",
       "      <td>-14.32922</td>\n",
       "      <td>-0.00530</td>\n",
       "      <td>cycling_tests/in_water/cell132D</td>\n",
       "      <td>True</td>\n",
       "      <td>False</td>\n",
       "      <td>NaN</td>\n",
       "      <td>0.167310</td>\n",
       "      <td>0.367407</td>\n",
       "      <td>-6.241306</td>\n",
       "    </tr>\n",
       "    <tr>\n",
       "      <th>4</th>\n",
       "      <td>1.001</td>\n",
       "      <td>0.555</td>\n",
       "      <td>0.13675</td>\n",
       "      <td>-204.13425</td>\n",
       "      <td>83.99000</td>\n",
       "      <td>-426.81775</td>\n",
       "      <td>-14.01580</td>\n",
       "      <td>-0.00960</td>\n",
       "      <td>cycling_tests/in_water/cell132D</td>\n",
       "      <td>True</td>\n",
       "      <td>False</td>\n",
       "      <td>NaN</td>\n",
       "      <td>0.191829</td>\n",
       "      <td>0.680827</td>\n",
       "      <td>-6.216788</td>\n",
       "    </tr>\n",
       "    <tr>\n",
       "      <th>5</th>\n",
       "      <td>1.001</td>\n",
       "      <td>0.671</td>\n",
       "      <td>0.16350</td>\n",
       "      <td>-204.13400</td>\n",
       "      <td>83.99075</td>\n",
       "      <td>-426.84450</td>\n",
       "      <td>-13.79626</td>\n",
       "      <td>-0.00467</td>\n",
       "      <td>cycling_tests/in_water/cell132D</td>\n",
       "      <td>True</td>\n",
       "      <td>False</td>\n",
       "      <td>NaN</td>\n",
       "      <td>0.217716</td>\n",
       "      <td>0.900367</td>\n",
       "      <td>-6.190900</td>\n",
       "    </tr>\n",
       "    <tr>\n",
       "      <th>...</th>\n",
       "      <td>...</td>\n",
       "      <td>...</td>\n",
       "      <td>...</td>\n",
       "      <td>...</td>\n",
       "      <td>...</td>\n",
       "      <td>...</td>\n",
       "      <td>...</td>\n",
       "      <td>...</td>\n",
       "      <td>...</td>\n",
       "      <td>...</td>\n",
       "      <td>...</td>\n",
       "      <td>...</td>\n",
       "      <td>...</td>\n",
       "      <td>...</td>\n",
       "      <td>...</td>\n",
       "    </tr>\n",
       "    <tr>\n",
       "      <th>906</th>\n",
       "      <td>2.001</td>\n",
       "      <td>97.055</td>\n",
       "      <td>4.95950</td>\n",
       "      <td>-204.13700</td>\n",
       "      <td>83.99100</td>\n",
       "      <td>-431.64050</td>\n",
       "      <td>-16.59469</td>\n",
       "      <td>-0.01358</td>\n",
       "      <td>cycling_tests/in_water/cell132D</td>\n",
       "      <td>False</td>\n",
       "      <td>False</td>\n",
       "      <td>NaN</td>\n",
       "      <td>5.024713</td>\n",
       "      <td>-1.898063</td>\n",
       "      <td>-1.383903</td>\n",
       "    </tr>\n",
       "    <tr>\n",
       "      <th>907</th>\n",
       "      <td>2.001</td>\n",
       "      <td>97.171</td>\n",
       "      <td>4.90900</td>\n",
       "      <td>-204.13575</td>\n",
       "      <td>83.99025</td>\n",
       "      <td>-431.59000</td>\n",
       "      <td>-16.40856</td>\n",
       "      <td>-0.00276</td>\n",
       "      <td>cycling_tests/in_water/cell132D</td>\n",
       "      <td>False</td>\n",
       "      <td>False</td>\n",
       "      <td>NaN</td>\n",
       "      <td>4.973482</td>\n",
       "      <td>-1.711933</td>\n",
       "      <td>-1.435135</td>\n",
       "    </tr>\n",
       "    <tr>\n",
       "      <th>908</th>\n",
       "      <td>2.001</td>\n",
       "      <td>97.269</td>\n",
       "      <td>4.85800</td>\n",
       "      <td>-204.13625</td>\n",
       "      <td>83.99075</td>\n",
       "      <td>-431.53900</td>\n",
       "      <td>-16.43560</td>\n",
       "      <td>0.00313</td>\n",
       "      <td>cycling_tests/in_water/cell132D</td>\n",
       "      <td>False</td>\n",
       "      <td>False</td>\n",
       "      <td>NaN</td>\n",
       "      <td>4.922588</td>\n",
       "      <td>-1.738973</td>\n",
       "      <td>-1.486028</td>\n",
       "    </tr>\n",
       "    <tr>\n",
       "      <th>909</th>\n",
       "      <td>2.001</td>\n",
       "      <td>97.369</td>\n",
       "      <td>4.80650</td>\n",
       "      <td>-204.13650</td>\n",
       "      <td>83.99025</td>\n",
       "      <td>-431.48750</td>\n",
       "      <td>-16.41174</td>\n",
       "      <td>0.00281</td>\n",
       "      <td>cycling_tests/in_water/cell132D</td>\n",
       "      <td>False</td>\n",
       "      <td>False</td>\n",
       "      <td>NaN</td>\n",
       "      <td>4.870994</td>\n",
       "      <td>-1.715113</td>\n",
       "      <td>-1.537622</td>\n",
       "    </tr>\n",
       "    <tr>\n",
       "      <th>910</th>\n",
       "      <td>2.001</td>\n",
       "      <td>97.469</td>\n",
       "      <td>4.75625</td>\n",
       "      <td>-204.13575</td>\n",
       "      <td>83.99050</td>\n",
       "      <td>-431.43725</td>\n",
       "      <td>-16.41015</td>\n",
       "      <td>-0.00562</td>\n",
       "      <td>cycling_tests/in_water/cell132D</td>\n",
       "      <td>False</td>\n",
       "      <td>False</td>\n",
       "      <td>NaN</td>\n",
       "      <td>4.820738</td>\n",
       "      <td>-1.713523</td>\n",
       "      <td>-1.587878</td>\n",
       "    </tr>\n",
       "  </tbody>\n",
       "</table>\n",
       "<p>910 rows × 15 columns</p>\n",
       "</div>"
      ],
      "text/plain": [
       "     Index  Time (s)  Displacement (um)  Pos X (um)  Pos Y (um)  Pos Z (um)  \\\n",
       "1    1.001     0.218            0.07000  -204.13425    83.99000  -426.75100   \n",
       "2    1.001     0.334            0.09000  -204.13375    83.99000  -426.77100   \n",
       "3    1.001     0.437            0.11100  -204.13375    83.99050  -426.79200   \n",
       "4    1.001     0.555            0.13675  -204.13425    83.99000  -426.81775   \n",
       "5    1.001     0.671            0.16350  -204.13400    83.99075  -426.84450   \n",
       "..     ...       ...                ...         ...         ...         ...   \n",
       "906  2.001    97.055            4.95950  -204.13700    83.99100  -431.64050   \n",
       "907  2.001    97.171            4.90900  -204.13575    83.99025  -431.59000   \n",
       "908  2.001    97.269            4.85800  -204.13625    83.99075  -431.53900   \n",
       "909  2.001    97.369            4.80650  -204.13650    83.99025  -431.48750   \n",
       "910  2.001    97.469            4.75625  -204.13575    83.99050  -431.43725   \n",
       "\n",
       "     Force A (uN)  Force B (uN)                         fileName  indenting  \\\n",
       "1       -14.45649      -0.00292  cycling_tests/in_water/cell132D       True   \n",
       "2       -14.46126      -0.01135  cycling_tests/in_water/cell132D       True   \n",
       "3       -14.32922      -0.00530  cycling_tests/in_water/cell132D       True   \n",
       "4       -14.01580      -0.00960  cycling_tests/in_water/cell132D       True   \n",
       "5       -13.79626      -0.00467  cycling_tests/in_water/cell132D       True   \n",
       "..            ...           ...                              ...        ...   \n",
       "906     -16.59469      -0.01358  cycling_tests/in_water/cell132D      False   \n",
       "907     -16.40856      -0.00276  cycling_tests/in_water/cell132D      False   \n",
       "908     -16.43560       0.00313  cycling_tests/in_water/cell132D      False   \n",
       "909     -16.41174       0.00281  cycling_tests/in_water/cell132D      False   \n",
       "910     -16.41015      -0.00562  cycling_tests/in_water/cell132D      False   \n",
       "\n",
       "       Dex  treatment  Corrected Displacement (um)  offset force A (uN)  \\\n",
       "1    False        NaN                     0.126810             0.240137   \n",
       "2    False        NaN                     0.146829             0.235367   \n",
       "3    False        NaN                     0.167310             0.367407   \n",
       "4    False        NaN                     0.191829             0.680827   \n",
       "5    False        NaN                     0.217716             0.900367   \n",
       "..     ...        ...                          ...                  ...   \n",
       "906  False        NaN                     5.024713            -1.898063   \n",
       "907  False        NaN                     4.973482            -1.711933   \n",
       "908  False        NaN                     4.922588            -1.738973   \n",
       "909  False        NaN                     4.870994            -1.715113   \n",
       "910  False        NaN                     4.820738            -1.713523   \n",
       "\n",
       "     indentation depth (um)  \n",
       "1                 -6.281806  \n",
       "2                 -6.261787  \n",
       "3                 -6.241306  \n",
       "4                 -6.216788  \n",
       "5                 -6.190900  \n",
       "..                      ...  \n",
       "906               -1.383903  \n",
       "907               -1.435135  \n",
       "908               -1.486028  \n",
       "909               -1.537622  \n",
       "910               -1.587878  \n",
       "\n",
       "[910 rows x 15 columns]"
      ]
     },
     "execution_count": 17,
     "metadata": {},
     "output_type": "execute_result"
    }
   ],
   "source": [
    "df"
   ]
  },
  {
   "cell_type": "markdown",
   "metadata": {},
   "source": [
    "# Computing Environment"
   ]
  },
  {
   "cell_type": "code",
   "execution_count": 18,
   "metadata": {},
   "outputs": [],
   "source": [
    "%load_ext watermark"
   ]
  },
  {
   "cell_type": "code",
   "execution_count": 19,
   "metadata": {},
   "outputs": [
    {
     "name": "stdout",
     "output_type": "stream",
     "text": [
      "CPython 3.7.6\n",
      "IPython 7.15.0\n",
      "\n",
      "numpy 1.18.1\n",
      "pandas 1.0.4\n",
      "altair 3.3.0\n",
      "jupyterlab 2.1.4\n"
     ]
    }
   ],
   "source": [
    "%watermark -v -p numpy,pandas,altair,jupyterlab"
   ]
  },
  {
   "cell_type": "code",
   "execution_count": null,
   "metadata": {},
   "outputs": [],
   "source": []
  }
 ],
 "metadata": {
  "kernelspec": {
   "display_name": "Python 3",
   "language": "python",
   "name": "python3"
  },
  "language_info": {
   "codemirror_mode": {
    "name": "ipython",
    "version": 3
   },
   "file_extension": ".py",
   "mimetype": "text/x-python",
   "name": "python",
   "nbconvert_exporter": "python",
   "pygments_lexer": "ipython3",
   "version": "3.7.6"
  }
 },
 "nbformat": 4,
 "nbformat_minor": 4
}
