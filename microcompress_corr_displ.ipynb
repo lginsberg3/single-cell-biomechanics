{
 "cells": [
  {
   "cell_type": "markdown",
   "metadata": {},
   "source": [
    "# Displacement Correction for Sensor Compliance\n",
    "\n",
    "## Last Updated: December 19, 2021\n",
    "\n",
    "This document was prepared by Leah Ginsberg, a member of the [Ravichandran Research Group](https://www.ravi.caltech.edu/) at [Caltech](http://www.caltech.edu) in collaboration with [Professor Eleftheria Roumeli](https://sites.google.com/uw.edu/roumeli-research-group/) from [University of Washington](https://www.washington.edu/). \n",
    "\n",
    "<img src=\"caltech_uw_logo.png\">\n",
    "\n",
    "*These instructions were generated from a Jupyter notebook.  You can download the notebook [here](microcompress_corr_displ.ipynb).*"
   ]
  },
  {
   "cell_type": "code",
   "execution_count": 1,
   "metadata": {},
   "outputs": [
    {
     "data": {
      "text/plain": [
       "DataTransformerRegistry.enable('data_server')"
      ]
     },
     "execution_count": 1,
     "metadata": {},
     "output_type": "execute_result"
    }
   ],
   "source": [
    "import numpy as np               # general math operations\n",
    "import pandas as pd              # pandas dataframes\n",
    "import os                        # for opening .csv files in different folders\n",
    "import altair as alt             # pretty plotting\n",
    "import altair_catplot as altcat  # pretty box & whisker plots\n",
    "from scipy import signal, stats, fftpack  # filtering and statistics\n",
    "import matplotlib.pyplot as plt  # plotting histogram\n",
    "\n",
    "alt.data_transformers.enable('data_server') # uses a background server for Altair plots (helps with performance for large data sets)"
   ]
  },
  {
   "cell_type": "markdown",
   "metadata": {},
   "source": [
    "In this notebook, I will detail the preprocessing of force-indentation data from micro-compression tests on *Nicotiana tabacum* (BY2) cells in various drug treatments. I will explain each step in detail, including the use of the very handy Python package `pandas`. This package allows us to use Pandas `DataFrames`, which are convenient structures for storing data."
   ]
  },
  {
   "cell_type": "markdown",
   "metadata": {},
   "source": [
    "The data preprocessing steps executed in this notebook are as follows:\n",
    "1. Import the raw data from microcompression experiments ($Z$, $F$)\n",
    "2. Calculate the sensor stiffness from filtered calibration data ($S$)\n",
    "3. Calculate the corrected displacement\n",
    "4. Export corrected displacement data for contact finding"
   ]
  },
  {
   "cell_type": "markdown",
   "metadata": {},
   "source": [
    "### 1. Import the raw data from microcompression experiments ($Z$, $F$)"
   ]
  },
  {
   "cell_type": "markdown",
   "metadata": {},
   "source": [
    "In this step, we will load data stored on disk into a Python data structure.  We will use `pandas` to read in CSV (comma separated value) files and store the results in the very handy Pandas `DataFrame`. First, we need to organize the data according to the treatment each cell received. If you downloaded our data directly from Github, the files should already be organized in folders that are named according to the drug treatment the cell received. We can use that to organize our data. You'll probably need to change the first line to specify the path where the files are contained on your local computer."
   ]
  },
  {
   "cell_type": "code",
   "execution_count": 2,
   "metadata": {},
   "outputs": [
    {
     "name": "stdout",
     "output_type": "stream",
     "text": [
      "['microcompress_data/BY2_in_C2/', 'microcompress_data/BY2_in_oryzalin/', 'microcompress_data/BY2_in_LatB/', 'microcompress_data/BY2_in_sorbitol/', 'microcompress_data/BY2_in_oryzalin_sorbitol/', 'microcompress_data/BY2_in_LatB_sorbitol/', 'microcompress_data/Refs/']\n"
     ]
    }
   ],
   "source": [
    "path = 'microcompress_data'\n",
    "dir_list = os.listdir(path) # prints a list of strings with all folder names in the specified path\n",
    "\n",
    "# folder names for each drug treatment\n",
    "sorbitol_folderName = path + '/BY2_in_sorbitol/'\n",
    "C2_folderName = path + '/BY2_in_C2/'\n",
    "ory_folderName = path + '/BY2_in_oryzalin/'\n",
    "LatB_folderName = path + '/BY2_in_LatB/'\n",
    "ory_sorbitol_folderName = path + '/BY2_in_oryzalin_sorbitol/'\n",
    "LatB_sorbitol_folderName = path + '/BY2_in_LatB_sorbitol/'\n",
    "Ref_folderName = path + '/Refs/'\n",
    "\n",
    "# combine all the lists of folder names into one list\n",
    "folderNames = [C2_folderName, ory_folderName, LatB_folderName, sorbitol_folderName, ory_sorbitol_folderName, LatB_sorbitol_folderName, Ref_folderName]\n",
    "\n",
    "# print everything to make sure it worked\n",
    "print(folderNames)"
   ]
  },
  {
   "cell_type": "markdown",
   "metadata": {},
   "source": [
    "Next, we need to determine which files are calibration data, which are sample data, and which are neither (images)."
   ]
  },
  {
   "cell_type": "code",
   "execution_count": 3,
   "metadata": {},
   "outputs": [
    {
     "data": {
      "text/plain": [
       "(16, 98)"
      ]
     },
     "execution_count": 3,
     "metadata": {},
     "output_type": "execute_result"
    }
   ],
   "source": [
    "# Get names of all files to be used as calibration data or sample data\n",
    "sample_fileNames = []\n",
    "calib_fileNames = []\n",
    "for folderName in folderNames:\n",
    "    dir_list = os.listdir(folderName)\n",
    "    for fileName in dir_list:\n",
    "        if fileName.startswith('ref') and not ('.' in fileName) and not ('_' in fileName):\n",
    "            calib_fileNames.append(folderName + fileName)\n",
    "        elif fileName.startswith('cell') and not ('.' in fileName) and not ('_' in fileName):\n",
    "            sample_fileNames.append(folderName + fileName)\n",
    "            \n",
    "# Check how many files it found\n",
    "len(calib_fileNames), len(sample_fileNames)"
   ]
  },
  {
   "cell_type": "markdown",
   "metadata": {},
   "source": [
    "If all went right, you should have 16 entries in `calib_fileNames` and 98 entries in `sample_fileNames`. Now we can use `pd.read_csv()` to load the data set.  The data are stored in a **DataFrame**, which is one of the data types that makes `pandas` so convenient for use in data analysis.  `DataFrame`s offer mixed data types, including incomplete columns, and convenient slicing, among many, many other convenient features. They are like spreadsheets, only a lot better.\n",
    "\n",
    "Let's load the calibration data into one dataframe, and the sample data into another."
   ]
  },
  {
   "cell_type": "code",
   "execution_count": 4,
   "metadata": {},
   "outputs": [
    {
     "data": {
      "text/html": [
       "<div>\n",
       "<style scoped>\n",
       "    .dataframe tbody tr th:only-of-type {\n",
       "        vertical-align: middle;\n",
       "    }\n",
       "\n",
       "    .dataframe tbody tr th {\n",
       "        vertical-align: top;\n",
       "    }\n",
       "\n",
       "    .dataframe thead th {\n",
       "        text-align: right;\n",
       "    }\n",
       "</style>\n",
       "<table border=\"1\" class=\"dataframe\">\n",
       "  <thead>\n",
       "    <tr style=\"text-align: right;\">\n",
       "      <th></th>\n",
       "      <th>Index</th>\n",
       "      <th>Time (s)</th>\n",
       "      <th>Displacement (um)</th>\n",
       "      <th>Pos X (um)</th>\n",
       "      <th>Pos Y (um)</th>\n",
       "      <th>Pos Z (um)</th>\n",
       "      <th>Force A (uN)</th>\n",
       "      <th>Force B (uN)</th>\n",
       "      <th>fileName</th>\n",
       "      <th>indenting</th>\n",
       "    </tr>\n",
       "  </thead>\n",
       "  <tbody>\n",
       "    <tr>\n",
       "      <th>0</th>\n",
       "      <td>1.001</td>\n",
       "      <td>0.000</td>\n",
       "      <td>-0.00025</td>\n",
       "      <td>-325.623</td>\n",
       "      <td>-458.02950</td>\n",
       "      <td>-4.81675</td>\n",
       "      <td>-9.51622</td>\n",
       "      <td>0.00301</td>\n",
       "      <td>microcompress_data/Refs/ref1</td>\n",
       "      <td>True</td>\n",
       "    </tr>\n",
       "    <tr>\n",
       "      <th>1</th>\n",
       "      <td>1.001</td>\n",
       "      <td>0.108</td>\n",
       "      <td>0.03925</td>\n",
       "      <td>-325.623</td>\n",
       "      <td>-458.02950</td>\n",
       "      <td>-4.85625</td>\n",
       "      <td>-8.83212</td>\n",
       "      <td>-0.00463</td>\n",
       "      <td>microcompress_data/Refs/ref1</td>\n",
       "      <td>True</td>\n",
       "    </tr>\n",
       "    <tr>\n",
       "      <th>2</th>\n",
       "      <td>1.001</td>\n",
       "      <td>0.209</td>\n",
       "      <td>0.06300</td>\n",
       "      <td>-325.623</td>\n",
       "      <td>-458.02975</td>\n",
       "      <td>-4.88000</td>\n",
       "      <td>-9.00553</td>\n",
       "      <td>0.00142</td>\n",
       "      <td>microcompress_data/Refs/ref1</td>\n",
       "      <td>True</td>\n",
       "    </tr>\n",
       "    <tr>\n",
       "      <th>3</th>\n",
       "      <td>1.001</td>\n",
       "      <td>0.310</td>\n",
       "      <td>0.07650</td>\n",
       "      <td>-325.623</td>\n",
       "      <td>-458.03000</td>\n",
       "      <td>-4.89350</td>\n",
       "      <td>-8.93871</td>\n",
       "      <td>-0.00686</td>\n",
       "      <td>microcompress_data/Refs/ref1</td>\n",
       "      <td>True</td>\n",
       "    </tr>\n",
       "    <tr>\n",
       "      <th>4</th>\n",
       "      <td>1.001</td>\n",
       "      <td>0.409</td>\n",
       "      <td>0.09125</td>\n",
       "      <td>-325.623</td>\n",
       "      <td>-458.03000</td>\n",
       "      <td>-4.90825</td>\n",
       "      <td>-9.00394</td>\n",
       "      <td>-0.00956</td>\n",
       "      <td>microcompress_data/Refs/ref1</td>\n",
       "      <td>True</td>\n",
       "    </tr>\n",
       "  </tbody>\n",
       "</table>\n",
       "</div>"
      ],
      "text/plain": [
       "   Index  Time (s)  Displacement (um)  Pos X (um)  Pos Y (um)  Pos Z (um)  \\\n",
       "0  1.001     0.000           -0.00025    -325.623  -458.02950    -4.81675   \n",
       "1  1.001     0.108            0.03925    -325.623  -458.02950    -4.85625   \n",
       "2  1.001     0.209            0.06300    -325.623  -458.02975    -4.88000   \n",
       "3  1.001     0.310            0.07650    -325.623  -458.03000    -4.89350   \n",
       "4  1.001     0.409            0.09125    -325.623  -458.03000    -4.90825   \n",
       "\n",
       "   Force A (uN)  Force B (uN)                      fileName indenting  \n",
       "0      -9.51622       0.00301  microcompress_data/Refs/ref1      True  \n",
       "1      -8.83212      -0.00463  microcompress_data/Refs/ref1      True  \n",
       "2      -9.00553       0.00142  microcompress_data/Refs/ref1      True  \n",
       "3      -8.93871      -0.00686  microcompress_data/Refs/ref1      True  \n",
       "4      -9.00394      -0.00956  microcompress_data/Refs/ref1      True  "
      ]
     },
     "execution_count": 4,
     "metadata": {},
     "output_type": "execute_result"
    }
   ],
   "source": [
    "# Organize dataframe by column with additional information about experiment not found in .csv file (date, day of growth, etc.)\n",
    "df_calib = pd.DataFrame(columns=['Index','Time (s)','Displacement (um)','Pos X (um)','Pos Y (um)','Pos Z (um)','Force A (uN)','Force B (uN)','fileName','indenting'])\n",
    "\n",
    "# loop through all calibration data\n",
    "for i, fileName in enumerate(calib_fileNames):\n",
    "    # read data from file to dataframe\n",
    "    df = pd.read_csv(fileName, header=3, sep='\\s+', names=['Index', 'Time (s)', 'Displacement (um)', 'Pos X (um)', 'Pos Y (um)', 'Pos Z (um)', 'Force A (uN)', 'Force B (uN)'])\n",
    "\n",
    "    df['fileName']=fileName\n",
    "    df['indenting']=df['Index']==1.001 # in data files, Index 1.001 indicates indenting data, and Index 2.001 indicates retraction data\n",
    "\n",
    "    # concatenate all calibration dataframes into one dataframe\n",
    "    df_calib = pd.concat([df_calib, df])\n",
    "\n",
    "# Take a look at the dataframe we created\n",
    "df_calib.head()"
   ]
  },
  {
   "cell_type": "code",
   "execution_count": 5,
   "metadata": {},
   "outputs": [
    {
     "data": {
      "text/html": [
       "<div>\n",
       "<style scoped>\n",
       "    .dataframe tbody tr th:only-of-type {\n",
       "        vertical-align: middle;\n",
       "    }\n",
       "\n",
       "    .dataframe tbody tr th {\n",
       "        vertical-align: top;\n",
       "    }\n",
       "\n",
       "    .dataframe thead th {\n",
       "        text-align: right;\n",
       "    }\n",
       "</style>\n",
       "<table border=\"1\" class=\"dataframe\">\n",
       "  <thead>\n",
       "    <tr style=\"text-align: right;\">\n",
       "      <th></th>\n",
       "      <th>Index</th>\n",
       "      <th>Time (s)</th>\n",
       "      <th>Displacement (um)</th>\n",
       "      <th>Pos X (um)</th>\n",
       "      <th>Pos Y (um)</th>\n",
       "      <th>Pos Z (um)</th>\n",
       "      <th>Force A (uN)</th>\n",
       "      <th>Force B (uN)</th>\n",
       "      <th>fileName</th>\n",
       "      <th>indenting</th>\n",
       "      <th>plasmolyzed</th>\n",
       "      <th>treatment</th>\n",
       "    </tr>\n",
       "  </thead>\n",
       "  <tbody>\n",
       "    <tr>\n",
       "      <th>0</th>\n",
       "      <td>1.001</td>\n",
       "      <td>0.123</td>\n",
       "      <td>0.20325</td>\n",
       "      <td>184.00625</td>\n",
       "      <td>-106.00100</td>\n",
       "      <td>49.77075</td>\n",
       "      <td>-10.54090</td>\n",
       "      <td>-0.00129</td>\n",
       "      <td>microcompress_data/BY2_in_C2/cell001</td>\n",
       "      <td>True</td>\n",
       "      <td>False</td>\n",
       "      <td>C2</td>\n",
       "    </tr>\n",
       "    <tr>\n",
       "      <th>1</th>\n",
       "      <td>1.001</td>\n",
       "      <td>0.228</td>\n",
       "      <td>0.27500</td>\n",
       "      <td>184.00700</td>\n",
       "      <td>-106.00125</td>\n",
       "      <td>49.69900</td>\n",
       "      <td>-10.88703</td>\n",
       "      <td>-0.00336</td>\n",
       "      <td>microcompress_data/BY2_in_C2/cell001</td>\n",
       "      <td>True</td>\n",
       "      <td>False</td>\n",
       "      <td>C2</td>\n",
       "    </tr>\n",
       "    <tr>\n",
       "      <th>2</th>\n",
       "      <td>1.001</td>\n",
       "      <td>0.346</td>\n",
       "      <td>0.30325</td>\n",
       "      <td>184.00700</td>\n",
       "      <td>-106.00075</td>\n",
       "      <td>49.67075</td>\n",
       "      <td>-10.78654</td>\n",
       "      <td>-0.00192</td>\n",
       "      <td>microcompress_data/BY2_in_C2/cell001</td>\n",
       "      <td>True</td>\n",
       "      <td>False</td>\n",
       "      <td>C2</td>\n",
       "    </tr>\n",
       "    <tr>\n",
       "      <th>3</th>\n",
       "      <td>1.001</td>\n",
       "      <td>0.466</td>\n",
       "      <td>0.32000</td>\n",
       "      <td>184.00625</td>\n",
       "      <td>-106.00100</td>\n",
       "      <td>49.65400</td>\n",
       "      <td>-10.74826</td>\n",
       "      <td>0.00253</td>\n",
       "      <td>microcompress_data/BY2_in_C2/cell001</td>\n",
       "      <td>True</td>\n",
       "      <td>False</td>\n",
       "      <td>C2</td>\n",
       "    </tr>\n",
       "    <tr>\n",
       "      <th>4</th>\n",
       "      <td>1.001</td>\n",
       "      <td>0.595</td>\n",
       "      <td>0.34275</td>\n",
       "      <td>184.00600</td>\n",
       "      <td>-106.00075</td>\n",
       "      <td>49.63125</td>\n",
       "      <td>-10.73709</td>\n",
       "      <td>0.00397</td>\n",
       "      <td>microcompress_data/BY2_in_C2/cell001</td>\n",
       "      <td>True</td>\n",
       "      <td>False</td>\n",
       "      <td>C2</td>\n",
       "    </tr>\n",
       "  </tbody>\n",
       "</table>\n",
       "</div>"
      ],
      "text/plain": [
       "   Index  Time (s)  Displacement (um)  Pos X (um)  Pos Y (um)  Pos Z (um)  \\\n",
       "0  1.001     0.123            0.20325   184.00625  -106.00100    49.77075   \n",
       "1  1.001     0.228            0.27500   184.00700  -106.00125    49.69900   \n",
       "2  1.001     0.346            0.30325   184.00700  -106.00075    49.67075   \n",
       "3  1.001     0.466            0.32000   184.00625  -106.00100    49.65400   \n",
       "4  1.001     0.595            0.34275   184.00600  -106.00075    49.63125   \n",
       "\n",
       "   Force A (uN)  Force B (uN)                              fileName indenting  \\\n",
       "0     -10.54090      -0.00129  microcompress_data/BY2_in_C2/cell001      True   \n",
       "1     -10.88703      -0.00336  microcompress_data/BY2_in_C2/cell001      True   \n",
       "2     -10.78654      -0.00192  microcompress_data/BY2_in_C2/cell001      True   \n",
       "3     -10.74826       0.00253  microcompress_data/BY2_in_C2/cell001      True   \n",
       "4     -10.73709       0.00397  microcompress_data/BY2_in_C2/cell001      True   \n",
       "\n",
       "  plasmolyzed treatment  \n",
       "0       False        C2  \n",
       "1       False        C2  \n",
       "2       False        C2  \n",
       "3       False        C2  \n",
       "4       False        C2  "
      ]
     },
     "execution_count": 5,
     "metadata": {},
     "output_type": "execute_result"
    }
   ],
   "source": [
    "# Organize dataframe by column with additional information about experiment not found in .csv file (date, day of growth, etc.)\n",
    "df_sample = pd.DataFrame(columns=['Index','Time (s)','Displacement (um)','Pos X (um)','Pos Y (um)','Pos Z (um)','Force A (uN)','Force B (uN)','fileName','indenting'])\n",
    "\n",
    "# loop through all sample data\n",
    "for j, fileName in enumerate(sample_fileNames):\n",
    "    # read data from file to dataframe\n",
    "    df = pd.read_csv(fileName, header=4, sep='\\s+', names=['Index', 'Time (s)', 'Displacement (um)', 'Pos X (um)', 'Pos Y (um)', 'Pos Z (um)', 'Force A (uN)', 'Force B (uN)'])\n",
    "\n",
    "    df['fileName']=fileName\n",
    "    df['indenting']=df['Index']==1.001 # in data files, Index 1.001 indicates indenting data, and Index 2.001 indicates retraction data\n",
    "\n",
    "    # Take information about experiment from filename and put into dataframe\n",
    "    if 'sorbitol' in fileName:\n",
    "        df['plasmolyzed'] = True\n",
    "    else:\n",
    "        df['plasmolyzed'] = False\n",
    "    \n",
    "    if 'LatB' in fileName:\n",
    "        df['treatment'] = 'LatB'\n",
    "    elif 'oryzalin' in fileName:\n",
    "        df['treatment'] = 'oryzalin'\n",
    "    else:\n",
    "        df['treatment'] = 'C2'\n",
    "\n",
    "    # concatenate all sample dataframes into one dataframe\n",
    "    df_sample = pd.concat([df_sample, df])\n",
    "\n",
    "# Take a look at the dataframe we created\n",
    "df_sample.head()"
   ]
  },
  {
   "cell_type": "markdown",
   "metadata": {},
   "source": [
    "This data is in a format that is known as **tidy**. See this [paper](https://www.jstatsoft.org/article/view/v059i10) by Hadley Wickam for a detailed discussion of tidying data. The basic structure of tidy data is:\n",
    "1. Each variable is a column\n",
    "2. Each observation is a row\n",
    "3. Each type of observational unit is its own table\n",
    "\n",
    "With our data set up in this way, we can easily find data, say, with a specific treatment using Boolean slicing."
   ]
  },
  {
   "cell_type": "markdown",
   "metadata": {},
   "source": [
    "### 2. Calculate the sensor stiffness from calibration ($S$)"
   ]
  },
  {
   "cell_type": "markdown",
   "metadata": {},
   "source": [
    "To get the corrected displacement we follow: Routier-Kierzkowska et al. (2012). Quoting the methods section of their paper \"Cellular Force Microscopy for in Vivo Measurements of Plant Tissue Mechanics\": \n",
    "\n",
    ">“During measurements on soft samples, the sensor probe indents the sample surface while the sensor’s beam springs bend by an amount depending on the applied load. Thus, for a given position $Z$ of the actuator, the actual probe tip $Z_{corrected}$ position relative to the sample is as follows: $Z_{corr} = Z + F/S$, where $F$ is the load measured by the sensor and $S$ is the sensor stiffness determined by calibration. The sign convention for $Z$ and $F$ vectors is the same (positive is pointing upward).”"
   ]
  },
  {
   "cell_type": "markdown",
   "metadata": {},
   "source": [
    "First, we need to separate out data from the area of interest. We want an area of steady force increase on the indentation portion of the curve, after the sensor has made contact with the glass slide."
   ]
  },
  {
   "cell_type": "code",
   "execution_count": 6,
   "metadata": {},
   "outputs": [
    {
     "name": "stdout",
     "output_type": "stream",
     "text": [
      "           fileName           | kref (N/m) \n",
      "-----------------------------------------\n",
      " microcompress_data/Refs/ref1 |    217     \n",
      "microcompress_data/Refs/ref10 |    200     \n",
      "microcompress_data/Refs/ref11 |    233     \n",
      "microcompress_data/Refs/ref12 |    251     \n",
      "microcompress_data/Refs/ref13 |    288     \n",
      "microcompress_data/Refs/ref14 |    263     \n",
      "microcompress_data/Refs/ref15 |    215     \n",
      "microcompress_data/Refs/ref16 |    201     \n",
      " microcompress_data/Refs/ref2 |    307     \n",
      " microcompress_data/Refs/ref3 |    314     \n",
      " microcompress_data/Refs/ref4 |    291     \n",
      " microcompress_data/Refs/ref5 |    389     \n",
      " microcompress_data/Refs/ref6 |    204     \n",
      " microcompress_data/Refs/ref7 |    249     \n",
      " microcompress_data/Refs/ref8 |    220     \n",
      " microcompress_data/Refs/ref9 |    223     \n"
     ]
    },
    {
     "data": {
      "text/html": [
       "\n",
       "<div id=\"altair-viz-f7e71c10c94f42119b6d9c3cc3d868ed\"></div>\n",
       "<script type=\"text/javascript\">\n",
       "  (function(spec, embedOpt){\n",
       "    let outputDiv = document.currentScript.previousElementSibling;\n",
       "    if (outputDiv.id !== \"altair-viz-f7e71c10c94f42119b6d9c3cc3d868ed\") {\n",
       "      outputDiv = document.getElementById(\"altair-viz-f7e71c10c94f42119b6d9c3cc3d868ed\");\n",
       "    }\n",
       "    const paths = {\n",
       "      \"vega\": \"https://cdn.jsdelivr.net/npm//vega@5?noext\",\n",
       "      \"vega-lib\": \"https://cdn.jsdelivr.net/npm//vega-lib?noext\",\n",
       "      \"vega-lite\": \"https://cdn.jsdelivr.net/npm//vega-lite@4.8.1?noext\",\n",
       "      \"vega-embed\": \"https://cdn.jsdelivr.net/npm//vega-embed@6?noext\",\n",
       "    };\n",
       "\n",
       "    function loadScript(lib) {\n",
       "      return new Promise(function(resolve, reject) {\n",
       "        var s = document.createElement('script');\n",
       "        s.src = paths[lib];\n",
       "        s.async = true;\n",
       "        s.onload = () => resolve(paths[lib]);\n",
       "        s.onerror = () => reject(`Error loading script: ${paths[lib]}`);\n",
       "        document.getElementsByTagName(\"head\")[0].appendChild(s);\n",
       "      });\n",
       "    }\n",
       "\n",
       "    function showError(err) {\n",
       "      outputDiv.innerHTML = `<div class=\"error\" style=\"color:red;\">${err}</div>`;\n",
       "      throw err;\n",
       "    }\n",
       "\n",
       "    function displayChart(vegaEmbed) {\n",
       "      vegaEmbed(outputDiv, spec, embedOpt)\n",
       "        .catch(err => showError(`Javascript Error: ${err.message}<br>This usually means there's a typo in your chart specification. See the javascript console for the full traceback.`));\n",
       "    }\n",
       "\n",
       "    if(typeof define === \"function\" && define.amd) {\n",
       "      requirejs.config({paths});\n",
       "      require([\"vega-embed\"], displayChart, err => showError(`Error loading script: ${err.message}`));\n",
       "    } else if (typeof vegaEmbed === \"function\") {\n",
       "      displayChart(vegaEmbed);\n",
       "    } else {\n",
       "      loadScript(\"vega\")\n",
       "        .then(() => loadScript(\"vega-lite\"))\n",
       "        .then(() => loadScript(\"vega-embed\"))\n",
       "        .catch(showError)\n",
       "        .then(() => displayChart(vegaEmbed));\n",
       "    }\n",
       "  })({\"config\": {\"view\": {\"continuousWidth\": 400, \"continuousHeight\": 300}, \"axis\": {\"grid\": true, \"labelFontSize\": 15, \"titleFontSize\": 15}}, \"layer\": [{\"data\": {\"url\": \"http://localhost:17156/911a3aeffa1fbf223179b953e705e87c.json\"}, \"mark\": \"line\", \"encoding\": {\"x\": {\"type\": \"quantitative\", \"field\": \"Displacement (um)\"}, \"y\": {\"type\": \"quantitative\", \"field\": \"linear fit F (uN)\"}}}, {\"data\": {\"url\": \"http://localhost:17156/2d081a60736ee4f714b2bf1708c71423.json\"}, \"mark\": \"circle\", \"encoding\": {\"x\": {\"type\": \"quantitative\", \"field\": \"Displacement (um)\"}, \"y\": {\"type\": \"quantitative\", \"field\": \"Force A (uN)\"}}}], \"$schema\": \"https://vega.github.io/schema/vega-lite/v4.8.1.json\"}, {\"mode\": \"vega-lite\"});\n",
       "</script>"
      ],
      "text/plain": [
       "alt.LayerChart(...)"
      ]
     },
     "execution_count": 6,
     "metadata": {},
     "output_type": "execute_result"
    }
   ],
   "source": [
    "i=0\n",
    "print('           fileName           | kref (N/m) ')\n",
    "print('-----------------------------------------')\n",
    "for fileName in df_calib['fileName'].unique():\n",
    "    df = df_calib[df_calib['fileName']==fileName] # separate dfs by fileName\n",
    "    df = df[df['indenting']] # only take indentation data\n",
    "\n",
    "    # // glass kref\n",
    "    # fit the last 0.5um of data to a line\n",
    "    end_displ = df['Displacement (um)'].iloc[-1]\n",
    "    df_glass = df[df['Displacement (um)']>=end_displ-0.5].copy()\n",
    "\n",
    "    # Now perform a linear fit\n",
    "    f = np.polyfit(df_glass['Displacement (um)'], df_glass['Force A (uN)'], 1)\n",
    "\n",
    "    # Add linear fit to dataframe for plotting\n",
    "    df_glass['linear fit F (uN)'] = df_glass['Displacement (um)']*f[0] + f[1]\n",
    "\n",
    "    kref = f[0]\n",
    "    print('{:^30}|{:^12}'.format(fileName,str(int(kref))))\n",
    "\n",
    "    df_calib.loc[df_calib['fileName']==fileName,'kref']=kref\n",
    "\n",
    "# plot example calibration data with fit\n",
    "linfit_chart = alt.Chart(df_glass).mark_line().encode(\n",
    "    x='Displacement (um)',\n",
    "    y='linear fit F (uN)'\n",
    ")\n",
    "\n",
    "calib_chart = alt.Chart(df).mark_circle().encode(\n",
    "    x='Displacement (um)',\n",
    "    y='Force A (uN)'\n",
    ")\n",
    "\n",
    "(linfit_chart + calib_chart).configure_axis(grid=True,\n",
    "    labelFontSize=15,\n",
    "    titleFontSize=15)"
   ]
  },
  {
   "cell_type": "markdown",
   "metadata": {},
   "source": [
    "*Note* - If your Altair chart appears blank when you try running the code on your machine, you can try the following:\n",
    "1. Update your Anaconda distribution and all installed packages by running `conda update conda` and then `conda update --all` in the command line.\n",
    "2. Turn off any adblockers.\n",
    "3. Comment out the last line of the first code block in this notebook, which uses a background Altair server to transform the data."
   ]
  },
  {
   "cell_type": "code",
   "execution_count": 7,
   "metadata": {},
   "outputs": [
    {
     "name": "stdout",
     "output_type": "stream",
     "text": [
      "The calculated sensor stiffness is 254 N/m.\n"
     ]
    }
   ],
   "source": [
    "# Use average of all reference measurements as sensor stiffness\n",
    "kref = np.average(df_calib['kref'].unique())\n",
    "print('The calculated sensor stiffness is {} N/m.'.format(str(int(kref))))"
   ]
  },
  {
   "cell_type": "markdown",
   "metadata": {},
   "source": [
    "### 3. Calculate the corrected displacement"
   ]
  },
  {
   "cell_type": "markdown",
   "metadata": {},
   "source": [
    "For our process, the displacement is positive for downward movement, and force is increasing as we push downward, so we should have the transformation as"
   ]
  },
  {
   "cell_type": "markdown",
   "metadata": {},
   "source": [
    "\\begin{equation}\n",
    "    Z_\\text{corrected} = Z – \\frac{F}{S}\n",
    "\\end{equation}"
   ]
  },
  {
   "cell_type": "markdown",
   "metadata": {},
   "source": [
    "where $Z_\\text{corrected}$ is the corrected displacement, $Z$ is the uncorrected displacement, $F$ is the uncorrected load measured by the sensor, and $S$ is the sensor stiffness determined by calibration. See the figure below."
   ]
  },
  {
   "cell_type": "markdown",
   "metadata": {},
   "source": [
    "Let's try correcting one of our data sets to illustrate the process. Then, we'll construct a loop to perform the correction for all data sets."
   ]
  },
  {
   "cell_type": "code",
   "execution_count": 8,
   "metadata": {},
   "outputs": [
    {
     "data": {
      "text/html": [
       "\n",
       "<div id=\"altair-viz-060dadf1852e48aa9fe230178a7e7bac\"></div>\n",
       "<script type=\"text/javascript\">\n",
       "  (function(spec, embedOpt){\n",
       "    let outputDiv = document.currentScript.previousElementSibling;\n",
       "    if (outputDiv.id !== \"altair-viz-060dadf1852e48aa9fe230178a7e7bac\") {\n",
       "      outputDiv = document.getElementById(\"altair-viz-060dadf1852e48aa9fe230178a7e7bac\");\n",
       "    }\n",
       "    const paths = {\n",
       "      \"vega\": \"https://cdn.jsdelivr.net/npm//vega@5?noext\",\n",
       "      \"vega-lib\": \"https://cdn.jsdelivr.net/npm//vega-lib?noext\",\n",
       "      \"vega-lite\": \"https://cdn.jsdelivr.net/npm//vega-lite@4.8.1?noext\",\n",
       "      \"vega-embed\": \"https://cdn.jsdelivr.net/npm//vega-embed@6?noext\",\n",
       "    };\n",
       "\n",
       "    function loadScript(lib) {\n",
       "      return new Promise(function(resolve, reject) {\n",
       "        var s = document.createElement('script');\n",
       "        s.src = paths[lib];\n",
       "        s.async = true;\n",
       "        s.onload = () => resolve(paths[lib]);\n",
       "        s.onerror = () => reject(`Error loading script: ${paths[lib]}`);\n",
       "        document.getElementsByTagName(\"head\")[0].appendChild(s);\n",
       "      });\n",
       "    }\n",
       "\n",
       "    function showError(err) {\n",
       "      outputDiv.innerHTML = `<div class=\"error\" style=\"color:red;\">${err}</div>`;\n",
       "      throw err;\n",
       "    }\n",
       "\n",
       "    function displayChart(vegaEmbed) {\n",
       "      vegaEmbed(outputDiv, spec, embedOpt)\n",
       "        .catch(err => showError(`Javascript Error: ${err.message}<br>This usually means there's a typo in your chart specification. See the javascript console for the full traceback.`));\n",
       "    }\n",
       "\n",
       "    if(typeof define === \"function\" && define.amd) {\n",
       "      requirejs.config({paths});\n",
       "      require([\"vega-embed\"], displayChart, err => showError(`Error loading script: ${err.message}`));\n",
       "    } else if (typeof vegaEmbed === \"function\") {\n",
       "      displayChart(vegaEmbed);\n",
       "    } else {\n",
       "      loadScript(\"vega\")\n",
       "        .then(() => loadScript(\"vega-lite\"))\n",
       "        .then(() => loadScript(\"vega-embed\"))\n",
       "        .catch(showError)\n",
       "        .then(() => displayChart(vegaEmbed));\n",
       "    }\n",
       "  })({\"config\": {\"view\": {\"continuousWidth\": 400, \"continuousHeight\": 300}, \"axis\": {\"grid\": true, \"labelFontSize\": 15, \"titleFontSize\": 15}}, \"layer\": [{\"mark\": \"square\", \"encoding\": {\"color\": {\"value\": \"black\"}, \"x\": {\"type\": \"quantitative\", \"field\": \"Displacement (um)\"}, \"y\": {\"type\": \"quantitative\", \"field\": \"Force A (uN)\"}}, \"selection\": {\"selector001\": {\"type\": \"interval\", \"bind\": \"scales\", \"encodings\": [\"x\", \"y\"]}}}, {\"mark\": \"circle\", \"encoding\": {\"color\": {\"value\": \"red\"}, \"x\": {\"type\": \"quantitative\", \"field\": \"Corrected Displacement (um)\"}, \"y\": {\"type\": \"quantitative\", \"field\": \"Force A (uN)\"}}}], \"data\": {\"url\": \"http://localhost:17156/121acc39e6a1829922be5283ebed85a0.json\"}, \"$schema\": \"https://vega.github.io/schema/vega-lite/v4.8.1.json\"}, {\"mode\": \"vega-lite\"});\n",
       "</script>"
      ],
      "text/plain": [
       "alt.LayerChart(...)"
      ]
     },
     "execution_count": 8,
     "metadata": {},
     "output_type": "execute_result"
    }
   ],
   "source": [
    "fileName = 'microcompress_data/BY2_in_C2/cell001'\n",
    "df = df_sample[df_sample['fileName']==fileName].copy()\n",
    "# calculate corrected displacement\n",
    "Z = df['Displacement (um)']\n",
    "F = df['Force A (uN)']\n",
    "Zcorr = Z-F/kref\n",
    "\n",
    "# save results in dataframe\n",
    "df['Corrected Displacement (um)'] = Zcorr\n",
    "df_sample.loc[df_sample['fileName']==fileName,'Corrected Displacement (um)'] = Zcorr\n",
    "\n",
    "# Plot results\n",
    "orig_chart = alt.Chart(df).mark_square().encode(\n",
    "    x='Displacement (um)',\n",
    "    y='Force A (uN)',\n",
    "    color=alt.value('black')\n",
    ")\n",
    "corr_chart = alt.Chart(df).mark_circle().encode(\n",
    "    x='Corrected Displacement (um)',\n",
    "    y='Force A (uN)',\n",
    "    color=alt.value('red')\n",
    ")\n",
    "(orig_chart + corr_chart).configure_axis(grid=True,\n",
    "    labelFontSize=15,\n",
    "    titleFontSize=15).interactive()"
   ]
  },
  {
   "cell_type": "markdown",
   "metadata": {},
   "source": [
    "The uncorrected data is plotted above in black, and the corrected data is plotted in red. The uncorrected, or raw data, appears softer (lower force achieves the same displacement value) than the pure reaction of the cell because the sensor is also compliant. The corrected data subtracts out this sensor compliance.\n",
    "\n",
    "Let's construct a loop to correct all data sets."
   ]
  },
  {
   "cell_type": "code",
   "execution_count": 9,
   "metadata": {},
   "outputs": [],
   "source": [
    "i=0\n",
    "for fileName in df_sample['fileName'].unique():\n",
    "    df = df_sample[df_sample['fileName']==fileName].reset_index(drop=True)\n",
    "    \n",
    "    # calculate corrected displacement\n",
    "    Z = df['Displacement (um)']\n",
    "    F = df['Force A (uN)']\n",
    "    Zcorr = Z-F/kref\n",
    "    \n",
    "    # save results in dataframe\n",
    "    df_sample.loc[df_sample['fileName']==fileName,'Corrected Displacement (um)'] = Zcorr"
   ]
  },
  {
   "cell_type": "markdown",
   "metadata": {},
   "source": [
    "Now I'll plot all of the corrected data, separated by treatment."
   ]
  },
  {
   "cell_type": "code",
   "execution_count": 10,
   "metadata": {},
   "outputs": [
    {
     "data": {
      "text/html": [
       "\n",
       "<div id=\"altair-viz-7f3fd6a39b2c4454956523abc9015b86\"></div>\n",
       "<script type=\"text/javascript\">\n",
       "  (function(spec, embedOpt){\n",
       "    let outputDiv = document.currentScript.previousElementSibling;\n",
       "    if (outputDiv.id !== \"altair-viz-7f3fd6a39b2c4454956523abc9015b86\") {\n",
       "      outputDiv = document.getElementById(\"altair-viz-7f3fd6a39b2c4454956523abc9015b86\");\n",
       "    }\n",
       "    const paths = {\n",
       "      \"vega\": \"https://cdn.jsdelivr.net/npm//vega@5?noext\",\n",
       "      \"vega-lib\": \"https://cdn.jsdelivr.net/npm//vega-lib?noext\",\n",
       "      \"vega-lite\": \"https://cdn.jsdelivr.net/npm//vega-lite@4.8.1?noext\",\n",
       "      \"vega-embed\": \"https://cdn.jsdelivr.net/npm//vega-embed@6?noext\",\n",
       "    };\n",
       "\n",
       "    function loadScript(lib) {\n",
       "      return new Promise(function(resolve, reject) {\n",
       "        var s = document.createElement('script');\n",
       "        s.src = paths[lib];\n",
       "        s.async = true;\n",
       "        s.onload = () => resolve(paths[lib]);\n",
       "        s.onerror = () => reject(`Error loading script: ${paths[lib]}`);\n",
       "        document.getElementsByTagName(\"head\")[0].appendChild(s);\n",
       "      });\n",
       "    }\n",
       "\n",
       "    function showError(err) {\n",
       "      outputDiv.innerHTML = `<div class=\"error\" style=\"color:red;\">${err}</div>`;\n",
       "      throw err;\n",
       "    }\n",
       "\n",
       "    function displayChart(vegaEmbed) {\n",
       "      vegaEmbed(outputDiv, spec, embedOpt)\n",
       "        .catch(err => showError(`Javascript Error: ${err.message}<br>This usually means there's a typo in your chart specification. See the javascript console for the full traceback.`));\n",
       "    }\n",
       "\n",
       "    if(typeof define === \"function\" && define.amd) {\n",
       "      requirejs.config({paths});\n",
       "      require([\"vega-embed\"], displayChart, err => showError(`Error loading script: ${err.message}`));\n",
       "    } else if (typeof vegaEmbed === \"function\") {\n",
       "      displayChart(vegaEmbed);\n",
       "    } else {\n",
       "      loadScript(\"vega\")\n",
       "        .then(() => loadScript(\"vega-lite\"))\n",
       "        .then(() => loadScript(\"vega-embed\"))\n",
       "        .catch(showError)\n",
       "        .then(() => displayChart(vegaEmbed));\n",
       "    }\n",
       "  })({\"config\": {\"view\": {\"continuousWidth\": 400, \"continuousHeight\": 300}, \"axis\": {\"grid\": true, \"labelFontSize\": 15, \"titleFontSize\": 15}}, \"data\": {\"url\": \"http://localhost:17156/fac1e83c2bb27199a4f1d0f830e6fa5a.json\"}, \"mark\": \"square\", \"encoding\": {\"color\": {\"type\": \"nominal\", \"field\": \"fileName\"}, \"x\": {\"type\": \"quantitative\", \"field\": \"Corrected Displacement (um)\"}, \"y\": {\"type\": \"quantitative\", \"field\": \"Force A (uN)\"}}, \"selection\": {\"selector002\": {\"type\": \"interval\", \"bind\": \"scales\", \"encodings\": [\"x\", \"y\"]}}, \"$schema\": \"https://vega.github.io/schema/vega-lite/v4.8.1.json\"}, {\"mode\": \"vega-lite\"});\n",
       "</script>"
      ],
      "text/plain": [
       "alt.Chart(...)"
      ]
     },
     "execution_count": 10,
     "metadata": {},
     "output_type": "execute_result"
    }
   ],
   "source": [
    "# Data from turgid cells in C2 (growth media)\n",
    "alt.Chart(df_sample[(~df_sample['plasmolyzed'].astype('bool'))&(df_sample['treatment']=='C2')]).mark_square().encode(\n",
    "    x='Corrected Displacement (um)',\n",
    "    y='Force A (uN)',\n",
    "    color = 'fileName:N'\n",
    ").configure_axis(grid=True,\n",
    "    labelFontSize=15,\n",
    "    titleFontSize=15).interactive()"
   ]
  },
  {
   "cell_type": "code",
   "execution_count": 11,
   "metadata": {},
   "outputs": [
    {
     "data": {
      "text/html": [
       "\n",
       "<div id=\"altair-viz-204ec853d8f34e77b4271acbe2392e5a\"></div>\n",
       "<script type=\"text/javascript\">\n",
       "  (function(spec, embedOpt){\n",
       "    let outputDiv = document.currentScript.previousElementSibling;\n",
       "    if (outputDiv.id !== \"altair-viz-204ec853d8f34e77b4271acbe2392e5a\") {\n",
       "      outputDiv = document.getElementById(\"altair-viz-204ec853d8f34e77b4271acbe2392e5a\");\n",
       "    }\n",
       "    const paths = {\n",
       "      \"vega\": \"https://cdn.jsdelivr.net/npm//vega@5?noext\",\n",
       "      \"vega-lib\": \"https://cdn.jsdelivr.net/npm//vega-lib?noext\",\n",
       "      \"vega-lite\": \"https://cdn.jsdelivr.net/npm//vega-lite@4.8.1?noext\",\n",
       "      \"vega-embed\": \"https://cdn.jsdelivr.net/npm//vega-embed@6?noext\",\n",
       "    };\n",
       "\n",
       "    function loadScript(lib) {\n",
       "      return new Promise(function(resolve, reject) {\n",
       "        var s = document.createElement('script');\n",
       "        s.src = paths[lib];\n",
       "        s.async = true;\n",
       "        s.onload = () => resolve(paths[lib]);\n",
       "        s.onerror = () => reject(`Error loading script: ${paths[lib]}`);\n",
       "        document.getElementsByTagName(\"head\")[0].appendChild(s);\n",
       "      });\n",
       "    }\n",
       "\n",
       "    function showError(err) {\n",
       "      outputDiv.innerHTML = `<div class=\"error\" style=\"color:red;\">${err}</div>`;\n",
       "      throw err;\n",
       "    }\n",
       "\n",
       "    function displayChart(vegaEmbed) {\n",
       "      vegaEmbed(outputDiv, spec, embedOpt)\n",
       "        .catch(err => showError(`Javascript Error: ${err.message}<br>This usually means there's a typo in your chart specification. See the javascript console for the full traceback.`));\n",
       "    }\n",
       "\n",
       "    if(typeof define === \"function\" && define.amd) {\n",
       "      requirejs.config({paths});\n",
       "      require([\"vega-embed\"], displayChart, err => showError(`Error loading script: ${err.message}`));\n",
       "    } else if (typeof vegaEmbed === \"function\") {\n",
       "      displayChart(vegaEmbed);\n",
       "    } else {\n",
       "      loadScript(\"vega\")\n",
       "        .then(() => loadScript(\"vega-lite\"))\n",
       "        .then(() => loadScript(\"vega-embed\"))\n",
       "        .catch(showError)\n",
       "        .then(() => displayChart(vegaEmbed));\n",
       "    }\n",
       "  })({\"config\": {\"view\": {\"continuousWidth\": 400, \"continuousHeight\": 300}, \"axis\": {\"grid\": true, \"labelFontSize\": 15, \"titleFontSize\": 15}}, \"data\": {\"url\": \"http://localhost:17156/281d1ed54b94665fedfacc9631fdef07.json\"}, \"mark\": \"square\", \"encoding\": {\"color\": {\"type\": \"nominal\", \"field\": \"fileName\"}, \"x\": {\"type\": \"quantitative\", \"field\": \"Corrected Displacement (um)\"}, \"y\": {\"type\": \"quantitative\", \"field\": \"Force A (uN)\"}}, \"selection\": {\"selector003\": {\"type\": \"interval\", \"bind\": \"scales\", \"encodings\": [\"x\", \"y\"]}}, \"$schema\": \"https://vega.github.io/schema/vega-lite/v4.8.1.json\"}, {\"mode\": \"vega-lite\"});\n",
       "</script>"
      ],
      "text/plain": [
       "alt.Chart(...)"
      ]
     },
     "execution_count": 11,
     "metadata": {},
     "output_type": "execute_result"
    }
   ],
   "source": [
    "# Data from turgid cells in LatB (removes AFs)\n",
    "alt.Chart(df_sample[(~df_sample['plasmolyzed'].astype('bool'))&(df_sample['treatment']=='LatB')]).mark_square().encode(\n",
    "    x='Corrected Displacement (um)',\n",
    "    y='Force A (uN)',\n",
    "    color = 'fileName:N'\n",
    ").configure_axis(grid=True,\n",
    "    labelFontSize=15,\n",
    "    titleFontSize=15).interactive()"
   ]
  },
  {
   "cell_type": "code",
   "execution_count": 12,
   "metadata": {},
   "outputs": [
    {
     "data": {
      "text/html": [
       "\n",
       "<div id=\"altair-viz-019eec16dc5743daad07675611f03d31\"></div>\n",
       "<script type=\"text/javascript\">\n",
       "  (function(spec, embedOpt){\n",
       "    let outputDiv = document.currentScript.previousElementSibling;\n",
       "    if (outputDiv.id !== \"altair-viz-019eec16dc5743daad07675611f03d31\") {\n",
       "      outputDiv = document.getElementById(\"altair-viz-019eec16dc5743daad07675611f03d31\");\n",
       "    }\n",
       "    const paths = {\n",
       "      \"vega\": \"https://cdn.jsdelivr.net/npm//vega@5?noext\",\n",
       "      \"vega-lib\": \"https://cdn.jsdelivr.net/npm//vega-lib?noext\",\n",
       "      \"vega-lite\": \"https://cdn.jsdelivr.net/npm//vega-lite@4.8.1?noext\",\n",
       "      \"vega-embed\": \"https://cdn.jsdelivr.net/npm//vega-embed@6?noext\",\n",
       "    };\n",
       "\n",
       "    function loadScript(lib) {\n",
       "      return new Promise(function(resolve, reject) {\n",
       "        var s = document.createElement('script');\n",
       "        s.src = paths[lib];\n",
       "        s.async = true;\n",
       "        s.onload = () => resolve(paths[lib]);\n",
       "        s.onerror = () => reject(`Error loading script: ${paths[lib]}`);\n",
       "        document.getElementsByTagName(\"head\")[0].appendChild(s);\n",
       "      });\n",
       "    }\n",
       "\n",
       "    function showError(err) {\n",
       "      outputDiv.innerHTML = `<div class=\"error\" style=\"color:red;\">${err}</div>`;\n",
       "      throw err;\n",
       "    }\n",
       "\n",
       "    function displayChart(vegaEmbed) {\n",
       "      vegaEmbed(outputDiv, spec, embedOpt)\n",
       "        .catch(err => showError(`Javascript Error: ${err.message}<br>This usually means there's a typo in your chart specification. See the javascript console for the full traceback.`));\n",
       "    }\n",
       "\n",
       "    if(typeof define === \"function\" && define.amd) {\n",
       "      requirejs.config({paths});\n",
       "      require([\"vega-embed\"], displayChart, err => showError(`Error loading script: ${err.message}`));\n",
       "    } else if (typeof vegaEmbed === \"function\") {\n",
       "      displayChart(vegaEmbed);\n",
       "    } else {\n",
       "      loadScript(\"vega\")\n",
       "        .then(() => loadScript(\"vega-lite\"))\n",
       "        .then(() => loadScript(\"vega-embed\"))\n",
       "        .catch(showError)\n",
       "        .then(() => displayChart(vegaEmbed));\n",
       "    }\n",
       "  })({\"config\": {\"view\": {\"continuousWidth\": 400, \"continuousHeight\": 300}, \"axis\": {\"grid\": true, \"labelFontSize\": 15, \"titleFontSize\": 15}}, \"data\": {\"url\": \"http://localhost:17156/8818fff684416b551e97e7a5a06669ae.json\"}, \"mark\": \"square\", \"encoding\": {\"color\": {\"type\": \"nominal\", \"field\": \"fileName\"}, \"x\": {\"type\": \"quantitative\", \"field\": \"Corrected Displacement (um)\"}, \"y\": {\"type\": \"quantitative\", \"field\": \"Force A (uN)\"}}, \"selection\": {\"selector004\": {\"type\": \"interval\", \"bind\": \"scales\", \"encodings\": [\"x\", \"y\"]}}, \"$schema\": \"https://vega.github.io/schema/vega-lite/v4.8.1.json\"}, {\"mode\": \"vega-lite\"});\n",
       "</script>"
      ],
      "text/plain": [
       "alt.Chart(...)"
      ]
     },
     "execution_count": 12,
     "metadata": {},
     "output_type": "execute_result"
    }
   ],
   "source": [
    "# Data from turgid cells in oryzalin (removes MTs)\n",
    "alt.Chart(df_sample[(~df_sample['plasmolyzed'].astype('bool'))&(df_sample['treatment']=='oryzalin')]).mark_square().encode(\n",
    "    x='Corrected Displacement (um)',\n",
    "    y='Force A (uN)',\n",
    "    color = 'fileName:N'\n",
    ").configure_axis(grid=True,\n",
    "    labelFontSize=15,\n",
    "    titleFontSize=15).interactive()"
   ]
  },
  {
   "cell_type": "code",
   "execution_count": 13,
   "metadata": {},
   "outputs": [
    {
     "data": {
      "text/html": [
       "\n",
       "<div id=\"altair-viz-7e5f19bebcf548e1a154466394e8aebc\"></div>\n",
       "<script type=\"text/javascript\">\n",
       "  (function(spec, embedOpt){\n",
       "    let outputDiv = document.currentScript.previousElementSibling;\n",
       "    if (outputDiv.id !== \"altair-viz-7e5f19bebcf548e1a154466394e8aebc\") {\n",
       "      outputDiv = document.getElementById(\"altair-viz-7e5f19bebcf548e1a154466394e8aebc\");\n",
       "    }\n",
       "    const paths = {\n",
       "      \"vega\": \"https://cdn.jsdelivr.net/npm//vega@5?noext\",\n",
       "      \"vega-lib\": \"https://cdn.jsdelivr.net/npm//vega-lib?noext\",\n",
       "      \"vega-lite\": \"https://cdn.jsdelivr.net/npm//vega-lite@4.8.1?noext\",\n",
       "      \"vega-embed\": \"https://cdn.jsdelivr.net/npm//vega-embed@6?noext\",\n",
       "    };\n",
       "\n",
       "    function loadScript(lib) {\n",
       "      return new Promise(function(resolve, reject) {\n",
       "        var s = document.createElement('script');\n",
       "        s.src = paths[lib];\n",
       "        s.async = true;\n",
       "        s.onload = () => resolve(paths[lib]);\n",
       "        s.onerror = () => reject(`Error loading script: ${paths[lib]}`);\n",
       "        document.getElementsByTagName(\"head\")[0].appendChild(s);\n",
       "      });\n",
       "    }\n",
       "\n",
       "    function showError(err) {\n",
       "      outputDiv.innerHTML = `<div class=\"error\" style=\"color:red;\">${err}</div>`;\n",
       "      throw err;\n",
       "    }\n",
       "\n",
       "    function displayChart(vegaEmbed) {\n",
       "      vegaEmbed(outputDiv, spec, embedOpt)\n",
       "        .catch(err => showError(`Javascript Error: ${err.message}<br>This usually means there's a typo in your chart specification. See the javascript console for the full traceback.`));\n",
       "    }\n",
       "\n",
       "    if(typeof define === \"function\" && define.amd) {\n",
       "      requirejs.config({paths});\n",
       "      require([\"vega-embed\"], displayChart, err => showError(`Error loading script: ${err.message}`));\n",
       "    } else if (typeof vegaEmbed === \"function\") {\n",
       "      displayChart(vegaEmbed);\n",
       "    } else {\n",
       "      loadScript(\"vega\")\n",
       "        .then(() => loadScript(\"vega-lite\"))\n",
       "        .then(() => loadScript(\"vega-embed\"))\n",
       "        .catch(showError)\n",
       "        .then(() => displayChart(vegaEmbed));\n",
       "    }\n",
       "  })({\"config\": {\"view\": {\"continuousWidth\": 400, \"continuousHeight\": 300}, \"axis\": {\"grid\": true, \"labelFontSize\": 15, \"titleFontSize\": 15}}, \"data\": {\"url\": \"http://localhost:17156/36ede7a409ba5402972f4b2d3d4e5d97.json\"}, \"mark\": \"square\", \"encoding\": {\"color\": {\"type\": \"nominal\", \"field\": \"fileName\"}, \"x\": {\"type\": \"quantitative\", \"field\": \"Corrected Displacement (um)\"}, \"y\": {\"type\": \"quantitative\", \"field\": \"Force A (uN)\"}}, \"selection\": {\"selector005\": {\"type\": \"interval\", \"bind\": \"scales\", \"encodings\": [\"x\", \"y\"]}}, \"$schema\": \"https://vega.github.io/schema/vega-lite/v4.8.1.json\"}, {\"mode\": \"vega-lite\"});\n",
       "</script>"
      ],
      "text/plain": [
       "alt.Chart(...)"
      ]
     },
     "execution_count": 13,
     "metadata": {},
     "output_type": "execute_result"
    }
   ],
   "source": [
    "# Data from plasmolyzed cells in C2\n",
    "alt.Chart(df_sample[(df_sample['plasmolyzed'])&(df_sample['treatment']=='C2')]).mark_square().encode(\n",
    "    x='Corrected Displacement (um)',\n",
    "    y='Force A (uN)',\n",
    "    color = 'fileName:N'\n",
    ").configure_axis(grid=True,\n",
    "    labelFontSize=15,\n",
    "    titleFontSize=15).interactive()"
   ]
  },
  {
   "cell_type": "code",
   "execution_count": 14,
   "metadata": {},
   "outputs": [
    {
     "data": {
      "text/html": [
       "\n",
       "<div id=\"altair-viz-838d22f527004a93bd7a4cd9d69e3683\"></div>\n",
       "<script type=\"text/javascript\">\n",
       "  (function(spec, embedOpt){\n",
       "    let outputDiv = document.currentScript.previousElementSibling;\n",
       "    if (outputDiv.id !== \"altair-viz-838d22f527004a93bd7a4cd9d69e3683\") {\n",
       "      outputDiv = document.getElementById(\"altair-viz-838d22f527004a93bd7a4cd9d69e3683\");\n",
       "    }\n",
       "    const paths = {\n",
       "      \"vega\": \"https://cdn.jsdelivr.net/npm//vega@5?noext\",\n",
       "      \"vega-lib\": \"https://cdn.jsdelivr.net/npm//vega-lib?noext\",\n",
       "      \"vega-lite\": \"https://cdn.jsdelivr.net/npm//vega-lite@4.8.1?noext\",\n",
       "      \"vega-embed\": \"https://cdn.jsdelivr.net/npm//vega-embed@6?noext\",\n",
       "    };\n",
       "\n",
       "    function loadScript(lib) {\n",
       "      return new Promise(function(resolve, reject) {\n",
       "        var s = document.createElement('script');\n",
       "        s.src = paths[lib];\n",
       "        s.async = true;\n",
       "        s.onload = () => resolve(paths[lib]);\n",
       "        s.onerror = () => reject(`Error loading script: ${paths[lib]}`);\n",
       "        document.getElementsByTagName(\"head\")[0].appendChild(s);\n",
       "      });\n",
       "    }\n",
       "\n",
       "    function showError(err) {\n",
       "      outputDiv.innerHTML = `<div class=\"error\" style=\"color:red;\">${err}</div>`;\n",
       "      throw err;\n",
       "    }\n",
       "\n",
       "    function displayChart(vegaEmbed) {\n",
       "      vegaEmbed(outputDiv, spec, embedOpt)\n",
       "        .catch(err => showError(`Javascript Error: ${err.message}<br>This usually means there's a typo in your chart specification. See the javascript console for the full traceback.`));\n",
       "    }\n",
       "\n",
       "    if(typeof define === \"function\" && define.amd) {\n",
       "      requirejs.config({paths});\n",
       "      require([\"vega-embed\"], displayChart, err => showError(`Error loading script: ${err.message}`));\n",
       "    } else if (typeof vegaEmbed === \"function\") {\n",
       "      displayChart(vegaEmbed);\n",
       "    } else {\n",
       "      loadScript(\"vega\")\n",
       "        .then(() => loadScript(\"vega-lite\"))\n",
       "        .then(() => loadScript(\"vega-embed\"))\n",
       "        .catch(showError)\n",
       "        .then(() => displayChart(vegaEmbed));\n",
       "    }\n",
       "  })({\"config\": {\"view\": {\"continuousWidth\": 400, \"continuousHeight\": 300}, \"axis\": {\"grid\": true, \"labelFontSize\": 15, \"titleFontSize\": 15}}, \"data\": {\"url\": \"http://localhost:17156/dd4ef8babbb1f6b684a8da39d5a01c9b.json\"}, \"mark\": \"square\", \"encoding\": {\"color\": {\"type\": \"nominal\", \"field\": \"fileName\"}, \"x\": {\"type\": \"quantitative\", \"field\": \"Corrected Displacement (um)\"}, \"y\": {\"type\": \"quantitative\", \"field\": \"Force A (uN)\"}}, \"selection\": {\"selector006\": {\"type\": \"interval\", \"bind\": \"scales\", \"encodings\": [\"x\", \"y\"]}}, \"$schema\": \"https://vega.github.io/schema/vega-lite/v4.8.1.json\"}, {\"mode\": \"vega-lite\"});\n",
       "</script>"
      ],
      "text/plain": [
       "alt.Chart(...)"
      ]
     },
     "execution_count": 14,
     "metadata": {},
     "output_type": "execute_result"
    }
   ],
   "source": [
    "# Data from plasmolyzed cells in LatB\n",
    "alt.Chart(df_sample[(df_sample['plasmolyzed'])&(df_sample['treatment']=='LatB')]).mark_square().encode(\n",
    "    x='Corrected Displacement (um)',\n",
    "    y='Force A (uN)',\n",
    "    color = 'fileName:N'\n",
    ").configure_axis(grid=True,\n",
    "    labelFontSize=15,\n",
    "    titleFontSize=15).interactive()"
   ]
  },
  {
   "cell_type": "code",
   "execution_count": 15,
   "metadata": {},
   "outputs": [
    {
     "data": {
      "text/html": [
       "\n",
       "<div id=\"altair-viz-4773f5925f864b7c8cde71f9afe68019\"></div>\n",
       "<script type=\"text/javascript\">\n",
       "  (function(spec, embedOpt){\n",
       "    let outputDiv = document.currentScript.previousElementSibling;\n",
       "    if (outputDiv.id !== \"altair-viz-4773f5925f864b7c8cde71f9afe68019\") {\n",
       "      outputDiv = document.getElementById(\"altair-viz-4773f5925f864b7c8cde71f9afe68019\");\n",
       "    }\n",
       "    const paths = {\n",
       "      \"vega\": \"https://cdn.jsdelivr.net/npm//vega@5?noext\",\n",
       "      \"vega-lib\": \"https://cdn.jsdelivr.net/npm//vega-lib?noext\",\n",
       "      \"vega-lite\": \"https://cdn.jsdelivr.net/npm//vega-lite@4.8.1?noext\",\n",
       "      \"vega-embed\": \"https://cdn.jsdelivr.net/npm//vega-embed@6?noext\",\n",
       "    };\n",
       "\n",
       "    function loadScript(lib) {\n",
       "      return new Promise(function(resolve, reject) {\n",
       "        var s = document.createElement('script');\n",
       "        s.src = paths[lib];\n",
       "        s.async = true;\n",
       "        s.onload = () => resolve(paths[lib]);\n",
       "        s.onerror = () => reject(`Error loading script: ${paths[lib]}`);\n",
       "        document.getElementsByTagName(\"head\")[0].appendChild(s);\n",
       "      });\n",
       "    }\n",
       "\n",
       "    function showError(err) {\n",
       "      outputDiv.innerHTML = `<div class=\"error\" style=\"color:red;\">${err}</div>`;\n",
       "      throw err;\n",
       "    }\n",
       "\n",
       "    function displayChart(vegaEmbed) {\n",
       "      vegaEmbed(outputDiv, spec, embedOpt)\n",
       "        .catch(err => showError(`Javascript Error: ${err.message}<br>This usually means there's a typo in your chart specification. See the javascript console for the full traceback.`));\n",
       "    }\n",
       "\n",
       "    if(typeof define === \"function\" && define.amd) {\n",
       "      requirejs.config({paths});\n",
       "      require([\"vega-embed\"], displayChart, err => showError(`Error loading script: ${err.message}`));\n",
       "    } else if (typeof vegaEmbed === \"function\") {\n",
       "      displayChart(vegaEmbed);\n",
       "    } else {\n",
       "      loadScript(\"vega\")\n",
       "        .then(() => loadScript(\"vega-lite\"))\n",
       "        .then(() => loadScript(\"vega-embed\"))\n",
       "        .catch(showError)\n",
       "        .then(() => displayChart(vegaEmbed));\n",
       "    }\n",
       "  })({\"config\": {\"view\": {\"continuousWidth\": 400, \"continuousHeight\": 300}, \"axis\": {\"grid\": true, \"labelFontSize\": 15, \"titleFontSize\": 15}}, \"data\": {\"url\": \"http://localhost:17156/e74ea0d581bfb78f90c65190d9d27277.json\"}, \"mark\": \"square\", \"encoding\": {\"color\": {\"type\": \"nominal\", \"field\": \"fileName\"}, \"x\": {\"type\": \"quantitative\", \"field\": \"Corrected Displacement (um)\"}, \"y\": {\"type\": \"quantitative\", \"field\": \"Force A (uN)\"}}, \"selection\": {\"selector007\": {\"type\": \"interval\", \"bind\": \"scales\", \"encodings\": [\"x\", \"y\"]}}, \"$schema\": \"https://vega.github.io/schema/vega-lite/v4.8.1.json\"}, {\"mode\": \"vega-lite\"});\n",
       "</script>"
      ],
      "text/plain": [
       "alt.Chart(...)"
      ]
     },
     "execution_count": 15,
     "metadata": {},
     "output_type": "execute_result"
    }
   ],
   "source": [
    "# Data from plasmolyzed cells in oryzalin\n",
    "alt.Chart(df_sample[(df_sample['plasmolyzed'])&(df_sample['treatment']=='oryzalin')]).mark_square().encode(\n",
    "    x='Corrected Displacement (um)',\n",
    "    y='Force A (uN)',\n",
    "    color = 'fileName:N'\n",
    ").configure_axis(grid=True,\n",
    "    labelFontSize=15,\n",
    "    titleFontSize=15).interactive()"
   ]
  },
  {
   "cell_type": "markdown",
   "metadata": {},
   "source": [
    "Notice that plasmolyzed cells generally have a sharper upturn in force-displacement than turgid cells, and less area between the indentation and retraction curves. The area between the curves corresponds to energy dissipated by the cells during compression, and turgid cells dissipate a much more significant amount of energy than plasmolyzed cells.\n",
    "\n",
    "Finally, let's print the corrected data to new csv files so that we can use the corrected data easily in the .ipynb file for finding the contact point."
   ]
  },
  {
   "cell_type": "code",
   "execution_count": 16,
   "metadata": {},
   "outputs": [],
   "source": [
    "for fileName in df_sample['fileName'].unique():\n",
    "    df = df_sample[df_sample['fileName']==fileName].reset_index(drop=True)\n",
    "    df.to_csv(fileName+'_corr', sep='\\t')"
   ]
  },
  {
   "cell_type": "markdown",
   "metadata": {
    "tags": []
   },
   "source": [
    "## Computing Environment"
   ]
  },
  {
   "cell_type": "code",
   "execution_count": 17,
   "metadata": {},
   "outputs": [],
   "source": [
    "%load_ext watermark"
   ]
  },
  {
   "cell_type": "code",
   "execution_count": 18,
   "metadata": {},
   "outputs": [
    {
     "name": "stdout",
     "output_type": "stream",
     "text": [
      "Python implementation: CPython\n",
      "Python version       : 3.8.12\n",
      "IPython version      : 7.29.0\n",
      "\n",
      "numpy     : 1.21.2\n",
      "pandas    : 1.3.4\n",
      "altair    : 4.1.0\n",
      "jupyterlab: 3.2.1\n",
      "\n"
     ]
    }
   ],
   "source": [
    "%watermark -v -p numpy,pandas,altair,jupyterlab"
   ]
  },
  {
   "cell_type": "markdown",
   "metadata": {},
   "source": [
    "*Portions of these instructions were adapted from tutorials originally created [Professor Justin Bois](http://bois.caltech.edu/) at [Caltech](http://www.caltech.edu) for his excellent course in [Data Analysis in the Biological Sciences](http://bebi103.caltech.edu.s3-website-us-east-1.amazonaws.com/2018/index.html).* "
   ]
  }
 ],
 "metadata": {
  "kernelspec": {
   "display_name": "Python 3 (ipykernel)",
   "language": "python",
   "name": "python3"
  },
  "language_info": {
   "codemirror_mode": {
    "name": "ipython",
    "version": 3
   },
   "file_extension": ".py",
   "mimetype": "text/x-python",
   "name": "python",
   "nbconvert_exporter": "python",
   "pygments_lexer": "ipython3",
   "version": "3.8.12"
  }
 },
 "nbformat": 4,
 "nbformat_minor": 4
}
