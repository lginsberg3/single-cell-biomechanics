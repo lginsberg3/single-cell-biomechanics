{
 "cells": [
  {
   "cell_type": "markdown",
   "metadata": {},
   "source": [
    "# Analysis of AFM test on turgid and plasmolyzed BY2 cells\n",
    "\n",
    "## Last Updated: January 23, 2020\n",
    "\n",
    "This document was prepared by Leah Ginsberg, a member of the [Ravichandran Research Group](https://www.ravi.caltech.edu/) at [Caltech](http://www.caltech.edu) in collaboration with [Professor Eleftheria Roumeli](https://sites.google.com/uw.edu/roumeli-research-group/) from [University of Washington](https://www.washington.edu/). "
   ]
  },
  {
   "cell_type": "code",
   "execution_count": 1,
   "metadata": {},
   "outputs": [
    {
     "data": {
      "text/plain": [
       "DataTransformerRegistry.enable('data_server')"
      ]
     },
     "execution_count": 1,
     "metadata": {},
     "output_type": "execute_result"
    }
   ],
   "source": [
    "import numpy as np               # general math operations\n",
    "import pandas as pd              # pandas dataframes\n",
    "import os                        # for opening .csv files in different folders\n",
    "import altair as alt             # pretty plotting\n",
    "import altair_catplot as altcat  # pretty box & whisker plots\n",
    "from scipy import signal, stats, fftpack  # filtering and statistics\n",
    "import matplotlib.pyplot as plt  # plotting histogram\n",
    "\n",
    "alt.data_transformers.enable('data_server') # converts data to json for handling large data sets"
   ]
  },
  {
   "cell_type": "code",
   "execution_count": 2,
   "metadata": {},
   "outputs": [
    {
     "data": {
      "text/html": [
       "<div>\n",
       "<style scoped>\n",
       "    .dataframe tbody tr th:only-of-type {\n",
       "        vertical-align: middle;\n",
       "    }\n",
       "\n",
       "    .dataframe tbody tr th {\n",
       "        vertical-align: top;\n",
       "    }\n",
       "\n",
       "    .dataframe thead th {\n",
       "        text-align: right;\n",
       "    }\n",
       "</style>\n",
       "<table border=\"1\" class=\"dataframe\">\n",
       "  <thead>\n",
       "    <tr style=\"text-align: right;\">\n",
       "      <th></th>\n",
       "      <th>Media</th>\n",
       "      <th>E (MPa)</th>\n",
       "      <th>Indentation</th>\n",
       "      <th>Force</th>\n",
       "      <th>Spring Constant</th>\n",
       "      <th>Linear Fit (b, ax)</th>\n",
       "    </tr>\n",
       "  </thead>\n",
       "  <tbody>\n",
       "    <tr>\n",
       "      <th>0</th>\n",
       "      <td>Di Water</td>\n",
       "      <td>1.41</td>\n",
       "      <td>80.09</td>\n",
       "      <td>33.72</td>\n",
       "      <td>15.21 nN/nm</td>\n",
       "      <td>-2.5429e-012,0.30987</td>\n",
       "    </tr>\n",
       "    <tr>\n",
       "      <th>1</th>\n",
       "      <td>Di Water</td>\n",
       "      <td>1.31</td>\n",
       "      <td>82.49</td>\n",
       "      <td>33.82</td>\n",
       "      <td>15.21 nN/nm</td>\n",
       "      <td>-5.7893e-010,0.36601</td>\n",
       "    </tr>\n",
       "    <tr>\n",
       "      <th>2</th>\n",
       "      <td>Di Water</td>\n",
       "      <td>1.80</td>\n",
       "      <td>47.30</td>\n",
       "      <td>61.34</td>\n",
       "      <td>15.21 nN/nm</td>\n",
       "      <td>-5.6686e-010,0.67858</td>\n",
       "    </tr>\n",
       "    <tr>\n",
       "      <th>3</th>\n",
       "      <td>Di Water</td>\n",
       "      <td>2.55</td>\n",
       "      <td>77.36</td>\n",
       "      <td>35.29</td>\n",
       "      <td>15.21 nN/nm</td>\n",
       "      <td>-3.4613e-009,0.28384</td>\n",
       "    </tr>\n",
       "    <tr>\n",
       "      <th>4</th>\n",
       "      <td>Di Water</td>\n",
       "      <td>3.34</td>\n",
       "      <td>35.04</td>\n",
       "      <td>49.50</td>\n",
       "      <td>15.21 nN/nm</td>\n",
       "      <td>1.5904e-009,0.29944</td>\n",
       "    </tr>\n",
       "  </tbody>\n",
       "</table>\n",
       "</div>"
      ],
      "text/plain": [
       "      Media  E (MPa)  Indentation  Force Spring Constant    Linear Fit (b, ax)\n",
       "0  Di Water     1.41        80.09  33.72     15.21 nN/nm  -2.5429e-012,0.30987\n",
       "1  Di Water     1.31        82.49  33.82     15.21 nN/nm  -5.7893e-010,0.36601\n",
       "2  Di Water     1.80        47.30  61.34     15.21 nN/nm  -5.6686e-010,0.67858\n",
       "3  Di Water     2.55        77.36  35.29     15.21 nN/nm  -3.4613e-009,0.28384\n",
       "4  Di Water     3.34        35.04  49.50     15.21 nN/nm   1.5904e-009,0.29944"
      ]
     },
     "execution_count": 2,
     "metadata": {},
     "output_type": "execute_result"
    }
   ],
   "source": [
    "df=pd.read_csv('AFM_results.csv',usecols=[0,1,2,3,4,5])\n",
    "df.head()"
   ]
  },
  {
   "cell_type": "code",
   "execution_count": 3,
   "metadata": {},
   "outputs": [
    {
     "data": {
      "text/html": [
       "<div>\n",
       "<style scoped>\n",
       "    .dataframe tbody tr th:only-of-type {\n",
       "        vertical-align: middle;\n",
       "    }\n",
       "\n",
       "    .dataframe tbody tr th {\n",
       "        vertical-align: top;\n",
       "    }\n",
       "\n",
       "    .dataframe thead tr th {\n",
       "        text-align: left;\n",
       "    }\n",
       "\n",
       "    .dataframe thead tr:last-of-type th {\n",
       "        text-align: right;\n",
       "    }\n",
       "</style>\n",
       "<table border=\"1\" class=\"dataframe\">\n",
       "  <thead>\n",
       "    <tr>\n",
       "      <th></th>\n",
       "      <th colspan=\"8\" halign=\"left\">E (MPa)</th>\n",
       "    </tr>\n",
       "    <tr>\n",
       "      <th></th>\n",
       "      <th>count</th>\n",
       "      <th>mean</th>\n",
       "      <th>std</th>\n",
       "      <th>min</th>\n",
       "      <th>25%</th>\n",
       "      <th>50%</th>\n",
       "      <th>75%</th>\n",
       "      <th>max</th>\n",
       "    </tr>\n",
       "    <tr>\n",
       "      <th>Media</th>\n",
       "      <th></th>\n",
       "      <th></th>\n",
       "      <th></th>\n",
       "      <th></th>\n",
       "      <th></th>\n",
       "      <th></th>\n",
       "      <th></th>\n",
       "      <th></th>\n",
       "    </tr>\n",
       "  </thead>\n",
       "  <tbody>\n",
       "    <tr>\n",
       "      <th>Di Water</th>\n",
       "      <td>34.0</td>\n",
       "      <td>5.273965</td>\n",
       "      <td>3.842958</td>\n",
       "      <td>0.92482</td>\n",
       "      <td>1.805000</td>\n",
       "      <td>3.045000</td>\n",
       "      <td>8.50500</td>\n",
       "      <td>13.79000</td>\n",
       "    </tr>\n",
       "    <tr>\n",
       "      <th>Growth Media</th>\n",
       "      <td>9.0</td>\n",
       "      <td>6.296667</td>\n",
       "      <td>3.203326</td>\n",
       "      <td>1.27000</td>\n",
       "      <td>5.830000</td>\n",
       "      <td>6.650000</td>\n",
       "      <td>8.25000</td>\n",
       "      <td>10.84000</td>\n",
       "    </tr>\n",
       "    <tr>\n",
       "      <th>LatB/C2</th>\n",
       "      <td>38.0</td>\n",
       "      <td>2.188742</td>\n",
       "      <td>0.695630</td>\n",
       "      <td>0.71219</td>\n",
       "      <td>1.780000</td>\n",
       "      <td>2.230000</td>\n",
       "      <td>2.49250</td>\n",
       "      <td>3.50000</td>\n",
       "    </tr>\n",
       "    <tr>\n",
       "      <th>LatB/sorbitol</th>\n",
       "      <td>21.0</td>\n",
       "      <td>0.131962</td>\n",
       "      <td>0.060154</td>\n",
       "      <td>0.02700</td>\n",
       "      <td>0.100420</td>\n",
       "      <td>0.118580</td>\n",
       "      <td>0.17753</td>\n",
       "      <td>0.24151</td>\n",
       "    </tr>\n",
       "    <tr>\n",
       "      <th>oryzalin/C2</th>\n",
       "      <td>31.0</td>\n",
       "      <td>4.175058</td>\n",
       "      <td>3.414976</td>\n",
       "      <td>0.64663</td>\n",
       "      <td>1.545000</td>\n",
       "      <td>4.260000</td>\n",
       "      <td>5.92500</td>\n",
       "      <td>15.22000</td>\n",
       "    </tr>\n",
       "    <tr>\n",
       "      <th>oryzalin/sorbitol</th>\n",
       "      <td>18.0</td>\n",
       "      <td>0.295916</td>\n",
       "      <td>0.121740</td>\n",
       "      <td>0.09736</td>\n",
       "      <td>0.181290</td>\n",
       "      <td>0.319750</td>\n",
       "      <td>0.41575</td>\n",
       "      <td>0.44214</td>\n",
       "    </tr>\n",
       "    <tr>\n",
       "      <th>sorbitol</th>\n",
       "      <td>22.0</td>\n",
       "      <td>0.274655</td>\n",
       "      <td>0.116644</td>\n",
       "      <td>0.10247</td>\n",
       "      <td>0.173157</td>\n",
       "      <td>0.257855</td>\n",
       "      <td>0.36930</td>\n",
       "      <td>0.49153</td>\n",
       "    </tr>\n",
       "  </tbody>\n",
       "</table>\n",
       "</div>"
      ],
      "text/plain": [
       "                  E (MPa)                                                   \\\n",
       "                    count      mean       std      min       25%       50%   \n",
       "Media                                                                        \n",
       "Di Water             34.0  5.273965  3.842958  0.92482  1.805000  3.045000   \n",
       "Growth Media          9.0  6.296667  3.203326  1.27000  5.830000  6.650000   \n",
       "LatB/C2              38.0  2.188742  0.695630  0.71219  1.780000  2.230000   \n",
       "LatB/sorbitol        21.0  0.131962  0.060154  0.02700  0.100420  0.118580   \n",
       "oryzalin/C2          31.0  4.175058  3.414976  0.64663  1.545000  4.260000   \n",
       "oryzalin/sorbitol    18.0  0.295916  0.121740  0.09736  0.181290  0.319750   \n",
       "sorbitol             22.0  0.274655  0.116644  0.10247  0.173157  0.257855   \n",
       "\n",
       "                                      \n",
       "                       75%       max  \n",
       "Media                                 \n",
       "Di Water           8.50500  13.79000  \n",
       "Growth Media       8.25000  10.84000  \n",
       "LatB/C2            2.49250   3.50000  \n",
       "LatB/sorbitol      0.17753   0.24151  \n",
       "oryzalin/C2        5.92500  15.22000  \n",
       "oryzalin/sorbitol  0.41575   0.44214  \n",
       "sorbitol           0.36930   0.49153  "
      ]
     },
     "execution_count": 3,
     "metadata": {},
     "output_type": "execute_result"
    }
   ],
   "source": [
    "# report summary statistics\n",
    "sumstats = df[['Media','E (MPa)']].groupby('Media').describe()\n",
    "sumstats"
   ]
  },
  {
   "cell_type": "code",
   "execution_count": 4,
   "metadata": {},
   "outputs": [
    {
     "data": {
      "text/plain": [
       "0.10247"
      ]
     },
     "execution_count": 4,
     "metadata": {},
     "output_type": "execute_result"
    }
   ],
   "source": [
    "min(df[df['Media']=='sorbitol']['E (MPa)'])"
   ]
  },
  {
   "cell_type": "code",
   "execution_count": 5,
   "metadata": {},
   "outputs": [
    {
     "data": {
      "text/plain": [
       "0.027000000000000003"
      ]
     },
     "execution_count": 5,
     "metadata": {},
     "output_type": "execute_result"
    }
   ],
   "source": [
    "min(df[df['Media']=='LatB/sorbitol']['E (MPa)'])"
   ]
  },
  {
   "cell_type": "code",
   "execution_count": 6,
   "metadata": {},
   "outputs": [
    {
     "data": {
      "text/plain": [
       "0.09736"
      ]
     },
     "execution_count": 6,
     "metadata": {},
     "output_type": "execute_result"
    }
   ],
   "source": [
    "min(df[df['Media']=='oryzalin/sorbitol']['E (MPa)'])"
   ]
  },
  {
   "cell_type": "code",
   "execution_count": 7,
   "metadata": {},
   "outputs": [
    {
     "data": {
      "text/plain": [
       "(1.0677753333333333,\n",
       " 0.6133477958941876,\n",
       " 0.11284608718119235,\n",
       " 0.05855664275065018,\n",
       " 0.0286943931805501,\n",
       " 0.028796469231322026)"
      ]
     },
     "execution_count": 7,
     "metadata": {},
     "output_type": "execute_result"
    }
   ],
   "source": [
    "SE_GM = 3.203326/np.sqrt(9)\n",
    "SE_GMMT = 3.414976/np.sqrt(31)\n",
    "SE_GMAF = 0.695630/np.sqrt(38)\n",
    "SE_PS = 0.274655/np.sqrt(22)\n",
    "SE_PSMT = 0.121740/np.sqrt(18)\n",
    "SE_PSAF = 0.131962/np.sqrt(21)\n",
    "SE_GM, SE_GMMT, SE_GMAF, SE_PS, SE_PSMT, SE_PSAF"
   ]
  },
  {
   "cell_type": "markdown",
   "metadata": {},
   "source": [
    "## YM analysis"
   ]
  },
  {
   "cell_type": "code",
   "execution_count": 8,
   "metadata": {},
   "outputs": [
    {
     "data": {
      "text/html": [
       "\n",
       "<div id=\"altair-viz-bb5cf4983dfd451a9c9745bfdebb4a79\"></div>\n",
       "<script type=\"text/javascript\">\n",
       "  (function(spec, embedOpt){\n",
       "    let outputDiv = document.currentScript.previousElementSibling;\n",
       "    if (outputDiv.id !== \"altair-viz-bb5cf4983dfd451a9c9745bfdebb4a79\") {\n",
       "      outputDiv = document.getElementById(\"altair-viz-bb5cf4983dfd451a9c9745bfdebb4a79\");\n",
       "    }\n",
       "    const paths = {\n",
       "      \"vega\": \"https://cdn.jsdelivr.net/npm//vega@5?noext\",\n",
       "      \"vega-lib\": \"https://cdn.jsdelivr.net/npm//vega-lib?noext\",\n",
       "      \"vega-lite\": \"https://cdn.jsdelivr.net/npm//vega-lite@4.8.1?noext\",\n",
       "      \"vega-embed\": \"https://cdn.jsdelivr.net/npm//vega-embed@6?noext\",\n",
       "    };\n",
       "\n",
       "    function loadScript(lib) {\n",
       "      return new Promise(function(resolve, reject) {\n",
       "        var s = document.createElement('script');\n",
       "        s.src = paths[lib];\n",
       "        s.async = true;\n",
       "        s.onload = () => resolve(paths[lib]);\n",
       "        s.onerror = () => reject(`Error loading script: ${paths[lib]}`);\n",
       "        document.getElementsByTagName(\"head\")[0].appendChild(s);\n",
       "      });\n",
       "    }\n",
       "\n",
       "    function showError(err) {\n",
       "      outputDiv.innerHTML = `<div class=\"error\" style=\"color:red;\">${err}</div>`;\n",
       "      throw err;\n",
       "    }\n",
       "\n",
       "    function displayChart(vegaEmbed) {\n",
       "      vegaEmbed(outputDiv, spec, embedOpt)\n",
       "        .catch(err => showError(`Javascript Error: ${err.message}<br>This usually means there's a typo in your chart specification. See the javascript console for the full traceback.`));\n",
       "    }\n",
       "\n",
       "    if(typeof define === \"function\" && define.amd) {\n",
       "      requirejs.config({paths});\n",
       "      require([\"vega-embed\"], displayChart, err => showError(`Error loading script: ${err.message}`));\n",
       "    } else if (typeof vegaEmbed === \"function\") {\n",
       "      displayChart(vegaEmbed);\n",
       "    } else {\n",
       "      loadScript(\"vega\")\n",
       "        .then(() => loadScript(\"vega-lite\"))\n",
       "        .then(() => loadScript(\"vega-embed\"))\n",
       "        .catch(showError)\n",
       "        .then(() => displayChart(vegaEmbed));\n",
       "    }\n",
       "  })({\"config\": {\"view\": {\"continuousWidth\": 400, \"continuousHeight\": 300}, \"axis\": {\"labelFontSize\": 20, \"titleFontSize\": 20}, \"legend\": {\"labelFontSize\": 20, \"titleFontSize\": 15}, \"mark\": {\"color\": \"black\"}, \"point\": {\"size\": 100, \"strokeWidth\": 1}, \"text\": {\"fontSize\": 20, \"fontWeight\": \"bold\"}}, \"layer\": [{\"data\": {\"url\": \"http://localhost:21382/f08d8e641cf4b927d84c3f7d3a5c59bc.json\"}, \"mark\": {\"type\": \"point\", \"opacity\": 0.8}, \"encoding\": {\"fill\": {\"value\": \"red\"}, \"x\": {\"type\": \"quantitative\", \"field\": \"E (MPa)\", \"scale\": {\"zero\": false}}, \"y\": {\"type\": \"quantitative\", \"field\": \"__ECDF\", \"title\": \"ECDF\"}, \"order\": {\"type\": \"quantitative\", \"field\": \"E (MPa)\", \"sort\": \"ascending\"}}, \"height\": 350, \"width\": 450}, {\"data\": {\"url\": \"http://localhost:21382/a578f1927626f684cb3daca1bb536043.json\"}, \"mark\": {\"type\": \"point\", \"opacity\": 0.8}, \"encoding\": {\"fill\": {\"value\": \"yellow\"}, \"x\": {\"type\": \"quantitative\", \"field\": \"E (MPa)\", \"scale\": {\"zero\": false}}, \"y\": {\"type\": \"quantitative\", \"field\": \"__ECDF\", \"title\": \"ECDF\"}, \"order\": {\"type\": \"quantitative\", \"field\": \"E (MPa)\", \"sort\": \"ascending\"}}}, {\"data\": {\"url\": \"http://localhost:21382/67fa1ce3d23544b7e3222da54285612f.json\"}, \"mark\": {\"type\": \"point\", \"opacity\": 0.8}, \"encoding\": {\"fill\": {\"value\": \"orange\"}, \"x\": {\"type\": \"quantitative\", \"field\": \"E (MPa)\", \"scale\": {\"zero\": false}}, \"y\": {\"type\": \"quantitative\", \"field\": \"__ECDF\", \"title\": \"ECDF\"}, \"order\": {\"type\": \"quantitative\", \"field\": \"E (MPa)\", \"sort\": \"ascending\"}}}, {\"data\": {\"url\": \"http://localhost:21382/0aa30c6bb49ce00df531264291dfee70.json\"}, \"mark\": {\"type\": \"point\", \"opacity\": 0.8}, \"encoding\": {\"fill\": {\"value\": \"green\"}, \"x\": {\"type\": \"quantitative\", \"field\": \"E (MPa)\", \"scale\": {\"zero\": false}}, \"y\": {\"type\": \"quantitative\", \"field\": \"__ECDF\", \"title\": \"ECDF\"}, \"order\": {\"type\": \"quantitative\", \"field\": \"E (MPa)\", \"sort\": \"ascending\"}}}, {\"data\": {\"url\": \"http://localhost:21382/27cb0b7d950ebc26b69ab5c964a0e391.json\"}, \"mark\": {\"type\": \"point\", \"opacity\": 0.8}, \"encoding\": {\"fill\": {\"value\": \"blue\"}, \"x\": {\"type\": \"quantitative\", \"field\": \"E (MPa)\", \"scale\": {\"zero\": false}}, \"y\": {\"type\": \"quantitative\", \"field\": \"__ECDF\", \"title\": \"ECDF\"}, \"order\": {\"type\": \"quantitative\", \"field\": \"E (MPa)\", \"sort\": \"ascending\"}}}, {\"data\": {\"url\": \"http://localhost:21382/71449a163e58c124a58f56f8b289b6dd.json\"}, \"mark\": {\"type\": \"point\", \"opacity\": 0.8}, \"encoding\": {\"fill\": {\"value\": \"purple\"}, \"x\": {\"type\": \"quantitative\", \"field\": \"E (MPa)\", \"scale\": {\"zero\": false}}, \"y\": {\"type\": \"quantitative\", \"field\": \"__ECDF\", \"title\": \"ECDF\"}, \"order\": {\"type\": \"quantitative\", \"field\": \"E (MPa)\", \"sort\": \"ascending\"}}}], \"$schema\": \"https://vega.github.io/schema/vega-lite/v4.8.1.json\"}, {\"mode\": \"vega-lite\"});\n",
       "</script>"
      ],
      "text/plain": [
       "alt.LayerChart(...)"
      ]
     },
     "execution_count": 8,
     "metadata": {},
     "output_type": "execute_result"
    }
   ],
   "source": [
    "ECDFs = altcat.catplot(data=df[df['Media']=='Growth Media'],\n",
    "               height=350,\n",
    "               width=450, \n",
    "               mark=dict(opacity=0.8, type='point'),\n",
    "               encoding={'x': alt.X('E (MPa):Q', scale=alt.Scale(zero=False)),\n",
    "                         'fill': alt.value('red')},\n",
    "               transform='ecdf')\n",
    "ECDFs += altcat.catplot(data=df[df['Media']=='oryzalin/C2'],\n",
    "               mark=dict(opacity=0.8, type='point'),\n",
    "               encoding={'x': alt.X('E (MPa):Q', scale=alt.Scale(zero=False)),\n",
    "                         'fill': alt.value('yellow')},\n",
    "               transform='ecdf')\n",
    "ECDFs += altcat.catplot(data=df[df['Media']=='LatB/C2'],\n",
    "               mark=dict(opacity=0.8, type='point'),\n",
    "               encoding={'x': alt.X('E (MPa):Q', scale=alt.Scale(zero=False)),\n",
    "                         'fill': alt.value('orange')},\n",
    "               transform='ecdf')\n",
    "ECDFs += altcat.catplot(data=df[df['Media']=='sorbitol'],\n",
    "               mark=dict(opacity=0.8, type='point'),\n",
    "               encoding={'x': alt.X('E (MPa):Q', scale=alt.Scale(zero=False)),\n",
    "                         'fill': alt.value('green')},\n",
    "               transform='ecdf')\n",
    "ECDFs += altcat.catplot(data=df[df['Media']=='LatB/sorbitol'],\n",
    "               mark=dict(opacity=0.8, type='point'),\n",
    "               encoding={'x': alt.X('E (MPa):Q', scale=alt.Scale(zero=False)),\n",
    "                         'fill': alt.value('blue')},\n",
    "               transform='ecdf')\n",
    "ECDFs += altcat.catplot(data=df[df['Media']=='oryzalin/sorbitol'],\n",
    "               mark=dict(opacity=0.8, type='point'),\n",
    "               encoding={'x': alt.X('E (MPa):Q', scale=alt.Scale(zero=False)),\n",
    "                         'fill': alt.value('purple')},\n",
    "               transform='ecdf')\n",
    "\n",
    "ECDFs.configure_text(fontWeight='bold', fontSize=20\n",
    ").configure_legend(labelFontSize=20, titleFontSize=15\n",
    ").configure_axis(labelFontSize=20, titleFontSize=20\n",
    ").configure_mark(color='black'\n",
    ").configure_point(size=100, strokeWidth=1)"
   ]
  },
  {
   "cell_type": "code",
   "execution_count": 9,
   "metadata": {},
   "outputs": [
    {
     "data": {
      "text/html": [
       "\n",
       "<div id=\"altair-viz-64e1db234a2842a780a66913de77075d\"></div>\n",
       "<script type=\"text/javascript\">\n",
       "  (function(spec, embedOpt){\n",
       "    let outputDiv = document.currentScript.previousElementSibling;\n",
       "    if (outputDiv.id !== \"altair-viz-64e1db234a2842a780a66913de77075d\") {\n",
       "      outputDiv = document.getElementById(\"altair-viz-64e1db234a2842a780a66913de77075d\");\n",
       "    }\n",
       "    const paths = {\n",
       "      \"vega\": \"https://cdn.jsdelivr.net/npm//vega@5?noext\",\n",
       "      \"vega-lib\": \"https://cdn.jsdelivr.net/npm//vega-lib?noext\",\n",
       "      \"vega-lite\": \"https://cdn.jsdelivr.net/npm//vega-lite@4.8.1?noext\",\n",
       "      \"vega-embed\": \"https://cdn.jsdelivr.net/npm//vega-embed@6?noext\",\n",
       "    };\n",
       "\n",
       "    function loadScript(lib) {\n",
       "      return new Promise(function(resolve, reject) {\n",
       "        var s = document.createElement('script');\n",
       "        s.src = paths[lib];\n",
       "        s.async = true;\n",
       "        s.onload = () => resolve(paths[lib]);\n",
       "        s.onerror = () => reject(`Error loading script: ${paths[lib]}`);\n",
       "        document.getElementsByTagName(\"head\")[0].appendChild(s);\n",
       "      });\n",
       "    }\n",
       "\n",
       "    function showError(err) {\n",
       "      outputDiv.innerHTML = `<div class=\"error\" style=\"color:red;\">${err}</div>`;\n",
       "      throw err;\n",
       "    }\n",
       "\n",
       "    function displayChart(vegaEmbed) {\n",
       "      vegaEmbed(outputDiv, spec, embedOpt)\n",
       "        .catch(err => showError(`Javascript Error: ${err.message}<br>This usually means there's a typo in your chart specification. See the javascript console for the full traceback.`));\n",
       "    }\n",
       "\n",
       "    if(typeof define === \"function\" && define.amd) {\n",
       "      requirejs.config({paths});\n",
       "      require([\"vega-embed\"], displayChart, err => showError(`Error loading script: ${err.message}`));\n",
       "    } else if (typeof vegaEmbed === \"function\") {\n",
       "      displayChart(vegaEmbed);\n",
       "    } else {\n",
       "      loadScript(\"vega\")\n",
       "        .then(() => loadScript(\"vega-lite\"))\n",
       "        .then(() => loadScript(\"vega-embed\"))\n",
       "        .catch(showError)\n",
       "        .then(() => displayChart(vegaEmbed));\n",
       "    }\n",
       "  })({\"config\": {\"view\": {\"continuousWidth\": 400, \"continuousHeight\": 300}, \"axis\": {\"labelFontSize\": 20, \"titleFontSize\": 20}, \"legend\": {\"labelFontSize\": 20, \"titleFontSize\": 15}, \"mark\": {\"color\": \"black\"}, \"point\": {\"size\": 100, \"strokeWidth\": 1}, \"text\": {\"fontSize\": 20, \"fontWeight\": \"bold\"}}, \"layer\": [{\"layer\": [{\"mark\": {\"type\": \"rule\", \"color\": \"#bababa\", \"opacity\": 0.75, \"strokeWidth\": 2}, \"encoding\": {\"x\": {\"type\": \"quantitative\", \"field\": \"bottom_whisker\", \"scale\": {\"domain\": [0, 20]}, \"title\": \"E (MPa)\"}, \"x2\": {\"field\": \"bottom\"}, \"y\": {\"type\": \"quantitative\", \"field\": \"nominal_axis_value\", \"scale\": {}}}, \"height\": 175, \"width\": 450}, {\"mark\": {\"type\": \"rule\", \"color\": \"#bababa\", \"opacity\": 0.75, \"strokeWidth\": 2}, \"encoding\": {\"x\": {\"type\": \"quantitative\", \"field\": \"top\", \"scale\": {\"domain\": [0, 20]}, \"title\": \"E (MPa)\"}, \"x2\": {\"field\": \"top_whisker\"}, \"y\": {\"type\": \"quantitative\", \"field\": \"nominal_axis_value\", \"scale\": {}}}, \"height\": 175, \"width\": 450}, {\"mark\": {\"type\": \"bar\", \"color\": \"#abb0ac\", \"opacity\": 0.75, \"size\": 0.4, \"strokeWidth\": 5}, \"encoding\": {\"x\": {\"type\": \"quantitative\", \"field\": \"bottom\", \"scale\": {\"domain\": [0, 20]}, \"title\": \"E (MPa)\"}, \"x2\": {\"field\": \"top\"}, \"y\": {\"type\": \"quantitative\", \"field\": \"left\", \"scale\": {}}, \"y2\": {\"field\": \"right\"}}, \"height\": 175, \"width\": 450}, {\"mark\": {\"type\": \"rule\", \"color\": \"white\", \"opacity\": 1, \"strokeWidth\": 2}, \"encoding\": {\"x\": {\"type\": \"quantitative\", \"field\": \"middle\", \"scale\": {\"domain\": [0, 20]}, \"title\": \"E (MPa)\"}, \"y\": {\"type\": \"quantitative\", \"field\": \"left\", \"scale\": {}}, \"y2\": {\"field\": \"right\"}}, \"height\": 175, \"width\": 450}, {\"mark\": {\"type\": \"rule\", \"color\": \"#bababa\", \"opacity\": 0.75, \"strokeWidth\": 2}, \"encoding\": {\"x\": {\"type\": \"quantitative\", \"field\": \"bottom_whisker\", \"scale\": {\"domain\": [0, 20]}, \"title\": \"E (MPa)\"}, \"y\": {\"type\": \"quantitative\", \"field\": \"cap_left\"}, \"y2\": {\"field\": \"cap_right\"}}, \"height\": 175, \"width\": 450}, {\"mark\": {\"type\": \"rule\", \"color\": \"#bababa\", \"opacity\": 0.75, \"strokeWidth\": 2}, \"encoding\": {\"x\": {\"type\": \"quantitative\", \"field\": \"top_whisker\", \"scale\": {\"domain\": [0, 20]}, \"title\": \"E (MPa)\"}, \"y\": {\"type\": \"quantitative\", \"field\": \"cap_left\"}, \"y2\": {\"field\": \"cap_right\"}}, \"height\": 175, \"width\": 450}], \"data\": {\"url\": \"http://localhost:21382/c9cf8c0c65e3a12e56dc0876ab469645.json\"}}, {\"layer\": [{\"data\": {\"url\": \"http://localhost:21382/38cb138e026da6affdca3cbdbc2c4577.json\"}, \"mark\": {\"type\": \"point\", \"opacity\": 1.0}, \"encoding\": {\"x\": {\"type\": \"quantitative\", \"field\": \"E (MPa)\", \"scale\": {\"domain\": [0, 20]}, \"title\": \"E (MPa)\"}, \"y\": {\"type\": \"quantitative\", \"axis\": {\"grid\": false, \"labels\": false, \"title\": null, \"values\": [0, 1, 2]}, \"field\": \"__jitter\"}, \"fill\": {\"type\": \"nominal\", \"field\": \"Media\", \"scale\": {\"domain\": [\"Growth Media\", \"LatB/C2\", \"LatB/sorbitol\", \"oryzalin/C2\", \"oryzalin/sorbitol\", \"sorbitol\"], \"range\": [\"red\", \"orange\", \"blue\", \"yellow\", \"purple\", \"green\"]}}}, \"height\": 175, \"width\": 450}, {\"data\": {\"url\": \"http://localhost:21382/f96fbbbf7493e880ac1cc0921b07382f.json\"}, \"mark\": {\"type\": \"text\", \"align\": \"right\", \"baseline\": \"middle\", \"dx\": -8}, \"encoding\": {\"y\": {\"type\": \"quantitative\", \"axis\": {\"grid\": false, \"labels\": false, \"title\": null, \"values\": [0, 1, 2]}, \"field\": \"__jitter\"}, \"x\": {\"type\": \"quantitative\", \"field\": \"E (MPa)\", \"scale\": {\"domain\": [0, 20]}, \"title\": \"E (MPa)\"}, \"text\": {\"type\": \"nominal\", \"field\": \"text\"}}, \"height\": 175, \"width\": 450}]}], \"$schema\": \"https://vega.github.io/schema/vega-lite/v4.8.1.json\"}, {\"mode\": \"vega-lite\"});\n",
       "</script>"
      ],
      "text/plain": [
       "alt.LayerChart(...)"
      ]
     },
     "execution_count": 9,
     "metadata": {},
     "output_type": "execute_result"
    }
   ],
   "source": [
    "boxjitter = altcat.catplot(df[(df['Media']=='Growth Media')|(df['Media']=='LatB/C2')|(df['Media']=='oryzalin/C2')],\n",
    "               height=175,\n",
    "               width=450, \n",
    "               mark=dict(opacity=1.0, type='point'),\n",
    "               box_mark=dict(strokeWidth=5, opacity=0.75, color='#abb0ac'),\n",
    "               whisker_mark=dict(strokeWidth=2, opacity=0.75, color='#bababa'),\n",
    "               encoding=dict(x=alt.X('E (MPa):Q', scale=alt.Scale(domain=(0,20))),\n",
    "                             y=alt.Y('Media:N'),\n",
    "#                              # For black&white version\n",
    "#                              fill=alt.Color('solution:N', scale=alt.Scale(domain=['T87', 'sorbitol', 'water'], range=['#808080', '#000000', '#FFFFFF'])),\n",
    "#                              # For colored version\n",
    "                             fill=alt.Color('Media:N', scale=alt.Scale(domain=['Growth Media', 'LatB/C2', 'LatB/sorbitol','oryzalin/C2','oryzalin/sorbitol','sorbitol'], range=['red', 'orange', 'blue','yellow','purple','green']))),\n",
    "               transform='jitterbox'\n",
    ")\n",
    "boxjitter.configure_text(fontWeight='bold', fontSize=20\n",
    ").configure_legend(labelFontSize=20, titleFontSize=15\n",
    ").configure_axis(labelFontSize=20, titleFontSize=20\n",
    ").configure_mark(color='black'\n",
    ").configure_point(size=100, strokeWidth=1)"
   ]
  },
  {
   "cell_type": "code",
   "execution_count": 10,
   "metadata": {},
   "outputs": [
    {
     "data": {
      "text/html": [
       "\n",
       "<div id=\"altair-viz-c2396d89e3ed4358946516514bc4ac2d\"></div>\n",
       "<script type=\"text/javascript\">\n",
       "  (function(spec, embedOpt){\n",
       "    let outputDiv = document.currentScript.previousElementSibling;\n",
       "    if (outputDiv.id !== \"altair-viz-c2396d89e3ed4358946516514bc4ac2d\") {\n",
       "      outputDiv = document.getElementById(\"altair-viz-c2396d89e3ed4358946516514bc4ac2d\");\n",
       "    }\n",
       "    const paths = {\n",
       "      \"vega\": \"https://cdn.jsdelivr.net/npm//vega@5?noext\",\n",
       "      \"vega-lib\": \"https://cdn.jsdelivr.net/npm//vega-lib?noext\",\n",
       "      \"vega-lite\": \"https://cdn.jsdelivr.net/npm//vega-lite@4.8.1?noext\",\n",
       "      \"vega-embed\": \"https://cdn.jsdelivr.net/npm//vega-embed@6?noext\",\n",
       "    };\n",
       "\n",
       "    function loadScript(lib) {\n",
       "      return new Promise(function(resolve, reject) {\n",
       "        var s = document.createElement('script');\n",
       "        s.src = paths[lib];\n",
       "        s.async = true;\n",
       "        s.onload = () => resolve(paths[lib]);\n",
       "        s.onerror = () => reject(`Error loading script: ${paths[lib]}`);\n",
       "        document.getElementsByTagName(\"head\")[0].appendChild(s);\n",
       "      });\n",
       "    }\n",
       "\n",
       "    function showError(err) {\n",
       "      outputDiv.innerHTML = `<div class=\"error\" style=\"color:red;\">${err}</div>`;\n",
       "      throw err;\n",
       "    }\n",
       "\n",
       "    function displayChart(vegaEmbed) {\n",
       "      vegaEmbed(outputDiv, spec, embedOpt)\n",
       "        .catch(err => showError(`Javascript Error: ${err.message}<br>This usually means there's a typo in your chart specification. See the javascript console for the full traceback.`));\n",
       "    }\n",
       "\n",
       "    if(typeof define === \"function\" && define.amd) {\n",
       "      requirejs.config({paths});\n",
       "      require([\"vega-embed\"], displayChart, err => showError(`Error loading script: ${err.message}`));\n",
       "    } else if (typeof vegaEmbed === \"function\") {\n",
       "      displayChart(vegaEmbed);\n",
       "    } else {\n",
       "      loadScript(\"vega\")\n",
       "        .then(() => loadScript(\"vega-lite\"))\n",
       "        .then(() => loadScript(\"vega-embed\"))\n",
       "        .catch(showError)\n",
       "        .then(() => displayChart(vegaEmbed));\n",
       "    }\n",
       "  })({\"config\": {\"view\": {\"continuousWidth\": 400, \"continuousHeight\": 300}, \"axis\": {\"labelFontSize\": 20, \"titleFontSize\": 20}, \"legend\": {\"labelFontSize\": 20, \"titleFontSize\": 15}, \"mark\": {\"color\": \"black\"}, \"point\": {\"size\": 100, \"strokeWidth\": 1}, \"text\": {\"fontSize\": 20, \"fontWeight\": \"bold\"}}, \"layer\": [{\"layer\": [{\"mark\": {\"type\": \"rule\", \"color\": \"#bababa\", \"opacity\": 0.75, \"strokeWidth\": 2}, \"encoding\": {\"x\": {\"type\": \"quantitative\", \"field\": \"bottom_whisker\", \"scale\": {\"domain\": [0, 0.6]}, \"title\": \"E (MPa)\"}, \"x2\": {\"field\": \"bottom\"}, \"y\": {\"type\": \"quantitative\", \"field\": \"nominal_axis_value\", \"scale\": {}}}, \"height\": 175, \"width\": 450}, {\"mark\": {\"type\": \"rule\", \"color\": \"#bababa\", \"opacity\": 0.75, \"strokeWidth\": 2}, \"encoding\": {\"x\": {\"type\": \"quantitative\", \"field\": \"top\", \"scale\": {\"domain\": [0, 0.6]}, \"title\": \"E (MPa)\"}, \"x2\": {\"field\": \"top_whisker\"}, \"y\": {\"type\": \"quantitative\", \"field\": \"nominal_axis_value\", \"scale\": {}}}, \"height\": 175, \"width\": 450}, {\"mark\": {\"type\": \"bar\", \"color\": \"#abb0ac\", \"opacity\": 0.75, \"size\": 0.4, \"strokeWidth\": 5}, \"encoding\": {\"x\": {\"type\": \"quantitative\", \"field\": \"bottom\", \"scale\": {\"domain\": [0, 0.6]}, \"title\": \"E (MPa)\"}, \"x2\": {\"field\": \"top\"}, \"y\": {\"type\": \"quantitative\", \"field\": \"left\", \"scale\": {}}, \"y2\": {\"field\": \"right\"}}, \"height\": 175, \"width\": 450}, {\"mark\": {\"type\": \"rule\", \"color\": \"white\", \"opacity\": 1, \"strokeWidth\": 2}, \"encoding\": {\"x\": {\"type\": \"quantitative\", \"field\": \"middle\", \"scale\": {\"domain\": [0, 0.6]}, \"title\": \"E (MPa)\"}, \"y\": {\"type\": \"quantitative\", \"field\": \"left\", \"scale\": {}}, \"y2\": {\"field\": \"right\"}}, \"height\": 175, \"width\": 450}, {\"mark\": {\"type\": \"rule\", \"color\": \"#bababa\", \"opacity\": 0.75, \"strokeWidth\": 2}, \"encoding\": {\"x\": {\"type\": \"quantitative\", \"field\": \"bottom_whisker\", \"scale\": {\"domain\": [0, 0.6]}, \"title\": \"E (MPa)\"}, \"y\": {\"type\": \"quantitative\", \"field\": \"cap_left\"}, \"y2\": {\"field\": \"cap_right\"}}, \"height\": 175, \"width\": 450}, {\"mark\": {\"type\": \"rule\", \"color\": \"#bababa\", \"opacity\": 0.75, \"strokeWidth\": 2}, \"encoding\": {\"x\": {\"type\": \"quantitative\", \"field\": \"top_whisker\", \"scale\": {\"domain\": [0, 0.6]}, \"title\": \"E (MPa)\"}, \"y\": {\"type\": \"quantitative\", \"field\": \"cap_left\"}, \"y2\": {\"field\": \"cap_right\"}}, \"height\": 175, \"width\": 450}], \"data\": {\"url\": \"http://localhost:21382/6ae39a682ad02b931ab1c392cb13fec0.json\"}}, {\"layer\": [{\"data\": {\"url\": \"http://localhost:21382/d947d5cdd453193ca2cfc8cd9baee145.json\"}, \"mark\": {\"type\": \"point\", \"opacity\": 1.0}, \"encoding\": {\"x\": {\"type\": \"quantitative\", \"field\": \"E (MPa)\", \"scale\": {\"domain\": [0, 0.6]}, \"title\": \"E (MPa)\"}, \"y\": {\"type\": \"quantitative\", \"axis\": {\"grid\": false, \"labels\": false, \"title\": null, \"values\": [0, 1, 2]}, \"field\": \"__jitter\"}, \"fill\": {\"type\": \"nominal\", \"field\": \"Media\", \"scale\": {\"domain\": [\"Growth Media\", \"LatB/C2\", \"LatB/sorbitol\", \"oryzalin/C2\", \"oryzalin/sorbitol\", \"sorbitol\"], \"range\": [\"red\", \"orange\", \"blue\", \"yellow\", \"purple\", \"green\"]}}}, \"height\": 175, \"width\": 450}, {\"data\": {\"url\": \"http://localhost:21382/662a1722c950a156fec08a4c69b421b3.json\"}, \"mark\": {\"type\": \"text\", \"align\": \"right\", \"baseline\": \"middle\", \"dx\": -8}, \"encoding\": {\"y\": {\"type\": \"quantitative\", \"axis\": {\"grid\": false, \"labels\": false, \"title\": null, \"values\": [0, 1, 2]}, \"field\": \"__jitter\"}, \"x\": {\"type\": \"quantitative\", \"field\": \"E (MPa)\", \"scale\": {\"domain\": [0, 0.6]}, \"title\": \"E (MPa)\"}, \"text\": {\"type\": \"nominal\", \"field\": \"text\"}}, \"height\": 175, \"width\": 450}]}], \"$schema\": \"https://vega.github.io/schema/vega-lite/v4.8.1.json\"}, {\"mode\": \"vega-lite\"});\n",
       "</script>"
      ],
      "text/plain": [
       "alt.LayerChart(...)"
      ]
     },
     "execution_count": 10,
     "metadata": {},
     "output_type": "execute_result"
    }
   ],
   "source": [
    "boxjitter = altcat.catplot(df[(df['Media']!='Di Water')&(df['Media']!='Growth Media')&(df['Media']!='LatB/C2')&(df['Media']!='oryzalin/C2')],\n",
    "               height=175,\n",
    "               width=450, \n",
    "               mark=dict(opacity=1.0, type='point'),\n",
    "               box_mark=dict(strokeWidth=5, opacity=0.75, color='#abb0ac'),\n",
    "               whisker_mark=dict(strokeWidth=2, opacity=0.75, color='#bababa'),\n",
    "               encoding=dict(x=alt.X('E (MPa):Q', scale=alt.Scale(domain=(0,0.6))),\n",
    "                             y=alt.Y('Media:N'),\n",
    "#                              # For black&white version\n",
    "#                              fill=alt.Color('solution:N', scale=alt.Scale(domain=['T87', 'sorbitol', 'water'], range=['#808080', '#000000', '#FFFFFF'])),\n",
    "#                              # For colored version\n",
    "                             fill=alt.Color('Media:N', scale=alt.Scale(domain=['Growth Media', 'LatB/C2', 'LatB/sorbitol','oryzalin/C2','oryzalin/sorbitol','sorbitol'], range=['red', 'orange', 'blue','yellow','purple','green']))),\n",
    "               transform='jitterbox'\n",
    ")\n",
    "boxjitter.configure_text(fontWeight='bold', fontSize=20\n",
    ").configure_legend(labelFontSize=20, titleFontSize=15\n",
    ").configure_axis(labelFontSize=20, titleFontSize=20\n",
    ").configure_mark(color='black'\n",
    ").configure_point(size=100, strokeWidth=1)"
   ]
  },
  {
   "cell_type": "code",
   "execution_count": 8,
   "metadata": {},
   "outputs": [
    {
     "data": {
      "text/plain": [
       "0.0490767077454386"
      ]
     },
     "execution_count": 8,
     "metadata": {},
     "output_type": "execute_result"
    }
   ],
   "source": [
    "[KS, pKS] = stats.ks_2samp(df[df['Media']=='Growth Media']['E (MPa)'].to_numpy(), \n",
    "                df[df['Media']=='oryzalin/C2']['E (MPa)'].to_numpy())\n",
    "pKS"
   ]
  },
  {
   "cell_type": "code",
   "execution_count": 9,
   "metadata": {},
   "outputs": [
    {
     "data": {
      "text/plain": [
       "5.8334898819345504e-05"
      ]
     },
     "execution_count": 9,
     "metadata": {},
     "output_type": "execute_result"
    }
   ],
   "source": [
    "[KS, pKS] = stats.ks_2samp(df[df['Media']=='Growth Media']['E (MPa)'].to_numpy(), \n",
    "                df[df['Media']=='LatB/C2']['E (MPa)'].to_numpy())\n",
    "pKS"
   ]
  },
  {
   "cell_type": "code",
   "execution_count": 10,
   "metadata": {},
   "outputs": [
    {
     "data": {
      "text/plain": [
       "0.00010517581586122482"
      ]
     },
     "execution_count": 10,
     "metadata": {},
     "output_type": "execute_result"
    }
   ],
   "source": [
    "[KS, pKS] = stats.ks_2samp(df[df['Media']=='oryzalin/C2']['E (MPa)'].to_numpy(), \n",
    "                df[df['Media']=='LatB/C2']['E (MPa)'].to_numpy())\n",
    "pKS"
   ]
  },
  {
   "cell_type": "code",
   "execution_count": 11,
   "metadata": {},
   "outputs": [
    {
     "data": {
      "text/plain": [
       "0.7556643975221443"
      ]
     },
     "execution_count": 11,
     "metadata": {},
     "output_type": "execute_result"
    }
   ],
   "source": [
    "[KS, pKS] = stats.ks_2samp(df[df['Media']=='sorbitol']['E (MPa)'].to_numpy(), \n",
    "                df[df['Media']=='oryzalin/sorbitol']['E (MPa)'].to_numpy())\n",
    "pKS"
   ]
  },
  {
   "cell_type": "code",
   "execution_count": 12,
   "metadata": {},
   "outputs": [
    {
     "data": {
      "text/plain": [
       "0.0014764941542995125"
      ]
     },
     "execution_count": 12,
     "metadata": {},
     "output_type": "execute_result"
    }
   ],
   "source": [
    "[KS, pKS] = stats.ks_2samp(df[df['Media']=='sorbitol']['E (MPa)'].to_numpy(), \n",
    "                df[df['Media']=='LatB/sorbitol']['E (MPa)'].to_numpy())\n",
    "pKS"
   ]
  },
  {
   "cell_type": "code",
   "execution_count": 13,
   "metadata": {},
   "outputs": [
    {
     "data": {
      "text/plain": [
       "0.00011437690679549917"
      ]
     },
     "execution_count": 13,
     "metadata": {},
     "output_type": "execute_result"
    }
   ],
   "source": [
    "[KS, pKS] = stats.ks_2samp(df[df['Media']=='oryzalin/sorbitol']['E (MPa)'].to_numpy(), \n",
    "                df[df['Media']=='LatB/sorbitol']['E (MPa)'].to_numpy())\n",
    "pKS"
   ]
  },
  {
   "cell_type": "code",
   "execution_count": 17,
   "metadata": {},
   "outputs": [
    {
     "data": {
      "text/plain": [
       "0.1047568844634888"
      ]
     },
     "execution_count": 17,
     "metadata": {},
     "output_type": "execute_result"
    }
   ],
   "source": [
    "[T, pT] = stats.ttest_ind(df[df['Media']=='Growth Media']['E (MPa)'].to_numpy(), \n",
    "                df[df['Media']=='oryzalin/C2']['E (MPa)'].to_numpy())\n",
    "pT"
   ]
  },
  {
   "cell_type": "code",
   "execution_count": 18,
   "metadata": {},
   "outputs": [
    {
     "data": {
      "text/plain": [
       "2.327992631205129e-09"
      ]
     },
     "execution_count": 18,
     "metadata": {},
     "output_type": "execute_result"
    }
   ],
   "source": [
    "[T, pT] = stats.ttest_ind(df[df['Media']=='Growth Media']['E (MPa)'].to_numpy(), \n",
    "                df[df['Media']=='LatB/C2']['E (MPa)'].to_numpy())\n",
    "pT"
   ]
  },
  {
   "cell_type": "markdown",
   "metadata": {},
   "source": [
    "## k analysis"
   ]
  },
  {
   "cell_type": "code",
   "execution_count": 24,
   "metadata": {},
   "outputs": [
    {
     "data": {
      "text/html": [
       "<div>\n",
       "<style scoped>\n",
       "    .dataframe tbody tr th:only-of-type {\n",
       "        vertical-align: middle;\n",
       "    }\n",
       "\n",
       "    .dataframe tbody tr th {\n",
       "        vertical-align: top;\n",
       "    }\n",
       "\n",
       "    .dataframe thead th {\n",
       "        text-align: right;\n",
       "    }\n",
       "</style>\n",
       "<table border=\"1\" class=\"dataframe\">\n",
       "  <thead>\n",
       "    <tr style=\"text-align: right;\">\n",
       "      <th></th>\n",
       "      <th>Media</th>\n",
       "      <th>E (MPa)</th>\n",
       "      <th>Indentation</th>\n",
       "      <th>Force</th>\n",
       "      <th>Spring Constant</th>\n",
       "      <th>Linear Fit (b, ax)</th>\n",
       "      <th>kCW (N/m)</th>\n",
       "    </tr>\n",
       "  </thead>\n",
       "  <tbody>\n",
       "    <tr>\n",
       "      <th>0</th>\n",
       "      <td>Di Water</td>\n",
       "      <td>1.41</td>\n",
       "      <td>80.09</td>\n",
       "      <td>33.72</td>\n",
       "      <td>15.21 nN/nm</td>\n",
       "      <td>-2.5429e-012,0.30987</td>\n",
       "      <td>0.30987</td>\n",
       "    </tr>\n",
       "    <tr>\n",
       "      <th>1</th>\n",
       "      <td>Di Water</td>\n",
       "      <td>1.31</td>\n",
       "      <td>82.49</td>\n",
       "      <td>33.82</td>\n",
       "      <td>15.21 nN/nm</td>\n",
       "      <td>-5.7893e-010,0.36601</td>\n",
       "      <td>0.36601</td>\n",
       "    </tr>\n",
       "    <tr>\n",
       "      <th>2</th>\n",
       "      <td>Di Water</td>\n",
       "      <td>1.80</td>\n",
       "      <td>47.30</td>\n",
       "      <td>61.34</td>\n",
       "      <td>15.21 nN/nm</td>\n",
       "      <td>-5.6686e-010,0.67858</td>\n",
       "      <td>0.67858</td>\n",
       "    </tr>\n",
       "    <tr>\n",
       "      <th>3</th>\n",
       "      <td>Di Water</td>\n",
       "      <td>2.55</td>\n",
       "      <td>77.36</td>\n",
       "      <td>35.29</td>\n",
       "      <td>15.21 nN/nm</td>\n",
       "      <td>-3.4613e-009,0.28384</td>\n",
       "      <td>0.28384</td>\n",
       "    </tr>\n",
       "    <tr>\n",
       "      <th>4</th>\n",
       "      <td>Di Water</td>\n",
       "      <td>3.34</td>\n",
       "      <td>35.04</td>\n",
       "      <td>49.50</td>\n",
       "      <td>15.21 nN/nm</td>\n",
       "      <td>1.5904e-009,0.29944</td>\n",
       "      <td>0.29944</td>\n",
       "    </tr>\n",
       "    <tr>\n",
       "      <th>...</th>\n",
       "      <td>...</td>\n",
       "      <td>...</td>\n",
       "      <td>...</td>\n",
       "      <td>...</td>\n",
       "      <td>...</td>\n",
       "      <td>...</td>\n",
       "      <td>...</td>\n",
       "    </tr>\n",
       "    <tr>\n",
       "      <th>168</th>\n",
       "      <td>LatB/C2</td>\n",
       "      <td>3.02</td>\n",
       "      <td>75.34</td>\n",
       "      <td>65.97</td>\n",
       "      <td>10.14 nN/nm</td>\n",
       "      <td>1.815e-011,0.48653</td>\n",
       "      <td>0.48653</td>\n",
       "    </tr>\n",
       "    <tr>\n",
       "      <th>169</th>\n",
       "      <td>LatB/C2</td>\n",
       "      <td>2.36</td>\n",
       "      <td>90.22</td>\n",
       "      <td>68.04</td>\n",
       "      <td>10.14 nN/nm</td>\n",
       "      <td>1.2752e-009,0.37883</td>\n",
       "      <td>0.37883</td>\n",
       "    </tr>\n",
       "    <tr>\n",
       "      <th>170</th>\n",
       "      <td>LatB/C2</td>\n",
       "      <td>2.11</td>\n",
       "      <td>91.43</td>\n",
       "      <td>58.55</td>\n",
       "      <td>10.14 nN/nm</td>\n",
       "      <td>-1.7288e-009,0.44677</td>\n",
       "      <td>0.44677</td>\n",
       "    </tr>\n",
       "    <tr>\n",
       "      <th>171</th>\n",
       "      <td>LatB/C2</td>\n",
       "      <td>1.98</td>\n",
       "      <td>90.01</td>\n",
       "      <td>55.82</td>\n",
       "      <td>10.14 nN/nm</td>\n",
       "      <td>-8.443e-010,0.43179</td>\n",
       "      <td>0.43179</td>\n",
       "    </tr>\n",
       "    <tr>\n",
       "      <th>172</th>\n",
       "      <td>LatB/C2</td>\n",
       "      <td>3.19</td>\n",
       "      <td>63.59</td>\n",
       "      <td>60.76</td>\n",
       "      <td>10.14 nN/nm</td>\n",
       "      <td>-2.8368e-009,0.63204</td>\n",
       "      <td>0.63204</td>\n",
       "    </tr>\n",
       "  </tbody>\n",
       "</table>\n",
       "<p>173 rows × 7 columns</p>\n",
       "</div>"
      ],
      "text/plain": [
       "        Media  E (MPa)  Indentation  Force Spring Constant  \\\n",
       "0    Di Water     1.41        80.09  33.72     15.21 nN/nm   \n",
       "1    Di Water     1.31        82.49  33.82     15.21 nN/nm   \n",
       "2    Di Water     1.80        47.30  61.34     15.21 nN/nm   \n",
       "3    Di Water     2.55        77.36  35.29     15.21 nN/nm   \n",
       "4    Di Water     3.34        35.04  49.50     15.21 nN/nm   \n",
       "..        ...      ...          ...    ...             ...   \n",
       "168   LatB/C2     3.02        75.34  65.97     10.14 nN/nm   \n",
       "169   LatB/C2     2.36        90.22  68.04     10.14 nN/nm   \n",
       "170   LatB/C2     2.11        91.43  58.55     10.14 nN/nm   \n",
       "171   LatB/C2     1.98        90.01  55.82     10.14 nN/nm   \n",
       "172   LatB/C2     3.19        63.59  60.76     10.14 nN/nm   \n",
       "\n",
       "       Linear Fit (b, ax)  kCW (N/m)  \n",
       "0    -2.5429e-012,0.30987    0.30987  \n",
       "1    -5.7893e-010,0.36601    0.36601  \n",
       "2    -5.6686e-010,0.67858    0.67858  \n",
       "3    -3.4613e-009,0.28384    0.28384  \n",
       "4     1.5904e-009,0.29944    0.29944  \n",
       "..                    ...        ...  \n",
       "168    1.815e-011,0.48653    0.48653  \n",
       "169   1.2752e-009,0.37883    0.37883  \n",
       "170  -1.7288e-009,0.44677    0.44677  \n",
       "171   -8.443e-010,0.43179    0.43179  \n",
       "172  -2.8368e-009,0.63204    0.63204  \n",
       "\n",
       "[173 rows x 7 columns]"
      ]
     },
     "execution_count": 24,
     "metadata": {},
     "output_type": "execute_result"
    }
   ],
   "source": [
    "ax_vec = [float(df['Linear Fit (b, ax)'][i].split(',')[1]) for i in range(len(df))]\n",
    "df['kCW (N/m)'] = ax_vec\n",
    "df"
   ]
  },
  {
   "cell_type": "code",
   "execution_count": 25,
   "metadata": {},
   "outputs": [
    {
     "data": {
      "text/html": [
       "<div>\n",
       "<style scoped>\n",
       "    .dataframe tbody tr th:only-of-type {\n",
       "        vertical-align: middle;\n",
       "    }\n",
       "\n",
       "    .dataframe tbody tr th {\n",
       "        vertical-align: top;\n",
       "    }\n",
       "\n",
       "    .dataframe thead tr th {\n",
       "        text-align: left;\n",
       "    }\n",
       "\n",
       "    .dataframe thead tr:last-of-type th {\n",
       "        text-align: right;\n",
       "    }\n",
       "</style>\n",
       "<table border=\"1\" class=\"dataframe\">\n",
       "  <thead>\n",
       "    <tr>\n",
       "      <th></th>\n",
       "      <th colspan=\"8\" halign=\"left\">kCW (N/m)</th>\n",
       "    </tr>\n",
       "    <tr>\n",
       "      <th></th>\n",
       "      <th>count</th>\n",
       "      <th>mean</th>\n",
       "      <th>std</th>\n",
       "      <th>min</th>\n",
       "      <th>25%</th>\n",
       "      <th>50%</th>\n",
       "      <th>75%</th>\n",
       "      <th>max</th>\n",
       "    </tr>\n",
       "    <tr>\n",
       "      <th>Media</th>\n",
       "      <th></th>\n",
       "      <th></th>\n",
       "      <th></th>\n",
       "      <th></th>\n",
       "      <th></th>\n",
       "      <th></th>\n",
       "      <th></th>\n",
       "      <th></th>\n",
       "    </tr>\n",
       "  </thead>\n",
       "  <tbody>\n",
       "    <tr>\n",
       "      <th>Di Water</th>\n",
       "      <td>34.0</td>\n",
       "      <td>0.589060</td>\n",
       "      <td>0.344647</td>\n",
       "      <td>0.185930</td>\n",
       "      <td>0.289592</td>\n",
       "      <td>0.448635</td>\n",
       "      <td>0.925245</td>\n",
       "      <td>1.41040</td>\n",
       "    </tr>\n",
       "    <tr>\n",
       "      <th>Growth Media</th>\n",
       "      <td>9.0</td>\n",
       "      <td>0.694841</td>\n",
       "      <td>0.333870</td>\n",
       "      <td>0.142790</td>\n",
       "      <td>0.469070</td>\n",
       "      <td>0.754890</td>\n",
       "      <td>0.906470</td>\n",
       "      <td>1.15800</td>\n",
       "    </tr>\n",
       "    <tr>\n",
       "      <th>LatB/C2</th>\n",
       "      <td>38.0</td>\n",
       "      <td>0.429510</td>\n",
       "      <td>0.153535</td>\n",
       "      <td>0.174570</td>\n",
       "      <td>0.321240</td>\n",
       "      <td>0.389140</td>\n",
       "      <td>0.482745</td>\n",
       "      <td>0.93879</td>\n",
       "    </tr>\n",
       "    <tr>\n",
       "      <th>LatB/sorbitol</th>\n",
       "      <td>21.0</td>\n",
       "      <td>0.053442</td>\n",
       "      <td>0.037724</td>\n",
       "      <td>0.017532</td>\n",
       "      <td>0.033365</td>\n",
       "      <td>0.047440</td>\n",
       "      <td>0.057845</td>\n",
       "      <td>0.20158</td>\n",
       "    </tr>\n",
       "    <tr>\n",
       "      <th>oryzalin/C2</th>\n",
       "      <td>31.0</td>\n",
       "      <td>0.523036</td>\n",
       "      <td>0.299170</td>\n",
       "      <td>0.129430</td>\n",
       "      <td>0.261375</td>\n",
       "      <td>0.454070</td>\n",
       "      <td>0.745470</td>\n",
       "      <td>1.19200</td>\n",
       "    </tr>\n",
       "    <tr>\n",
       "      <th>oryzalin/sorbitol</th>\n",
       "      <td>18.0</td>\n",
       "      <td>0.127047</td>\n",
       "      <td>0.056134</td>\n",
       "      <td>0.037264</td>\n",
       "      <td>0.084946</td>\n",
       "      <td>0.124925</td>\n",
       "      <td>0.153612</td>\n",
       "      <td>0.24082</td>\n",
       "    </tr>\n",
       "    <tr>\n",
       "      <th>sorbitol</th>\n",
       "      <td>22.0</td>\n",
       "      <td>0.094532</td>\n",
       "      <td>0.055572</td>\n",
       "      <td>0.035201</td>\n",
       "      <td>0.055534</td>\n",
       "      <td>0.080982</td>\n",
       "      <td>0.116187</td>\n",
       "      <td>0.24233</td>\n",
       "    </tr>\n",
       "  </tbody>\n",
       "</table>\n",
       "</div>"
      ],
      "text/plain": [
       "                  kCW (N/m)                                                    \\\n",
       "                      count      mean       std       min       25%       50%   \n",
       "Media                                                                           \n",
       "Di Water               34.0  0.589060  0.344647  0.185930  0.289592  0.448635   \n",
       "Growth Media            9.0  0.694841  0.333870  0.142790  0.469070  0.754890   \n",
       "LatB/C2                38.0  0.429510  0.153535  0.174570  0.321240  0.389140   \n",
       "LatB/sorbitol          21.0  0.053442  0.037724  0.017532  0.033365  0.047440   \n",
       "oryzalin/C2            31.0  0.523036  0.299170  0.129430  0.261375  0.454070   \n",
       "oryzalin/sorbitol      18.0  0.127047  0.056134  0.037264  0.084946  0.124925   \n",
       "sorbitol               22.0  0.094532  0.055572  0.035201  0.055534  0.080982   \n",
       "\n",
       "                                      \n",
       "                        75%      max  \n",
       "Media                                 \n",
       "Di Water           0.925245  1.41040  \n",
       "Growth Media       0.906470  1.15800  \n",
       "LatB/C2            0.482745  0.93879  \n",
       "LatB/sorbitol      0.057845  0.20158  \n",
       "oryzalin/C2        0.745470  1.19200  \n",
       "oryzalin/sorbitol  0.153612  0.24082  \n",
       "sorbitol           0.116187  0.24233  "
      ]
     },
     "execution_count": 25,
     "metadata": {},
     "output_type": "execute_result"
    }
   ],
   "source": [
    "sumstats = df[['Media','kCW (N/m)']].groupby('Media').describe()\n",
    "sumstats"
   ]
  },
  {
   "cell_type": "code",
   "execution_count": 36,
   "metadata": {},
   "outputs": [],
   "source": [
    "meankCW_GMall = np.mean(df[(df['Media']=='Growth Media') | (df['Media']=='LatB/C2') | (df['Media']=='oryzalin/C2')]['kCW (N/m)'])"
   ]
  },
  {
   "cell_type": "code",
   "execution_count": 37,
   "metadata": {},
   "outputs": [],
   "source": [
    "meankCW_PSall = np.mean(df[(df['Media']=='sorbitol') | (df['Media']=='LatB/sorbitol') | (df['Media']=='oryzalin/sorbitol')]['kCW (N/m)'])"
   ]
  },
  {
   "cell_type": "code",
   "execution_count": 38,
   "metadata": {},
   "outputs": [
    {
     "data": {
      "text/plain": [
       "5.526694420601892"
      ]
     },
     "execution_count": 38,
     "metadata": {},
     "output_type": "execute_result"
    }
   ],
   "source": [
    "meankCW_GMall/meankCW_PSall"
   ]
  },
  {
   "cell_type": "code",
   "execution_count": 15,
   "metadata": {},
   "outputs": [
    {
     "ename": "KeyError",
     "evalue": "'CW stiffness (N/m)'",
     "output_type": "error",
     "traceback": [
      "\u001b[1;31m---------------------------------------------------------------------------\u001b[0m",
      "\u001b[1;31mKeyError\u001b[0m                                  Traceback (most recent call last)",
      "\u001b[1;32m~\\anaconda3\\lib\\site-packages\\pandas\\core\\indexes\\base.py\u001b[0m in \u001b[0;36mget_loc\u001b[1;34m(self, key, method, tolerance)\u001b[0m\n\u001b[0;32m   2894\u001b[0m             \u001b[1;32mtry\u001b[0m\u001b[1;33m:\u001b[0m\u001b[1;33m\u001b[0m\u001b[1;33m\u001b[0m\u001b[0m\n\u001b[1;32m-> 2895\u001b[1;33m                 \u001b[1;32mreturn\u001b[0m \u001b[0mself\u001b[0m\u001b[1;33m.\u001b[0m\u001b[0m_engine\u001b[0m\u001b[1;33m.\u001b[0m\u001b[0mget_loc\u001b[0m\u001b[1;33m(\u001b[0m\u001b[0mcasted_key\u001b[0m\u001b[1;33m)\u001b[0m\u001b[1;33m\u001b[0m\u001b[1;33m\u001b[0m\u001b[0m\n\u001b[0m\u001b[0;32m   2896\u001b[0m             \u001b[1;32mexcept\u001b[0m \u001b[0mKeyError\u001b[0m \u001b[1;32mas\u001b[0m \u001b[0merr\u001b[0m\u001b[1;33m:\u001b[0m\u001b[1;33m\u001b[0m\u001b[1;33m\u001b[0m\u001b[0m\n",
      "\u001b[1;32mpandas\\_libs\\index.pyx\u001b[0m in \u001b[0;36mpandas._libs.index.IndexEngine.get_loc\u001b[1;34m()\u001b[0m\n",
      "\u001b[1;32mpandas\\_libs\\index.pyx\u001b[0m in \u001b[0;36mpandas._libs.index.IndexEngine.get_loc\u001b[1;34m()\u001b[0m\n",
      "\u001b[1;32mpandas\\_libs\\hashtable_class_helper.pxi\u001b[0m in \u001b[0;36mpandas._libs.hashtable.PyObjectHashTable.get_item\u001b[1;34m()\u001b[0m\n",
      "\u001b[1;32mpandas\\_libs\\hashtable_class_helper.pxi\u001b[0m in \u001b[0;36mpandas._libs.hashtable.PyObjectHashTable.get_item\u001b[1;34m()\u001b[0m\n",
      "\u001b[1;31mKeyError\u001b[0m: 'CW stiffness (N/m)'",
      "\nThe above exception was the direct cause of the following exception:\n",
      "\u001b[1;31mKeyError\u001b[0m                                  Traceback (most recent call last)",
      "\u001b[1;32m<ipython-input-15-368c0da895f7>\u001b[0m in \u001b[0;36m<module>\u001b[1;34m\u001b[0m\n\u001b[1;32m----> 1\u001b[1;33m ECDFs = altcat.catplot(data=df[df['Media']=='Growth Media'],\n\u001b[0m\u001b[0;32m      2\u001b[0m                \u001b[0mheight\u001b[0m\u001b[1;33m=\u001b[0m\u001b[1;36m350\u001b[0m\u001b[1;33m,\u001b[0m\u001b[1;33m\u001b[0m\u001b[1;33m\u001b[0m\u001b[0m\n\u001b[0;32m      3\u001b[0m                \u001b[0mwidth\u001b[0m\u001b[1;33m=\u001b[0m\u001b[1;36m450\u001b[0m\u001b[1;33m,\u001b[0m\u001b[1;33m\u001b[0m\u001b[1;33m\u001b[0m\u001b[0m\n\u001b[0;32m      4\u001b[0m                \u001b[0mmark\u001b[0m\u001b[1;33m=\u001b[0m\u001b[0mdict\u001b[0m\u001b[1;33m(\u001b[0m\u001b[0mopacity\u001b[0m\u001b[1;33m=\u001b[0m\u001b[1;36m0.8\u001b[0m\u001b[1;33m,\u001b[0m \u001b[0mtype\u001b[0m\u001b[1;33m=\u001b[0m\u001b[1;34m'point'\u001b[0m\u001b[1;33m)\u001b[0m\u001b[1;33m,\u001b[0m\u001b[1;33m\u001b[0m\u001b[1;33m\u001b[0m\u001b[0m\n\u001b[0;32m      5\u001b[0m                encoding={'x': alt.X('CW stiffness (N/m):Q', scale=alt.Scale(zero=False)),\n",
      "\u001b[1;32m~\\anaconda3\\lib\\site-packages\\altair_catplot\\catplot.py\u001b[0m in \u001b[0;36mcatplot\u001b[1;34m(data, height, width, mark, encoding, transform, sort, jitter_width, box_mark, whisker_mark, box_overlay, **kwargs)\u001b[0m\n\u001b[0;32m    112\u001b[0m             \u001b[0mcolored\u001b[0m \u001b[1;33m=\u001b[0m \u001b[1;32mFalse\u001b[0m\u001b[1;33m\u001b[0m\u001b[1;33m\u001b[0m\u001b[0m\n\u001b[0;32m    113\u001b[0m \u001b[1;33m\u001b[0m\u001b[0m\n\u001b[1;32m--> 114\u001b[1;33m         return _ecdf_plot(data,\n\u001b[0m\u001b[0;32m    115\u001b[0m                             \u001b[0mheight\u001b[0m\u001b[1;33m,\u001b[0m\u001b[1;33m\u001b[0m\u001b[1;33m\u001b[0m\u001b[0m\n\u001b[0;32m    116\u001b[0m                             \u001b[0mwidth\u001b[0m\u001b[1;33m,\u001b[0m\u001b[1;33m\u001b[0m\u001b[1;33m\u001b[0m\u001b[0m\n",
      "\u001b[1;32m~\\anaconda3\\lib\\site-packages\\altair_catplot\\ecdf.py\u001b[0m in \u001b[0;36m_ecdf_plot\u001b[1;34m(data, height, width, mark, encoding, complementary, colored, sort, **kwargs)\u001b[0m\n\u001b[0;32m     28\u001b[0m         \u001b[1;32mraise\u001b[0m \u001b[0mRuntimeError\u001b[0m\u001b[1;33m(\u001b[0m\u001b[1;34m'Only point-ECDFs are allowed for `colored_ecdf`.'\u001b[0m\u001b[1;33m)\u001b[0m\u001b[1;33m\u001b[0m\u001b[1;33m\u001b[0m\u001b[0m\n\u001b[0;32m     29\u001b[0m \u001b[1;33m\u001b[0m\u001b[0m\n\u001b[1;32m---> 30\u001b[1;33m     df = _ecdf_dataframe(data,\n\u001b[0m\u001b[0;32m     31\u001b[0m                          \u001b[0mval\u001b[0m\u001b[1;33m=\u001b[0m\u001b[0mval\u001b[0m\u001b[1;33m,\u001b[0m\u001b[1;33m\u001b[0m\u001b[1;33m\u001b[0m\u001b[0m\n\u001b[0;32m     32\u001b[0m                          \u001b[0mcat\u001b[0m\u001b[1;33m=\u001b[0m\u001b[0mcat\u001b[0m\u001b[1;33m,\u001b[0m\u001b[1;33m\u001b[0m\u001b[1;33m\u001b[0m\u001b[0m\n",
      "\u001b[1;32m~\\anaconda3\\lib\\site-packages\\altair_catplot\\ecdf.py\u001b[0m in \u001b[0;36m_ecdf_dataframe\u001b[1;34m(data, val, cat, formal, complementary, colored)\u001b[0m\n\u001b[0;32m    238\u001b[0m                                       complementary=complementary)\n\u001b[0;32m    239\u001b[0m     \u001b[1;32melse\u001b[0m\u001b[1;33m:\u001b[0m\u001b[1;33m\u001b[0m\u001b[1;33m\u001b[0m\u001b[0m\n\u001b[1;32m--> 240\u001b[1;33m         return _point_ecdf_dataframe(data=data, \n\u001b[0m\u001b[0;32m    241\u001b[0m                                      \u001b[0mval\u001b[0m\u001b[1;33m=\u001b[0m\u001b[0mval\u001b[0m\u001b[1;33m,\u001b[0m\u001b[1;33m\u001b[0m\u001b[1;33m\u001b[0m\u001b[0m\n\u001b[0;32m    242\u001b[0m                                      \u001b[0mcat\u001b[0m\u001b[1;33m=\u001b[0m\u001b[0mcat\u001b[0m\u001b[1;33m,\u001b[0m\u001b[1;33m\u001b[0m\u001b[1;33m\u001b[0m\u001b[0m\n",
      "\u001b[1;32m~\\anaconda3\\lib\\site-packages\\altair_catplot\\ecdf.py\u001b[0m in \u001b[0;36m_point_ecdf_dataframe\u001b[1;34m(data, val, cat, complementary, colored)\u001b[0m\n\u001b[0;32m    149\u001b[0m \u001b[1;33m\u001b[0m\u001b[0m\n\u001b[0;32m    150\u001b[0m     \u001b[1;32mif\u001b[0m \u001b[0mcat\u001b[0m \u001b[1;32mis\u001b[0m \u001b[1;32mNone\u001b[0m \u001b[1;32mor\u001b[0m \u001b[0mcolored\u001b[0m\u001b[1;33m:\u001b[0m\u001b[1;33m\u001b[0m\u001b[1;33m\u001b[0m\u001b[0m\n\u001b[1;32m--> 151\u001b[1;33m         \u001b[0mdf\u001b[0m\u001b[1;33m[\u001b[0m\u001b[0mcol\u001b[0m\u001b[1;33m]\u001b[0m \u001b[1;33m=\u001b[0m \u001b[0m_ecdf_y\u001b[0m\u001b[1;33m(\u001b[0m\u001b[0mdf\u001b[0m\u001b[1;33m[\u001b[0m\u001b[0mval\u001b[0m\u001b[1;33m]\u001b[0m\u001b[1;33m,\u001b[0m \u001b[0mcomplementary\u001b[0m\u001b[1;33m)\u001b[0m\u001b[1;33m\u001b[0m\u001b[1;33m\u001b[0m\u001b[0m\n\u001b[0m\u001b[0;32m    152\u001b[0m     \u001b[1;32melse\u001b[0m\u001b[1;33m:\u001b[0m\u001b[1;33m\u001b[0m\u001b[1;33m\u001b[0m\u001b[0m\n\u001b[0;32m    153\u001b[0m         \u001b[0mdf\u001b[0m\u001b[1;33m[\u001b[0m\u001b[0mcol\u001b[0m\u001b[1;33m]\u001b[0m \u001b[1;33m=\u001b[0m \u001b[0mdf\u001b[0m\u001b[1;33m.\u001b[0m\u001b[0mgroupby\u001b[0m\u001b[1;33m(\u001b[0m\u001b[0mcat\u001b[0m\u001b[1;33m)\u001b[0m\u001b[1;33m[\u001b[0m\u001b[0mval\u001b[0m\u001b[1;33m]\u001b[0m\u001b[1;33m.\u001b[0m\u001b[0mtransform\u001b[0m\u001b[1;33m(\u001b[0m\u001b[0m_ecdf_y\u001b[0m\u001b[1;33m,\u001b[0m \u001b[0mcomplementary\u001b[0m\u001b[1;33m)\u001b[0m\u001b[1;33m\u001b[0m\u001b[1;33m\u001b[0m\u001b[0m\n",
      "\u001b[1;32m~\\anaconda3\\lib\\site-packages\\pandas\\core\\frame.py\u001b[0m in \u001b[0;36m__getitem__\u001b[1;34m(self, key)\u001b[0m\n\u001b[0;32m   2900\u001b[0m             \u001b[1;32mif\u001b[0m \u001b[0mself\u001b[0m\u001b[1;33m.\u001b[0m\u001b[0mcolumns\u001b[0m\u001b[1;33m.\u001b[0m\u001b[0mnlevels\u001b[0m \u001b[1;33m>\u001b[0m \u001b[1;36m1\u001b[0m\u001b[1;33m:\u001b[0m\u001b[1;33m\u001b[0m\u001b[1;33m\u001b[0m\u001b[0m\n\u001b[0;32m   2901\u001b[0m                 \u001b[1;32mreturn\u001b[0m \u001b[0mself\u001b[0m\u001b[1;33m.\u001b[0m\u001b[0m_getitem_multilevel\u001b[0m\u001b[1;33m(\u001b[0m\u001b[0mkey\u001b[0m\u001b[1;33m)\u001b[0m\u001b[1;33m\u001b[0m\u001b[1;33m\u001b[0m\u001b[0m\n\u001b[1;32m-> 2902\u001b[1;33m             \u001b[0mindexer\u001b[0m \u001b[1;33m=\u001b[0m \u001b[0mself\u001b[0m\u001b[1;33m.\u001b[0m\u001b[0mcolumns\u001b[0m\u001b[1;33m.\u001b[0m\u001b[0mget_loc\u001b[0m\u001b[1;33m(\u001b[0m\u001b[0mkey\u001b[0m\u001b[1;33m)\u001b[0m\u001b[1;33m\u001b[0m\u001b[1;33m\u001b[0m\u001b[0m\n\u001b[0m\u001b[0;32m   2903\u001b[0m             \u001b[1;32mif\u001b[0m \u001b[0mis_integer\u001b[0m\u001b[1;33m(\u001b[0m\u001b[0mindexer\u001b[0m\u001b[1;33m)\u001b[0m\u001b[1;33m:\u001b[0m\u001b[1;33m\u001b[0m\u001b[1;33m\u001b[0m\u001b[0m\n\u001b[0;32m   2904\u001b[0m                 \u001b[0mindexer\u001b[0m \u001b[1;33m=\u001b[0m \u001b[1;33m[\u001b[0m\u001b[0mindexer\u001b[0m\u001b[1;33m]\u001b[0m\u001b[1;33m\u001b[0m\u001b[1;33m\u001b[0m\u001b[0m\n",
      "\u001b[1;32m~\\anaconda3\\lib\\site-packages\\pandas\\core\\indexes\\base.py\u001b[0m in \u001b[0;36mget_loc\u001b[1;34m(self, key, method, tolerance)\u001b[0m\n\u001b[0;32m   2895\u001b[0m                 \u001b[1;32mreturn\u001b[0m \u001b[0mself\u001b[0m\u001b[1;33m.\u001b[0m\u001b[0m_engine\u001b[0m\u001b[1;33m.\u001b[0m\u001b[0mget_loc\u001b[0m\u001b[1;33m(\u001b[0m\u001b[0mcasted_key\u001b[0m\u001b[1;33m)\u001b[0m\u001b[1;33m\u001b[0m\u001b[1;33m\u001b[0m\u001b[0m\n\u001b[0;32m   2896\u001b[0m             \u001b[1;32mexcept\u001b[0m \u001b[0mKeyError\u001b[0m \u001b[1;32mas\u001b[0m \u001b[0merr\u001b[0m\u001b[1;33m:\u001b[0m\u001b[1;33m\u001b[0m\u001b[1;33m\u001b[0m\u001b[0m\n\u001b[1;32m-> 2897\u001b[1;33m                 \u001b[1;32mraise\u001b[0m \u001b[0mKeyError\u001b[0m\u001b[1;33m(\u001b[0m\u001b[0mkey\u001b[0m\u001b[1;33m)\u001b[0m \u001b[1;32mfrom\u001b[0m \u001b[0merr\u001b[0m\u001b[1;33m\u001b[0m\u001b[1;33m\u001b[0m\u001b[0m\n\u001b[0m\u001b[0;32m   2898\u001b[0m \u001b[1;33m\u001b[0m\u001b[0m\n\u001b[0;32m   2899\u001b[0m         \u001b[1;32mif\u001b[0m \u001b[0mtolerance\u001b[0m \u001b[1;32mis\u001b[0m \u001b[1;32mnot\u001b[0m \u001b[1;32mNone\u001b[0m\u001b[1;33m:\u001b[0m\u001b[1;33m\u001b[0m\u001b[1;33m\u001b[0m\u001b[0m\n",
      "\u001b[1;31mKeyError\u001b[0m: 'CW stiffness (N/m)'"
     ]
    }
   ],
   "source": [
    "ECDFs = altcat.catplot(data=df[df['Media']=='Growth Media'],\n",
    "               height=350,\n",
    "               width=450, \n",
    "               mark=dict(opacity=0.8, type='point'),\n",
    "               encoding={'x': alt.X('CW stiffness (N/m):Q', scale=alt.Scale(zero=False)),\n",
    "                         'fill': alt.value('red')},\n",
    "               transform='ecdf')\n",
    "ECDFs += altcat.catplot(data=df[df['Media']=='oryzalin/C2'],\n",
    "               mark=dict(opacity=0.8, type='point'),\n",
    "               encoding={'x': alt.X('CW stiffness (N/m):Q', scale=alt.Scale(zero=False)),\n",
    "                         'fill': alt.value('yellow')},\n",
    "               transform='ecdf')\n",
    "ECDFs += altcat.catplot(data=df[df['Media']=='LatB/C2'],\n",
    "               mark=dict(opacity=0.8, type='point'),\n",
    "               encoding={'x': alt.X('CW stiffness (N/m):Q', scale=alt.Scale(zero=False)),\n",
    "                         'fill': alt.value('orange')},\n",
    "               transform='ecdf')\n",
    "ECDFs += altcat.catplot(data=df[df['Media']=='sorbitol'],\n",
    "               mark=dict(opacity=0.8, type='point'),\n",
    "               encoding={'x': alt.X('CW stiffness (N/m):Q', scale=alt.Scale(zero=False)),\n",
    "                         'fill': alt.value('green')},\n",
    "               transform='ecdf')\n",
    "ECDFs += altcat.catplot(data=df[df['Media']=='LatB/sorbitol'],\n",
    "               mark=dict(opacity=0.8, type='point'),\n",
    "               encoding={'x': alt.X('CW stiffness (N/m):Q', scale=alt.Scale(zero=False)),\n",
    "                         'fill': alt.value('blue')},\n",
    "               transform='ecdf')\n",
    "ECDFs += altcat.catplot(data=df[df['Media']=='oryzalin/sorbitol'],\n",
    "               mark=dict(opacity=0.8, type='point'),\n",
    "               encoding={'x': alt.X('CW stiffness (N/m):Q', scale=alt.Scale(zero=False)),\n",
    "                         'fill': alt.value('purple')},\n",
    "               transform='ecdf')\n",
    "\n",
    "ECDFs.configure_text(fontWeight='bold', fontSize=20\n",
    ").configure_legend(labelFontSize=20, titleFontSize=15\n",
    ").configure_axis(labelFontSize=20, titleFontSize=20\n",
    ").configure_mark(color='black'\n",
    ").configure_point(size=100, strokeWidth=1)"
   ]
  },
  {
   "cell_type": "code",
   "execution_count": 16,
   "metadata": {},
   "outputs": [
    {
     "ename": "KeyError",
     "evalue": "'CW stiffness (N/m)'",
     "output_type": "error",
     "traceback": [
      "\u001b[1;31m---------------------------------------------------------------------------\u001b[0m",
      "\u001b[1;31mKeyError\u001b[0m                                  Traceback (most recent call last)",
      "\u001b[1;32m~\\anaconda3\\lib\\site-packages\\pandas\\core\\indexes\\base.py\u001b[0m in \u001b[0;36mget_loc\u001b[1;34m(self, key, method, tolerance)\u001b[0m\n\u001b[0;32m   2894\u001b[0m             \u001b[1;32mtry\u001b[0m\u001b[1;33m:\u001b[0m\u001b[1;33m\u001b[0m\u001b[1;33m\u001b[0m\u001b[0m\n\u001b[1;32m-> 2895\u001b[1;33m                 \u001b[1;32mreturn\u001b[0m \u001b[0mself\u001b[0m\u001b[1;33m.\u001b[0m\u001b[0m_engine\u001b[0m\u001b[1;33m.\u001b[0m\u001b[0mget_loc\u001b[0m\u001b[1;33m(\u001b[0m\u001b[0mcasted_key\u001b[0m\u001b[1;33m)\u001b[0m\u001b[1;33m\u001b[0m\u001b[1;33m\u001b[0m\u001b[0m\n\u001b[0m\u001b[0;32m   2896\u001b[0m             \u001b[1;32mexcept\u001b[0m \u001b[0mKeyError\u001b[0m \u001b[1;32mas\u001b[0m \u001b[0merr\u001b[0m\u001b[1;33m:\u001b[0m\u001b[1;33m\u001b[0m\u001b[1;33m\u001b[0m\u001b[0m\n",
      "\u001b[1;32mpandas\\_libs\\index.pyx\u001b[0m in \u001b[0;36mpandas._libs.index.IndexEngine.get_loc\u001b[1;34m()\u001b[0m\n",
      "\u001b[1;32mpandas\\_libs\\index.pyx\u001b[0m in \u001b[0;36mpandas._libs.index.IndexEngine.get_loc\u001b[1;34m()\u001b[0m\n",
      "\u001b[1;32mpandas\\_libs\\hashtable_class_helper.pxi\u001b[0m in \u001b[0;36mpandas._libs.hashtable.PyObjectHashTable.get_item\u001b[1;34m()\u001b[0m\n",
      "\u001b[1;32mpandas\\_libs\\hashtable_class_helper.pxi\u001b[0m in \u001b[0;36mpandas._libs.hashtable.PyObjectHashTable.get_item\u001b[1;34m()\u001b[0m\n",
      "\u001b[1;31mKeyError\u001b[0m: 'CW stiffness (N/m)'",
      "\nThe above exception was the direct cause of the following exception:\n",
      "\u001b[1;31mKeyError\u001b[0m                                  Traceback (most recent call last)",
      "\u001b[1;32m<ipython-input-16-2d9046f91ac5>\u001b[0m in \u001b[0;36m<module>\u001b[1;34m\u001b[0m\n\u001b[1;32m----> 1\u001b[1;33m boxjitter = altcat.catplot(df[(df['Media']=='Growth Media')|(df['Media']=='LatB/C2')|(df['Media']=='oryzalin/C2')],\n\u001b[0m\u001b[0;32m      2\u001b[0m                \u001b[0mheight\u001b[0m\u001b[1;33m=\u001b[0m\u001b[1;36m175\u001b[0m\u001b[1;33m,\u001b[0m\u001b[1;33m\u001b[0m\u001b[1;33m\u001b[0m\u001b[0m\n\u001b[0;32m      3\u001b[0m                \u001b[0mwidth\u001b[0m\u001b[1;33m=\u001b[0m\u001b[1;36m450\u001b[0m\u001b[1;33m,\u001b[0m\u001b[1;33m\u001b[0m\u001b[1;33m\u001b[0m\u001b[0m\n\u001b[0;32m      4\u001b[0m                \u001b[0mmark\u001b[0m\u001b[1;33m=\u001b[0m\u001b[0mdict\u001b[0m\u001b[1;33m(\u001b[0m\u001b[0mopacity\u001b[0m\u001b[1;33m=\u001b[0m\u001b[1;36m1.0\u001b[0m\u001b[1;33m,\u001b[0m \u001b[0mtype\u001b[0m\u001b[1;33m=\u001b[0m\u001b[1;34m'point'\u001b[0m\u001b[1;33m)\u001b[0m\u001b[1;33m,\u001b[0m\u001b[1;33m\u001b[0m\u001b[1;33m\u001b[0m\u001b[0m\n\u001b[0;32m      5\u001b[0m                \u001b[0mbox_mark\u001b[0m\u001b[1;33m=\u001b[0m\u001b[0mdict\u001b[0m\u001b[1;33m(\u001b[0m\u001b[0mstrokeWidth\u001b[0m\u001b[1;33m=\u001b[0m\u001b[1;36m5\u001b[0m\u001b[1;33m,\u001b[0m \u001b[0mopacity\u001b[0m\u001b[1;33m=\u001b[0m\u001b[1;36m0.75\u001b[0m\u001b[1;33m,\u001b[0m \u001b[0mcolor\u001b[0m\u001b[1;33m=\u001b[0m\u001b[1;34m'#abb0ac'\u001b[0m\u001b[1;33m)\u001b[0m\u001b[1;33m,\u001b[0m\u001b[1;33m\u001b[0m\u001b[1;33m\u001b[0m\u001b[0m\n",
      "\u001b[1;32m~\\anaconda3\\lib\\site-packages\\altair_catplot\\catplot.py\u001b[0m in \u001b[0;36mcatplot\u001b[1;34m(data, height, width, mark, encoding, transform, sort, jitter_width, box_mark, whisker_mark, box_overlay, **kwargs)\u001b[0m\n\u001b[0;32m    141\u001b[0m                             **kwargs)\n\u001b[0;32m    142\u001b[0m     \u001b[1;32melif\u001b[0m \u001b[0mtransform\u001b[0m \u001b[1;33m==\u001b[0m \u001b[1;34m'jitterbox'\u001b[0m\u001b[1;33m:\u001b[0m\u001b[1;33m\u001b[0m\u001b[1;33m\u001b[0m\u001b[0m\n\u001b[1;32m--> 143\u001b[1;33m         return _jitterbox_plot(data,\n\u001b[0m\u001b[0;32m    144\u001b[0m                                \u001b[0mheight\u001b[0m\u001b[1;33m,\u001b[0m\u001b[1;33m\u001b[0m\u001b[1;33m\u001b[0m\u001b[0m\n\u001b[0;32m    145\u001b[0m                                \u001b[0mwidth\u001b[0m\u001b[1;33m,\u001b[0m\u001b[1;33m\u001b[0m\u001b[1;33m\u001b[0m\u001b[0m\n",
      "\u001b[1;32m~\\anaconda3\\lib\\site-packages\\altair_catplot\\jitterbox.py\u001b[0m in \u001b[0;36m_jitterbox_plot\u001b[1;34m(data, height, width, mark, box_mark, whisker_mark, encoding, jitter_width, sort, box_overlay, **kwargs)\u001b[0m\n\u001b[0;32m     25\u001b[0m     \"\"\"\n\u001b[0;32m     26\u001b[0m \u001b[1;33m\u001b[0m\u001b[0m\n\u001b[1;32m---> 27\u001b[1;33m     jitter = _jitter_plot(data, height, width, mark, encoding, jitter_width, \n\u001b[0m\u001b[0;32m     28\u001b[0m                           sort, **kwargs)\n\u001b[0;32m     29\u001b[0m \u001b[1;33m\u001b[0m\u001b[0m\n",
      "\u001b[1;32m~\\anaconda3\\lib\\site-packages\\altair_catplot\\jitter.py\u001b[0m in \u001b[0;36m_jitter_plot\u001b[1;34m(data, height, width, mark, encoding, jitter_width, sort, **kwargs)\u001b[0m\n\u001b[0;32m     20\u001b[0m     \"\"\"Generate a jitter plot with Altair.\n\u001b[0;32m     21\u001b[0m     \"\"\"\n\u001b[1;32m---> 22\u001b[1;33m     \u001b[0mencoding_tuple\u001b[0m \u001b[1;33m=\u001b[0m \u001b[0m_parse_encoding_jitter\u001b[0m\u001b[1;33m(\u001b[0m\u001b[0mencoding\u001b[0m\u001b[1;33m,\u001b[0m \u001b[0mdata\u001b[0m\u001b[1;33m,\u001b[0m \u001b[0msort\u001b[0m\u001b[1;33m)\u001b[0m\u001b[1;33m\u001b[0m\u001b[1;33m\u001b[0m\u001b[0m\n\u001b[0m\u001b[0;32m     23\u001b[0m     (encoding, encoding_text, cat, val, \n\u001b[0;32m     24\u001b[0m       nominal_axis_values, horizontal, zero) = encoding_tuple\n",
      "\u001b[1;32m~\\anaconda3\\lib\\site-packages\\altair_catplot\\jitter.py\u001b[0m in \u001b[0;36m_parse_encoding_jitter\u001b[1;34m(encoding, data, sort)\u001b[0m\n\u001b[0;32m    228\u001b[0m \u001b[1;33m\u001b[0m\u001b[0m\n\u001b[0;32m    229\u001b[0m     \u001b[1;31m# Determine if y-axis is zeroed\u001b[0m\u001b[1;33m\u001b[0m\u001b[1;33m\u001b[0m\u001b[1;33m\u001b[0m\u001b[0m\n\u001b[1;32m--> 230\u001b[1;33m     \u001b[1;32mif\u001b[0m \u001b[0mdata\u001b[0m\u001b[1;33m[\u001b[0m\u001b[0mval\u001b[0m\u001b[1;33m]\u001b[0m\u001b[1;33m.\u001b[0m\u001b[0mmin\u001b[0m\u001b[1;33m(\u001b[0m\u001b[1;33m)\u001b[0m \u001b[1;33m<\u001b[0m \u001b[1;36m0\u001b[0m\u001b[1;33m:\u001b[0m\u001b[1;33m\u001b[0m\u001b[1;33m\u001b[0m\u001b[0m\n\u001b[0m\u001b[0;32m    231\u001b[0m         if (encoding[val_axis]._kwds['scale'] != Undefined\n\u001b[0;32m    232\u001b[0m             and encoding[val_axis]._kwds['scale']._kwds['zero']):\n",
      "\u001b[1;32m~\\anaconda3\\lib\\site-packages\\pandas\\core\\frame.py\u001b[0m in \u001b[0;36m__getitem__\u001b[1;34m(self, key)\u001b[0m\n\u001b[0;32m   2900\u001b[0m             \u001b[1;32mif\u001b[0m \u001b[0mself\u001b[0m\u001b[1;33m.\u001b[0m\u001b[0mcolumns\u001b[0m\u001b[1;33m.\u001b[0m\u001b[0mnlevels\u001b[0m \u001b[1;33m>\u001b[0m \u001b[1;36m1\u001b[0m\u001b[1;33m:\u001b[0m\u001b[1;33m\u001b[0m\u001b[1;33m\u001b[0m\u001b[0m\n\u001b[0;32m   2901\u001b[0m                 \u001b[1;32mreturn\u001b[0m \u001b[0mself\u001b[0m\u001b[1;33m.\u001b[0m\u001b[0m_getitem_multilevel\u001b[0m\u001b[1;33m(\u001b[0m\u001b[0mkey\u001b[0m\u001b[1;33m)\u001b[0m\u001b[1;33m\u001b[0m\u001b[1;33m\u001b[0m\u001b[0m\n\u001b[1;32m-> 2902\u001b[1;33m             \u001b[0mindexer\u001b[0m \u001b[1;33m=\u001b[0m \u001b[0mself\u001b[0m\u001b[1;33m.\u001b[0m\u001b[0mcolumns\u001b[0m\u001b[1;33m.\u001b[0m\u001b[0mget_loc\u001b[0m\u001b[1;33m(\u001b[0m\u001b[0mkey\u001b[0m\u001b[1;33m)\u001b[0m\u001b[1;33m\u001b[0m\u001b[1;33m\u001b[0m\u001b[0m\n\u001b[0m\u001b[0;32m   2903\u001b[0m             \u001b[1;32mif\u001b[0m \u001b[0mis_integer\u001b[0m\u001b[1;33m(\u001b[0m\u001b[0mindexer\u001b[0m\u001b[1;33m)\u001b[0m\u001b[1;33m:\u001b[0m\u001b[1;33m\u001b[0m\u001b[1;33m\u001b[0m\u001b[0m\n\u001b[0;32m   2904\u001b[0m                 \u001b[0mindexer\u001b[0m \u001b[1;33m=\u001b[0m \u001b[1;33m[\u001b[0m\u001b[0mindexer\u001b[0m\u001b[1;33m]\u001b[0m\u001b[1;33m\u001b[0m\u001b[1;33m\u001b[0m\u001b[0m\n",
      "\u001b[1;32m~\\anaconda3\\lib\\site-packages\\pandas\\core\\indexes\\base.py\u001b[0m in \u001b[0;36mget_loc\u001b[1;34m(self, key, method, tolerance)\u001b[0m\n\u001b[0;32m   2895\u001b[0m                 \u001b[1;32mreturn\u001b[0m \u001b[0mself\u001b[0m\u001b[1;33m.\u001b[0m\u001b[0m_engine\u001b[0m\u001b[1;33m.\u001b[0m\u001b[0mget_loc\u001b[0m\u001b[1;33m(\u001b[0m\u001b[0mcasted_key\u001b[0m\u001b[1;33m)\u001b[0m\u001b[1;33m\u001b[0m\u001b[1;33m\u001b[0m\u001b[0m\n\u001b[0;32m   2896\u001b[0m             \u001b[1;32mexcept\u001b[0m \u001b[0mKeyError\u001b[0m \u001b[1;32mas\u001b[0m \u001b[0merr\u001b[0m\u001b[1;33m:\u001b[0m\u001b[1;33m\u001b[0m\u001b[1;33m\u001b[0m\u001b[0m\n\u001b[1;32m-> 2897\u001b[1;33m                 \u001b[1;32mraise\u001b[0m \u001b[0mKeyError\u001b[0m\u001b[1;33m(\u001b[0m\u001b[0mkey\u001b[0m\u001b[1;33m)\u001b[0m \u001b[1;32mfrom\u001b[0m \u001b[0merr\u001b[0m\u001b[1;33m\u001b[0m\u001b[1;33m\u001b[0m\u001b[0m\n\u001b[0m\u001b[0;32m   2898\u001b[0m \u001b[1;33m\u001b[0m\u001b[0m\n\u001b[0;32m   2899\u001b[0m         \u001b[1;32mif\u001b[0m \u001b[0mtolerance\u001b[0m \u001b[1;32mis\u001b[0m \u001b[1;32mnot\u001b[0m \u001b[1;32mNone\u001b[0m\u001b[1;33m:\u001b[0m\u001b[1;33m\u001b[0m\u001b[1;33m\u001b[0m\u001b[0m\n",
      "\u001b[1;31mKeyError\u001b[0m: 'CW stiffness (N/m)'"
     ]
    }
   ],
   "source": [
    "boxjitter = altcat.catplot(df[(df['Media']=='Growth Media')|(df['Media']=='LatB/C2')|(df['Media']=='oryzalin/C2')],\n",
    "               height=175,\n",
    "               width=450, \n",
    "               mark=dict(opacity=1.0, type='point'),\n",
    "               box_mark=dict(strokeWidth=5, opacity=0.75, color='#abb0ac'),\n",
    "               whisker_mark=dict(strokeWidth=2, opacity=0.75, color='#bababa'),\n",
    "               encoding=dict(x=alt.X('CW stiffness (N/m):Q', scale=alt.Scale(domain=(0,2))),\n",
    "                             y=alt.Y('Media:N'),\n",
    "#                              # For black&white version\n",
    "#                              fill=alt.Color('solution:N', scale=alt.Scale(domain=['T87', 'sorbitol', 'water'], range=['#808080', '#000000', '#FFFFFF'])),\n",
    "#                              # For colored version\n",
    "                             fill=alt.Color('Media:N', scale=alt.Scale(domain=['Growth Media', 'LatB/C2', 'LatB/sorbitol','oryzalin/C2','oryzalin/sorbitol','sorbitol'], range=['red', 'orange', 'blue','yellow','purple','green']))),\n",
    "               transform='jitterbox'\n",
    ")\n",
    "boxjitter.configure_text(fontWeight='bold', fontSize=20\n",
    ").configure_legend(labelFontSize=20, titleFontSize=15\n",
    ").configure_axis(labelFontSize=20, titleFontSize=20\n",
    ").configure_mark(color='black'\n",
    ").configure_point(size=100, strokeWidth=1)"
   ]
  },
  {
   "cell_type": "code",
   "execution_count": null,
   "metadata": {},
   "outputs": [],
   "source": [
    "boxjitter = altcat.catplot(df[(df['Media']!='Di Water')&(df['Media']!='Growth Media')&(df['Media']!='LatB/C2')&(df['Media']!='oryzalin/C2')],\n",
    "               height=175,\n",
    "               width=450, \n",
    "               mark=dict(opacity=1.0, type='point'),\n",
    "               box_mark=dict(strokeWidth=5, opacity=0.75, color='#abb0ac'),\n",
    "               whisker_mark=dict(strokeWidth=2, opacity=0.75, color='#bababa'),\n",
    "               encoding=dict(x=alt.X('CW stiffness (N/m):Q', scale=alt.Scale(domain=(0,0.3))),\n",
    "                             y=alt.Y('Media:N'),\n",
    "#                              # For black&white version\n",
    "#                              fill=alt.Color('solution:N', scale=alt.Scale(domain=['T87', 'sorbitol', 'water'], range=['#808080', '#000000', '#FFFFFF'])),\n",
    "#                              # For colored version\n",
    "                             fill=alt.Color('Media:N', scale=alt.Scale(domain=['Growth Media', 'LatB/C2', 'LatB/sorbitol','oryzalin/C2','oryzalin/sorbitol','sorbitol'], range=['red', 'orange', 'blue','yellow','purple','green']))),\n",
    "               transform='jitterbox'\n",
    ")\n",
    "boxjitter.configure_text(fontWeight='bold', fontSize=20\n",
    ").configure_legend(labelFontSize=20, titleFontSize=15\n",
    ").configure_axis(labelFontSize=20, titleFontSize=20\n",
    ").configure_mark(color='black'\n",
    ").configure_point(size=100, strokeWidth=1)"
   ]
  },
  {
   "cell_type": "code",
   "execution_count": null,
   "metadata": {},
   "outputs": [],
   "source": [
    "[KS, pKS] = stats.ks_2samp(df[df['Media']=='Growth Media']['CW stiffness (N/m)'].to_numpy(), \n",
    "                df[df['Media']=='oryzalin/C2']['CW stiffness (N/m)'].to_numpy())\n",
    "pKS"
   ]
  },
  {
   "cell_type": "code",
   "execution_count": null,
   "metadata": {},
   "outputs": [],
   "source": [
    "[KS, pKS] = stats.ks_2samp(df[df['Media']=='Growth Media']['CW stiffness (N/m)'].to_numpy(), \n",
    "                df[df['Media']=='LatB/C2']['CW stiffness (N/m)'].to_numpy())\n",
    "pKS"
   ]
  },
  {
   "cell_type": "code",
   "execution_count": null,
   "metadata": {},
   "outputs": [],
   "source": [
    "[KS, pKS] = stats.ks_2samp(df[df['Media']=='oryzalin/C2']['CW stiffness (N/m)'].to_numpy(), \n",
    "                df[df['Media']=='LatB/C2']['CW stiffness (N/m)'].to_numpy())\n",
    "pKS"
   ]
  },
  {
   "cell_type": "code",
   "execution_count": null,
   "metadata": {},
   "outputs": [],
   "source": [
    "[KS, pKS] = stats.ks_2samp(df[df['Media']=='sorbitol']['CW stiffness (N/m)'].to_numpy(), \n",
    "                df[df['Media']=='oryzalin/sorbitol']['CW stiffness (N/m)'].to_numpy())\n",
    "pKS"
   ]
  },
  {
   "cell_type": "code",
   "execution_count": null,
   "metadata": {},
   "outputs": [],
   "source": [
    "[KS, pKS] = stats.ks_2samp(df[df['Media']=='sorbitol']['CW stiffness (N/m)'].to_numpy(), \n",
    "                df[df['Media']=='LatB/sorbitol']['CW stiffness (N/m)'].to_numpy())\n",
    "pKS"
   ]
  },
  {
   "cell_type": "code",
   "execution_count": null,
   "metadata": {},
   "outputs": [],
   "source": [
    "[KS, pKS] = stats.ks_2samp(df[df['Media']=='oryzalin/sorbitol']['CW stiffness (N/m)'].to_numpy(), \n",
    "                df[df['Media']=='LatB/sorbitol']['CW stiffness (N/m)'].to_numpy())\n",
    "pKS"
   ]
  },
  {
   "cell_type": "code",
   "execution_count": null,
   "metadata": {},
   "outputs": [],
   "source": [
    "for i,item in enumerate(df['Linear Fit (b, ax)']):\n",
    "    df.loc[i,'Linear Fit (b, ax)']=float(item.split(',')[1])\n",
    "for i,item in enumerate(df['Spring Constant']):\n",
    "    df.loc[i,'Spring Constant']=float(item.split(' ')[0])"
   ]
  },
  {
   "cell_type": "code",
   "execution_count": null,
   "metadata": {},
   "outputs": [],
   "source": [
    "for i,k1 in enumerate(df['Spring Constant']):\n",
    "    keq = df.iloc[i]['Linear Fit (b, ax)']\n",
    "    k2 = 1/(1/keq-1/k1)\n",
    "    df.loc[i,'CW spring (N/m)'] = k2"
   ]
  },
  {
   "cell_type": "code",
   "execution_count": null,
   "metadata": {},
   "outputs": [],
   "source": [
    "ECDFs = altcat.catplot(data=df[df['Media']=='Growth Media'],\n",
    "               height=350,\n",
    "               width=450, \n",
    "               mark=dict(opacity=0.8, type='point'),\n",
    "               encoding={'x': alt.X('CW spring (N/m):Q', scale=alt.Scale(zero=False)),\n",
    "                         'fill': alt.value('red')},\n",
    "               transform='ecdf')\n",
    "ECDFs += altcat.catplot(data=df[df['Media']=='oryzalin/C2'],\n",
    "               mark=dict(opacity=0.8, type='point'),\n",
    "               encoding={'x': alt.X('CW spring (N/m):Q', scale=alt.Scale(zero=False)),\n",
    "                         'fill': alt.value('yellow')},\n",
    "               transform='ecdf')\n",
    "ECDFs += altcat.catplot(data=df[df['Media']=='sorbitol'],\n",
    "               mark=dict(opacity=0.8, type='point'),\n",
    "               encoding={'x': alt.X('CW spring (N/m):Q', scale=alt.Scale(zero=False)),\n",
    "                         'fill': alt.value('green')},\n",
    "               transform='ecdf')\n",
    "ECDFs += altcat.catplot(data=df[df['Media']=='LatB/sorbitol'],\n",
    "               mark=dict(opacity=0.8, type='point'),\n",
    "               encoding={'x': alt.X('CW spring (N/m):Q', scale=alt.Scale(zero=False)),\n",
    "                         'fill': alt.value('blue')},\n",
    "               transform='ecdf')\n",
    "ECDFs += altcat.catplot(data=df[df['Media']=='oryzalin/sorbitol'],\n",
    "               mark=dict(opacity=0.8, type='point'),\n",
    "               encoding={'x': alt.X('CW spring (N/m):Q', scale=alt.Scale(zero=False)),\n",
    "                         'fill': alt.value('purple')},\n",
    "               transform='ecdf')\n",
    "\n",
    "ECDFs.configure_text(fontWeight='bold', fontSize=20\n",
    ").configure_legend(labelFontSize=20, titleFontSize=15\n",
    ").configure_axis(labelFontSize=20, titleFontSize=20\n",
    ").configure_mark(color='black'\n",
    ").configure_point(size=100, strokeWidth=1)"
   ]
  },
  {
   "cell_type": "code",
   "execution_count": null,
   "metadata": {},
   "outputs": [],
   "source": [
    "boxjitter = altcat.catplot(df[(df['Media']!='Di Water')&(df['Media']!='Growth Media')&(df['Media']!='oryzalin/C2')],\n",
    "               height=350,\n",
    "               width=450, \n",
    "               mark=dict(opacity=1.0, type='point'),\n",
    "               box_mark=dict(strokeWidth=5, opacity=0.75, color='#abb0ac'),\n",
    "               whisker_mark=dict(strokeWidth=2, opacity=0.75, color='#bababa'),\n",
    "               encoding=dict(y=alt.Y('CW spring (N/m):Q', scale=alt.Scale(domain=(0,0.5))),\n",
    "                             x=alt.X('Media:N'),\n",
    "#                              # For black&white version\n",
    "#                              fill=alt.Color('solution:N', scale=alt.Scale(domain=['T87', 'sorbitol', 'water'], range=['#808080', '#000000', '#FFFFFF'])),\n",
    "#                              # For colored version\n",
    "                             fill=alt.Color('Media:N', scale=alt.Scale(domain=['Growth Media', 'LatB/C2', 'LatB/sorbitol','oryzalin/C2','oryzalin/sorbitol','sorbitol'], range=['red', 'orange', 'blue','yellow','purple','green']))),\n",
    "               transform='jitterbox'\n",
    ")\n",
    "boxjitter.configure_text(fontWeight='bold', fontSize=20\n",
    ").configure_legend(labelFontSize=20, titleFontSize=15\n",
    ").configure_axis(labelFontSize=20, titleFontSize=20\n",
    ").configure_mark(color='black'\n",
    ").configure_point(size=100, strokeWidth=1)"
   ]
  },
  {
   "cell_type": "code",
   "execution_count": 62,
   "metadata": {},
   "outputs": [
    {
     "data": {
      "text/plain": [
       "4.440892098500626e-16"
      ]
     },
     "execution_count": 62,
     "metadata": {},
     "output_type": "execute_result"
    }
   ],
   "source": [
    "# stat sign difference between all GM and all PS cells\n",
    "[KS, pKS] = stats.ks_2samp(df[(df['Media']=='Growth Media')|(df['Media']=='LatB/C2')|(df['Media']=='oryzalin/C2')]['E (MPa)'].to_numpy(), \n",
    "                df[(df['Media']=='sorbitol')|(df['Media']=='LatB/sorbitol')|(df['Media']=='oryzalin/sorbitol')]['E (MPa)'].to_numpy())\n",
    "pKS"
   ]
  },
  {
   "cell_type": "code",
   "execution_count": 63,
   "metadata": {},
   "outputs": [
    {
     "data": {
      "text/plain": [
       "0.0490767077454386"
      ]
     },
     "execution_count": 63,
     "metadata": {},
     "output_type": "execute_result"
    }
   ],
   "source": [
    "# GM vs GM-MT\n",
    "[KS, pKS] = stats.ks_2samp(df[df['Media']=='Growth Media']['E (MPa)'].to_numpy(),\n",
    "                df[df['Media']=='oryzalin/C2']['E (MPa)'].to_numpy())\n",
    "pKS"
   ]
  },
  {
   "cell_type": "code",
   "execution_count": 64,
   "metadata": {},
   "outputs": [
    {
     "data": {
      "text/plain": [
       "5.8334898819345504e-05"
      ]
     },
     "execution_count": 64,
     "metadata": {},
     "output_type": "execute_result"
    }
   ],
   "source": [
    "# GM vs GM-AF\n",
    "[KS, pKS] = stats.ks_2samp(df[df['Media']=='Growth Media']['E (MPa)'].to_numpy(),\n",
    "                df[df['Media']=='LatB/C2']['E (MPa)'].to_numpy())\n",
    "pKS"
   ]
  },
  {
   "cell_type": "code",
   "execution_count": 65,
   "metadata": {},
   "outputs": [
    {
     "data": {
      "text/plain": [
       "0.00010517581586122482"
      ]
     },
     "execution_count": 65,
     "metadata": {},
     "output_type": "execute_result"
    }
   ],
   "source": [
    "# GM-MT vs GM-AF\n",
    "[KS, pKS] = stats.ks_2samp(df[df['Media']=='oryzalin/C2']['E (MPa)'].to_numpy(),\n",
    "                df[df['Media']=='LatB/C2']['E (MPa)'].to_numpy())\n",
    "pKS"
   ]
  },
  {
   "cell_type": "code",
   "execution_count": 66,
   "metadata": {},
   "outputs": [
    {
     "data": {
      "text/plain": [
       "0.7556643975221443"
      ]
     },
     "execution_count": 66,
     "metadata": {},
     "output_type": "execute_result"
    }
   ],
   "source": [
    "# PS vs PS-MT\n",
    "[KS, pKS] = stats.ks_2samp(df[df['Media']=='sorbitol']['E (MPa)'].to_numpy(), \n",
    "                df[df['Media']=='oryzalin/sorbitol']['E (MPa)'].to_numpy())\n",
    "pKS"
   ]
  },
  {
   "cell_type": "code",
   "execution_count": 67,
   "metadata": {},
   "outputs": [
    {
     "data": {
      "text/plain": [
       "0.0014764941542995125"
      ]
     },
     "execution_count": 67,
     "metadata": {},
     "output_type": "execute_result"
    }
   ],
   "source": [
    "# PS vs PS-AF\n",
    "[KS, pKS] = stats.ks_2samp(df[df['Media']=='sorbitol']['E (MPa)'].to_numpy(), \n",
    "                df[df['Media']=='LatB/sorbitol']['E (MPa)'].to_numpy())\n",
    "pKS"
   ]
  },
  {
   "cell_type": "code",
   "execution_count": 68,
   "metadata": {},
   "outputs": [
    {
     "data": {
      "text/plain": [
       "0.00011437690679549917"
      ]
     },
     "execution_count": 68,
     "metadata": {},
     "output_type": "execute_result"
    }
   ],
   "source": [
    "# PS-AF vs PS-MT\n",
    "[KS, pKS] = stats.ks_2samp(df[df['Media']=='oryzalin/sorbitol']['E (MPa)'].to_numpy(), \n",
    "                df[df['Media']=='LatB/sorbitol']['E (MPa)'].to_numpy())\n",
    "pKS"
   ]
  },
  {
   "cell_type": "code",
   "execution_count": 52,
   "metadata": {},
   "outputs": [
    {
     "data": {
      "text/plain": [
       "7.861052090176416"
      ]
     },
     "execution_count": 52,
     "metadata": {},
     "output_type": "execute_result"
    }
   ],
   "source": [
    "np.std(df['Indentation'])/np.sqrt(len(df))"
   ]
  },
  {
   "cell_type": "code",
   "execution_count": 53,
   "metadata": {},
   "outputs": [
    {
     "data": {
      "text/plain": [
       "126.73294797687868"
      ]
     },
     "execution_count": 53,
     "metadata": {},
     "output_type": "execute_result"
    }
   ],
   "source": [
    "np.mean(df['Indentation'])"
   ]
  },
  {
   "cell_type": "code",
   "execution_count": 55,
   "metadata": {},
   "outputs": [
    {
     "data": {
      "text/plain": [
       "0.23180508196721314"
      ]
     },
     "execution_count": 55,
     "metadata": {},
     "output_type": "execute_result"
    }
   ],
   "source": [
    "np.mean(df[(df['Media']=='sorbitol')|(df['Media']=='LatB/sorbitol')|(df['Media']=='oryzalin/sorbitol')]['E (MPa)'])"
   ]
  },
  {
   "cell_type": "code",
   "execution_count": 56,
   "metadata": {},
   "outputs": [
    {
     "data": {
      "text/plain": [
       "0.015841223271044525"
      ]
     },
     "execution_count": 56,
     "metadata": {},
     "output_type": "execute_result"
    }
   ],
   "source": [
    "np.std(df[(df['Media']=='sorbitol')|(df['Media']=='LatB/sorbitol')|(df['Media']=='oryzalin/sorbitol')]['E (MPa)'])/np.sqrt(len(df[(df['Media']=='sorbitol')|(df['Media']=='LatB/sorbitol')|(df['Media']=='oryzalin/sorbitol')]))"
   ]
  },
  {
   "cell_type": "code",
   "execution_count": 57,
   "metadata": {},
   "outputs": [
    {
     "data": {
      "text/plain": [
       "3.4521664102564102"
      ]
     },
     "execution_count": 57,
     "metadata": {},
     "output_type": "execute_result"
    }
   ],
   "source": [
    "np.mean(df[(df['Media']=='Growth Media')|(df['Media']=='LatB/C2')|(df['Media']=='oryzalin/C2')]['E (MPa)'])"
   ]
  },
  {
   "cell_type": "code",
   "execution_count": 58,
   "metadata": {},
   "outputs": [
    {
     "data": {
      "text/plain": [
       "0.31391519161166476"
      ]
     },
     "execution_count": 58,
     "metadata": {},
     "output_type": "execute_result"
    }
   ],
   "source": [
    "np.std(df[(df['Media']=='Growth Media')|(df['Media']=='LatB/C2')|(df['Media']=='oryzalin/C2')]['E (MPa)'])/np.sqrt(len(df[(df['Media']=='Growth Media')|(df['Media']=='LatB/C2')|(df['Media']=='oryzalin/C2')]))"
   ]
  },
  {
   "cell_type": "code",
   "execution_count": null,
   "metadata": {},
   "outputs": [],
   "source": []
  }
 ],
 "metadata": {
  "kernelspec": {
   "display_name": "Python 3",
   "language": "python",
   "name": "python3"
  },
  "language_info": {
   "codemirror_mode": {
    "name": "ipython",
    "version": 3
   },
   "file_extension": ".py",
   "mimetype": "text/x-python",
   "name": "python",
   "nbconvert_exporter": "python",
   "pygments_lexer": "ipython3",
   "version": "3.8.5"
  }
 },
 "nbformat": 4,
 "nbformat_minor": 4
}
