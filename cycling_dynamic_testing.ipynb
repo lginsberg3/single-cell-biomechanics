{
 "cells": [
  {
   "cell_type": "markdown",
   "metadata": {},
   "source": [
    "# Analysis of dynamic/cycling microcompression tests on turgid and plasmolyzed BY2 cells\n",
    "\n",
    "## Last Updated: October 5, 2020\n",
    "\n",
    "This document was prepared by Leah Ginsberg, a member of the [Ravichandran Research Group](https://www.ravi.caltech.edu/) at [Caltech](http://www.caltech.edu) in collaboration with [Professor Eleftheria Roumeli](https://sites.google.com/uw.edu/roumeli-research-group/) from [University of Washington](https://www.washington.edu/). "
   ]
  },
  {
   "cell_type": "code",
   "execution_count": 1,
   "metadata": {},
   "outputs": [
    {
     "data": {
      "text/plain": [
       "DataTransformerRegistry.enable('json')"
      ]
     },
     "execution_count": 1,
     "metadata": {},
     "output_type": "execute_result"
    }
   ],
   "source": [
    "import numpy as np               # general math operations\n",
    "import pandas as pd              # pandas dataframes\n",
    "import os                        # for opening .csv files in different folders\n",
    "import altair as alt             # pretty plotting\n",
    "import altair_catplot as altcat  # pretty box & whisker plots\n",
    "from scipy import signal, stats, fftpack  # filtering and statistics\n",
    "import matplotlib.pyplot as plt  # plotting histogram\n",
    "\n",
    "alt.data_transformers.enable('json') # converts data to json for handling large data sets"
   ]
  },
  {
   "cell_type": "markdown",
   "metadata": {},
   "source": [
    "In this notebook, I will detail the preprocessing of force-indentation data from microcompression tests on tobacco (BY2) cells under various chemical treatments. I will explain each step in detail, including the use of the very handy Python package `pandas`. This package allows us to use Pandas `DataFrames`, which are convenient structures for storing data."
   ]
  },
  {
   "cell_type": "markdown",
   "metadata": {},
   "source": [
    "Note that there are images that are referred to in this notebook, but the cells that would display the images have been commented out in case you do not have the appropriate files saved. If you'd like to see the images, you can always find and uncomment the blocks by searching for the phrase \"Image\" in this notebook."
   ]
  },
  {
   "cell_type": "markdown",
   "metadata": {},
   "source": [
    "This preprocessing is part of a larger inverse analysis method used to determine a constitutive model for the property of the cell wall. The full process is pictured below, and the highlighted block is executed in this notebook."
   ]
  },
  {
   "cell_type": "markdown",
   "metadata": {},
   "source": [
    "The data preprocessing steps are as follows:\n",
    "1. Import the raw data from microcompression experiments ($Z$, $F$)\n",
    "3. Calculate the sensor stiffness from filtered calibration data ($S$)\n",
    "4. Calculate the corrected displacement\n",
    "5. Calcuate the point of contact by iteratively offsetting force and lowering threshold\n",
    "6. Fit line to initial portion of displacement curve"
   ]
  },
  {
   "cell_type": "markdown",
   "metadata": {},
   "source": [
    "### (1) Import the raw data from microcompression experiments ($Z$, $F$)"
   ]
  },
  {
   "cell_type": "markdown",
   "metadata": {},
   "source": [
    "In this step, I will load data stored on disk into a Python data structure.  I will use `pandas` to read in CSV (comma separated value) files and store the results in the very handy Pandas `DataFrame`. First, I need to organize the data according to the treatment each cell received, the date of the experiment and the day of growth of the cell. All of that information is in the name of the folder containing the data."
   ]
  },
  {
   "cell_type": "code",
   "execution_count": 2,
   "metadata": {},
   "outputs": [],
   "source": [
    "dir_list = os.listdir() # prints a list of strings with all folder names in the current working directory\n",
    "sorbitol_folderNames = []\n",
    "C2_folderNames = []\n",
    "ory_folderNames = []\n",
    "LatB_folderNames = []\n",
    "ory_sorbitol_folderNames = []\n",
    "LatB_sorbitol_folderNames = []\n",
    "water_folderNames = []\n",
    "for folderName in dir_list:\n",
    "    if folderName.endswith('_in_C2'):\n",
    "        C2_folderNames.append(folderName+'/')\n",
    "    elif folderName.endswith('_oryzalin'):\n",
    "        ory_folderNames.append(folderName+'/')\n",
    "    elif folderName.endswith('_LatB'):\n",
    "        LatB_folderNames.append(folderName+'/')\n",
    "    elif folderName.endswith('_oryzalin_sorbitol'):\n",
    "        ory_sorbitol_folderNames.append(folderName+'/')\n",
    "    elif folderName.endswith('_LatB_sorbitol'):\n",
    "        LatB_sorbitol_folderNames.append(folderName+'/')\n",
    "    elif folderName.endswith('_sorbitol'):\n",
    "        sorbitol_folderNames.append(folderName+'/')\n",
    "    elif folderName.endswith('_water'):\n",
    "        water_folderNames.append(folderName+'/')\n",
    "        \n",
    "# combine all the lists of folder names into one list\n",
    "folderNames = ['cycling_tests/in_C2/','cycling_tests/in_LatB/','cycling_tests/in_sorbitol/','cycling_tests/in_water/']"
   ]
  },
  {
   "cell_type": "markdown",
   "metadata": {},
   "source": [
    "Next, I need to determine which files are calibration data, which are sample data, and which are neither (images)."
   ]
  },
  {
   "cell_type": "code",
   "execution_count": 3,
   "metadata": {},
   "outputs": [],
   "source": [
    "# Get names of all files to be used as calibration data or sample data\n",
    "sample_fileNames = []\n",
    "for folderName in folderNames:\n",
    "    dir_list = os.listdir(folderName)\n",
    "    for fileName in dir_list:\n",
    "        if fileName.startswith('cell') and not fileName.endswith('.png') and not fileName.endswith('.tif') and not fileName.endswith('_corr') and not fileName.endswith('_proc') and not fileName.endswith('.mp4'):\n",
    "            sample_fileNames.append(folderName + fileName+'_corr')"
   ]
  },
  {
   "cell_type": "markdown",
   "metadata": {},
   "source": [
    "Now I can will use `pd.read_csv()` to load the data set.  The data are stored in a **DataFrame**, which is one of the data types that makes `pandas` so convenient for use in data analysis.  `DataFrame`s offer mixed data types, including incomplete columns, and convenient slicing, among many, many other convenient features. They are like spreadsheets, only a lot better.\n",
    "\n",
    "I will load the sample data into a dataframe."
   ]
  },
  {
   "cell_type": "code",
   "execution_count": 4,
   "metadata": {},
   "outputs": [
    {
     "data": {
      "text/html": [
       "<div>\n",
       "<style scoped>\n",
       "    .dataframe tbody tr th:only-of-type {\n",
       "        vertical-align: middle;\n",
       "    }\n",
       "\n",
       "    .dataframe tbody tr th {\n",
       "        vertical-align: top;\n",
       "    }\n",
       "\n",
       "    .dataframe thead th {\n",
       "        text-align: right;\n",
       "    }\n",
       "</style>\n",
       "<table border=\"1\" class=\"dataframe\">\n",
       "  <thead>\n",
       "    <tr style=\"text-align: right;\">\n",
       "      <th></th>\n",
       "      <th>Index</th>\n",
       "      <th>Time (s)</th>\n",
       "      <th>Displacement (um)</th>\n",
       "      <th>Pos X (um)</th>\n",
       "      <th>Pos Y (um)</th>\n",
       "      <th>Pos Z (um)</th>\n",
       "      <th>Force A (uN)</th>\n",
       "      <th>Force B (uN)</th>\n",
       "      <th>fileName</th>\n",
       "      <th>indenting</th>\n",
       "      <th>plasmolyzed</th>\n",
       "      <th>treatment</th>\n",
       "      <th>Corrected Displacement (um)</th>\n",
       "      <th>cellNum</th>\n",
       "    </tr>\n",
       "  </thead>\n",
       "  <tbody>\n",
       "    <tr>\n",
       "      <th>0</th>\n",
       "      <td>1.001</td>\n",
       "      <td>0.123</td>\n",
       "      <td>0.20325</td>\n",
       "      <td>184.00625</td>\n",
       "      <td>-106.00100</td>\n",
       "      <td>49.77075</td>\n",
       "      <td>-10.54090</td>\n",
       "      <td>-0.00129</td>\n",
       "      <td>cycling_tests/in_C2/cell001_corr</td>\n",
       "      <td>True</td>\n",
       "      <td>False</td>\n",
       "      <td>C2</td>\n",
       "      <td>0.244673</td>\n",
       "      <td></td>\n",
       "    </tr>\n",
       "    <tr>\n",
       "      <th>1</th>\n",
       "      <td>1.001</td>\n",
       "      <td>0.228</td>\n",
       "      <td>0.27500</td>\n",
       "      <td>184.00700</td>\n",
       "      <td>-106.00125</td>\n",
       "      <td>49.69900</td>\n",
       "      <td>-10.88703</td>\n",
       "      <td>-0.00336</td>\n",
       "      <td>cycling_tests/in_C2/cell001_corr</td>\n",
       "      <td>True</td>\n",
       "      <td>False</td>\n",
       "      <td>C2</td>\n",
       "      <td>0.317783</td>\n",
       "      <td></td>\n",
       "    </tr>\n",
       "    <tr>\n",
       "      <th>2</th>\n",
       "      <td>1.001</td>\n",
       "      <td>0.346</td>\n",
       "      <td>0.30325</td>\n",
       "      <td>184.00700</td>\n",
       "      <td>-106.00075</td>\n",
       "      <td>49.67075</td>\n",
       "      <td>-10.78654</td>\n",
       "      <td>-0.00192</td>\n",
       "      <td>cycling_tests/in_C2/cell001_corr</td>\n",
       "      <td>True</td>\n",
       "      <td>False</td>\n",
       "      <td>C2</td>\n",
       "      <td>0.345638</td>\n",
       "      <td></td>\n",
       "    </tr>\n",
       "    <tr>\n",
       "      <th>3</th>\n",
       "      <td>1.001</td>\n",
       "      <td>0.466</td>\n",
       "      <td>0.32000</td>\n",
       "      <td>184.00625</td>\n",
       "      <td>-106.00100</td>\n",
       "      <td>49.65400</td>\n",
       "      <td>-10.74826</td>\n",
       "      <td>0.00253</td>\n",
       "      <td>cycling_tests/in_C2/cell001_corr</td>\n",
       "      <td>True</td>\n",
       "      <td>False</td>\n",
       "      <td>C2</td>\n",
       "      <td>0.362238</td>\n",
       "      <td></td>\n",
       "    </tr>\n",
       "    <tr>\n",
       "      <th>4</th>\n",
       "      <td>1.001</td>\n",
       "      <td>0.595</td>\n",
       "      <td>0.34275</td>\n",
       "      <td>184.00600</td>\n",
       "      <td>-106.00075</td>\n",
       "      <td>49.63125</td>\n",
       "      <td>-10.73709</td>\n",
       "      <td>0.00397</td>\n",
       "      <td>cycling_tests/in_C2/cell001_corr</td>\n",
       "      <td>True</td>\n",
       "      <td>False</td>\n",
       "      <td>C2</td>\n",
       "      <td>0.384944</td>\n",
       "      <td></td>\n",
       "    </tr>\n",
       "  </tbody>\n",
       "</table>\n",
       "</div>"
      ],
      "text/plain": [
       "   Index  Time (s)  Displacement (um)  Pos X (um)  Pos Y (um)  Pos Z (um)  \\\n",
       "0  1.001     0.123            0.20325   184.00625  -106.00100    49.77075   \n",
       "1  1.001     0.228            0.27500   184.00700  -106.00125    49.69900   \n",
       "2  1.001     0.346            0.30325   184.00700  -106.00075    49.67075   \n",
       "3  1.001     0.466            0.32000   184.00625  -106.00100    49.65400   \n",
       "4  1.001     0.595            0.34275   184.00600  -106.00075    49.63125   \n",
       "\n",
       "   Force A (uN)  Force B (uN)                          fileName indenting  \\\n",
       "0     -10.54090      -0.00129  cycling_tests/in_C2/cell001_corr      True   \n",
       "1     -10.88703      -0.00336  cycling_tests/in_C2/cell001_corr      True   \n",
       "2     -10.78654      -0.00192  cycling_tests/in_C2/cell001_corr      True   \n",
       "3     -10.74826       0.00253  cycling_tests/in_C2/cell001_corr      True   \n",
       "4     -10.73709       0.00397  cycling_tests/in_C2/cell001_corr      True   \n",
       "\n",
       "  plasmolyzed treatment  Corrected Displacement (um) cellNum  \n",
       "0       False        C2                     0.244673          \n",
       "1       False        C2                     0.317783          \n",
       "2       False        C2                     0.345638          \n",
       "3       False        C2                     0.362238          \n",
       "4       False        C2                     0.384944          "
      ]
     },
     "execution_count": 4,
     "metadata": {},
     "output_type": "execute_result"
    }
   ],
   "source": [
    "# Organize dataframe by column with additional information about experiment not found in .csv file (date, day of growth, etc.)\n",
    "df_sample = pd.DataFrame(columns=['Index','Time (s)','Displacement (um)','Pos X (um)','Pos Y (um)','Pos Z (um)','Force A (uN)','Force B (uN)','fileName','indenting','plasmolyzed','treatment','Corrected Displacement (um)'])\n",
    "\n",
    "# loop through all sample data\n",
    "for j, fileName in enumerate(sample_fileNames):\n",
    "    # read data from file to dataframe\n",
    "    df = pd.read_csv(fileName, header=0, sep='\\t', names=['Index','Time (s)','Displacement (um)','Pos X (um)','Pos Y (um)','Pos Z (um)','Force A (uN)','Force B (uN)','fileName','indenting','plasmolyzed','treatment','Corrected Displacement (um)'])\n",
    "    \n",
    "    df['fileName']=fileName\n",
    "    df['indenting']=df['Index']==1.001 # in data files, Index 1.001 indicates indenting data, and Index 2.001 indicates retraction data\n",
    "    \n",
    "    # Take information about experiment (date, growth day, treatment) from filename and put into dataframe\n",
    "    df['cellNum'] = fileName.split('/')[1].split('_')[0][4:]\n",
    "    if '_in_C2' in fileName:\n",
    "        df['treatment'] = 'C2'\n",
    "    elif '_oryzalin_sorbitol' in fileName:\n",
    "        df['treatment'] = 'oryzalin+sorbitol'\n",
    "    elif '_LatB_sorbitol' in fileName:\n",
    "        df['treatment'] = 'LatB+sorbitol'\n",
    "    elif '_oryzalin' in fileName:\n",
    "        df['treatment'] = 'oryzalin'\n",
    "    elif '_LatB' in fileName:\n",
    "        df['treatment'] = 'LatB'\n",
    "    elif '_sorbitol' in fileName:\n",
    "        df['treatment'] = 'sorbitol'\n",
    "    elif '_water' in fileName:\n",
    "        df['treatment'] = 'water'\n",
    "    \n",
    "    # concatenate all sample dataframes into one dataframe\n",
    "    df_sample = pd.concat([df_sample, df])\n",
    "\n",
    "# Take a look at the dataframe we created\n",
    "df_sample.head()"
   ]
  },
  {
   "cell_type": "markdown",
   "metadata": {},
   "source": [
    "As you can see, both DataFrames have the same format and both DataFrames are tidy. See this [paper](https://www.jstatsoft.org/article/view/v059i10) by Hadley Wickam for a detailed discussion of tidying data. The basic structure of tidy data is:\n",
    "1. Each variable is a column\n",
    "2. Each observation is a row\n",
    "3. Each type of observational unit is its own table\n",
    "\n",
    "With our data set up in this way, we can easily find data, say, with a specific treatment using Boolean slicing."
   ]
  },
  {
   "cell_type": "code",
   "execution_count": 5,
   "metadata": {},
   "outputs": [],
   "source": [
    "# Remove cell data with unusual/unexpected attributes\n",
    "df_sample = df_sample[df_sample['fileName']!='BY2_in_C2/cell014_corr']\n",
    "df_sample = df_sample[df_sample['fileName']!='BY2_in_C2/cell020_corr']\n",
    "df_sample = df_sample[df_sample['fileName']!='BY2_in_oryzalin/cell053_corr']\n",
    "df_sample = df_sample[df_sample['fileName']!='BY2_in_oryzalin/cell058_corr']\n",
    "df_sample = df_sample[df_sample['fileName']!='BY2_in_oryzalin_sorbitol/cell061_corr']\n",
    "df_sample = df_sample[df_sample['fileName']!='BY2_in_oryzalin_sorbitol/cell067_corr']\n",
    "df_sample = df_sample[df_sample['fileName']!='BY2_in_oryzalin_sorbitol/cell069_corr']\n",
    "df_sample = df_sample[df_sample['fileName']!='BY2_in_oryzalin_sorbitol/cell070_corr']\n",
    "df_sample = df_sample[df_sample['fileName']!='BY2_in_oryzalin_sorbitol/cell071_corr']\n",
    "df_sample = df_sample[df_sample['fileName']!='BY2_in_sorbitol/cell083_corr']\n",
    "df_sample = df_sample[df_sample['fileName']!='BY2_in_sorbitol/cell094_corr']\n",
    "df_sample = df_sample[df_sample['fileName']!='BY2_in_sorbitol/cell098_corr']\n",
    "df_sample = df_sample[df_sample['fileName']!='BY2_in_sorbitol/cell106_corr']\n",
    "df_sample = df_sample[df_sample['fileName']!='BY2_in_sorbitol/cell112_corr']\n",
    "df_sample = df_sample[df_sample['fileName']!='BY2_in_water/cell115_corr']\n",
    "df_sample = df_sample[df_sample['fileName']!='BY2_in_water/cell136_corr']\n",
    "df_sample = df_sample[df_sample['fileName']!='BY2_in_water/cell141_corr']\n",
    "df_sample = df_sample[df_sample['fileName']!='BY2_in_water/cell142_corr']\n",
    "df_sample = df_sample[df_sample['fileName']!='BY2_in_water/cell151_corr']\n",
    "df_sample = df_sample[df_sample['fileName']!='BY2_in_water/cell156_corr']\n",
    "df_sample = df_sample[df_sample['fileName']!='BY2_in_water/cell157_corr']\n",
    "df_sample = df_sample[df_sample['fileName']!='BY2_in_water/cell162_corr']\n",
    "df_sample = df_sample[df_sample['fileName']!='BY2_in_water/cell163_corr']\n",
    "df_sample = df_sample[df_sample['fileName']!='BY2_in_water/cell169_corr']\n",
    "df_sample = df_sample[df_sample['fileName']!='BY2_in_water/cell189_corr']"
   ]
  },
  {
   "cell_type": "code",
   "execution_count": 6,
   "metadata": {},
   "outputs": [],
   "source": [
    "df_sample.insert(10,'Full Indentation', False, False) # initialize full indentation indicator column"
   ]
  },
  {
   "cell_type": "code",
   "execution_count": 7,
   "metadata": {},
   "outputs": [],
   "source": [
    "for fileName in df_sample['fileName'].unique():\n",
    "    df = df_sample[df_sample['fileName']==fileName]\n",
    "    if max(df['Force A (uN)'])>790:\n",
    "        df_sample.loc[df_sample['fileName']==fileName, 'Full Indentation'] = True\n",
    "    else:\n",
    "        df_sample.loc[df_sample['fileName']==fileName, 'Full Indentation'] = False"
   ]
  },
  {
   "cell_type": "markdown",
   "metadata": {},
   "source": [
    "### (2) Use threshold data to calcuate the point of contact"
   ]
  },
  {
   "cell_type": "markdown",
   "metadata": {},
   "source": [
    "From Routier-Kierzkowska et al.: \"For each measurement cycle, the force signal is offset, so that the mean force signal before the contact point is equal to zero. The contact point is then determined to be the closest point to the maximal indentation that is below a user-defined contact force threshold (usually smaller than 1 $\\mu$N). Both force offsetting and contact point detection are performed iteratively, using finer and finer threshold values. Indentation depth is then given by the sensor position corrected for sensor deflection) minus the contact point position.\" "
   ]
  },
  {
   "cell_type": "code",
   "execution_count": 8,
   "metadata": {},
   "outputs": [],
   "source": [
    "df_sample.insert(14,'offset force A (uN)', df_sample['Force A (uN)'],False) # initialize offset force column"
   ]
  },
  {
   "cell_type": "code",
   "execution_count": 9,
   "metadata": {},
   "outputs": [
    {
     "data": {
      "text/html": [
       "<div>\n",
       "<style scoped>\n",
       "    .dataframe tbody tr th:only-of-type {\n",
       "        vertical-align: middle;\n",
       "    }\n",
       "\n",
       "    .dataframe tbody tr th {\n",
       "        vertical-align: top;\n",
       "    }\n",
       "\n",
       "    .dataframe thead th {\n",
       "        text-align: right;\n",
       "    }\n",
       "</style>\n",
       "<table border=\"1\" class=\"dataframe\">\n",
       "  <thead>\n",
       "    <tr style=\"text-align: right;\">\n",
       "      <th></th>\n",
       "      <th>Original Folder</th>\n",
       "      <th>Old cell ID</th>\n",
       "      <th>folderName</th>\n",
       "      <th>cell ID</th>\n",
       "      <th>cellNum</th>\n",
       "      <th>cycle</th>\n",
       "      <th>treatment</th>\n",
       "      <th>Notes</th>\n",
       "      <th>threshold</th>\n",
       "    </tr>\n",
       "  </thead>\n",
       "  <tbody>\n",
       "    <tr>\n",
       "      <th>19</th>\n",
       "      <td>20190926_BY2_d10</td>\n",
       "      <td>3a</td>\n",
       "      <td>cycling_tests/in_water/</td>\n",
       "      <td>cell116</td>\n",
       "      <td>116</td>\n",
       "      <td>1</td>\n",
       "      <td>water</td>\n",
       "      <td>nice and fluffy cell; huge response</td>\n",
       "      <td>4.0</td>\n",
       "    </tr>\n",
       "    <tr>\n",
       "      <th>20</th>\n",
       "      <td>20190926_BY2_d10</td>\n",
       "      <td>3b</td>\n",
       "      <td>cycling_tests/in_water/</td>\n",
       "      <td>cell116B</td>\n",
       "      <td>116</td>\n",
       "      <td>2</td>\n",
       "      <td>water</td>\n",
       "      <td>same spot cycle 2</td>\n",
       "      <td>0.5</td>\n",
       "    </tr>\n",
       "    <tr>\n",
       "      <th>21</th>\n",
       "      <td>20190926_BY2_d10</td>\n",
       "      <td>3c</td>\n",
       "      <td>cycling_tests/in_water/</td>\n",
       "      <td>cell116C</td>\n",
       "      <td>116</td>\n",
       "      <td>3</td>\n",
       "      <td>water</td>\n",
       "      <td>cycle 3</td>\n",
       "      <td>1.0</td>\n",
       "    </tr>\n",
       "    <tr>\n",
       "      <th>22</th>\n",
       "      <td>20190926_BY2_d10</td>\n",
       "      <td>3d</td>\n",
       "      <td>cycling_tests/in_water/</td>\n",
       "      <td>cell116D</td>\n",
       "      <td>116</td>\n",
       "      <td>4</td>\n",
       "      <td>water</td>\n",
       "      <td>cycle 4</td>\n",
       "      <td>1.0</td>\n",
       "    </tr>\n",
       "  </tbody>\n",
       "</table>\n",
       "</div>"
      ],
      "text/plain": [
       "     Original Folder Old cell ID               folderName   cell ID  cellNum  \\\n",
       "19  20190926_BY2_d10          3a  cycling_tests/in_water/   cell116      116   \n",
       "20  20190926_BY2_d10          3b  cycling_tests/in_water/  cell116B      116   \n",
       "21  20190926_BY2_d10          3c  cycling_tests/in_water/  cell116C      116   \n",
       "22  20190926_BY2_d10          3d  cycling_tests/in_water/  cell116D      116   \n",
       "\n",
       "    cycle treatment                                Notes  threshold  \n",
       "19      1     water  nice and fluffy cell; huge response        4.0  \n",
       "20      2     water                    same spot cycle 2        0.5  \n",
       "21      3     water                              cycle 3        1.0  \n",
       "22      4     water                              cycle 4        1.0  "
      ]
     },
     "execution_count": 9,
     "metadata": {},
     "output_type": "execute_result"
    }
   ],
   "source": [
    "# import threshold and location data from csv file\n",
    "df_thresholds = pd.read_csv('renaming guide for cycling tests.csv', names=['Original Folder', 'Old cell ID', 'folderName', 'cell ID', 'cellNum','cycle','treatment', 'Notes', 'threshold'], header=0, sep=',')\n",
    "df_thresholds[df_thresholds['cellNum']==116]"
   ]
  },
  {
   "cell_type": "code",
   "execution_count": 10,
   "metadata": {},
   "outputs": [],
   "source": [
    "fileNames = df_thresholds['folderName'] + df_thresholds['cell ID']  + '_corr'\n",
    "\n",
    "for fileName in fileNames:\n",
    "    # copy threshold and location data to df_sample\n",
    "    df_thresh = df_thresholds[(df_thresholds['folderName']==(fileName.split('/')[0]+'/'+fileName.split('/')[1]+'/')) & (df_thresholds['cell ID']==fileName.split('/')[2][:-5])].reset_index(drop=True)\n",
    "    df_sample.loc[df_sample['fileName']==fileName, 'threshold'] = df_thresh['threshold'][0]\n",
    "    df_sample.loc[df_sample['fileName']==fileName, 'cellNum'] = df_thresh['cellNum'][0]\n",
    "    df_sample.loc[df_sample['fileName']==fileName, 'cycle'] = df_thresh['cycle'][0]"
   ]
  },
  {
   "cell_type": "code",
   "execution_count": 11,
   "metadata": {},
   "outputs": [
    {
     "name": "stdout",
     "output_type": "stream",
     "text": [
      "cycling_tests/in_C2/cell001_corr\n",
      "cycling_tests/in_C2/cell001B_corr\n",
      "cycling_tests/in_C2/cell001C_corr\n",
      "cycling_tests/in_C2/cell001D_corr\n",
      "cycling_tests/in_C2/cell011_corr"
     ]
    },
    {
     "name": "stderr",
     "output_type": "stream",
     "text": [
      "C:\\Users\\leahm\\anaconda3\\lib\\site-packages\\pandas\\core\\indexing.py:966: SettingWithCopyWarning: \n",
      "A value is trying to be set on a copy of a slice from a DataFrame.\n",
      "Try using .loc[row_indexer,col_indexer] = value instead\n",
      "\n",
      "See the caveats in the documentation: https://pandas.pydata.org/pandas-docs/stable/user_guide/indexing.html#returning-a-view-versus-a-copy\n",
      "  self.obj[item] = s\n",
      "C:\\Users\\leahm\\anaconda3\\lib\\site-packages\\pandas\\core\\indexing.py:845: SettingWithCopyWarning: \n",
      "A value is trying to be set on a copy of a slice from a DataFrame.\n",
      "Try using .loc[row_indexer,col_indexer] = value instead\n",
      "\n",
      "See the caveats in the documentation: https://pandas.pydata.org/pandas-docs/stable/user_guide/indexing.html#returning-a-view-versus-a-copy\n",
      "  self.obj[key] = _infer_fill_value(value)\n"
     ]
    },
    {
     "name": "stdout",
     "output_type": "stream",
     "text": [
      "\n",
      "cycling_tests/in_C2/cell011B_corr\n",
      "cycling_tests/in_C2/cell019_corr\n",
      "cycling_tests/in_C2/cell019B_corr\n",
      "cycling_tests/in_LatB/cell029_corr\n",
      "cycling_tests/in_LatB/cell029B_corr\n",
      "cycling_tests/in_sorbitol/cell077_corr\n",
      "cycling_tests/in_sorbitol/cell077B_corr\n",
      "cycling_tests/in_sorbitol/cell088_corr\n",
      "cycling_tests/in_sorbitol/cell088B_corr\n",
      "cycling_tests/in_sorbitol/cell088C_corr\n",
      "cycling_tests/in_sorbitol/cell090_corr\n",
      "cycling_tests/in_sorbitol/cell090B_corr\n",
      "cycling_tests/in_sorbitol/cell103_corr\n",
      "cycling_tests/in_sorbitol/cell103B_corr\n",
      "cycling_tests/in_water/cell116_corr\n",
      "cycling_tests/in_water/cell116B_corr\n",
      "cycling_tests/in_water/cell116C_corr\n",
      "cycling_tests/in_water/cell116D_corr\n",
      "cycling_tests/in_water/cell119_corr\n",
      "cycling_tests/in_water/cell119B_corr\n",
      "cycling_tests/in_water/cell125_corr\n",
      "cycling_tests/in_water/cell125B_corr\n",
      "cycling_tests/in_water/cell125C_corr\n",
      "cycling_tests/in_water/cell128_corr\n",
      "cycling_tests/in_water/cell128B_corr\n",
      "cycling_tests/in_water/cell128C_corr\n",
      "cycling_tests/in_water/cell128D_corr\n",
      "cycling_tests/in_water/cell129_corr\n",
      "cycling_tests/in_water/cell129B_corr\n",
      "cycling_tests/in_water/cell132_corr\n",
      "cycling_tests/in_water/cell132B_corr\n",
      "cycling_tests/in_water/cell132C_corr\n",
      "cycling_tests/in_water/cell132D_corr\n"
     ]
    }
   ],
   "source": [
    "for fileName in df_sample['fileName'].unique():\n",
    "    df = df_sample[df_sample['fileName']==fileName]        # select current data set\n",
    "    end_thr = df['threshold'].unique()[0]             # optimal final threshold value\n",
    "    print(fileName)\n",
    "    # sequence of thresholds depending upon final threshold value\n",
    "    if end_thr>=10.0:\n",
    "        thresholds = [20,end_thr]\n",
    "    elif end_thr>=5.0:\n",
    "        thresholds = [20, 10, end_thr]\n",
    "    else:\n",
    "        thresholds = [20, 10, 5, end_thr]\n",
    "\n",
    "    # loop over threshold values\n",
    "    for i, threshold in enumerate(thresholds):\n",
    "        df_indenting = df[df['indenting']]                                            # only concerned with indentation data\n",
    "        df_precontact = df_indenting[df_indenting['offset force A (uN)']<threshold]   # define all data below threshold as 'precontact'\n",
    "        force_offset = np.mean(df_precontact['offset force A (uN)'])                  # force offset is mean of precontact data (so that new mean of precontact data is zero)\n",
    "        df.loc[:,'offset force A (uN)'] = df['offset force A (uN)'] - force_offset    # write new offset force on dataframe\n",
    "        # Find the contact point (the point where the force data crosses the threshold)\n",
    "        contact_point = max(df_indenting[df_indenting['offset force A (uN)']<threshold]['Corrected Displacement (um)'])\n",
    "        # get rid of initial data if needed\n",
    "        if contact_point>20:\n",
    "            df = df[df['Corrected Displacement (um)']>contact_point-20]\n",
    "            df.loc[:,'Corrected Displacement (um)'] = df['Corrected Displacement (um)']-(contact_point-20)\n",
    "        df.loc[:,'indentation depth (um)'] = df['Corrected Displacement (um)'] - contact_point\n",
    "        # save results in dataframe\n",
    "        df_sample.loc[df_sample['fileName']==fileName,'Corrected Displacement (um)'] = df['Corrected Displacement (um)']\n",
    "        df_sample.loc[df_sample['fileName']==fileName,'indentation depth (um)'] = df['indentation depth (um)']\n",
    "        df_sample.loc[df_sample['fileName']==fileName,'offset force A (uN)'] = df['offset force A (uN)']\n",
    "df_sample = df_sample.dropna() # drop rows of dataframe with NaN values"
   ]
  },
  {
   "cell_type": "markdown",
   "metadata": {},
   "source": [
    "Let's see the final results for our processed data, sorted by treatment and colored by location of the tip on the cell."
   ]
  },
  {
   "cell_type": "code",
   "execution_count": 12,
   "metadata": {},
   "outputs": [
    {
     "data": {
      "application/vnd.vegalite.v3+json": {
       "$schema": "https://vega.github.io/schema/vega-lite/v3.4.0.json",
       "config": {
        "axis": {
         "labelFontSize": 20,
         "titleFontSize": 20
        },
        "legend": {
         "labelFontSize": 20,
         "titleFontSize": 15
        },
        "mark": {
         "tooltip": null
        },
        "point": {
         "size": 100,
         "strokeWidth": 1
        },
        "text": {
         "fontSize": 20,
         "fontWeight": "bold"
        },
        "view": {
         "height": 300,
         "width": 400
        }
       },
       "data": {
        "format": {
         "type": "json"
        },
        "url": "altair-data-2b93d329ac667a4e65098594eb29bca7.json"
       },
       "encoding": {
        "color": {
         "field": "cycle",
         "scale": {
          "domain": [
           1,
           2,
           3,
           4
          ],
          "range": [
           "#000000",
           "#265868",
           "#3b88a2",
           "#add4e1"
          ]
         },
         "type": "nominal"
        },
        "x": {
         "field": "indentation depth (um)",
         "type": "quantitative"
        },
        "y": {
         "field": "offset force A (uN)",
         "type": "quantitative"
        }
       },
       "mark": "circle",
       "selection": {
        "selector001": {
         "bind": "scales",
         "encodings": [
          "x",
          "y"
         ],
         "type": "interval"
        }
       }
      },
      "image/png": "[encoded data removed]",
      "text/plain": [
       "<VegaLite 3 object>\n",
       "\n",
       "If you see this message, it means the renderer has not been properly enabled\n",
       "for the frontend that you are using. For more information, see\n",
       "https://altair-viz.github.io/user_guide/troubleshooting.html\n"
      ]
     },
     "execution_count": 12,
     "metadata": {},
     "output_type": "execute_result"
    }
   ],
   "source": [
    "# indenting data from C2 treatment\n",
    "alt.Chart(df_sample[(df_sample['treatment']=='water')&(df_sample['cellNum']==132)&(df_sample['indentation depth (um)']>0)]).mark_circle().encode(\n",
    "    x='indentation depth (um)',\n",
    "    y='offset force A (uN)',\n",
    "    color = alt.Color('cycle:N',  scale=alt.Scale(domain=[1,2,3,4], range=['#000000','#265868','#3b88a2', '#add4e1' ]))\n",
    ").configure_text(fontWeight='bold', fontSize=20\n",
    ").configure_legend(labelFontSize=20, titleFontSize=15\n",
    ").configure_axis(labelFontSize=20, titleFontSize=20\n",
    ").configure_point(size=100, strokeWidth=1).interactive()"
   ]
  },
  {
   "cell_type": "code",
   "execution_count": 13,
   "metadata": {},
   "outputs": [
    {
     "data": {
      "application/vnd.vegalite.v3+json": {
       "$schema": "https://vega.github.io/schema/vega-lite/v3.4.0.json",
       "config": {
        "mark": {
         "tooltip": null
        },
        "view": {
         "height": 300,
         "width": 400
        }
       },
       "data": {
        "format": {
         "type": "json"
        },
        "url": "altair-data-71a376c0d5a14e40f7b37b9a10f9f504.json"
       },
       "encoding": {
        "color": {
         "field": "cellNum",
         "type": "nominal"
        },
        "x": {
         "field": "indentation depth (um)",
         "type": "quantitative"
        },
        "y": {
         "field": "offset force A (uN)",
         "type": "quantitative"
        }
       },
       "mark": "square",
       "selection": {
        "selector002": {
         "bind": "scales",
         "encodings": [
          "x",
          "y"
         ],
         "type": "interval"
        }
       }
      },
      "image/png": "[encoded data removed]",
      "text/plain": [
       "<VegaLite 3 object>\n",
       "\n",
       "If you see this message, it means the renderer has not been properly enabled\n",
       "for the frontend that you are using. For more information, see\n",
       "https://altair-viz.github.io/user_guide/troubleshooting.html\n"
      ]
     },
     "execution_count": 13,
     "metadata": {},
     "output_type": "execute_result"
    }
   ],
   "source": [
    "# indenting data from LatB treatment\n",
    "alt.Chart(df_sample[(df_sample['indenting'])&(df_sample['treatment']=='LatB')]).mark_square().encode(\n",
    "    x='indentation depth (um)',\n",
    "    y='offset force A (uN)',\n",
    "    color = 'cellNum:N'\n",
    ").interactive()"
   ]
  },
  {
   "cell_type": "code",
   "execution_count": 14,
   "metadata": {},
   "outputs": [
    {
     "data": {
      "application/vnd.vegalite.v3+json": {
       "$schema": "https://vega.github.io/schema/vega-lite/v3.4.0.json",
       "config": {
        "mark": {
         "tooltip": null
        },
        "view": {
         "height": 300,
         "width": 400
        }
       },
       "data": {
        "format": {
         "type": "json"
        },
        "url": "altair-data-714da18b4bff0e4b672f7c8373952165.json"
       },
       "encoding": {
        "color": {
         "field": "cellNum",
         "type": "nominal"
        },
        "x": {
         "field": "indentation depth (um)",
         "type": "quantitative"
        },
        "y": {
         "field": "offset force A (uN)",
         "type": "quantitative"
        }
       },
       "mark": "square",
       "selection": {
        "selector003": {
         "bind": "scales",
         "encodings": [
          "x",
          "y"
         ],
         "type": "interval"
        }
       }
      },
      "image/png": "[encoded data removed]",
      "text/plain": [
       "<VegaLite 3 object>\n",
       "\n",
       "If you see this message, it means the renderer has not been properly enabled\n",
       "for the frontend that you are using. For more information, see\n",
       "https://altair-viz.github.io/user_guide/troubleshooting.html\n"
      ]
     },
     "execution_count": 14,
     "metadata": {},
     "output_type": "execute_result"
    }
   ],
   "source": [
    "# indenting data from sorbitol treatment\n",
    "alt.Chart(df_sample[(df_sample['indenting'])&(df_sample['treatment']=='sorbitol')]).mark_square().encode(\n",
    "    x='indentation depth (um)',\n",
    "    y='offset force A (uN)',\n",
    "    color = 'cellNum:N'\n",
    ").interactive()"
   ]
  },
  {
   "cell_type": "code",
   "execution_count": 15,
   "metadata": {},
   "outputs": [
    {
     "data": {
      "application/vnd.vegalite.v3+json": {
       "$schema": "https://vega.github.io/schema/vega-lite/v3.4.0.json",
       "config": {
        "mark": {
         "tooltip": null
        },
        "view": {
         "height": 300,
         "width": 400
        }
       },
       "data": {
        "format": {
         "type": "json"
        },
        "url": "altair-data-cc1cd318801bc3e3b4f9f51eb07576b2.json"
       },
       "encoding": {
        "color": {
         "field": "cellNum",
         "type": "nominal"
        },
        "x": {
         "field": "indentation depth (um)",
         "type": "quantitative"
        },
        "y": {
         "field": "offset force A (uN)",
         "type": "quantitative"
        }
       },
       "mark": "square",
       "selection": {
        "selector004": {
         "bind": "scales",
         "encodings": [
          "x",
          "y"
         ],
         "type": "interval"
        }
       }
      },
      "image/png": "[encoded data removed]",
      "text/plain": [
       "<VegaLite 3 object>\n",
       "\n",
       "If you see this message, it means the renderer has not been properly enabled\n",
       "for the frontend that you are using. For more information, see\n",
       "https://altair-viz.github.io/user_guide/troubleshooting.html\n"
      ]
     },
     "execution_count": 15,
     "metadata": {},
     "output_type": "execute_result"
    }
   ],
   "source": [
    "# indenting data from water treatment\n",
    "alt.Chart(df_sample[(df_sample['indenting'])&(df_sample['treatment']=='water')]).mark_square().encode(\n",
    "    x='indentation depth (um)',\n",
    "    y='offset force A (uN)',\n",
    "    color = 'cellNum:N'\n",
    ").interactive()"
   ]
  },
  {
   "cell_type": "markdown",
   "metadata": {},
   "source": [
    "### (6) Filter force data from all samples using Savitsky-Golay filter\n",
    "\n",
    "The Savitzky-Golay filter is a digital filter that fits a moving window of data points to a low-order polynomial. In this case, I am fitting 5 data points at a time to a second-order polynomial. The [Wikipedia page](https://en.wikipedia.org/wiki/Savitzky%E2%80%93Golay_filter) has a nice animation illustrating how this moving window works."
   ]
  },
  {
   "cell_type": "code",
   "execution_count": 16,
   "metadata": {},
   "outputs": [
    {
     "data": {
      "application/vnd.vegalite.v3+json": {
       "$schema": "https://vega.github.io/schema/vega-lite/v3.4.0.json",
       "config": {
        "axis": {
         "grid": true,
         "labelFontSize": 15,
         "titleFontSize": 15
        },
        "mark": {
         "tooltip": null
        },
        "view": {
         "height": 300,
         "width": 400
        }
       },
       "layer": [
        {
         "data": {
          "format": {
           "type": "json"
          },
          "url": "altair-data-0663d78658b8c4ba0d0145702f2f9c17.json"
         },
         "encoding": {
          "color": {
           "value": "black"
          },
          "x": {
           "field": "indentation depth (um)",
           "scale": {
            "domain": [
             0,
             6.5
            ]
           },
           "type": "quantitative"
          },
          "y": {
           "field": "offset force A (uN)",
           "scale": {
            "domain": [
             -7,
             20
            ]
           },
           "type": "quantitative"
          }
         },
         "mark": "circle",
         "selection": {
          "selector005": {
           "bind": "scales",
           "encodings": [
            "x",
            "y"
           ],
           "type": "interval"
          }
         }
        },
        {
         "data": {
          "format": {
           "type": "json"
          },
          "url": "altair-data-0663d78658b8c4ba0d0145702f2f9c17.json"
         },
         "encoding": {
          "color": {
           "value": "green"
          },
          "x": {
           "field": "indentation depth (um)",
           "scale": {
            "domain": [
             0,
             6.5
            ]
           },
           "type": "quantitative"
          },
          "y": {
           "field": "filtered force A (uN)",
           "scale": {
            "domain": [
             -7,
             20
            ]
           },
           "type": "quantitative"
          }
         },
         "mark": "square"
        }
       ]
      },
      "image/png": "[encoded data removed]",
      "text/plain": [
       "<VegaLite 3 object>\n",
       "\n",
       "If you see this message, it means the renderer has not been properly enabled\n",
       "for the frontend that you are using. For more information, see\n",
       "https://altair-viz.github.io/user_guide/troubleshooting.html\n"
      ]
     },
     "execution_count": 16,
     "metadata": {},
     "output_type": "execute_result"
    }
   ],
   "source": [
    "fileName = 'cycling_tests/in_C2/cell001_corr'\n",
    "df = df_sample[df_sample['fileName']==fileName]\n",
    "\n",
    "# parameters for Savitzky-Golay filter\n",
    "window_length = 25 # number of data points in moving window at any given time in filter\n",
    "polyorder = 2 # order of polynomial to fit in filter\n",
    "  \n",
    "# reset row numbers\n",
    "df = df.reset_index(drop=True)\n",
    "    \n",
    "# separate indenting and retraction data for filter\n",
    "df_indent = df[df['indenting']]\n",
    "df_retract = df[~df['indenting'].astype('bool')]\n",
    "    \n",
    "# filter indenting and retraction data\n",
    "f_filt_ind = signal.savgol_filter(df_indent['offset force A (uN)'], window_length, polyorder) \n",
    "f_filt_ret = signal.savgol_filter(df_retract['offset force A (uN)'], window_length, polyorder)\n",
    "    \n",
    "# copy filtered data onto appropriate slices of dataframe\n",
    "df.loc[df['indenting'],'filtered force A (uN)'] = f_filt_ind\n",
    "df.loc[~df['indenting'].astype('bool'),'filtered force A (uN)'] = f_filt_ret\n",
    "\n",
    "unfiltered_chart = alt.Chart(df[df['indenting']]).mark_circle().encode(\n",
    "    x=alt.X('indentation depth (um)',scale=alt.Scale(domain=(0.0,6.5))),\n",
    "    y=alt.Y('offset force A (uN)',scale=alt.Scale(domain=(-7.0,20.0))),\n",
    "    color=alt.value('black')\n",
    ")\n",
    "filtered_chart = alt.Chart(df[df['indenting']]).mark_square().encode(\n",
    "    x=alt.X('indentation depth (um)',scale=alt.Scale(domain=(0.0,6.5))),\n",
    "    y=alt.Y('filtered force A (uN)',scale=alt.Scale(domain=(-7.0,20.0))),\n",
    "    color=alt.value('green')\n",
    ")\n",
    "(unfiltered_chart+filtered_chart).configure_axis(grid=True,\n",
    "    labelFontSize=15,\n",
    "    titleFontSize=15).interactive()"
   ]
  },
  {
   "cell_type": "code",
   "execution_count": 17,
   "metadata": {},
   "outputs": [
    {
     "data": {
      "application/vnd.vegalite.v3+json": {
       "$schema": "https://vega.github.io/schema/vega-lite/v3.4.0.json",
       "config": {
        "mark": {
         "tooltip": null
        },
        "view": {
         "height": 300,
         "width": 400
        }
       },
       "data": {
        "format": {
         "type": "json"
        },
        "url": "altair-data-76f7efffca8b70f24bc2fe3388bfa4f3.json"
       },
       "encoding": {
        "color": {
         "field": "treatment",
         "type": "nominal"
        },
        "x": {
         "field": "indentation depth (um)",
         "type": "quantitative"
        },
        "y": {
         "field": "filtered force A (uN)",
         "type": "quantitative"
        }
       },
       "mark": "square",
       "selection": {
        "selector006": {
         "bind": "scales",
         "encodings": [
          "x",
          "y"
         ],
         "type": "interval"
        }
       }
      },
      "image/png": "[encoded data removed]",
      "text/plain": [
       "<VegaLite 3 object>\n",
       "\n",
       "If you see this message, it means the renderer has not been properly enabled\n",
       "for the frontend that you are using. For more information, see\n",
       "https://altair-viz.github.io/user_guide/troubleshooting.html\n"
      ]
     },
     "execution_count": 17,
     "metadata": {},
     "output_type": "execute_result"
    }
   ],
   "source": [
    "# loop through each data set and run Savitzky-Golay filter\n",
    "df_sample['filtered force A (uN)'] = 0 # initialize new column in dataframe\n",
    "window_length = 25 # number of data points in moving window at any given time in filter\n",
    "polyorder = 2 # order of polynomial to fit in filter\n",
    "for fileName in df_sample['fileName'].unique():\n",
    "    # separate by experiment label\n",
    "    df = df_sample[df_sample['fileName']==fileName]\n",
    "    \n",
    "    # reset row numbers and set initial force to 0.0\n",
    "    df = df.reset_index(drop=True)\n",
    "    df['offset force A (uN)'] = df['offset force A (uN)'] - df['offset force A (uN)'][0] \n",
    "    \n",
    "    # separate indenting and retraction data for filter\n",
    "    df_indent = df[df['indenting']]\n",
    "    df_retract = df[~df['indenting'].astype('bool')]\n",
    "    \n",
    "    # filter indenting and retraction data\n",
    "    f_filt_ind = signal.savgol_filter(df_indent['offset force A (uN)'], window_length, polyorder)\n",
    "    # copy filtered data onto appropriate slices of dataframe\n",
    "    df_sample.loc[(df_sample['fileName']==fileName)&(df_sample['indenting']),'filtered force A (uN)'] = f_filt_ind\n",
    "    if len(df_retract)!=0:\n",
    "        # only filter if retraction data exists\n",
    "        f_filt_ret = signal.savgol_filter(df_retract['offset force A (uN)'], window_length, polyorder)\n",
    "        # copy filtered data onto appropriate slices of dataframe\n",
    "        df_sample.loc[(df_sample['fileName']==fileName)&(~df_sample['indenting'].astype('bool')),'filtered force A (uN)'] = f_filt_ret\n",
    "\n",
    "# take a look\n",
    "# TO DO: Check what's happening with sorbitol cases at neg indentation depth\n",
    "alt.Chart(df_sample[(~df_sample['indenting'].astype('bool'))&(df_sample['indentation depth (um)']>0)]).mark_square().encode(\n",
    "    x='indentation depth (um)',\n",
    "    y='filtered force A (uN)',\n",
    "    color = 'treatment:N'\n",
    ").interactive()"
   ]
  },
  {
   "cell_type": "markdown",
   "metadata": {},
   "source": [
    "### Fit a line to initial part of indentation curve"
   ]
  },
  {
   "cell_type": "markdown",
   "metadata": {},
   "source": [
    "Like we did in the contact finding section, we'll first take a look at one example case, and then apply the same procedure to all data sets in a loop."
   ]
  },
  {
   "cell_type": "code",
   "execution_count": 18,
   "metadata": {},
   "outputs": [
    {
     "name": "stdout",
     "output_type": "stream",
     "text": [
      "cycling_tests/in_C2/cell001_corr 12.058493537848902\n"
     ]
    },
    {
     "data": {
      "application/vnd.vegalite.v3+json": {
       "$schema": "https://vega.github.io/schema/vega-lite/v3.4.0.json",
       "config": {
        "axis": {
         "grid": true,
         "labelFontSize": 15,
         "titleFontSize": 15
        },
        "mark": {
         "tooltip": null
        },
        "view": {
         "height": 300,
         "width": 400
        }
       },
       "layer": [
        {
         "data": {
          "format": {
           "type": "json"
          },
          "url": "altair-data-cd6a008c1d1b72eeeaf7f60c9133b353.json"
         },
         "encoding": {
          "color": {
           "value": "green"
          },
          "x": {
           "field": "indentation depth (um)",
           "type": "quantitative"
          },
          "y": {
           "field": "offset force A (uN)",
           "type": "quantitative"
          }
         },
         "mark": "square",
         "selection": {
          "selector007": {
           "bind": "scales",
           "encodings": [
            "x",
            "y"
           ],
           "type": "interval"
          }
         }
        },
        {
         "data": {
          "format": {
           "type": "json"
          },
          "url": "altair-data-620eec85ea8aef7636449babc5bbfd4e.json"
         },
         "encoding": {
          "color": {
           "value": "black"
          },
          "x": {
           "field": "indentation depth (um)",
           "type": "quantitative"
          },
          "y": {
           "field": "offset force A (uN)",
           "type": "quantitative"
          }
         },
         "mark": "line"
        }
       ]
      },
      "image/png": "[encoded data removed]",
      "text/plain": [
       "<VegaLite 3 object>\n",
       "\n",
       "If you see this message, it means the renderer has not been properly enabled\n",
       "for the frontend that you are using. For more information, see\n",
       "https://altair-viz.github.io/user_guide/troubleshooting.html\n"
      ]
     },
     "execution_count": 18,
     "metadata": {},
     "output_type": "execute_result"
    }
   ],
   "source": [
    "fileName = 'cycling_tests/in_C2/cell001_corr'\n",
    "df = df_sample[df_sample['fileName']==fileName].reset_index(drop=True) # need to reset index since we dropped rows with NaN\n",
    "name = df['fileName'][0]\n",
    "\n",
    "# only take indentation data\n",
    "df = df[df['indenting']]\n",
    "\n",
    "# set initial force and displacement to (0,0)\n",
    "df = df[df['indentation depth (um)']>0.0].reset_index(drop=True)\n",
    "df['filtered force A (uN)'] = df['filtered force A (uN)'] - df['filtered force A (uN)'][0] \n",
    "\n",
    "# take first 1um of displacement after touching cell if over cell wall\n",
    "df_init = df[(df['indentation depth (um)']<1.0)&(df['indentation depth (um)']>=0.0)]\n",
    "\n",
    "# Now perform a linear fit\n",
    "f = np.polyfit(df_init['indentation depth (um)'], df_init['filtered force A (uN)'], 1)\n",
    "\n",
    "# Add the linear fit to the plot\n",
    "displ = df_init['indentation depth (um)']\n",
    "force = f[0]*displ + f[1]\n",
    "kref = f[0]\n",
    "treatment = df['treatment'][0]\n",
    "names = name\n",
    "df_linfit = pd.DataFrame({'indentation depth (um)': displ, 'offset force A (uN)': force})\n",
    "print(name, f[0])\n",
    "\n",
    "df = df_sample[df_sample['fileName']==fileName].reset_index(drop=True) # need to reset index since we dropped rows with NaN\n",
    "\n",
    "# Take a look\n",
    "chart_data = alt.Chart(df).mark_square().encode(\n",
    "    x=alt.X('indentation depth (um)'), # scale=alt.Scale(domain=(0,2.0))),\n",
    "    y=alt.Y('offset force A (uN)'), # scale=alt.Scale(domain=(0,10.0))),\n",
    "    color = alt.value('green')\n",
    ")\n",
    "chart_fit = alt.Chart(df_linfit).mark_line().encode(\n",
    "    x=alt.X('indentation depth (um)'), # scale=alt.Scale(domain=(0,2.0))),\n",
    "    y=alt.Y('offset force A (uN)'), # scale=alt.Scale(domain=(0,10.0))),\n",
    "    color=alt.value('black')\n",
    ")\n",
    "(chart_data + chart_fit).configure_axis(grid=True,\n",
    "    labelFontSize=15,\n",
    "    titleFontSize=15).interactive()"
   ]
  },
  {
   "cell_type": "code",
   "execution_count": 19,
   "metadata": {},
   "outputs": [
    {
     "data": {
      "text/html": [
       "<div>\n",
       "<style scoped>\n",
       "    .dataframe tbody tr th:only-of-type {\n",
       "        vertical-align: middle;\n",
       "    }\n",
       "\n",
       "    .dataframe tbody tr th {\n",
       "        vertical-align: top;\n",
       "    }\n",
       "\n",
       "    .dataframe thead th {\n",
       "        text-align: right;\n",
       "    }\n",
       "</style>\n",
       "<table border=\"1\" class=\"dataframe\">\n",
       "  <thead>\n",
       "    <tr style=\"text-align: right;\">\n",
       "      <th></th>\n",
       "      <th>Index</th>\n",
       "      <th>Time (s)</th>\n",
       "      <th>Displacement (um)</th>\n",
       "      <th>Pos X (um)</th>\n",
       "      <th>Pos Y (um)</th>\n",
       "      <th>Pos Z (um)</th>\n",
       "      <th>Force A (uN)</th>\n",
       "      <th>Force B (uN)</th>\n",
       "      <th>fileName</th>\n",
       "      <th>indenting</th>\n",
       "      <th>Full Indentation</th>\n",
       "      <th>plasmolyzed</th>\n",
       "      <th>treatment</th>\n",
       "      <th>Corrected Displacement (um)</th>\n",
       "      <th>offset force A (uN)</th>\n",
       "      <th>cellNum</th>\n",
       "      <th>threshold</th>\n",
       "      <th>cycle</th>\n",
       "      <th>indentation depth (um)</th>\n",
       "      <th>filtered force A (uN)</th>\n",
       "    </tr>\n",
       "  </thead>\n",
       "  <tbody>\n",
       "    <tr>\n",
       "      <th>0</th>\n",
       "      <td>1.001</td>\n",
       "      <td>0.123</td>\n",
       "      <td>0.20325</td>\n",
       "      <td>184.00625</td>\n",
       "      <td>-106.00100</td>\n",
       "      <td>49.77075</td>\n",
       "      <td>-10.54090</td>\n",
       "      <td>-0.00129</td>\n",
       "      <td>cycling_tests/in_C2/cell001_corr</td>\n",
       "      <td>True</td>\n",
       "      <td>True</td>\n",
       "      <td>False</td>\n",
       "      <td>C2</td>\n",
       "      <td>0.244673</td>\n",
       "      <td>-0.286136</td>\n",
       "      <td>1</td>\n",
       "      <td>0.5</td>\n",
       "      <td>1.0</td>\n",
       "      <td>-7.853853</td>\n",
       "      <td>-0.131540</td>\n",
       "    </tr>\n",
       "    <tr>\n",
       "      <th>1</th>\n",
       "      <td>1.001</td>\n",
       "      <td>0.228</td>\n",
       "      <td>0.27500</td>\n",
       "      <td>184.00700</td>\n",
       "      <td>-106.00125</td>\n",
       "      <td>49.69900</td>\n",
       "      <td>-10.88703</td>\n",
       "      <td>-0.00336</td>\n",
       "      <td>cycling_tests/in_C2/cell001_corr</td>\n",
       "      <td>True</td>\n",
       "      <td>True</td>\n",
       "      <td>False</td>\n",
       "      <td>C2</td>\n",
       "      <td>0.317783</td>\n",
       "      <td>-0.632266</td>\n",
       "      <td>1</td>\n",
       "      <td>0.5</td>\n",
       "      <td>1.0</td>\n",
       "      <td>-7.780742</td>\n",
       "      <td>-0.141707</td>\n",
       "    </tr>\n",
       "    <tr>\n",
       "      <th>2</th>\n",
       "      <td>1.001</td>\n",
       "      <td>0.346</td>\n",
       "      <td>0.30325</td>\n",
       "      <td>184.00700</td>\n",
       "      <td>-106.00075</td>\n",
       "      <td>49.67075</td>\n",
       "      <td>-10.78654</td>\n",
       "      <td>-0.00192</td>\n",
       "      <td>cycling_tests/in_C2/cell001_corr</td>\n",
       "      <td>True</td>\n",
       "      <td>True</td>\n",
       "      <td>False</td>\n",
       "      <td>C2</td>\n",
       "      <td>0.345638</td>\n",
       "      <td>-0.531776</td>\n",
       "      <td>1</td>\n",
       "      <td>0.5</td>\n",
       "      <td>1.0</td>\n",
       "      <td>-7.752887</td>\n",
       "      <td>-0.149410</td>\n",
       "    </tr>\n",
       "    <tr>\n",
       "      <th>3</th>\n",
       "      <td>1.001</td>\n",
       "      <td>0.466</td>\n",
       "      <td>0.32000</td>\n",
       "      <td>184.00625</td>\n",
       "      <td>-106.00100</td>\n",
       "      <td>49.65400</td>\n",
       "      <td>-10.74826</td>\n",
       "      <td>0.00253</td>\n",
       "      <td>cycling_tests/in_C2/cell001_corr</td>\n",
       "      <td>True</td>\n",
       "      <td>True</td>\n",
       "      <td>False</td>\n",
       "      <td>C2</td>\n",
       "      <td>0.362238</td>\n",
       "      <td>-0.493496</td>\n",
       "      <td>1</td>\n",
       "      <td>0.5</td>\n",
       "      <td>1.0</td>\n",
       "      <td>-7.736288</td>\n",
       "      <td>-0.154647</td>\n",
       "    </tr>\n",
       "    <tr>\n",
       "      <th>4</th>\n",
       "      <td>1.001</td>\n",
       "      <td>0.595</td>\n",
       "      <td>0.34275</td>\n",
       "      <td>184.00600</td>\n",
       "      <td>-106.00075</td>\n",
       "      <td>49.63125</td>\n",
       "      <td>-10.73709</td>\n",
       "      <td>0.00397</td>\n",
       "      <td>cycling_tests/in_C2/cell001_corr</td>\n",
       "      <td>True</td>\n",
       "      <td>True</td>\n",
       "      <td>False</td>\n",
       "      <td>C2</td>\n",
       "      <td>0.384944</td>\n",
       "      <td>-0.482326</td>\n",
       "      <td>1</td>\n",
       "      <td>0.5</td>\n",
       "      <td>1.0</td>\n",
       "      <td>-7.713582</td>\n",
       "      <td>-0.157420</td>\n",
       "    </tr>\n",
       "  </tbody>\n",
       "</table>\n",
       "</div>"
      ],
      "text/plain": [
       "   Index  Time (s)  Displacement (um)  Pos X (um)  Pos Y (um)  Pos Z (um)  \\\n",
       "0  1.001     0.123            0.20325   184.00625  -106.00100    49.77075   \n",
       "1  1.001     0.228            0.27500   184.00700  -106.00125    49.69900   \n",
       "2  1.001     0.346            0.30325   184.00700  -106.00075    49.67075   \n",
       "3  1.001     0.466            0.32000   184.00625  -106.00100    49.65400   \n",
       "4  1.001     0.595            0.34275   184.00600  -106.00075    49.63125   \n",
       "\n",
       "   Force A (uN)  Force B (uN)                          fileName indenting  \\\n",
       "0     -10.54090      -0.00129  cycling_tests/in_C2/cell001_corr      True   \n",
       "1     -10.88703      -0.00336  cycling_tests/in_C2/cell001_corr      True   \n",
       "2     -10.78654      -0.00192  cycling_tests/in_C2/cell001_corr      True   \n",
       "3     -10.74826       0.00253  cycling_tests/in_C2/cell001_corr      True   \n",
       "4     -10.73709       0.00397  cycling_tests/in_C2/cell001_corr      True   \n",
       "\n",
       "   Full Indentation plasmolyzed treatment  Corrected Displacement (um)  \\\n",
       "0              True       False        C2                     0.244673   \n",
       "1              True       False        C2                     0.317783   \n",
       "2              True       False        C2                     0.345638   \n",
       "3              True       False        C2                     0.362238   \n",
       "4              True       False        C2                     0.384944   \n",
       "\n",
       "   offset force A (uN) cellNum  threshold  cycle  indentation depth (um)  \\\n",
       "0            -0.286136       1        0.5    1.0               -7.853853   \n",
       "1            -0.632266       1        0.5    1.0               -7.780742   \n",
       "2            -0.531776       1        0.5    1.0               -7.752887   \n",
       "3            -0.493496       1        0.5    1.0               -7.736288   \n",
       "4            -0.482326       1        0.5    1.0               -7.713582   \n",
       "\n",
       "   filtered force A (uN)  \n",
       "0              -0.131540  \n",
       "1              -0.141707  \n",
       "2              -0.149410  \n",
       "3              -0.154647  \n",
       "4              -0.157420  "
      ]
     },
     "execution_count": 19,
     "metadata": {},
     "output_type": "execute_result"
    }
   ],
   "source": [
    "df_sample.head()"
   ]
  },
  {
   "cell_type": "code",
   "execution_count": 20,
   "metadata": {},
   "outputs": [],
   "source": [
    "kref = np.empty(len(df_sample['fileName'].unique()))\n",
    "deltaF = np.empty(len(df_sample['fileName'].unique()))\n",
    "treatment = ['' for x in range(len(df_sample['fileName'].unique()))]\n",
    "names = ['' for x in range(len(df_sample['fileName'].unique()))]\n",
    "cycle = np.empty(len(df_sample['fileName'].unique()))\n",
    "maxF = np.empty(len(df_sample['fileName'].unique()))\n",
    "df_linfit_concat = pd.DataFrame(columns=['offset force A (uN)','indentation depth (um)'])\n",
    "i=0\n",
    "\n",
    "for fileName in df_sample['fileName'].unique():\n",
    "    df = df_sample[df_sample['fileName']==fileName].reset_index(drop=True) # need to reset index since we dropped rows with NaN\n",
    "\n",
    "    # only take indentation data\n",
    "    df = df[df['indenting']]\n",
    "    \n",
    "    # set initial force and displacement to (0,0)\n",
    "    df = df[df['indentation depth (um)']>0.0].reset_index(drop=True)\n",
    "    df['filtered force A (uN)'] = df['filtered force A (uN)'] - df['filtered force A (uN)'][0] \n",
    "\n",
    "    # if contact detected, find initial stiffness\n",
    "    if max(df['indentation depth (um)'])>0.0:\n",
    "\n",
    "        # take first 1um of displacement after touching cell if over cell wall\n",
    "        df_glass = df[(df['indentation depth (um)']<1.0)&(df['indentation depth (um)']>=0.0)]\n",
    "\n",
    "        # Now perform a linear fit\n",
    "        f = np.polyfit(df_glass['indentation depth (um)'], df_glass['filtered force A (uN)'], 1)\n",
    "        \n",
    "        # Add the linear fit to the plot\n",
    "        displ = df_glass['indentation depth (um)']\n",
    "        force = f[0]*displ + f[1]\n",
    "        maxF[i] = max(df['offset force A (uN)'])\n",
    "        kref[i] = f[0]\n",
    "        treatment[i] = df['treatment'][0]\n",
    "        cycle[i] = df['cycle'][0]\n",
    "        names[i] = fileName\n",
    "        df_linfit = pd.DataFrame({'indentation depth (um)': displ, 'filtered force A (uN)': force})\n",
    "        df_linfit_concat = pd.concat([df_linfit, df_linfit_concat], sort=False)\n",
    "        \n",
    "        # measure \"strength\" by measuring delta force required for 1.0um of indentation\n",
    "        deltaF[i] = max(df[df['indentation depth (um)']<1.0]['filtered force A (uN)'])\n",
    "    \n",
    "    # if contact not detected, fill in data for df_kref\n",
    "    else:\n",
    "        kref[i] = 0.0\n",
    "        maxF[i] = max(df['offset force A (uN)'])\n",
    "        treatment[i] = 'no contact detected'\n",
    "        cycle[i] = df['cycle'][0]\n",
    "        names[i] = fileName\n",
    "        # measure \"strength\" by measuring delta force required for 1.0um of indentation\n",
    "        deltaF[i] = max(df[df['indentation depth (um)']<1.0]['filtered force A (uN)'])\n",
    "        \n",
    "    if deltaF[i]>700:\n",
    "        print(fileName)\n",
    "    i+=1\n",
    "    \n",
    "df_kref = pd.DataFrame({'name':names, 'max force (uN)': maxF, 'kinit': kref, 'deltaF':deltaF, 'treatment': treatment, 'cycle':cycle})"
   ]
  },
  {
   "cell_type": "code",
   "execution_count": 30,
   "metadata": {},
   "outputs": [
    {
     "data": {
      "text/plain": [
       "4"
      ]
     },
     "execution_count": 30,
     "metadata": {},
     "output_type": "execute_result"
    }
   ],
   "source": [
    "len(df_kref[(df_kref['treatment']=='water')&(df_kref['cycle']==3)])"
   ]
  },
  {
   "cell_type": "code",
   "execution_count": 27,
   "metadata": {},
   "outputs": [
    {
     "data": {
      "application/vnd.vegalite.v3+json": {
       "$schema": "https://vega.github.io/schema/vega-lite/v3.4.0.json",
       "config": {
        "axis": {
         "labelFontSize": 15,
         "titleFontSize": 15
        },
        "legend": {
         "labelFontSize": 15,
         "titleFontSize": 15
        },
        "mark": {
         "tooltip": null
        },
        "text": {
         "fontSize": 15,
         "fontWeight": "bold"
        },
        "view": {
         "height": 300,
         "width": 400
        }
       },
       "layer": [
        {
         "data": {
          "format": {
           "type": "json"
          },
          "url": "altair-data-9c2db727618f9766b5bc108c983c1323.json"
         },
         "layer": [
          {
           "encoding": {
            "x": {
             "field": "bottom_whisker",
             "title": "kinit",
             "type": "quantitative"
            },
            "x2": {
             "field": "bottom"
            },
            "y": {
             "field": "nominal_axis_value",
             "scale": {},
             "type": "quantitative"
            }
           },
           "height": 250,
           "mark": {
            "color": "#bababa",
            "opacity": 0.5,
            "strokeWidth": 2,
            "type": "rule"
           },
           "width": 450
          },
          {
           "encoding": {
            "x": {
             "field": "top",
             "title": "kinit",
             "type": "quantitative"
            },
            "x2": {
             "field": "top_whisker"
            },
            "y": {
             "field": "nominal_axis_value",
             "scale": {},
             "type": "quantitative"
            }
           },
           "height": 250,
           "mark": {
            "color": "#bababa",
            "opacity": 0.5,
            "strokeWidth": 2,
            "type": "rule"
           },
           "width": 450
          },
          {
           "encoding": {
            "x": {
             "field": "bottom",
             "title": "kinit",
             "type": "quantitative"
            },
            "x2": {
             "field": "top"
            },
            "y": {
             "field": "left",
             "scale": {},
             "type": "quantitative"
            },
            "y2": {
             "field": "right"
            }
           },
           "height": 250,
           "mark": {
            "color": "#eeeeee",
            "opacity": 0.5,
            "size": 0.4,
            "strokeWidth": 2,
            "type": "bar"
           },
           "width": 450
          },
          {
           "encoding": {
            "x": {
             "field": "middle",
             "title": "kinit",
             "type": "quantitative"
            },
            "y": {
             "field": "left",
             "scale": {},
             "type": "quantitative"
            },
            "y2": {
             "field": "right"
            }
           },
           "height": 250,
           "mark": {
            "color": "white",
            "opacity": 1,
            "strokeWidth": 2,
            "type": "rule"
           },
           "width": 450
          },
          {
           "encoding": {
            "x": {
             "field": "bottom_whisker",
             "title": "kinit",
             "type": "quantitative"
            },
            "y": {
             "field": "cap_left",
             "type": "quantitative"
            },
            "y2": {
             "field": "cap_right"
            }
           },
           "height": 250,
           "mark": {
            "color": "#bababa",
            "opacity": 0.5,
            "strokeWidth": 2,
            "type": "rule"
           },
           "width": 450
          },
          {
           "encoding": {
            "x": {
             "field": "top_whisker",
             "title": "kinit",
             "type": "quantitative"
            },
            "y": {
             "field": "cap_left",
             "type": "quantitative"
            },
            "y2": {
             "field": "cap_right"
            }
           },
           "height": 250,
           "mark": {
            "color": "#bababa",
            "opacity": 0.5,
            "strokeWidth": 2,
            "type": "rule"
           },
           "width": 450
          }
         ]
        },
        {
         "layer": [
          {
           "data": {
            "format": {
             "type": "json"
            },
            "url": "altair-data-72e381e43dd1693ab8f1234b50c44daf.json"
           },
           "encoding": {
            "color": {
             "field": "treatment",
             "type": "nominal"
            },
            "tooltip": [
             {
              "field": "name",
              "title": "name",
              "type": "nominal"
             }
            ],
            "x": {
             "field": "kinit",
             "title": "kinit",
             "type": "quantitative"
            },
            "y": {
             "axis": {
              "grid": false,
              "labels": false,
              "title": null,
              "values": [
               0,
               1,
               2,
               3
              ]
             },
             "field": "__jitter",
             "type": "quantitative"
            }
           },
           "height": 250,
           "mark": {
            "opacity": 1,
            "type": "circle"
           },
           "width": 450
          },
          {
           "data": {
            "format": {
             "type": "json"
            },
            "url": "altair-data-5d5c7a8148a971fb5458cc0bfc3226da.json"
           },
           "encoding": {
            "text": {
             "field": "text",
             "type": "nominal"
            },
            "x": {
             "field": "kinit",
             "title": "kinit",
             "type": "quantitative"
            },
            "y": {
             "axis": {
              "grid": false,
              "labels": false,
              "title": null,
              "values": [
               0,
               1,
               2,
               3
              ]
             },
             "field": "__jitter",
             "type": "quantitative"
            }
           },
           "height": 250,
           "mark": {
            "align": "right",
            "baseline": "middle",
            "dx": -8,
            "type": "text"
           },
           "width": 450
          }
         ]
        }
       ]
      },
      "image/png": "[encoded data removed]",
      "text/plain": [
       "<VegaLite 3 object>\n",
       "\n",
       "If you see this message, it means the renderer has not been properly enabled\n",
       "for the frontend that you are using. For more information, see\n",
       "https://altair-viz.github.io/user_guide/troubleshooting.html\n"
      ]
     },
     "execution_count": 27,
     "metadata": {},
     "output_type": "execute_result"
    }
   ],
   "source": [
    "# // box+jitter plot with outliers removed\n",
    "# the box_mark argument sets the style of the bar\n",
    "# the whisker_mark argument sets the style for the error bar\n",
    "# (to select different colors, you'll want to google \"hex color code\")\n",
    "# for mark type, you can use point, circle, square, etc. (not sure how to pick the size just yet)\n",
    "altcat.catplot(df_kref[(df_kref['treatment']=='water')&(df_kref['kinit']>0)&(df_kref['kinit']<100)],\n",
    "               height=250,\n",
    "               width=450,\n",
    "               mark=dict(opacity=1.0, type='circle'),\n",
    "               box_mark=dict(strokeWidth=2, opacity=0.5, color='#eeeeee'),\n",
    "               whisker_mark=dict(strokeWidth=2, opacity=0.5, color='#bababa'),\n",
    "               encoding=dict(y=alt.Y('cycle:N'),\n",
    "                             x='kinit:Q',                             \n",
    "                             color=alt.Color('treatment:N'),\n",
    "                             tooltip=alt.Tooltip(['name:N'], title='name')),\n",
    "               transform='jitterbox'\n",
    "              ).configure_text(\n",
    "                  fontWeight='bold', fontSize=15\n",
    "              ).configure_legend(labelFontSize=15,\n",
    "    titleFontSize=15).configure_axis(labelFontSize=15, titleFontSize=15)"
   ]
  },
  {
   "cell_type": "markdown",
   "metadata": {},
   "source": [
    "### (8) Fit line to initial part of retraction curve\n",
    "As is common with AFM force measurements, we'll try fitting a line to the initial portion of the retraction curve. I expect that this method will only work for turgid (\"strong\") cells, because the plasmolyzed cells fail before we reach the force threshold. So, the initial portion of the retraction curve in plasmolyzed cases only represents the stiffness of the glass slide."
   ]
  },
  {
   "cell_type": "code",
   "execution_count": 33,
   "metadata": {},
   "outputs": [
    {
     "name": "stdout",
     "output_type": "stream",
     "text": [
      "cycling_tests/in_water/cell128C_corr 273.1497820846554\n"
     ]
    },
    {
     "data": {
      "application/vnd.vegalite.v3+json": {
       "$schema": "https://vega.github.io/schema/vega-lite/v3.4.0.json",
       "config": {
        "axis": {
         "grid": true,
         "labelFontSize": 15,
         "titleFontSize": 15
        },
        "mark": {
         "tooltip": null
        },
        "view": {
         "height": 300,
         "width": 400
        }
       },
       "layer": [
        {
         "data": {
          "format": {
           "type": "json"
          },
          "url": "altair-data-9156eea11ba7f5cd7528cca18631903c.json"
         },
         "encoding": {
          "color": {
           "value": "green"
          },
          "x": {
           "field": "indentation depth (um)",
           "type": "quantitative"
          },
          "y": {
           "field": "filtered force A (uN)",
           "type": "quantitative"
          }
         },
         "mark": "square",
         "selection": {
          "selector010": {
           "bind": "scales",
           "encodings": [
            "x",
            "y"
           ],
           "type": "interval"
          }
         }
        },
        {
         "data": {
          "format": {
           "type": "json"
          },
          "url": "altair-data-e24fce9858dbce73d993e6f24c5ba901.json"
         },
         "encoding": {
          "color": {
           "value": "black"
          },
          "x": {
           "field": "indentation depth (um)",
           "type": "quantitative"
          },
          "y": {
           "field": "offset force A (uN)",
           "type": "quantitative"
          }
         },
         "mark": "line"
        }
       ]
      },
      "image/png": "[encoded data removed]",
      "text/plain": [
       "<VegaLite 3 object>\n",
       "\n",
       "If you see this message, it means the renderer has not been properly enabled\n",
       "for the frontend that you are using. For more information, see\n",
       "https://altair-viz.github.io/user_guide/troubleshooting.html\n"
      ]
     },
     "execution_count": 33,
     "metadata": {},
     "output_type": "execute_result"
    }
   ],
   "source": [
    "fileName = 'cycling_tests/in_water/cell128C_corr'\n",
    "df = df_sample[df_sample['fileName']==fileName].reset_index(drop=True) # need to reset index since we dropped rows with NaN\n",
    "name = df['fileName'][0]\n",
    "\n",
    "# only take retraction data\n",
    "df = df[~df['indenting'].astype('bool')]\n",
    "\n",
    "# set initial force and displacement to (0,0)\n",
    "df = df[df['indentation depth (um)']>0.0].reset_index(drop=True)\n",
    "df['filtered force A (uN)'] = df['filtered force A (uN)'] - df['filtered force A (uN)'].iloc[-1] \n",
    "\n",
    "# take first 1um of displacement after reaching max force\n",
    "df_init = df[(df['indentation depth (um)']>max(df['indentation depth (um)'])-1)]\n",
    "\n",
    "# Now perform a linear fit\n",
    "f = np.polyfit(df_init['indentation depth (um)'], df_init['filtered force A (uN)'], 1)\n",
    "\n",
    "# Add the linear fit to the plot\n",
    "displ = df_init['indentation depth (um)']\n",
    "force = f[0]*displ + f[1]\n",
    "kref = f[0]\n",
    "treatment = df['treatment'][0]\n",
    "names = name\n",
    "df_linfit = pd.DataFrame({'indentation depth (um)': displ, 'offset force A (uN)': force})\n",
    "print(name, f[0])\n",
    "\n",
    "df = df_sample[df_sample['fileName']==fileName].reset_index(drop=True) # need to reset index since we dropped rows with NaN\n",
    "\n",
    "# Take a look\n",
    "chart_data = alt.Chart(df).mark_square().encode(\n",
    "    x=alt.X('indentation depth (um)'), # scale=alt.Scale(domain=(0,2.0))),\n",
    "    y=alt.Y('filtered force A (uN)'), # scale=alt.Scale(domain=(0,10.0))),\n",
    "    color = alt.value('green')\n",
    ")\n",
    "chart_fit = alt.Chart(df_linfit).mark_line().encode(\n",
    "    x=alt.X('indentation depth (um)'), # scale=alt.Scale(domain=(0,2.0))),\n",
    "    y=alt.Y('offset force A (uN)'), # scale=alt.Scale(domain=(0,10.0))),\n",
    "    color=alt.value('black')\n",
    ")\n",
    "(chart_data+chart_fit).configure_axis(grid=True,\n",
    "    labelFontSize=15,\n",
    "    titleFontSize=15).interactive()"
   ]
  },
  {
   "cell_type": "code",
   "execution_count": 34,
   "metadata": {},
   "outputs": [
    {
     "data": {
      "text/html": [
       "<div>\n",
       "<style scoped>\n",
       "    .dataframe tbody tr th:only-of-type {\n",
       "        vertical-align: middle;\n",
       "    }\n",
       "\n",
       "    .dataframe tbody tr th {\n",
       "        vertical-align: top;\n",
       "    }\n",
       "\n",
       "    .dataframe thead th {\n",
       "        text-align: right;\n",
       "    }\n",
       "</style>\n",
       "<table border=\"1\" class=\"dataframe\">\n",
       "  <thead>\n",
       "    <tr style=\"text-align: right;\">\n",
       "      <th></th>\n",
       "      <th>name</th>\n",
       "      <th>max force (uN)</th>\n",
       "      <th>kinit</th>\n",
       "      <th>deltaF</th>\n",
       "      <th>treatment</th>\n",
       "      <th>cycle</th>\n",
       "      <th>kret</th>\n",
       "    </tr>\n",
       "  </thead>\n",
       "  <tbody>\n",
       "    <tr>\n",
       "      <th>0</th>\n",
       "      <td>cycling_tests/in_C2/cell001_corr</td>\n",
       "      <td>899.143144</td>\n",
       "      <td>12.058494</td>\n",
       "      <td>11.068975</td>\n",
       "      <td>C2</td>\n",
       "      <td>1.0</td>\n",
       "      <td>218.615234</td>\n",
       "    </tr>\n",
       "    <tr>\n",
       "      <th>1</th>\n",
       "      <td>cycling_tests/in_C2/cell001B_corr</td>\n",
       "      <td>895.918818</td>\n",
       "      <td>27.849221</td>\n",
       "      <td>25.820010</td>\n",
       "      <td>C2</td>\n",
       "      <td>2.0</td>\n",
       "      <td>198.504556</td>\n",
       "    </tr>\n",
       "    <tr>\n",
       "      <th>2</th>\n",
       "      <td>cycling_tests/in_C2/cell001C_corr</td>\n",
       "      <td>895.340638</td>\n",
       "      <td>23.345119</td>\n",
       "      <td>21.053635</td>\n",
       "      <td>C2</td>\n",
       "      <td>3.0</td>\n",
       "      <td>216.064624</td>\n",
       "    </tr>\n",
       "    <tr>\n",
       "      <th>3</th>\n",
       "      <td>cycling_tests/in_C2/cell001D_corr</td>\n",
       "      <td>897.980526</td>\n",
       "      <td>7.657422</td>\n",
       "      <td>7.448198</td>\n",
       "      <td>C2</td>\n",
       "      <td>4.0</td>\n",
       "      <td>185.847891</td>\n",
       "    </tr>\n",
       "    <tr>\n",
       "      <th>4</th>\n",
       "      <td>cycling_tests/in_C2/cell011_corr</td>\n",
       "      <td>169.468483</td>\n",
       "      <td>2.148068</td>\n",
       "      <td>2.195033</td>\n",
       "      <td>C2</td>\n",
       "      <td>1.0</td>\n",
       "      <td>78.509318</td>\n",
       "    </tr>\n",
       "  </tbody>\n",
       "</table>\n",
       "</div>"
      ],
      "text/plain": [
       "                                name  max force (uN)      kinit     deltaF  \\\n",
       "0   cycling_tests/in_C2/cell001_corr      899.143144  12.058494  11.068975   \n",
       "1  cycling_tests/in_C2/cell001B_corr      895.918818  27.849221  25.820010   \n",
       "2  cycling_tests/in_C2/cell001C_corr      895.340638  23.345119  21.053635   \n",
       "3  cycling_tests/in_C2/cell001D_corr      897.980526   7.657422   7.448198   \n",
       "4   cycling_tests/in_C2/cell011_corr      169.468483   2.148068   2.195033   \n",
       "\n",
       "  treatment  cycle        kret  \n",
       "0        C2    1.0  218.615234  \n",
       "1        C2    2.0  198.504556  \n",
       "2        C2    3.0  216.064624  \n",
       "3        C2    4.0  185.847891  \n",
       "4        C2    1.0   78.509318  "
      ]
     },
     "execution_count": 34,
     "metadata": {},
     "output_type": "execute_result"
    }
   ],
   "source": [
    "kref = np.empty(len(df_sample['fileName'].unique()))\n",
    "treatment = ['' for x in range(len(df_sample['fileName'].unique()))]\n",
    "names = ['' for x in range(len(df_sample['fileName'].unique()))]\n",
    "maxF = np.empty(len(df_sample['fileName'].unique()))\n",
    "df_linfit_concat = pd.DataFrame(columns=['offset force A (uN)','indentation depth (um)'])\n",
    "i=0\n",
    "\n",
    "for fileName in df_sample['fileName'].unique():\n",
    "    df = df_sample[df_sample['fileName']==fileName].reset_index(drop=True) # need to reset index since we dropped rows with NaN\n",
    "\n",
    "    # only take retraction data\n",
    "    df = df[~df['indenting'].astype('bool')]\n",
    "    \n",
    "    # set initial force and displacement to (0,0)\n",
    "    df = df[df['indentation depth (um)']>0.0].reset_index(drop=True)\n",
    "    df['filtered force A (uN)'] = df['filtered force A (uN)'] - df['filtered force A (uN)'].iloc[-1] \n",
    "\n",
    "    # if contact detected, find initial stiffness\n",
    "    if max(df['indentation depth (um)'])>0.0:\n",
    "        \n",
    "        # take first 1um of displacement after reaching max force\n",
    "        df_glass = df[(df['indentation depth (um)']>max(df['indentation depth (um)'])-1)]\n",
    "\n",
    "        # Now perform a linear fit\n",
    "        f = np.polyfit(df_glass['indentation depth (um)'], df_glass['filtered force A (uN)'], 1)\n",
    "        \n",
    "        # Add the linear fit to the plot\n",
    "        displ = df_glass['indentation depth (um)']\n",
    "        force = f[0]*displ + f[1]\n",
    "        maxF[i] = max(df['offset force A (uN)'])\n",
    "        kref[i] = f[0]\n",
    "        treatment[i] = df['treatment'].iloc[-1]\n",
    "        names[i] = fileName\n",
    "        df_linfit = pd.DataFrame({'indentation depth (um)': displ, 'filtered force A (uN)': force})\n",
    "        df_linfit_concat = pd.concat([df_linfit, df_linfit_concat], sort=False)\n",
    "           \n",
    "    # if contact not detected, fill in data for df_kref\n",
    "    else:\n",
    "        kref[i] = 0.0\n",
    "        maxF[i] = max(df['offset force A (uN)'])\n",
    "        treatment[i] = 'no contact detected'\n",
    "        locations[i] = df['location'][0]\n",
    "        names[i] = fileName\n",
    "    \n",
    "    df_kref.loc[df_kref['name']==fileName, 'kret'] = kref[i]\n",
    "    i+=1\n",
    "    \n",
    "df_kref.head()"
   ]
  },
  {
   "cell_type": "code",
   "execution_count": 38,
   "metadata": {},
   "outputs": [
    {
     "data": {
      "application/vnd.vegalite.v3+json": {
       "$schema": "https://vega.github.io/schema/vega-lite/v3.4.0.json",
       "config": {
        "axis": {
         "labelFontSize": 15,
         "titleFontSize": 15
        },
        "legend": {
         "labelFontSize": 15,
         "titleFontSize": 15
        },
        "mark": {
         "tooltip": null
        },
        "text": {
         "fontSize": 15,
         "fontWeight": "bold"
        },
        "view": {
         "height": 300,
         "width": 400
        }
       },
       "layer": [
        {
         "data": {
          "format": {
           "type": "json"
          },
          "url": "altair-data-54346379cb54a496545784eae48f49d6.json"
         },
         "layer": [
          {
           "encoding": {
            "x": {
             "field": "bottom_whisker",
             "title": "kret",
             "type": "quantitative"
            },
            "x2": {
             "field": "bottom"
            },
            "y": {
             "field": "nominal_axis_value",
             "scale": {},
             "type": "quantitative"
            }
           },
           "height": 250,
           "mark": {
            "color": "#bababa",
            "opacity": 0.5,
            "strokeWidth": 2,
            "type": "rule"
           },
           "width": 450
          },
          {
           "encoding": {
            "x": {
             "field": "top",
             "title": "kret",
             "type": "quantitative"
            },
            "x2": {
             "field": "top_whisker"
            },
            "y": {
             "field": "nominal_axis_value",
             "scale": {},
             "type": "quantitative"
            }
           },
           "height": 250,
           "mark": {
            "color": "#bababa",
            "opacity": 0.5,
            "strokeWidth": 2,
            "type": "rule"
           },
           "width": 450
          },
          {
           "encoding": {
            "x": {
             "field": "bottom",
             "title": "kret",
             "type": "quantitative"
            },
            "x2": {
             "field": "top"
            },
            "y": {
             "field": "left",
             "scale": {},
             "type": "quantitative"
            },
            "y2": {
             "field": "right"
            }
           },
           "height": 250,
           "mark": {
            "color": "#eeeeee",
            "opacity": 0.5,
            "size": 0.4,
            "strokeWidth": 2,
            "type": "bar"
           },
           "width": 450
          },
          {
           "encoding": {
            "x": {
             "field": "middle",
             "title": "kret",
             "type": "quantitative"
            },
            "y": {
             "field": "left",
             "scale": {},
             "type": "quantitative"
            },
            "y2": {
             "field": "right"
            }
           },
           "height": 250,
           "mark": {
            "color": "white",
            "opacity": 1,
            "strokeWidth": 2,
            "type": "rule"
           },
           "width": 450
          },
          {
           "encoding": {
            "x": {
             "field": "bottom_whisker",
             "title": "kret",
             "type": "quantitative"
            },
            "y": {
             "field": "cap_left",
             "type": "quantitative"
            },
            "y2": {
             "field": "cap_right"
            }
           },
           "height": 250,
           "mark": {
            "color": "#bababa",
            "opacity": 0.5,
            "strokeWidth": 2,
            "type": "rule"
           },
           "width": 450
          },
          {
           "encoding": {
            "x": {
             "field": "top_whisker",
             "title": "kret",
             "type": "quantitative"
            },
            "y": {
             "field": "cap_left",
             "type": "quantitative"
            },
            "y2": {
             "field": "cap_right"
            }
           },
           "height": 250,
           "mark": {
            "color": "#bababa",
            "opacity": 0.5,
            "strokeWidth": 2,
            "type": "rule"
           },
           "width": 450
          }
         ]
        },
        {
         "layer": [
          {
           "data": {
            "format": {
             "type": "json"
            },
            "url": "altair-data-6cba07c13198e3f965a532a6f05392e9.json"
           },
           "encoding": {
            "color": {
             "field": "treatment",
             "type": "nominal"
            },
            "tooltip": [
             {
              "field": "name",
              "title": "name",
              "type": "nominal"
             }
            ],
            "x": {
             "field": "kret",
             "title": "kret",
             "type": "quantitative"
            },
            "y": {
             "axis": {
              "grid": false,
              "labels": false,
              "title": null,
              "values": [
               0,
               1,
               2,
               3
              ]
             },
             "field": "__jitter",
             "type": "quantitative"
            }
           },
           "height": 250,
           "mark": {
            "opacity": 1,
            "type": "circle"
           },
           "width": 450
          },
          {
           "data": {
            "format": {
             "type": "json"
            },
            "url": "altair-data-7a3d734b8a27742972f71ca65cbde8dc.json"
           },
           "encoding": {
            "text": {
             "field": "text",
             "type": "nominal"
            },
            "x": {
             "field": "kret",
             "title": "kret",
             "type": "quantitative"
            },
            "y": {
             "axis": {
              "grid": false,
              "labels": false,
              "title": null,
              "values": [
               0,
               1,
               2,
               3
              ]
             },
             "field": "__jitter",
             "type": "quantitative"
            }
           },
           "height": 250,
           "mark": {
            "align": "right",
            "baseline": "middle",
            "dx": -8,
            "type": "text"
           },
           "width": 450
          }
         ]
        }
       ]
      },
      "image/png": "[encoded data removed]",
      "text/plain": [
       "<VegaLite 3 object>\n",
       "\n",
       "If you see this message, it means the renderer has not been properly enabled\n",
       "for the frontend that you are using. For more information, see\n",
       "https://altair-viz.github.io/user_guide/troubleshooting.html\n"
      ]
     },
     "execution_count": 38,
     "metadata": {},
     "output_type": "execute_result"
    }
   ],
   "source": [
    "altcat.catplot(df_kref[(df_kref['treatment']=='C2')],\n",
    "               height=250,\n",
    "               width=450,\n",
    "               mark=dict(opacity=1.0, type='circle'),\n",
    "               box_mark=dict(strokeWidth=2, opacity=0.5, color='#eeeeee'),\n",
    "               whisker_mark=dict(strokeWidth=2, opacity=0.5, color='#bababa'),\n",
    "               encoding=dict(y=alt.Y('cycle:N'),\n",
    "                             x='kret:Q',\n",
    "                             color=alt.Color('treatment:N'),\n",
    "                             tooltip=alt.Tooltip(['name:N'], title='name')),\n",
    "               transform='jitterbox'\n",
    "              ).configure_text(\n",
    "                  fontWeight='bold', fontSize=15\n",
    "              ).configure_legend(labelFontSize=15,\n",
    "    titleFontSize=15).configure_axis(labelFontSize=15, titleFontSize=15)"
   ]
  },
  {
   "cell_type": "markdown",
   "metadata": {},
   "source": [
    "### Calculate the sample recovery"
   ]
  },
  {
   "cell_type": "markdown",
   "metadata": {},
   "source": [
    "The sample recovery, $R$, is defined as the displacement recovered at the end of each compression cycle, divided by the maximum displacement, according to the following formula:\n",
    "\n",
    "$R = \\frac{\\varepsilon_{max}-\\varepsilon_{unload}}{\\varepsilon_{max}}$\n",
    "\n",
    "where $\\varepsilon_{max}$ is the maximum displacement at the end of the compression cycle, and $\\varepsilon_{unload}$ is the displacement after unloading to 10% of the maximum load in each cycle."
   ]
  },
  {
   "cell_type": "code",
   "execution_count": 55,
   "metadata": {},
   "outputs": [
    {
     "data": {
      "text/plain": [
       "0.6339053850057039"
      ]
     },
     "execution_count": 55,
     "metadata": {},
     "output_type": "execute_result"
    }
   ],
   "source": [
    "fileName = 'cycling_tests/in_water/cell128C_corr'\n",
    "df = df_sample[df_sample['fileName']==fileName].reset_index(drop=True) # need to reset index since we dropped rows with NaN\n",
    "\n",
    "# calculate maximum displacement\n",
    "emax = max(df['indentation depth (um)'])\n",
    "\n",
    "# calculate maximum load\n",
    "maxload = max(df['offset force A (uN)'])\n",
    "\n",
    "# only use retraction data to find displacement at 10% of maximum load\n",
    "df = df[~df['indenting'].astype('bool')]\n",
    "eunload = max(df[df['offset force A (uN)']<0.1*maxload]['indentation depth (um)'])\n",
    "\n",
    "# calculate sample recovery\n",
    "R = (emax-eunload)/emax\n",
    "R"
   ]
  },
  {
   "cell_type": "code",
   "execution_count": 56,
   "metadata": {},
   "outputs": [
    {
     "data": {
      "text/html": [
       "<div>\n",
       "<style scoped>\n",
       "    .dataframe tbody tr th:only-of-type {\n",
       "        vertical-align: middle;\n",
       "    }\n",
       "\n",
       "    .dataframe tbody tr th {\n",
       "        vertical-align: top;\n",
       "    }\n",
       "\n",
       "    .dataframe thead th {\n",
       "        text-align: right;\n",
       "    }\n",
       "</style>\n",
       "<table border=\"1\" class=\"dataframe\">\n",
       "  <thead>\n",
       "    <tr style=\"text-align: right;\">\n",
       "      <th></th>\n",
       "      <th>name</th>\n",
       "      <th>max force (uN)</th>\n",
       "      <th>kinit</th>\n",
       "      <th>deltaF</th>\n",
       "      <th>treatment</th>\n",
       "      <th>cycle</th>\n",
       "      <th>kret</th>\n",
       "      <th>R</th>\n",
       "    </tr>\n",
       "  </thead>\n",
       "  <tbody>\n",
       "    <tr>\n",
       "      <th>0</th>\n",
       "      <td>cycling_tests/in_C2/cell001_corr</td>\n",
       "      <td>899.143144</td>\n",
       "      <td>12.058494</td>\n",
       "      <td>11.068975</td>\n",
       "      <td>C2</td>\n",
       "      <td>1.0</td>\n",
       "      <td>218.615234</td>\n",
       "      <td>0.720323</td>\n",
       "    </tr>\n",
       "    <tr>\n",
       "      <th>1</th>\n",
       "      <td>cycling_tests/in_C2/cell001B_corr</td>\n",
       "      <td>895.918818</td>\n",
       "      <td>27.849221</td>\n",
       "      <td>25.820010</td>\n",
       "      <td>C2</td>\n",
       "      <td>2.0</td>\n",
       "      <td>198.504556</td>\n",
       "      <td>0.736786</td>\n",
       "    </tr>\n",
       "    <tr>\n",
       "      <th>2</th>\n",
       "      <td>cycling_tests/in_C2/cell001C_corr</td>\n",
       "      <td>895.340638</td>\n",
       "      <td>23.345119</td>\n",
       "      <td>21.053635</td>\n",
       "      <td>C2</td>\n",
       "      <td>3.0</td>\n",
       "      <td>216.064624</td>\n",
       "      <td>0.744311</td>\n",
       "    </tr>\n",
       "    <tr>\n",
       "      <th>3</th>\n",
       "      <td>cycling_tests/in_C2/cell001D_corr</td>\n",
       "      <td>897.980526</td>\n",
       "      <td>7.657422</td>\n",
       "      <td>7.448198</td>\n",
       "      <td>C2</td>\n",
       "      <td>4.0</td>\n",
       "      <td>185.847891</td>\n",
       "      <td>0.683285</td>\n",
       "    </tr>\n",
       "    <tr>\n",
       "      <th>4</th>\n",
       "      <td>cycling_tests/in_C2/cell011_corr</td>\n",
       "      <td>169.468483</td>\n",
       "      <td>2.148068</td>\n",
       "      <td>2.195033</td>\n",
       "      <td>C2</td>\n",
       "      <td>1.0</td>\n",
       "      <td>78.509318</td>\n",
       "      <td>0.393712</td>\n",
       "    </tr>\n",
       "  </tbody>\n",
       "</table>\n",
       "</div>"
      ],
      "text/plain": [
       "                                name  max force (uN)      kinit     deltaF  \\\n",
       "0   cycling_tests/in_C2/cell001_corr      899.143144  12.058494  11.068975   \n",
       "1  cycling_tests/in_C2/cell001B_corr      895.918818  27.849221  25.820010   \n",
       "2  cycling_tests/in_C2/cell001C_corr      895.340638  23.345119  21.053635   \n",
       "3  cycling_tests/in_C2/cell001D_corr      897.980526   7.657422   7.448198   \n",
       "4   cycling_tests/in_C2/cell011_corr      169.468483   2.148068   2.195033   \n",
       "\n",
       "  treatment  cycle        kret         R  \n",
       "0        C2    1.0  218.615234  0.720323  \n",
       "1        C2    2.0  198.504556  0.736786  \n",
       "2        C2    3.0  216.064624  0.744311  \n",
       "3        C2    4.0  185.847891  0.683285  \n",
       "4        C2    1.0   78.509318  0.393712  "
      ]
     },
     "execution_count": 56,
     "metadata": {},
     "output_type": "execute_result"
    }
   ],
   "source": [
    "for fileName in df_sample['fileName'].unique():\n",
    "    df = df_sample[df_sample['fileName']==fileName].reset_index(drop=True) # need to reset index since we dropped rows with NaN\n",
    "   \n",
    "    # calculate maximum displacement\n",
    "    emax = max(df['indentation depth (um)'])\n",
    "\n",
    "    # calculate maximum load\n",
    "    maxload = max(df['offset force A (uN)'])\n",
    "\n",
    "    # only use retraction data to find displacement at 10% of maximum load\n",
    "    df = df[~df['indenting'].astype('bool')]\n",
    "    eunload = max(df[df['offset force A (uN)']<0.1*maxload]['indentation depth (um)'])\n",
    "\n",
    "    # calculate sample recovery\n",
    "    R = (emax-eunload)/emax\n",
    "    \n",
    "    df_kref.loc[df_kref['name']==fileName, 'R'] = R\n",
    "    \n",
    "df_kref.head()"
   ]
  },
  {
   "cell_type": "code",
   "execution_count": 60,
   "metadata": {},
   "outputs": [
    {
     "data": {
      "application/vnd.vegalite.v3+json": {
       "$schema": "https://vega.github.io/schema/vega-lite/v3.4.0.json",
       "config": {
        "axis": {
         "labelFontSize": 15,
         "titleFontSize": 15
        },
        "legend": {
         "labelFontSize": 15,
         "titleFontSize": 15
        },
        "mark": {
         "tooltip": null
        },
        "text": {
         "fontSize": 15,
         "fontWeight": "bold"
        },
        "view": {
         "height": 300,
         "width": 400
        }
       },
       "layer": [
        {
         "data": {
          "format": {
           "type": "json"
          },
          "url": "altair-data-4f0795640d5f8594508343f3c4bfa1fd.json"
         },
         "layer": [
          {
           "encoding": {
            "x": {
             "field": "bottom_whisker",
             "title": "R",
             "type": "quantitative"
            },
            "x2": {
             "field": "bottom"
            },
            "y": {
             "field": "nominal_axis_value",
             "scale": {},
             "type": "quantitative"
            }
           },
           "height": 250,
           "mark": {
            "color": "#bababa",
            "opacity": 0.5,
            "strokeWidth": 2,
            "type": "rule"
           },
           "width": 450
          },
          {
           "encoding": {
            "x": {
             "field": "top",
             "title": "R",
             "type": "quantitative"
            },
            "x2": {
             "field": "top_whisker"
            },
            "y": {
             "field": "nominal_axis_value",
             "scale": {},
             "type": "quantitative"
            }
           },
           "height": 250,
           "mark": {
            "color": "#bababa",
            "opacity": 0.5,
            "strokeWidth": 2,
            "type": "rule"
           },
           "width": 450
          },
          {
           "encoding": {
            "x": {
             "field": "bottom",
             "title": "R",
             "type": "quantitative"
            },
            "x2": {
             "field": "top"
            },
            "y": {
             "field": "left",
             "scale": {},
             "type": "quantitative"
            },
            "y2": {
             "field": "right"
            }
           },
           "height": 250,
           "mark": {
            "color": "#eeeeee",
            "opacity": 0.5,
            "size": 0.4,
            "strokeWidth": 2,
            "type": "bar"
           },
           "width": 450
          },
          {
           "encoding": {
            "x": {
             "field": "middle",
             "title": "R",
             "type": "quantitative"
            },
            "y": {
             "field": "left",
             "scale": {},
             "type": "quantitative"
            },
            "y2": {
             "field": "right"
            }
           },
           "height": 250,
           "mark": {
            "color": "white",
            "opacity": 1,
            "strokeWidth": 2,
            "type": "rule"
           },
           "width": 450
          },
          {
           "encoding": {
            "x": {
             "field": "bottom_whisker",
             "title": "R",
             "type": "quantitative"
            },
            "y": {
             "field": "cap_left",
             "type": "quantitative"
            },
            "y2": {
             "field": "cap_right"
            }
           },
           "height": 250,
           "mark": {
            "color": "#bababa",
            "opacity": 0.5,
            "strokeWidth": 2,
            "type": "rule"
           },
           "width": 450
          },
          {
           "encoding": {
            "x": {
             "field": "top_whisker",
             "title": "R",
             "type": "quantitative"
            },
            "y": {
             "field": "cap_left",
             "type": "quantitative"
            },
            "y2": {
             "field": "cap_right"
            }
           },
           "height": 250,
           "mark": {
            "color": "#bababa",
            "opacity": 0.5,
            "strokeWidth": 2,
            "type": "rule"
           },
           "width": 450
          }
         ]
        },
        {
         "layer": [
          {
           "data": {
            "format": {
             "type": "json"
            },
            "url": "altair-data-190369999d0dcf615b7bd25ca1e4412b.json"
           },
           "encoding": {
            "color": {
             "field": "treatment",
             "type": "nominal"
            },
            "tooltip": [
             {
              "field": "name",
              "title": "name",
              "type": "nominal"
             }
            ],
            "x": {
             "field": "R",
             "title": "R",
             "type": "quantitative"
            },
            "y": {
             "axis": {
              "grid": false,
              "labels": false,
              "title": null,
              "values": [
               0,
               1,
               2
              ]
             },
             "field": "__jitter",
             "type": "quantitative"
            }
           },
           "height": 250,
           "mark": {
            "opacity": 1,
            "type": "circle"
           },
           "width": 450
          },
          {
           "data": {
            "format": {
             "type": "json"
            },
            "url": "altair-data-83b8aa6e9503deabf76e57a14cba1e7c.json"
           },
           "encoding": {
            "text": {
             "field": "text",
             "type": "nominal"
            },
            "x": {
             "field": "R",
             "title": "R",
             "type": "quantitative"
            },
            "y": {
             "axis": {
              "grid": false,
              "labels": false,
              "title": null,
              "values": [
               0,
               1,
               2
              ]
             },
             "field": "__jitter",
             "type": "quantitative"
            }
           },
           "height": 250,
           "mark": {
            "align": "right",
            "baseline": "middle",
            "dx": -8,
            "type": "text"
           },
           "width": 450
          }
         ]
        }
       ]
      },
      "image/png": "[encoded data removed]",
      "text/plain": [
       "<VegaLite 3 object>\n",
       "\n",
       "If you see this message, it means the renderer has not been properly enabled\n",
       "for the frontend that you are using. For more information, see\n",
       "https://altair-viz.github.io/user_guide/troubleshooting.html\n"
      ]
     },
     "execution_count": 60,
     "metadata": {},
     "output_type": "execute_result"
    }
   ],
   "source": [
    "altcat.catplot(df_kref[(df_kref['treatment']=='sorbitol')],\n",
    "               height=250,\n",
    "               width=450,\n",
    "               mark=dict(opacity=1.0, type='circle'),\n",
    "               box_mark=dict(strokeWidth=2, opacity=0.5, color='#eeeeee'),\n",
    "               whisker_mark=dict(strokeWidth=2, opacity=0.5, color='#bababa'),\n",
    "               encoding=dict(y=alt.Y('cycle:N'),\n",
    "                             x='R:Q',\n",
    "                             color=alt.Color('treatment:N'),\n",
    "                             tooltip=alt.Tooltip(['name:N'], title='name')),\n",
    "               transform='jitterbox'\n",
    "              ).configure_text(\n",
    "                  fontWeight='bold', fontSize=15\n",
    "              ).configure_legend(labelFontSize=15,\n",
    "    titleFontSize=15).configure_axis(labelFontSize=15, titleFontSize=15)"
   ]
  },
  {
   "cell_type": "markdown",
   "metadata": {},
   "source": [
    "### Calculate the loss coefficient"
   ]
  },
  {
   "cell_type": "markdown",
   "metadata": {},
   "source": [
    "The loss coefficient, $\\eta$, measures energy dissipation and is calculated as follows:\n",
    "\n",
    "$\\eta = \\frac{\\Delta U_i}{2 \\pi U_1}$\n",
    "\n",
    "where $U_1$ is the elastic energy stored in the material when it is loaded elastically to a stress $\\sigma_{max}$ during the first cycle, and $\\Delta U_i$ is the energy dissipated in the $i$th cycle."
   ]
  },
  {
   "cell_type": "code",
   "execution_count": 64,
   "metadata": {},
   "outputs": [],
   "source": [
    "# cycle 1\n",
    "fileName = 'cycling_tests/in_water/cell128_corr'\n",
    "df = df_sample[df_sample['fileName']==fileName].reset_index(drop=True) # need to reset index since we dropped rows with NaN"
   ]
  },
  {
   "cell_type": "code",
   "execution_count": 62,
   "metadata": {},
   "outputs": [],
   "source": [
    "displ = df[df['indentation depth (um)']>0]['indentation depth (um)'].reset_index(drop=True)\n",
    "force = df[df['indentation depth (um)']>0]['offset force A (uN)'].reset_index(drop=True)"
   ]
  },
  {
   "cell_type": "code",
   "execution_count": 65,
   "metadata": {},
   "outputs": [
    {
     "name": "stdout",
     "output_type": "stream",
     "text": [
      "957.081079057496\n"
     ]
    }
   ],
   "source": [
    "U1 = 0\n",
    "for i in range(len(displ)):\n",
    "    if i==len(displ)-1:\n",
    "        U1 += displ[i] * force[0] - force[i] * displ[0]\n",
    "    else:\n",
    "        U1 += displ[i] * force[i+1] - force[i] * displ[i+1]\n",
    "U1 = abs(U1*0.5)\n",
    "print(U1)"
   ]
  },
  {
   "cell_type": "code",
   "execution_count": 66,
   "metadata": {},
   "outputs": [],
   "source": [
    "# cycle 2\n",
    "fileName = 'cycling_tests/in_water/cell128B_corr'\n",
    "df = df_sample[df_sample['fileName']==fileName].reset_index(drop=True) # need to reset index since we dropped rows with NaN"
   ]
  },
  {
   "cell_type": "code",
   "execution_count": 67,
   "metadata": {},
   "outputs": [
    {
     "name": "stdout",
     "output_type": "stream",
     "text": [
      "1149.025549156258\n"
     ]
    }
   ],
   "source": [
    "displ = df[df['indentation depth (um)']>0]['indentation depth (um)'].reset_index(drop=True)\n",
    "force = df[df['indentation depth (um)']>0]['offset force A (uN)'].reset_index(drop=True)\n",
    "\n",
    "U2 = 0\n",
    "for i in range(len(displ)):\n",
    "    if i==len(displ)-1:\n",
    "        U2 += displ[i] * force[0] - force[i] * displ[0]\n",
    "    else:\n",
    "        U2 += displ[i] * force[i+1] - force[i] * displ[i+1]\n",
    "U2 = abs(U2*0.5)\n",
    "print(U2)"
   ]
  },
  {
   "cell_type": "code",
   "execution_count": 70,
   "metadata": {},
   "outputs": [
    {
     "data": {
      "text/plain": [
       "0.19107377618120486"
      ]
     },
     "execution_count": 70,
     "metadata": {},
     "output_type": "execute_result"
    }
   ],
   "source": [
    "eta = U2/2/np.pi/U1\n",
    "eta"
   ]
  },
  {
   "cell_type": "code",
   "execution_count": 71,
   "metadata": {},
   "outputs": [
    {
     "data": {
      "text/html": [
       "<div>\n",
       "<style scoped>\n",
       "    .dataframe tbody tr th:only-of-type {\n",
       "        vertical-align: middle;\n",
       "    }\n",
       "\n",
       "    .dataframe tbody tr th {\n",
       "        vertical-align: top;\n",
       "    }\n",
       "\n",
       "    .dataframe thead th {\n",
       "        text-align: right;\n",
       "    }\n",
       "</style>\n",
       "<table border=\"1\" class=\"dataframe\">\n",
       "  <thead>\n",
       "    <tr style=\"text-align: right;\">\n",
       "      <th></th>\n",
       "      <th>Index</th>\n",
       "      <th>Time (s)</th>\n",
       "      <th>Displacement (um)</th>\n",
       "      <th>Pos X (um)</th>\n",
       "      <th>Pos Y (um)</th>\n",
       "      <th>Pos Z (um)</th>\n",
       "      <th>Force A (uN)</th>\n",
       "      <th>Force B (uN)</th>\n",
       "      <th>fileName</th>\n",
       "      <th>indenting</th>\n",
       "      <th>Full Indentation</th>\n",
       "      <th>plasmolyzed</th>\n",
       "      <th>treatment</th>\n",
       "      <th>Corrected Displacement (um)</th>\n",
       "      <th>offset force A (uN)</th>\n",
       "      <th>cellNum</th>\n",
       "      <th>threshold</th>\n",
       "      <th>cycle</th>\n",
       "      <th>indentation depth (um)</th>\n",
       "      <th>filtered force A (uN)</th>\n",
       "    </tr>\n",
       "  </thead>\n",
       "  <tbody>\n",
       "    <tr>\n",
       "      <th>0</th>\n",
       "      <td>1.001</td>\n",
       "      <td>0.107</td>\n",
       "      <td>0.03800</td>\n",
       "      <td>-348.01650</td>\n",
       "      <td>-134.06175</td>\n",
       "      <td>-429.94600</td>\n",
       "      <td>-16.40537</td>\n",
       "      <td>-0.00594</td>\n",
       "      <td>cycling_tests/in_water/cell128B_corr</td>\n",
       "      <td>True</td>\n",
       "      <td>False</td>\n",
       "      <td>False</td>\n",
       "      <td>water</td>\n",
       "      <td>0.102469</td>\n",
       "      <td>0.207951</td>\n",
       "      <td>128</td>\n",
       "      <td>1.0</td>\n",
       "      <td>2.0</td>\n",
       "      <td>-2.583586</td>\n",
       "      <td>-0.031739</td>\n",
       "    </tr>\n",
       "    <tr>\n",
       "      <th>1</th>\n",
       "      <td>1.001</td>\n",
       "      <td>0.207</td>\n",
       "      <td>0.06625</td>\n",
       "      <td>-348.01625</td>\n",
       "      <td>-134.06200</td>\n",
       "      <td>-429.97425</td>\n",
       "      <td>-16.30674</td>\n",
       "      <td>-0.00419</td>\n",
       "      <td>cycling_tests/in_water/cell128B_corr</td>\n",
       "      <td>True</td>\n",
       "      <td>False</td>\n",
       "      <td>False</td>\n",
       "      <td>water</td>\n",
       "      <td>0.130331</td>\n",
       "      <td>0.306581</td>\n",
       "      <td>128</td>\n",
       "      <td>1.0</td>\n",
       "      <td>2.0</td>\n",
       "      <td>-2.555724</td>\n",
       "      <td>-0.085491</td>\n",
       "    </tr>\n",
       "    <tr>\n",
       "      <th>2</th>\n",
       "      <td>1.001</td>\n",
       "      <td>0.317</td>\n",
       "      <td>0.08175</td>\n",
       "      <td>-348.01700</td>\n",
       "      <td>-134.06200</td>\n",
       "      <td>-429.98975</td>\n",
       "      <td>-16.73470</td>\n",
       "      <td>-0.01072</td>\n",
       "      <td>cycling_tests/in_water/cell128B_corr</td>\n",
       "      <td>True</td>\n",
       "      <td>False</td>\n",
       "      <td>False</td>\n",
       "      <td>water</td>\n",
       "      <td>0.147513</td>\n",
       "      <td>-0.121379</td>\n",
       "      <td>128</td>\n",
       "      <td>1.0</td>\n",
       "      <td>2.0</td>\n",
       "      <td>-2.538542</td>\n",
       "      <td>-0.140163</td>\n",
       "    </tr>\n",
       "    <tr>\n",
       "      <th>3</th>\n",
       "      <td>1.001</td>\n",
       "      <td>0.427</td>\n",
       "      <td>0.09850</td>\n",
       "      <td>-348.01650</td>\n",
       "      <td>-134.06200</td>\n",
       "      <td>-430.00650</td>\n",
       "      <td>-16.59788</td>\n",
       "      <td>-0.00737</td>\n",
       "      <td>cycling_tests/in_water/cell128B_corr</td>\n",
       "      <td>True</td>\n",
       "      <td>False</td>\n",
       "      <td>False</td>\n",
       "      <td>water</td>\n",
       "      <td>0.163726</td>\n",
       "      <td>0.015441</td>\n",
       "      <td>128</td>\n",
       "      <td>1.0</td>\n",
       "      <td>2.0</td>\n",
       "      <td>-2.522330</td>\n",
       "      <td>-0.195755</td>\n",
       "    </tr>\n",
       "    <tr>\n",
       "      <th>4</th>\n",
       "      <td>1.001</td>\n",
       "      <td>0.539</td>\n",
       "      <td>0.12025</td>\n",
       "      <td>-348.01600</td>\n",
       "      <td>-134.06200</td>\n",
       "      <td>-430.02825</td>\n",
       "      <td>-16.96379</td>\n",
       "      <td>-0.01326</td>\n",
       "      <td>cycling_tests/in_water/cell128B_corr</td>\n",
       "      <td>True</td>\n",
       "      <td>False</td>\n",
       "      <td>False</td>\n",
       "      <td>water</td>\n",
       "      <td>0.186914</td>\n",
       "      <td>-0.350469</td>\n",
       "      <td>128</td>\n",
       "      <td>1.0</td>\n",
       "      <td>2.0</td>\n",
       "      <td>-2.499142</td>\n",
       "      <td>-0.252267</td>\n",
       "    </tr>\n",
       "  </tbody>\n",
       "</table>\n",
       "</div>"
      ],
      "text/plain": [
       "   Index  Time (s)  Displacement (um)  Pos X (um)  Pos Y (um)  Pos Z (um)  \\\n",
       "0  1.001     0.107            0.03800  -348.01650  -134.06175  -429.94600   \n",
       "1  1.001     0.207            0.06625  -348.01625  -134.06200  -429.97425   \n",
       "2  1.001     0.317            0.08175  -348.01700  -134.06200  -429.98975   \n",
       "3  1.001     0.427            0.09850  -348.01650  -134.06200  -430.00650   \n",
       "4  1.001     0.539            0.12025  -348.01600  -134.06200  -430.02825   \n",
       "\n",
       "   Force A (uN)  Force B (uN)                              fileName indenting  \\\n",
       "0     -16.40537      -0.00594  cycling_tests/in_water/cell128B_corr      True   \n",
       "1     -16.30674      -0.00419  cycling_tests/in_water/cell128B_corr      True   \n",
       "2     -16.73470      -0.01072  cycling_tests/in_water/cell128B_corr      True   \n",
       "3     -16.59788      -0.00737  cycling_tests/in_water/cell128B_corr      True   \n",
       "4     -16.96379      -0.01326  cycling_tests/in_water/cell128B_corr      True   \n",
       "\n",
       "   Full Indentation plasmolyzed treatment  Corrected Displacement (um)  \\\n",
       "0             False       False     water                     0.102469   \n",
       "1             False       False     water                     0.130331   \n",
       "2             False       False     water                     0.147513   \n",
       "3             False       False     water                     0.163726   \n",
       "4             False       False     water                     0.186914   \n",
       "\n",
       "   offset force A (uN) cellNum  threshold  cycle  indentation depth (um)  \\\n",
       "0             0.207951     128        1.0    2.0               -2.583586   \n",
       "1             0.306581     128        1.0    2.0               -2.555724   \n",
       "2            -0.121379     128        1.0    2.0               -2.538542   \n",
       "3             0.015441     128        1.0    2.0               -2.522330   \n",
       "4            -0.350469     128        1.0    2.0               -2.499142   \n",
       "\n",
       "   filtered force A (uN)  \n",
       "0              -0.031739  \n",
       "1              -0.085491  \n",
       "2              -0.140163  \n",
       "3              -0.195755  \n",
       "4              -0.252267  "
      ]
     },
     "execution_count": 71,
     "metadata": {},
     "output_type": "execute_result"
    }
   ],
   "source": [
    "df.head()"
   ]
  },
  {
   "cell_type": "code",
   "execution_count": 79,
   "metadata": {},
   "outputs": [
    {
     "data": {
      "text/html": [
       "<div>\n",
       "<style scoped>\n",
       "    .dataframe tbody tr th:only-of-type {\n",
       "        vertical-align: middle;\n",
       "    }\n",
       "\n",
       "    .dataframe tbody tr th {\n",
       "        vertical-align: top;\n",
       "    }\n",
       "\n",
       "    .dataframe thead th {\n",
       "        text-align: right;\n",
       "    }\n",
       "</style>\n",
       "<table border=\"1\" class=\"dataframe\">\n",
       "  <thead>\n",
       "    <tr style=\"text-align: right;\">\n",
       "      <th></th>\n",
       "      <th>name</th>\n",
       "      <th>max force (uN)</th>\n",
       "      <th>kinit</th>\n",
       "      <th>deltaF</th>\n",
       "      <th>treatment</th>\n",
       "      <th>cycle</th>\n",
       "      <th>kret</th>\n",
       "      <th>R</th>\n",
       "      <th>eta</th>\n",
       "    </tr>\n",
       "  </thead>\n",
       "  <tbody>\n",
       "    <tr>\n",
       "      <th>0</th>\n",
       "      <td>cycling_tests/in_C2/cell001_corr</td>\n",
       "      <td>899.143144</td>\n",
       "      <td>12.058494</td>\n",
       "      <td>11.068975</td>\n",
       "      <td>C2</td>\n",
       "      <td>1.0</td>\n",
       "      <td>218.615234</td>\n",
       "      <td>0.720323</td>\n",
       "      <td>0.159155</td>\n",
       "    </tr>\n",
       "    <tr>\n",
       "      <th>1</th>\n",
       "      <td>cycling_tests/in_C2/cell001B_corr</td>\n",
       "      <td>895.918818</td>\n",
       "      <td>27.849221</td>\n",
       "      <td>25.820010</td>\n",
       "      <td>C2</td>\n",
       "      <td>2.0</td>\n",
       "      <td>198.504556</td>\n",
       "      <td>0.736786</td>\n",
       "      <td>0.152881</td>\n",
       "    </tr>\n",
       "    <tr>\n",
       "      <th>2</th>\n",
       "      <td>cycling_tests/in_C2/cell001C_corr</td>\n",
       "      <td>895.340638</td>\n",
       "      <td>23.345119</td>\n",
       "      <td>21.053635</td>\n",
       "      <td>C2</td>\n",
       "      <td>3.0</td>\n",
       "      <td>216.064624</td>\n",
       "      <td>0.744311</td>\n",
       "      <td>0.147949</td>\n",
       "    </tr>\n",
       "    <tr>\n",
       "      <th>3</th>\n",
       "      <td>cycling_tests/in_C2/cell001D_corr</td>\n",
       "      <td>897.980526</td>\n",
       "      <td>7.657422</td>\n",
       "      <td>7.448198</td>\n",
       "      <td>C2</td>\n",
       "      <td>4.0</td>\n",
       "      <td>185.847891</td>\n",
       "      <td>0.683285</td>\n",
       "      <td>0.169904</td>\n",
       "    </tr>\n",
       "    <tr>\n",
       "      <th>4</th>\n",
       "      <td>cycling_tests/in_C2/cell011_corr</td>\n",
       "      <td>169.468483</td>\n",
       "      <td>2.148068</td>\n",
       "      <td>2.195033</td>\n",
       "      <td>C2</td>\n",
       "      <td>1.0</td>\n",
       "      <td>78.509318</td>\n",
       "      <td>0.393712</td>\n",
       "      <td>0.159155</td>\n",
       "    </tr>\n",
       "  </tbody>\n",
       "</table>\n",
       "</div>"
      ],
      "text/plain": [
       "                                name  max force (uN)      kinit     deltaF  \\\n",
       "0   cycling_tests/in_C2/cell001_corr      899.143144  12.058494  11.068975   \n",
       "1  cycling_tests/in_C2/cell001B_corr      895.918818  27.849221  25.820010   \n",
       "2  cycling_tests/in_C2/cell001C_corr      895.340638  23.345119  21.053635   \n",
       "3  cycling_tests/in_C2/cell001D_corr      897.980526   7.657422   7.448198   \n",
       "4   cycling_tests/in_C2/cell011_corr      169.468483   2.148068   2.195033   \n",
       "\n",
       "  treatment  cycle        kret         R       eta  \n",
       "0        C2    1.0  218.615234  0.720323  0.159155  \n",
       "1        C2    2.0  198.504556  0.736786  0.152881  \n",
       "2        C2    3.0  216.064624  0.744311  0.147949  \n",
       "3        C2    4.0  185.847891  0.683285  0.169904  \n",
       "4        C2    1.0   78.509318  0.393712  0.159155  "
      ]
     },
     "execution_count": 79,
     "metadata": {},
     "output_type": "execute_result"
    }
   ],
   "source": [
    "for cellNum in df_sample['cellNum'].unique():\n",
    "    df_allcycles = df_sample[df_sample['cellNum']==cellNum]\n",
    "\n",
    "    for cycle in df_allcycles['cycle'].unique():\n",
    "        df = df_allcycles[df_allcycles['cycle']==cycle]\n",
    "        fileName = df['fileName'].reset_index(drop=True)[0]\n",
    "        displ = df[df['indentation depth (um)']>0]['indentation depth (um)'].reset_index(drop=True)\n",
    "        force = df[df['indentation depth (um)']>0]['offset force A (uN)'].reset_index(drop=True)\n",
    "\n",
    "        U = 0\n",
    "        for i in range(len(displ)):\n",
    "            if i==len(displ)-1:\n",
    "                U += displ[i] * force[0] - force[i] * displ[0]\n",
    "            else:\n",
    "                U += displ[i] * force[i+1] - force[i] * displ[i+1]\n",
    "        U = abs(U*0.5)\n",
    "        if cycle==1.0:\n",
    "            U1 = U\n",
    "        eta = U/2/np.pi/U1\n",
    "        \n",
    "        df_kref.loc[df_kref['name']==fileName, 'eta'] = eta\n",
    "df_kref.head()"
   ]
  },
  {
   "cell_type": "code",
   "execution_count": 82,
   "metadata": {},
   "outputs": [
    {
     "data": {
      "application/vnd.vegalite.v3+json": {
       "$schema": "https://vega.github.io/schema/vega-lite/v3.4.0.json",
       "config": {
        "axis": {
         "labelFontSize": 15,
         "titleFontSize": 15
        },
        "legend": {
         "labelFontSize": 15,
         "titleFontSize": 15
        },
        "mark": {
         "tooltip": null
        },
        "text": {
         "fontSize": 15,
         "fontWeight": "bold"
        },
        "view": {
         "height": 300,
         "width": 400
        }
       },
       "layer": [
        {
         "data": {
          "format": {
           "type": "json"
          },
          "url": "altair-data-37caa278a1eaf9079793f25c71b600fa.json"
         },
         "layer": [
          {
           "encoding": {
            "x": {
             "field": "bottom_whisker",
             "title": "eta",
             "type": "quantitative"
            },
            "x2": {
             "field": "bottom"
            },
            "y": {
             "field": "nominal_axis_value",
             "scale": {},
             "type": "quantitative"
            }
           },
           "height": 250,
           "mark": {
            "color": "#bababa",
            "opacity": 0.5,
            "strokeWidth": 2,
            "type": "rule"
           },
           "width": 450
          },
          {
           "encoding": {
            "x": {
             "field": "top",
             "title": "eta",
             "type": "quantitative"
            },
            "x2": {
             "field": "top_whisker"
            },
            "y": {
             "field": "nominal_axis_value",
             "scale": {},
             "type": "quantitative"
            }
           },
           "height": 250,
           "mark": {
            "color": "#bababa",
            "opacity": 0.5,
            "strokeWidth": 2,
            "type": "rule"
           },
           "width": 450
          },
          {
           "encoding": {
            "x": {
             "field": "bottom",
             "title": "eta",
             "type": "quantitative"
            },
            "x2": {
             "field": "top"
            },
            "y": {
             "field": "left",
             "scale": {},
             "type": "quantitative"
            },
            "y2": {
             "field": "right"
            }
           },
           "height": 250,
           "mark": {
            "color": "#eeeeee",
            "opacity": 0.5,
            "size": 0.4,
            "strokeWidth": 2,
            "type": "bar"
           },
           "width": 450
          },
          {
           "encoding": {
            "x": {
             "field": "middle",
             "title": "eta",
             "type": "quantitative"
            },
            "y": {
             "field": "left",
             "scale": {},
             "type": "quantitative"
            },
            "y2": {
             "field": "right"
            }
           },
           "height": 250,
           "mark": {
            "color": "white",
            "opacity": 1,
            "strokeWidth": 2,
            "type": "rule"
           },
           "width": 450
          },
          {
           "encoding": {
            "x": {
             "field": "bottom_whisker",
             "title": "eta",
             "type": "quantitative"
            },
            "y": {
             "field": "cap_left",
             "type": "quantitative"
            },
            "y2": {
             "field": "cap_right"
            }
           },
           "height": 250,
           "mark": {
            "color": "#bababa",
            "opacity": 0.5,
            "strokeWidth": 2,
            "type": "rule"
           },
           "width": 450
          },
          {
           "encoding": {
            "x": {
             "field": "top_whisker",
             "title": "eta",
             "type": "quantitative"
            },
            "y": {
             "field": "cap_left",
             "type": "quantitative"
            },
            "y2": {
             "field": "cap_right"
            }
           },
           "height": 250,
           "mark": {
            "color": "#bababa",
            "opacity": 0.5,
            "strokeWidth": 2,
            "type": "rule"
           },
           "width": 450
          }
         ]
        },
        {
         "layer": [
          {
           "data": {
            "format": {
             "type": "json"
            },
            "url": "altair-data-26b94f12624bc6d50059e727787c1954.json"
           },
           "encoding": {
            "color": {
             "field": "treatment",
             "type": "nominal"
            },
            "tooltip": [
             {
              "field": "name",
              "title": "name",
              "type": "nominal"
             }
            ],
            "x": {
             "field": "eta",
             "title": "eta",
             "type": "quantitative"
            },
            "y": {
             "axis": {
              "grid": false,
              "labels": false,
              "title": null,
              "values": [
               0,
               1,
               2,
               3
              ]
             },
             "field": "__jitter",
             "type": "quantitative"
            }
           },
           "height": 250,
           "mark": {
            "opacity": 1,
            "type": "circle"
           },
           "width": 450
          },
          {
           "data": {
            "format": {
             "type": "json"
            },
            "url": "altair-data-d64a3b74bae396b6276f1d09f37a26b5.json"
           },
           "encoding": {
            "text": {
             "field": "text",
             "type": "nominal"
            },
            "x": {
             "field": "eta",
             "title": "eta",
             "type": "quantitative"
            },
            "y": {
             "axis": {
              "grid": false,
              "labels": false,
              "title": null,
              "values": [
               0,
               1,
               2,
               3
              ]
             },
             "field": "__jitter",
             "type": "quantitative"
            }
           },
           "height": 250,
           "mark": {
            "align": "right",
            "baseline": "middle",
            "dx": -8,
            "type": "text"
           },
           "width": 450
          }
         ]
        }
       ]
      },
      "image/png": "[encoded data removed]",
      "text/plain": [
       "<VegaLite 3 object>\n",
       "\n",
       "If you see this message, it means the renderer has not been properly enabled\n",
       "for the frontend that you are using. For more information, see\n",
       "https://altair-viz.github.io/user_guide/troubleshooting.html\n"
      ]
     },
     "execution_count": 82,
     "metadata": {},
     "output_type": "execute_result"
    }
   ],
   "source": [
    "altcat.catplot(df_kref[(df_kref['treatment']=='water')],\n",
    "               height=250,\n",
    "               width=450,\n",
    "               mark=dict(opacity=1.0, type='circle'),\n",
    "               box_mark=dict(strokeWidth=2, opacity=0.5, color='#eeeeee'),\n",
    "               whisker_mark=dict(strokeWidth=2, opacity=0.5, color='#bababa'),\n",
    "               encoding=dict(y=alt.Y('cycle:N'),\n",
    "                             x='eta:Q',\n",
    "                             color=alt.Color('treatment:N'),\n",
    "                             tooltip=alt.Tooltip(['name:N'], title='name')),\n",
    "               transform='jitterbox'\n",
    "              ).configure_text(\n",
    "                  fontWeight='bold', fontSize=15\n",
    "              ).configure_legend(labelFontSize=15,\n",
    "    titleFontSize=15).configure_axis(labelFontSize=15, titleFontSize=15)"
   ]
  },
  {
   "cell_type": "code",
   "execution_count": null,
   "metadata": {},
   "outputs": [],
   "source": []
  }
 ],
 "metadata": {
  "kernelspec": {
   "display_name": "Python 3",
   "language": "python",
   "name": "python3"
  },
  "language_info": {
   "codemirror_mode": {
    "name": "ipython",
    "version": 3
   },
   "file_extension": ".py",
   "mimetype": "text/x-python",
   "name": "python",
   "nbconvert_exporter": "python",
   "pygments_lexer": "ipython3",
   "version": "3.7.6"
  }
 },
 "nbformat": 4,
 "nbformat_minor": 4
}
