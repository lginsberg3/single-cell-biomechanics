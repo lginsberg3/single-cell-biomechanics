{
 "cells": [
  {
   "cell_type": "markdown",
   "metadata": {},
   "source": [
    "# Configuration Instructions\n",
    "\n",
    "## Last Updated: December 18, 2021\n",
    "\n",
    "This document was prepared by [Leah Ginsberg](https://www.linkedin.com/in/leah-ginsberg/), a member of the [Ravichandran Research Group](https://www.ravi.caltech.edu/) at [Caltech](http://www.caltech.edu) in collaboration with [Professor Eleftheria Roumeli](https://sites.google.com/uw.edu/roumeli-research-group/) from [University of Washington](https://www.washington.edu/). \n",
    "\n",
    "<img src=\"caltech_uw_logo.png\">\n",
    "\n",
    "*These instructions were generated from a Jupyter notebook.  You can download the notebook [here](config_instructions.ipynb).*"
   ]
  },
  {
   "cell_type": "markdown",
   "metadata": {},
   "source": [
    "## Windows users: Install Git and Chrome or Firefox"
   ]
  },
  {
   "cell_type": "markdown",
   "metadata": {},
   "source": [
    "All of the code developed for our paper, \"Cell wall and cytoskeletal contributions in single cell biomechanics of Nicotiana tabacum,\" uses [JupyterLab](http://jupyterlab.readthedocs.io/en/stable/index.html). It is browser-based, and Chrome, Firefox, and Safari are supported. Internet Explorer is not. So, Windows users need to make sure they have either Chrome of Firefox installed."
   ]
  },
  {
   "cell_type": "markdown",
   "metadata": {},
   "source": [
    "## Downloading and installing Anaconda\n",
    "\n",
    "Anaconda is an open-source Python distribution and comes with a package manager, `conda`, that will help installing necessary Python packages later on.\n",
    "\n",
    "1. Go to the [Anaconda homepage](https://www.anaconda.com/download/) and download the graphical installer.  \n",
    "2. Install Anaconda with Python 3.7.\n",
    "3. Follow the on-screen instructions for installation. While doing so, be sure that Anaconda is installed in your home directory, not in root."
   ]
  },
  {
   "cell_type": "markdown",
   "metadata": {},
   "source": [
    "## Launching JupyterLab and a terminal\n",
    "\n",
    "After installing the Anaconda distribution, you should be able to launch the Anaconda Navigator. If you're using macOS, this is available in your `Applications` menu. If you are using Windows, you can do this from the `Start` menu. Launch Anaconda Navigator.\n",
    "\n",
    "You should see an option to launch JupyterLab. When you do that, a new browser window or tab will open with JupyterLab running. Within the JupyterLab window, you will have the option to launch a notebook, a console, a terminal, or a text editor. All of the code published in this repository is in the notebook form. You will need to use the terminal for package management.\n",
    "\n",
    "If you choose to use Jupyter, for the updating and installation of necessary packages, click on Terminal to launch a terminal. You will get a terminal window (probably black) with a prompt. This text interface in the terminal is called the command line. You will use this to install the requisite packages."
   ]
  },
  {
   "cell_type": "markdown",
   "metadata": {},
   "source": [
    "## The `conda` package manager\n",
    "`conda` is a package manager for keeping all of your packages up-to-date.  It has plenty of functionality beyond our basic usage for the purposes of this paper, which you can learn more about by reading the [docs](http://conda.pydata.org/docs/get-started.html).  Here, we will primarily be using `conda` to install and update packages.\n",
    "\n",
    "`conda` works from the command line.  Now that you know how to get a command line prompt, you can start using `conda`.  The first thing we'll do is update `conda` itself.  To do this, enter the following on the command line:\n",
    "\n",
    "    conda update conda\n",
    "\n",
    "If `conda` is out of date and needs to be updated, you will be prompted to perform the update.  Just type `y`, and the update will proceeed.\n",
    "\n",
    "Now that `conda` is updated, we'll use it to see what packages are installed.  Type the following on the command line:\n",
    "\n",
    "    conda list\n",
    "\n",
    "This gives a list of all packages and their versions that are installed.  Now, we'll update all packages, so type the following on the command line:\n",
    "\n",
    "    conda update --all\n",
    "\n",
    "You will be prompted to perform all of the updates.  They may even be some downgrades.  This happens when there are package conflicts where one package requires an earlier version of another.  `conda` is very smart and figures all of this out for you, so you can almost always say \"yes\" (or \"`y`\") to `conda` when it prompts you.\n",
    "\n",
    "You will also need to install some packages that are not included in the default Anaconda distribution, namely [PyStan](http://mc-stan.org/), [Altair](https://altair-viz.github.io), [Altair-catplot](https://github.com/justinbois/altair-catplot), [IPython Vega](https://github.com/vega/ipyvega), [node.js](https://nodejs.org/). To install these packages, do the following, in succession, on the command line.\n",
    "\n",
    "    conda install nodejs pystan\n",
    "    conda install -c conda-forge altair vega\n",
    "    pip install altair-catplot\n",
    "    "
   ]
  },
  {
   "cell_type": "markdown",
   "metadata": {},
   "source": [
    "## Optional installations\n",
    "\n",
    "We use [Altair](https://altair-viz.github.io/) for most of our plotting. By default, Altair only exports graphics as PNG and HTML. However, to enable Altair to publish **vector graphics**, which enable higher resolution figures, you will need to install the [Google Chrome](https://www.google.com/chrome) web browser and [ChromeDriver](http://chromedriver.chromium.org). To install Chrome, simply [download it](https://www.google.com/chrome) and follow the on-screen instructions. You do not need to make it your default browser if you do not want to. To install ChromeDriver, download the [most recent ZIPped binary](http://chromedriver.chromium.org/downloads) (choose the zip file that matches your operating system). Unzip it, and save the binary to a directory in your `PATH`. If you're using macOS or Linux, you can do the following on the command line, assuming you saved the unzipped file in the `Downloads/` folder in your home directory.\n",
    "\n",
    "    mkdir -p /usr/local/bin\n",
    "    mv ~/Downloads/chromedriver /usr/local/bin/\n",
    "    \n",
    "Again, this installation is not necessary to recreate the plots presented in our paper, but will allow you to export SVGs from Altair."
   ]
  },
  {
   "cell_type": "markdown",
   "metadata": {},
   "source": [
    "## Checking your distribution\n",
    "\n",
    "We'll now run a quick test to make sure things are working properly.  We will make a quick plot that requires some of the scientific libraries we will use in the bootcamp.\n",
    "\n",
    "Use the JupyterLab launcher (you can get a new launcher by clicking on the `+` icon on the left pane of your JupyterLab window) to launch a notebook. In the first cell (the box next to the `In [ ]:` prompt), paste the code below. To run the code, press `Shift+Enter` while the cursor is active inside the cell. You should see a plot that looks like the one below."
   ]
  },
  {
   "cell_type": "code",
   "execution_count": 48,
   "metadata": {},
   "outputs": [
    {
     "data": {
      "text/html": [
       "\n",
       "<div id=\"altair-viz-76eedfb49f8a487daf700dd607a3a2b5\"></div>\n",
       "<script type=\"text/javascript\">\n",
       "  (function(spec, embedOpt){\n",
       "    let outputDiv = document.currentScript.previousElementSibling;\n",
       "    if (outputDiv.id !== \"altair-viz-76eedfb49f8a487daf700dd607a3a2b5\") {\n",
       "      outputDiv = document.getElementById(\"altair-viz-76eedfb49f8a487daf700dd607a3a2b5\");\n",
       "    }\n",
       "    const paths = {\n",
       "      \"vega\": \"https://cdn.jsdelivr.net/npm//vega@5?noext\",\n",
       "      \"vega-lib\": \"https://cdn.jsdelivr.net/npm//vega-lib?noext\",\n",
       "      \"vega-lite\": \"https://cdn.jsdelivr.net/npm//vega-lite@4.8.1?noext\",\n",
       "      \"vega-embed\": \"https://cdn.jsdelivr.net/npm//vega-embed@6?noext\",\n",
       "    };\n",
       "\n",
       "    function loadScript(lib) {\n",
       "      return new Promise(function(resolve, reject) {\n",
       "        var s = document.createElement('script');\n",
       "        s.src = paths[lib];\n",
       "        s.async = true;\n",
       "        s.onload = () => resolve(paths[lib]);\n",
       "        s.onerror = () => reject(`Error loading script: ${paths[lib]}`);\n",
       "        document.getElementsByTagName(\"head\")[0].appendChild(s);\n",
       "      });\n",
       "    }\n",
       "\n",
       "    function showError(err) {\n",
       "      outputDiv.innerHTML = `<div class=\"error\" style=\"color:red;\">${err}</div>`;\n",
       "      throw err;\n",
       "    }\n",
       "\n",
       "    function displayChart(vegaEmbed) {\n",
       "      vegaEmbed(outputDiv, spec, embedOpt)\n",
       "        .catch(err => showError(`Javascript Error: ${err.message}<br>This usually means there's a typo in your chart specification. See the javascript console for the full traceback.`));\n",
       "    }\n",
       "\n",
       "    if(typeof define === \"function\" && define.amd) {\n",
       "      requirejs.config({paths});\n",
       "      require([\"vega-embed\"], displayChart, err => showError(`Error loading script: ${err.message}`));\n",
       "    } else if (typeof vegaEmbed === \"function\") {\n",
       "      displayChart(vegaEmbed);\n",
       "    } else {\n",
       "      loadScript(\"vega\")\n",
       "        .then(() => loadScript(\"vega-lite\"))\n",
       "        .then(() => loadScript(\"vega-embed\"))\n",
       "        .catch(showError)\n",
       "        .then(() => displayChart(vegaEmbed));\n",
       "    }\n",
       "  })({\"config\": {\"view\": {\"continuousWidth\": 400, \"continuousHeight\": 300}}, \"layer\": [{\"data\": {\"name\": \"data-151444e8fcce7c73fdfe95b1dd126ae2\"}, \"mark\": {\"type\": \"line\", \"color\": \"green\"}, \"encoding\": {\"order\": {\"type\": \"quantitative\", \"field\": \"t\"}, \"x\": {\"type\": \"quantitative\", \"field\": \"x\"}, \"y\": {\"type\": \"quantitative\", \"field\": \"y\"}}, \"selection\": {\"selector044\": {\"type\": \"interval\", \"bind\": \"scales\", \"encodings\": [\"x\", \"y\"]}}}, {\"data\": {\"name\": \"data-632f61fef1e2fccc41daf02461a934b2\"}, \"mark\": {\"type\": \"text\", \"align\": \"center\", \"baseline\": \"bottom\", \"dy\": -15, \"size\": 30, \"text\": \"Plants <3\"}, \"encoding\": {\"x\": {\"type\": \"quantitative\", \"field\": \"x\"}, \"y\": {\"type\": \"quantitative\", \"field\": \"y\"}}}], \"$schema\": \"https://vega.github.io/schema/vega-lite/v4.8.1.json\", \"datasets\": {\"data-151444e8fcce7c73fdfe95b1dd126ae2\": [{\"x\": 0.0, \"y\": 0.0, \"t\": 0.0}, {\"x\": 0.04621032013584192, \"y\": 0.0014595202316101557, \"t\": 0.03157379551346526}, {\"x\": 0.08585318244371011, \"y\": 0.00542863935275294, \"t\": 0.06314759102693052}, {\"x\": 0.11395821988485462, \"y\": 0.010826679477819698, \"t\": 0.09472138654039577}, {\"x\": 0.12840690644347477, \"y\": 0.016303951189011588, \"t\": 0.12629518205386103}, {\"x\": 0.13057193685051213, \"y\": 0.020786228146120172, \"t\": 0.1578689775673263}, {\"x\": 0.1251931570752101, \"y\": 0.02400479413430544, \"t\": 0.18944277308079155}, {\"x\": 0.11949788082635229, \"y\": 0.02684962839761395, \"t\": 0.2210165685942568}, {\"x\": 0.12172942714071944, \"y\": 0.03141873133176369, \"t\": 0.25259036410772207}, {\"x\": 0.13937274904165017, \"y\": 0.04070635357555302, \"t\": 0.28416415962118735}, {\"x\": 0.1774349425054776, \"y\": 0.05796195404073046, \"t\": 0.3157379551346526}, {\"x\": 0.23713692295395464, \"y\": 0.08584001539267103, \"t\": 0.3473117506481178}, {\"x\": 0.31530002718507827, \"y\": 0.12552757871849038, \"t\": 0.3788855461615831}, {\"x\": 0.4045810406194054, \"y\": 0.1760645362591107, \"t\": 0.4104593416750484}, {\"x\": 0.4945458733478052, \"y\": 0.2340520739284983, \"t\": 0.4420331371885136}, {\"x\": 0.5734072183477091, \"y\": 0.29387800758367844, \"t\": 0.47360693270197884}, {\"x\": 0.6301170815434957, \"y\": 0.3484853326881885, \"t\": 0.5051807282154441}, {\"x\": 0.6564275929245073, \"y\": 0.39059184344190157, \"t\": 0.5367545237289094}, {\"x\": 0.6485288002893125, \"y\": 0.4141586624741655, \"t\": 0.5683283192423747}, {\"x\": 0.6079421851233958, \"y\": 0.4158282708874696, \"t\": 0.5999021147558399}, {\"x\": 0.5414810747877069, \"y\": 0.3960271735781825, \"t\": 0.6314759102693052}, {\"x\": 0.46025954977309796, \"y\": 0.35946417370994027, \"t\": 0.6630497057827704}, {\"x\": 0.37790798230032896, \"y\": 0.31484983018396234, \"t\": 0.6946235012962356}, {\"x\": 0.30830268629441804, \"y\": 0.273801309717527, \"t\": 0.7261972968097009}, {\"x\": 0.2632109126474014, \"y\": 0.24905490671595068, \"t\": 0.7577710923231662}, {\"x\": 0.2502725299943714, \"y\": 0.2522558814552138, \"t\": 0.7893448878366315}, {\"x\": 0.27168194538788376, \"y\": 0.2917020586955291, \"t\": 0.8209186833500968}, {\"x\": 0.32380856328946866, \"y\": 0.3704600655782203, \"t\": 0.8524924788635619}, {\"x\": 0.39782450822959897, \"y\": 0.48523852377646215, \"t\": 0.8840662743770272}, {\"x\": 0.48122597105946485, \"y\": 0.6262924648151583, \"t\": 0.9156400698904925}, {\"x\": 0.5599733233625875, \"y\": 0.7784638139825838, \"t\": 0.9472138654039577}, {\"x\": 0.6208650247512841, \"y\": 0.9232623006696729, \"t\": 0.978787660917423}, {\"x\": 0.6537216187577526, \"y\": 1.0416953007670076, \"t\": 1.0103614564308883}, {\"x\": 0.6529956049559958, \"y\": 1.1174005556755278, \"t\": 1.0419352519443534}, {\"x\": 0.6185328005520485, \"y\": 1.139553189033534, \"t\": 1.0735090474578188}, {\"x\": 0.5553699047273826, \"y\": 1.1050267826063895, \"t\": 1.105082842971284}, {\"x\": 0.47263116537036937, \"y\": 1.0193903914442133, \"t\": 1.1366566384847494}, {\"x\": 0.38175076741182373, \"y\": 0.896505121952553, \"t\": 1.1682304339982146}, {\"x\": 0.29436627756568956, \"y\": 0.7567160247065402, \"t\": 1.1998042295116798}, {\"x\": 0.22028044829155802, \"y\": 0.6238780786102686, \"t\": 1.2313780250251452}, {\"x\": 0.16586502762543837, \"y\": 0.5216661033998278, \"t\": 1.2629518205386103}, {\"x\": 0.13318652781636198, \"y\": 0.46975898927728976, \"t\": 1.2945256160520755}, {\"x\": 0.11998904769998632, \"y\": 0.48053155249549145, \"t\": 1.326099411565541}, {\"x\": 0.12050166797543592, \"y\": 0.5568221103209479, \"t\": 1.357673207079006}, {\"x\": 0.12688013718808064, \"y\": 0.6911789321384048, \"t\": 1.3892470025924712}, {\"x\": 0.13097480344419554, \"y\": 0.8667503183645543, \"t\": 1.4208207981059366}, {\"x\": 0.12606124810408012, \"y\": 1.0597109558931967, \"t\": 1.4523945936194018}, {\"x\": 0.10818679788400681, \"y\": 1.242857855992749, \"t\": 1.4839683891328672}, {\"x\": 0.07687087235924234, \"y\": 1.3898076054292257, \"t\": 1.5155421846463324}, {\"x\": 0.035032585450509524, \"y\": 1.4791184212111763, \"t\": 1.5471159801597976}, {\"x\": -0.011821990194793342, \"y\": 1.4976653230871904, \"t\": 1.578689775673263}, {\"x\": -0.05696956367029535, \"y\": 1.442714881024236, \"t\": 1.6102635711867281}, {\"x\": -0.09410004585274974, \"y\": 1.322358039798077, \"t\": 1.6418373667001935}, {\"x\": -0.11885856718037364, \"y\": 1.1542296756691177, \"t\": 1.6734111622136587}, {\"x\": -0.12996789431562702, \"y\": 0.9627258475685828, \"t\": 1.7049849577271239}, {\"x\": -0.12968504376711468, \"y\": 0.7751760867314884, \"t\": 1.7365587532405893}, {\"x\": -0.1234812335258019, \"y\": 0.6175967291813094, \"t\": 1.7681325487540545}, {\"x\": -0.11899325835953325, \"y\": 0.5107140141455756, \"t\": 1.7997063442675196}, {\"x\": -0.12444541263969588, \"y\": 0.46689266731075474, \"t\": 1.831280139780985}, {\"x\": -0.14685409609296463, \"y\": 0.4884472017559241, \"t\": 1.8628539352944502}, {\"x\": -0.1903793874096162, \"y\": 0.5675774992670628, \"t\": 1.8944277308079154}, {\"x\": -0.2551681075083833, \"y\": 0.6878985988934383, \"t\": 1.9260015263213808}, {\"x\": -0.3369441780698107, \"y\": 0.8272737941366186, \"t\": 1.957575321834846}, {\"x\": -0.42746089568702744, \"y\": 0.9614542072266807, \"t\": 1.9891491173483113}, {\"x\": -0.5157629836069882, \"y\": 1.0679107007435371, \"t\": 2.0207229128617765}, {\"x\": -0.5900461133804108, \"y\": 1.1292329849230056, \"t\": 2.0522967083752417}, {\"x\": -0.6397792425372466, \"y\": 1.135564958178889, \"t\": 2.083870503888707}, {\"x\": -0.6576948509734568, \"y\": 1.0857253787447307, \"t\": 2.1154442994021725}, {\"x\": -0.6412665253490168, \"y\": 0.9868952760385022, \"t\": 2.1470180949156377}, {\"x\": -0.593380665522029, \"y\": 0.8529964109901164, \"t\": 2.178591890429103}, {\"x\": -0.5220536923949332, \"y\": 0.7020964684155232, \"t\": 2.210165685942568}, {\"x\": -0.4392212435568539, \"y\": 0.5533213904387124, \"t\": 2.241739481456033}, {\"x\": -0.35879861837450727, \"y\": 0.42381120149050516, \"t\": 2.273313276969499}, {\"x\": -0.294349519688849, \"y\": 0.3262171618821514, \"t\": 2.304887072482964}, {\"x\": -0.2567766754285294, \"y\": 0.26711632412873393, \"t\": 2.336460867996429}, {\"x\": -0.252448374582155, \"y\": 0.2465399897640352, \"t\": 2.3680346635098943}, {\"x\": -0.2820987703761601, \"y\": 0.25860971021865964, \"t\": 2.3996084590233595}, {\"x\": -0.34070088031315543, \"y\": 0.29308538202138024, \"t\": 2.4311822545368247}, {\"x\": -0.418335282064565, \"y\": 0.33748738827944935, \"t\": 2.4627560500502903}, {\"x\": -0.5018972923151952, \"y\": 0.37938130863291336, \"t\": 2.4943298455637555}, {\"x\": -0.5773344579190223, \"y\": 0.4084183945203584, \"t\": 2.5259036410772207}, {\"x\": -0.6320124925704269, \"y\": 0.4178019951174825, \"t\": 2.557477436590686}, {\"x\": -0.6567885531559188, \"y\": 0.40498069167376555, \"t\": 2.589051232104151}, {\"x\": -0.6474291267948314, \"y\": 0.37152550997373074, \"t\": 2.6206250276176166}, {\"x\": -0.6051343604379451, \"y\": 0.32230047354019536, \"t\": 2.652198823131082}, {\"x\": -0.5360976056052029, \"y\": 0.2641549190488123, \"t\": 2.683772618644547}, {\"x\": -0.4502066569895123, \"y\": 0.20443231904410616, \"t\": 2.715346414158012}, {\"x\": -0.35914824072135876, \"y\": 0.14959508088840692, \"t\": 2.7469202096714773}, {\"x\": -0.27428092521566233, \"y\": 0.10421157179739049, \"t\": 2.7784940051849425}, {\"x\": -0.2046749628363099, \"y\": 0.07045516274545588, \"t\": 2.810067800698408}, {\"x\": -0.1556753209855327, \"y\": 0.0481476718494149, \"t\": 2.8416415962118733}, {\"x\": -0.12823545245626738, \"y\": 0.03526627372482856, \"t\": 2.8732153917253385}, {\"x\": -0.11911588817008231, \"y\": 0.028746401342046424, \"t\": 2.9047891872388036}, {\"x\": -0.1218735362043544, \"y\": 0.025369247496218137, \"t\": 2.936362982752269}, {\"x\": -0.1284171652992044, \"y\": 0.022527298948019376, \"t\": 2.9679367782657344}, {\"x\": -0.1308006938023116, \"y\": 0.018710509385392742, \"t\": 2.9995105737791996}, {\"x\": -0.12288806817117136, \"y\": 0.013635701580616014, \"t\": 3.031084369292665}, {\"x\": -0.10155819314906812, \"y\": 0.00803313488561568, \"t\": 3.06265816480613}, {\"x\": -0.06721791411006815, \"y\": 0.0031858693744881467, \"t\": 3.094231960319595}, {\"x\": -0.023535216617460133, \"y\": 0.00037157892799603853, \"t\": 3.1258057558330608}, {\"x\": 0.02353521661746042, \"y\": 0.00037157892799604775, \"t\": 3.157379551346526}, {\"x\": 0.06721791411006783, \"y\": 0.0031858693744881155, \"t\": 3.188953346859991}, {\"x\": 0.10155819314906789, \"y\": 0.008033134885615635, \"t\": 3.2205271423734563}, {\"x\": 0.12288806817117125, \"y\": 0.013635701580615969, \"t\": 3.2521009378869215}, {\"x\": 0.13080069380231146, \"y\": 0.018710509385392753, \"t\": 3.283674733400387}, {\"x\": 0.12841716529920427, \"y\": 0.022527298948019376, \"t\": 3.3152485289138522}, {\"x\": 0.12187353620435447, \"y\": 0.025369247496218123, \"t\": 3.3468223244273174}, {\"x\": 0.11911588817008228, \"y\": 0.028746401342046386, \"t\": 3.3783961199407826}, {\"x\": 0.12823545245626727, \"y\": 0.03526627372482849, \"t\": 3.4099699154542478}, {\"x\": 0.1556753209855324, \"y\": 0.04814767184941478, \"t\": 3.441543710967713}, {\"x\": 0.2046749628363097, \"y\": 0.07045516274545585, \"t\": 3.4731175064811786}, {\"x\": 0.27428092521566166, \"y\": 0.1042115717973902, \"t\": 3.5046913019946437}, {\"x\": 0.3591482407213581, \"y\": 0.1495950808884065, \"t\": 3.536265097508109}, {\"x\": 0.4502066569895115, \"y\": 0.20443231904410575, \"t\": 3.567838893021574}, {\"x\": 0.5360976056052023, \"y\": 0.26415491904881183, \"t\": 3.5994126885350393}, {\"x\": 0.6051343604379456, \"y\": 0.3223004735401958, \"t\": 3.630986484048505}, {\"x\": 0.6474291267948318, \"y\": 0.37152550997373096, \"t\": 3.66256027956197}, {\"x\": 0.6567885531559189, \"y\": 0.4049806916737653, \"t\": 3.6941340750754352}, {\"x\": 0.6320124925704272, \"y\": 0.41780199511748256, \"t\": 3.7257078705889004}, {\"x\": 0.5773344579190228, \"y\": 0.4084183945203586, \"t\": 3.7572816661023656}, {\"x\": 0.5018972923151969, \"y\": 0.3793813086329143, \"t\": 3.7888554616158308}, {\"x\": 0.41833528206456405, \"y\": 0.33748738827944874, \"t\": 3.8204292571292964}, {\"x\": 0.340700880313156, \"y\": 0.29308538202138046, \"t\": 3.8520030526427615}, {\"x\": 0.282098770376161, \"y\": 0.2586097102186603, \"t\": 3.8835768481562267}, {\"x\": 0.25244837458215513, \"y\": 0.24653998976403518, \"t\": 3.915150643669692}, {\"x\": 0.2567766754285293, \"y\": 0.2671163241287337, \"t\": 3.946724439183157}, {\"x\": 0.29434951968884854, \"y\": 0.3262171618821511, \"t\": 3.9782982346966227}, {\"x\": 0.3587986183745074, \"y\": 0.42381120149050505, \"t\": 4.009872030210087}, {\"x\": 0.43922124355685327, \"y\": 0.5533213904387112, \"t\": 4.041445825723553}, {\"x\": 0.5220536923949322, \"y\": 0.7020964684155224, \"t\": 4.073019621237019}, {\"x\": 0.5933806655220292, \"y\": 0.8529964109901162, \"t\": 4.104593416750483}, {\"x\": 0.6412665253490173, \"y\": 0.9868952760385034, \"t\": 4.136167212263949}, {\"x\": 0.657694850973457, \"y\": 1.0857253787447305, \"t\": 4.167741007777414}, {\"x\": 0.6397792425372467, \"y\": 1.1355649581788885, \"t\": 4.199314803290879}, {\"x\": 0.5900461133804102, \"y\": 1.1292329849230052, \"t\": 4.230888598804345}, {\"x\": 0.5157629836069888, \"y\": 1.0679107007435376, \"t\": 4.26246239431781}, {\"x\": 0.42746089568702667, \"y\": 0.9614542072266794, \"t\": 4.294036189831275}, {\"x\": 0.33694417806981275, \"y\": 0.8272737941366224, \"t\": 4.32560998534474}, {\"x\": 0.25516810750838326, \"y\": 0.6878985988934381, \"t\": 4.357183780858206}, {\"x\": 0.19037938740961569, \"y\": 0.5675774992670617, \"t\": 4.388757576371671}, {\"x\": 0.1468540960929651, \"y\": 0.4884472017559251, \"t\": 4.420331371885136}, {\"x\": 0.1244454126396958, \"y\": 0.46689266731075485, \"t\": 4.451905167398602}, {\"x\": 0.11899325835953321, \"y\": 0.5107140141455744, \"t\": 4.483478962912066}, {\"x\": 0.1234812335258017, \"y\": 0.6175967291813084, \"t\": 4.515052758425532}, {\"x\": 0.12968504376711465, \"y\": 0.7751760867314902, \"t\": 4.546626553938998}, {\"x\": 0.12996789431562705, \"y\": 0.9627258475685814, \"t\": 4.578200349452462}, {\"x\": 0.11885856718037331, \"y\": 1.1542296756691168, \"t\": 4.609774144965928}, {\"x\": 0.09410004585275007, \"y\": 1.3223580397980772, \"t\": 4.641347940479393}, {\"x\": 0.05696956367029538, \"y\": 1.4427148810242363, \"t\": 4.672921735992858}, {\"x\": 0.01182199019479404, \"y\": 1.4976653230871901, \"t\": 4.704495531506323}, {\"x\": -0.03503258545050916, \"y\": 1.479118421211176, \"t\": 4.736069327019789}, {\"x\": -0.07687087235924256, \"y\": 1.3898076054292245, \"t\": 4.767643122533254}, {\"x\": -0.10818679788400659, \"y\": 1.2428578559927501, \"t\": 4.799216918046719}, {\"x\": -0.12606124810407987, \"y\": 1.0597109558931948, \"t\": 4.830790713560185}, {\"x\": -0.13097480344419585, \"y\": 0.8667503183645591, \"t\": 4.862364509073649}, {\"x\": -0.12688013718808072, \"y\": 0.6911789321384062, \"t\": 4.893938304587115}, {\"x\": -0.1205016679754358, \"y\": 0.5568221103209468, \"t\": 4.925512100100581}, {\"x\": -0.11998904769998635, \"y\": 0.48053155249549206, \"t\": 4.957085895614045}, {\"x\": -0.13318652781636198, \"y\": 0.4697589892772899, \"t\": 4.988659691127511}, {\"x\": -0.16586502762543767, \"y\": 0.5216661033998264, \"t\": 5.020233486640976}, {\"x\": -0.22028044829155766, \"y\": 0.6238780786102676, \"t\": 5.051807282154441}, {\"x\": -0.2943662775656901, \"y\": 0.7567160247065413, \"t\": 5.083381077667907}, {\"x\": -0.38175076741182307, \"y\": 0.8965051219525518, \"t\": 5.114954873181372}, {\"x\": -0.47263116537036926, \"y\": 1.0193903914442126, \"t\": 5.146528668694837}, {\"x\": -0.5553699047273819, \"y\": 1.1050267826063893, \"t\": 5.178102464208302}, {\"x\": -0.6185328005520486, \"y\": 1.1395531890335342, \"t\": 5.209676259721768}, {\"x\": -0.6529956049559962, \"y\": 1.1174005556755278, \"t\": 5.241250055235233}, {\"x\": -0.6537216187577524, \"y\": 1.041695300767008, \"t\": 5.272823850748698}, {\"x\": -0.6208650247512841, \"y\": 0.9232623006696727, \"t\": 5.304397646262164}, {\"x\": -0.5599733233625873, \"y\": 0.778463813982584, \"t\": 5.335971441775628}, {\"x\": -0.4812259710594639, \"y\": 0.626292464815157, \"t\": 5.367545237289094}, {\"x\": -0.397824508229598, \"y\": 0.4852385237764607, \"t\": 5.39911903280256}, {\"x\": -0.3238085632894704, \"y\": 0.37046006557822236, \"t\": 5.430692828316024}, {\"x\": -0.2716819453878832, \"y\": 0.29170205869552834, \"t\": 5.46226662382949}, {\"x\": -0.25027252999437144, \"y\": 0.25225588145521405, \"t\": 5.493840419342955}, {\"x\": -0.26321091264740193, \"y\": 0.24905490671595132, \"t\": 5.52541421485642}, {\"x\": -0.308302686294417, \"y\": 0.27380130971752636, \"t\": 5.556988010369885}, {\"x\": -0.37790798230032757, \"y\": 0.31484983018396134, \"t\": 5.588561805883351}, {\"x\": -0.46025954977309674, \"y\": 0.35946417370993916, \"t\": 5.620135601396816}, {\"x\": -0.541481074787706, \"y\": 0.3960271735781822, \"t\": 5.651709396910281}, {\"x\": -0.607942185123395, \"y\": 0.4158282708874691, \"t\": 5.683283192423747}, {\"x\": -0.6485288002893127, \"y\": 0.414158662474166, \"t\": 5.714856987937211}, {\"x\": -0.656427592924507, \"y\": 0.3905918434419015, \"t\": 5.746430783450677}, {\"x\": -0.6301170815434955, \"y\": 0.34848533268818827, \"t\": 5.7780045789641425}, {\"x\": -0.5734072183477095, \"y\": 0.2938780075836788, \"t\": 5.809578374477607}, {\"x\": -0.494545873347805, \"y\": 0.23405207392849817, \"t\": 5.841152169991073}, {\"x\": -0.40458104061940553, \"y\": 0.176064536259111, \"t\": 5.872725965504538}, {\"x\": -0.315300027185078, \"y\": 0.12552757871849035, \"t\": 5.904299761018003}, {\"x\": -0.2371369229539542, \"y\": 0.08584001539267082, \"t\": 5.935873556531469}, {\"x\": -0.1774349425054787, \"y\": 0.05796195404073087, \"t\": 5.967447352044934}, {\"x\": -0.13937274904164998, \"y\": 0.04070635357555294, \"t\": 5.999021147558399}, {\"x\": -0.12172942714071953, \"y\": 0.031418731331763775, \"t\": 6.030594943071864}, {\"x\": -0.11949788082635265, \"y\": 0.026849628397614046, \"t\": 6.06216873858533}, {\"x\": -0.1251931570752104, \"y\": 0.024004794134305465, \"t\": 6.093742534098795}, {\"x\": -0.13057193685051185, \"y\": 0.020786228146120165, \"t\": 6.12531632961226}, {\"x\": -0.12840690644347436, \"y\": 0.016303951189011522, \"t\": 6.1568901251257255}, {\"x\": -0.11395821988485491, \"y\": 0.010826679477819779, \"t\": 6.18846392063919}, {\"x\": -0.08585318244371011, \"y\": 0.0054286393527529465, \"t\": 6.220037716152656}, {\"x\": -0.046210320135841566, \"y\": 0.0014595202316101312, \"t\": 6.2516115116661215}, {\"x\": -3.6739403974420594e-16, \"y\": 8.998558695971146e-32, \"t\": 6.283185307179586}], \"data-632f61fef1e2fccc41daf02461a934b2\": [{\"x\": 0, \"y\": 0}]}}, {\"mode\": \"vega-lite\"});\n",
       "</script>"
      ],
      "text/plain": [
       "alt.LayerChart(...)"
      ]
     },
     "execution_count": 48,
     "metadata": {},
     "output_type": "execute_result"
    }
   ],
   "source": [
    "import numpy as np\n",
    "import pandas as pd\n",
    "import altair as alt\n",
    "\n",
    "# Generate plotting values\n",
    "t = np.linspace(0, 2*np.pi, 200)\n",
    "# x = (np.sin(t)+1)*np.cos(t)*(0.9*np.cos(8*t)+1)*(0.1*np.cos(24*t)+1)*(0.1*np.cos(200*t)+0.9)\n",
    "# y = (np.sin(t)+1)*np.sin(t)*(0.9*np.cos(8*t)+1)*(0.1*np.cos(24*t)+1)*(0.1*np.cos(200*t)+0.9)\n",
    "x = np.sin(t)*np.cos(t)*(0.5*np.cos(12*t)+1)\n",
    "y = np.sin(t)*np.sin(t)*(0.5*np.cos(12*t)+1)\n",
    "# Build a data frame for plotting\n",
    "df = pd.DataFrame({'x': x,\n",
    "                   'y': y,\n",
    "                   't': t})\n",
    "\n",
    "df_text = pd.DataFrame({'x': [0],\n",
    "                        'y': [0]})\n",
    "\n",
    "# Make a plot\n",
    "heart = alt.Chart(df\n",
    "        ).mark_line(\n",
    "            color='green'\n",
    "        ).encode(\n",
    "            x='x:Q',\n",
    "            y='y:Q',\n",
    "            order='t')\n",
    "\n",
    "text = alt.Chart(df_text\n",
    "        ).mark_text(\n",
    "            text='Plants <3',\n",
    "            align='center',\n",
    "            baseline='bottom',\n",
    "            dy=-15,\n",
    "            size=30\n",
    "        ).encode(\n",
    "            x='x:Q',\n",
    "            y='y:Q')\n",
    "\n",
    "(heart + text).interactive()"
   ]
  },
  {
   "cell_type": "markdown",
   "metadata": {},
   "source": [
    "*These instructions were adapted from a document originally created [Professor Justin Bois](http://bois.caltech.edu/) at [Caltech](http://www.caltech.edu) for his excellent course in [Data Analysis in the Biological Sciences](http://bebi103.caltech.edu.s3-website-us-east-1.amazonaws.com/2018/index.html).* "
   ]
  },
  {
   "cell_type": "code",
   "execution_count": null,
   "metadata": {},
   "outputs": [],
   "source": []
  }
 ],
 "metadata": {
  "kernelspec": {
   "display_name": "Python 3",
   "language": "python",
   "name": "python3"
  },
  "language_info": {
   "codemirror_mode": {
    "name": "ipython",
    "version": 3
   },
   "file_extension": ".py",
   "mimetype": "text/x-python",
   "name": "python",
   "nbconvert_exporter": "python",
   "pygments_lexer": "ipython3",
   "version": "3.8.5"
  }
 },
 "nbformat": 4,
 "nbformat_minor": 4
}
